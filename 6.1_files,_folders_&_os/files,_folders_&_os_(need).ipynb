{
 "cells": [
  {
   "attachments": {},
   "cell_type": "markdown",
   "id": "123456",
   "metadata": {},
   "source": [
    "<div style=\"text-align:left;font-size:2em\"><span style=\"font-weight:bolder;font-size:1.25em\">SP2273 | Learning Portfolio</span><br><br><span style=\"font-weight:bold;color:darkred\">Files, Folders & OS (Need)</span></div>"
   ]
  },
  {
   "attachments": {},
   "cell_type": "markdown",
   "id": "f142b923",
   "metadata": {},
   "source": [
    "# What to expect in this chapter"
   ]
  },
  {
   "attachments": {},
   "cell_type": "markdown",
   "id": "f6a802fe",
   "metadata": {},
   "source": [
    "# 1 Important concepts"
   ]
  },
  {
   "attachments": {},
   "cell_type": "markdown",
   "id": "177f8ed8",
   "metadata": {},
   "source": [
    "## 1.1 Path - 2 types: Relative & Absolute Path"
   ]
  },
  {
   "cell_type": "code",
   "execution_count": 3,
   "id": "712aa620-d688-4ada-b11a-ef11ad9f5c22",
   "metadata": {},
   "outputs": [],
   "source": [
    "import glob"
   ]
  },
  {
   "cell_type": "code",
   "execution_count": 14,
   "id": "5c34b5d4-4578-4ea5-8d49-5d63c63c477c",
   "metadata": {},
   "outputs": [
    {
     "data": {
      "text/plain": [
       "['files,_folders_&_os_(need).ipynb']"
      ]
     },
     "execution_count": 14,
     "metadata": {},
     "output_type": "execute_result"
    }
   ],
   "source": [
    "glob.glob('*')"
   ]
  },
  {
   "cell_type": "markdown",
   "id": "6d26c886-67ae-4d05-b4a2-169492705fec",
   "metadata": {},
   "source": [
    "Show me everything in the folder and above"
   ]
  },
  {
   "cell_type": "code",
   "execution_count": 15,
   "id": "b61a7ead-5c47-48f0-874a-90b1b58680fb",
   "metadata": {},
   "outputs": [
    {
     "data": {
      "text/plain": [
       "['../2.2_fundamentals__exercises',\n",
       " '../3.1_storing_data',\n",
       " '../7.2_plotting__exercises',\n",
       " '../7.1_plotting',\n",
       " '../5.2_functions__exercises',\n",
       " '../1.1_using_jupyter',\n",
       " '../6.1_files,_folders_&_os',\n",
       " '../README.md',\n",
       " '../0.1_hello,_github!',\n",
       " '../0.2_hello,_jupyter!',\n",
       " '../3.2_storing_data__exercises',\n",
       " '../1.2_using_jupyter_,_exercises',\n",
       " '../5.1_functions',\n",
       " '../0.3_Virtual_Environments_(Nice!)',\n",
       " '../4.2_loops__exercises',\n",
       " '../2.1_fundamentals',\n",
       " '../4.1_loops',\n",
       " '../6.2_files,_folders_&_os__exercises']"
      ]
     },
     "execution_count": 15,
     "metadata": {},
     "output_type": "execute_result"
    }
   ],
   "source": [
    "glob.glob('../*')"
   ]
  },
  {
   "cell_type": "markdown",
   "id": "10a45b11-db1a-4915-b50e-7ea0c5604e47",
   "metadata": {},
   "source": [
    "What if I want to look at files inside functions?\n",
    "- How do I read this?\n",
    "- Go up, look for something that starts with 5.1, then show me everything in that folder\n",
    "- You are doing it relative to where you are -> thus it is RELATIVE PATH"
   ]
  },
  {
   "cell_type": "code",
   "execution_count": 16,
   "id": "4f382988-5301-4530-9131-36e915b64bb1",
   "metadata": {},
   "outputs": [
    {
     "data": {
      "text/plain": [
       "['../5.1_functions/functions_(good).ipynb',\n",
       " '../5.1_functions/functions_(nice).ipynb',\n",
       " '../5.1_functions/functions_(need).ipynb']"
      ]
     },
     "execution_count": 16,
     "metadata": {},
     "output_type": "execute_result"
    }
   ],
   "source": [
    "glob.glob('../5.1*/*')            "
   ]
  },
  {
   "cell_type": "markdown",
   "id": "49100211-1171-42ee-94ea-d38369af0c8f",
   "metadata": {},
   "source": [
    "### Absolute Path"
   ]
  },
  {
   "cell_type": "code",
   "execution_count": 1,
   "id": "ba4a352d-cdcf-45f1-a757-7ab48b993195",
   "metadata": {},
   "outputs": [
    {
     "data": {
      "text/plain": [
       "'/Users/Caitlin/Desktop/Y4S2/SP2273/learning-portfolio-2025-january-caitlinsylim/5.1_functions'"
      ]
     },
     "execution_count": 1,
     "metadata": {},
     "output_type": "execute_result"
    }
   ],
   "source": [
    "'/Users/Caitlin/Desktop/Y4S2/SP2273/learning-portfolio-2025-january-caitlinsylim/5.1_functions'"
   ]
  },
  {
   "cell_type": "markdown",
   "id": "c9bbe5eb-5f92-459e-b832-1251a3f854b8",
   "metadata": {},
   "source": [
    "### Note: Use relative path whenever possible. Why?"
   ]
  },
  {
   "cell_type": "markdown",
   "id": "37b2ecfc-13b3-4ad9-b4fa-de389768c2db",
   "metadata": {},
   "source": [
    "- Absolute path -> only on my computer\n",
    "- When we share code -> we can copy across different desktops using relative path "
   ]
  },
  {
   "attachments": {},
   "cell_type": "markdown",
   "id": "3b7e48e1",
   "metadata": {},
   "source": [
    "### macOS or Linux"
   ]
  },
  {
   "cell_type": "markdown",
   "id": "391f369f-a428-4293-9088-6d1d2b9630d4",
   "metadata": {},
   "source": [
    "Windows slash is different from mac slash: \n",
    "- Eg: mac uses / \n",
    "- Eg: windows uses \\\n",
    "\n",
    "Slash is the path separator"
   ]
  },
  {
   "cell_type": "code",
   "execution_count": 21,
   "id": "417f0392-793a-47c1-8357-48c12c2e8394",
   "metadata": {},
   "outputs": [
    {
     "data": {
      "text/plain": [
       "['../5.1_functions/functions_(good).ipynb',\n",
       " '../5.1_functions/functions_(nice).ipynb',\n",
       " '../5.1_functions/functions_(need).ipynb']"
      ]
     },
     "execution_count": 21,
     "metadata": {},
     "output_type": "execute_result"
    }
   ],
   "source": [
    "all_files = glob.glob('..//5.1*//*')            # Put \\\\ because only \\ makes python confused, it's like escape sequence\n",
    "\n",
    "all_files"
   ]
  },
  {
   "cell_type": "code",
   "execution_count": 20,
   "id": "e9fc5bd7-eb24-470f-a3a9-af33ce990494",
   "metadata": {},
   "outputs": [
    {
     "data": {
      "text/plain": [
       "['../5.1_functions/functions_(good).ipynb',\n",
       " '../5.1_functions/functions_(nice).ipynb',\n",
       " '../5.1_functions/functions_(need).ipynb']"
      ]
     },
     "execution_count": 20,
     "metadata": {},
     "output_type": "execute_result"
    }
   ],
   "source": [
    "all_files = glob.glob(r'../5.1*/*')            # Put \\\\ because only \\ makes python confused, it's like escape sequence\n",
    "\n",
    "all_files"
   ]
  },
  {
   "cell_type": "code",
   "execution_count": 18,
   "id": "73e9b911-2a9b-4cfc-aa5e-6175a004fdc1",
   "metadata": {},
   "outputs": [
    {
     "name": "stdout",
     "output_type": "stream",
     "text": [
      "A\n",
      "B\n",
      "C\n"
     ]
    }
   ],
   "source": [
    "print('A\\nB\\nC')"
   ]
  },
  {
   "cell_type": "code",
   "execution_count": 23,
   "id": "cbf345d4-59d6-4df4-a238-7dde6e7991d8",
   "metadata": {},
   "outputs": [
    {
     "data": {
      "text/plain": [
       "['../2.2_fundamentals__exercises/fundamentals_(need)_exercises.ipynb',\n",
       " '../2.2_fundamentals__exercises/fundamentals_(good)_exercises.ipynb',\n",
       " '../3.1_storing_data/storing_data_(good).ipynb',\n",
       " '../3.1_storing_data/storing_data_(need).ipynb',\n",
       " '../7.2_plotting__exercises/4 graphs.jpg',\n",
       " '../7.2_plotting__exercises/plotting_(need)_exercises.ipynb',\n",
       " '../7.2_plotting__exercises/plotting_(good)_exercises.ipynb',\n",
       " '../7.1_plotting/plotting_(need).ipynb',\n",
       " '../7.1_plotting/plotting_(good).ipynb',\n",
       " '../5.2_functions__exercises/functions_(good)_exercises.ipynb',\n",
       " '../5.2_functions__exercises/functions_(need)_exercises.ipynb',\n",
       " '../1.1_using_jupyter/using_jupyter_(good).ipynb',\n",
       " '../1.1_using_jupyter/using_jupyter_(need).ipynb',\n",
       " '../6.1_files,_folders_&_os/files,_folders_&_os_(need).ipynb',\n",
       " '../0.1_hello,_github!/hello,_github!_(need).ipynb',\n",
       " '../0.2_hello,_jupyter!/hello,_jupyter!_(need).ipynb',\n",
       " '../3.2_storing_data__exercises/storing_data_(good)_exercises.ipynb',\n",
       " '../3.2_storing_data__exercises/storing_data_(need)_exercises.ipynb',\n",
       " '../1.2_using_jupyter_,_exercises/using_jupyter_(good),_exercises.ipynb',\n",
       " '../1.2_using_jupyter_,_exercises/using_jupyter_(need),_exercises.ipynb',\n",
       " '../5.1_functions/functions_(good).ipynb',\n",
       " '../5.1_functions/functions_(nice).ipynb',\n",
       " '../5.1_functions/functions_(need).ipynb',\n",
       " '../0.3_Virtual_Environments_(Nice!)/virtual_environments_(nice!).ipynb',\n",
       " '../4.2_loops__exercises/loops_(good)_exercises.ipynb',\n",
       " '../4.2_loops__exercises/loops_(need)_exercises.ipynb',\n",
       " '../2.1_fundamentals/fundamentals_(good).ipynb',\n",
       " '../2.1_fundamentals/fundamentals_(nice).ipynb',\n",
       " '../2.1_fundamentals/fundamentals_(need).ipynb',\n",
       " '../4.1_loops/loops_(good).ipynb',\n",
       " '../4.1_loops/loops_(need).ipynb',\n",
       " '../4.1_loops/loops_(nice).ipynb',\n",
       " '../6.2_files,_folders_&_os__exercises/files,_folders_&_os_(need)_exercises.ipynb']"
      ]
     },
     "execution_count": 23,
     "metadata": {},
     "output_type": "execute_result"
    }
   ],
   "source": [
    "glob.glob(r'../*/*')      # Goes through all the folders"
   ]
  },
  {
   "cell_type": "markdown",
   "id": "7ca82de3-9618-470d-8455-e8b88a87dfe9",
   "metadata": {},
   "source": [
    "If you want to search for all the files, do recursive search\n",
    "- Goes as deep as possible"
   ]
  },
  {
   "cell_type": "code",
   "execution_count": 9,
   "id": "7334bb5b-fb1b-45f4-bbd6-4ed05c1b8ca8",
   "metadata": {},
   "outputs": [
    {
     "data": {
      "text/plain": [
       "True"
      ]
     },
     "execution_count": 9,
     "metadata": {},
     "output_type": "execute_result"
    }
   ],
   "source": [
    "glob.glob(r'../**/*.ipynb', recursive = True) == glob.glob(r'../**/*.ipynb')        # We usually put 2 * "
   ]
  },
  {
   "cell_type": "code",
   "execution_count": 12,
   "id": "24f36750-d7f8-41d4-9610-abf4b1110472",
   "metadata": {},
   "outputs": [
    {
     "data": {
      "text/plain": [
       "True"
      ]
     },
     "execution_count": 12,
     "metadata": {},
     "output_type": "execute_result"
    }
   ],
   "source": [
    "glob.glob(r'../*/*.ipynb') == glob.glob(r'../**/*.ipynb')"
   ]
  },
  {
   "cell_type": "code",
   "execution_count": 23,
   "id": "372fb2ff-0ad2-45e9-9846-d17b8de9a7dd",
   "metadata": {},
   "outputs": [
    {
     "data": {
      "text/plain": [
       "['../../learning-portfolio-2025-january-caitlinsylim/2.2_fundamentals__exercises/fundamentals_(need)_exercises.ipynb',\n",
       " '../../learning-portfolio-2025-january-caitlinsylim/2.2_fundamentals__exercises/fundamentals_(good)_exercises.ipynb',\n",
       " '../../learning-portfolio-2025-january-caitlinsylim/3.1_storing_data/storing_data_(good).ipynb',\n",
       " '../../learning-portfolio-2025-january-caitlinsylim/3.1_storing_data/storing_data_(need).ipynb',\n",
       " '../../learning-portfolio-2025-january-caitlinsylim/7.2_plotting__exercises/plotting_(need)_exercises.ipynb',\n",
       " '../../learning-portfolio-2025-january-caitlinsylim/7.2_plotting__exercises/plotting_(good)_exercises.ipynb',\n",
       " '../../learning-portfolio-2025-january-caitlinsylim/7.1_plotting/plotting_(need).ipynb',\n",
       " '../../learning-portfolio-2025-january-caitlinsylim/7.1_plotting/plotting_(good).ipynb',\n",
       " '../../learning-portfolio-2025-january-caitlinsylim/5.2_functions__exercises/functions_(good)_exercises.ipynb',\n",
       " '../../learning-portfolio-2025-january-caitlinsylim/5.2_functions__exercises/functions_(need)_exercises.ipynb',\n",
       " '../../learning-portfolio-2025-january-caitlinsylim/1.1_using_jupyter/using_jupyter_(good).ipynb',\n",
       " '../../learning-portfolio-2025-january-caitlinsylim/1.1_using_jupyter/using_jupyter_(need).ipynb',\n",
       " '../../learning-portfolio-2025-january-caitlinsylim/6.1_files,_folders_&_os/files,_folders_&_os_(need).ipynb',\n",
       " '../../learning-portfolio-2025-january-caitlinsylim/0.1_hello,_github!/hello,_github!_(need).ipynb',\n",
       " '../../learning-portfolio-2025-january-caitlinsylim/0.2_hello,_jupyter!/hello,_jupyter!_(need).ipynb',\n",
       " '../../learning-portfolio-2025-january-caitlinsylim/3.2_storing_data__exercises/storing_data_(good)_exercises.ipynb',\n",
       " '../../learning-portfolio-2025-january-caitlinsylim/3.2_storing_data__exercises/storing_data_(need)_exercises.ipynb',\n",
       " '../../learning-portfolio-2025-january-caitlinsylim/1.2_using_jupyter_,_exercises/using_jupyter_(good),_exercises.ipynb',\n",
       " '../../learning-portfolio-2025-january-caitlinsylim/1.2_using_jupyter_,_exercises/using_jupyter_(need),_exercises.ipynb',\n",
       " '../../learning-portfolio-2025-january-caitlinsylim/5.1_functions/functions_(good).ipynb',\n",
       " '../../learning-portfolio-2025-january-caitlinsylim/5.1_functions/functions_(nice).ipynb',\n",
       " '../../learning-portfolio-2025-january-caitlinsylim/5.1_functions/functions_(need).ipynb',\n",
       " '../../learning-portfolio-2025-january-caitlinsylim/0.3_Virtual_Environments_(Nice!)/virtual_environments_(nice!).ipynb',\n",
       " '../../learning-portfolio-2025-january-caitlinsylim/4.2_loops__exercises/loops_(good)_exercises.ipynb',\n",
       " '../../learning-portfolio-2025-january-caitlinsylim/4.2_loops__exercises/loops_(need)_exercises.ipynb',\n",
       " '../../learning-portfolio-2025-january-caitlinsylim/2.1_fundamentals/fundamentals_(good).ipynb',\n",
       " '../../learning-portfolio-2025-january-caitlinsylim/2.1_fundamentals/fundamentals_(nice).ipynb',\n",
       " '../../learning-portfolio-2025-january-caitlinsylim/2.1_fundamentals/fundamentals_(need).ipynb',\n",
       " '../../learning-portfolio-2025-january-caitlinsylim/4.1_loops/loops_(good).ipynb',\n",
       " '../../learning-portfolio-2025-january-caitlinsylim/4.1_loops/loops_(need).ipynb',\n",
       " '../../learning-portfolio-2025-january-caitlinsylim/4.1_loops/loops_(nice).ipynb',\n",
       " '../../learning-portfolio-2025-january-caitlinsylim/6.2_files,_folders_&_os__exercises/files,_folders_&_os_(need)_exercises.ipynb']"
      ]
     },
     "execution_count": 23,
     "metadata": {},
     "output_type": "execute_result"
    }
   ],
   "source": [
    "glob.glob(r'../../**/*.ipynb', recursive = True)"
   ]
  },
  {
   "cell_type": "code",
   "execution_count": 22,
   "id": "ca94e576-0dd0-459a-8904-72ab820f655f",
   "metadata": {},
   "outputs": [
    {
     "data": {
      "text/plain": [
       "'/Users/Caitlin/Desktop/Y4S2/SP2273/learning-portfolio-2025-january-caitlinsylim/6.1_files,_folders_&_os'"
      ]
     },
     "execution_count": 22,
     "metadata": {},
     "output_type": "execute_result"
    }
   ],
   "source": [
    "import os\n",
    "os.getcwd()"
   ]
  },
  {
   "cell_type": "code",
   "execution_count": 16,
   "id": "4e865d96-2c07-44f9-ab5c-4bba07c62846",
   "metadata": {},
   "outputs": [
    {
     "data": {
      "text/plain": [
       "['../6.2_files,_folders_&_os__exercises/second-os-collaboration-exercise-data/jul-13_cairo.txt',\n",
       " '../6.2_files,_folders_&_os__exercises/second-os-collaboration-exercise-data/dec-27_cairo.txt',\n",
       " '../6.2_files,_folders_&_os__exercises/second-os-collaboration-exercise-data/jul-26_cairo.txt',\n",
       " '../6.2_files,_folders_&_os__exercises/second-os-collaboration-exercise-data/may-30_cairo.txt',\n",
       " '../6.2_files,_folders_&_os__exercises/second-os-collaboration-exercise-data/jan-13_cairo.txt',\n",
       " '../6.2_files,_folders_&_os__exercises/second-os-collaboration-exercise-data/feb-26_cairo.txt',\n",
       " '../6.2_files,_folders_&_os__exercises/second-os-collaboration-exercise-data/aug-07_cairo.txt',\n",
       " '../6.2_files,_folders_&_os__exercises/second-os-collaboration-exercise-data/sep-22_cairo.txt',\n",
       " '../6.2_files,_folders_&_os__exercises/second-os-collaboration-exercise-data/jan-07_cairo.txt',\n",
       " '../6.2_files,_folders_&_os__exercises/second-os-collaboration-exercise-data/aug-26_cairo.txt',\n",
       " '../6.2_files,_folders_&_os__exercises/second-os-collaboration-exercise-data/apr-24_cairo.txt',\n",
       " '../6.2_files,_folders_&_os__exercises/second-os-collaboration-exercise-data/may-29_cairo.txt',\n",
       " '../6.2_files,_folders_&_os__exercises/second-os-collaboration-exercise-data/dec-21_cairo.txt',\n",
       " '../6.2_files,_folders_&_os__exercises/second-os-collaboration-exercise-data/sep-08_cairo.txt',\n",
       " '../6.2_files,_folders_&_os__exercises/second-os-collaboration-exercise-data/aug-18_cairo.txt',\n",
       " '../6.2_files,_folders_&_os__exercises/second-os-collaboration-exercise-data/may-17_cairo.txt',\n",
       " '../6.2_files,_folders_&_os__exercises/second-os-collaboration-exercise-data/jul-15_cairo.txt',\n",
       " '../6.2_files,_folders_&_os__exercises/second-os-collaboration-exercise-data/jun-28_cairo.txt',\n",
       " '../6.2_files,_folders_&_os__exercises/second-os-collaboration-exercise-data/jan-20_cairo.txt',\n",
       " '../6.2_files,_folders_&_os__exercises/second-os-collaboration-exercise-data/aug-20_cairo.txt',\n",
       " '../6.2_files,_folders_&_os__exercises/second-os-collaboration-exercise-data/sep-05_cairo.txt',\n",
       " '../6.2_files,_folders_&_os__exercises/second-os-collaboration-exercise-data/apr-22_cairo.txt',\n",
       " '../6.2_files,_folders_&_os__exercises/second-os-collaboration-exercise-data/sep-11_cairo.txt',\n",
       " '../6.2_files,_folders_&_os__exercises/second-os-collaboration-exercise-data/feb-20_cairo.txt',\n",
       " '../6.2_files,_folders_&_os__exercises/second-os-collaboration-exercise-data/apr-17_cairo.txt',\n",
       " '../6.2_files,_folders_&_os__exercises/second-os-collaboration-exercise-data/dec-19_cairo.txt',\n",
       " '../6.2_files,_folders_&_os__exercises/second-os-collaboration-exercise-data/jan-15_cairo.txt',\n",
       " '../6.2_files,_folders_&_os__exercises/second-os-collaboration-exercise-data/sep-24_cairo.txt',\n",
       " '../6.2_files,_folders_&_os__exercises/second-os-collaboration-exercise-data/aug-01_cairo.txt',\n",
       " '../6.2_files,_folders_&_os__exercises/second-os-collaboration-exercise-data/dec-07_cairo.txt',\n",
       " '../6.2_files,_folders_&_os__exercises/second-os-collaboration-exercise-data/dec-13_cairo.txt',\n",
       " '../6.2_files,_folders_&_os__exercises/second-os-collaboration-exercise-data/nov-14_cairo.txt',\n",
       " '../6.2_files,_folders_&_os__exercises/second-os-collaboration-exercise-data/dec-26_cairo.txt',\n",
       " '../6.2_files,_folders_&_os__exercises/second-os-collaboration-exercise-data/nov-21_cairo.txt',\n",
       " '../6.2_files,_folders_&_os__exercises/second-os-collaboration-exercise-data/jul-27_cairo.txt',\n",
       " '../6.2_files,_folders_&_os__exercises/second-os-collaboration-exercise-data/may-25_cairo.txt',\n",
       " '../6.2_files,_folders_&_os__exercises/second-os-collaboration-exercise-data/sep-23_cairo.txt',\n",
       " '../6.2_files,_folders_&_os__exercises/second-os-collaboration-exercise-data/nov-19_cairo.txt',\n",
       " '../6.2_files,_folders_&_os__exercises/second-os-collaboration-exercise-data/jan-12_cairo.txt',\n",
       " '../6.2_files,_folders_&_os__exercises/second-os-collaboration-exercise-data/apr-10_cairo.txt',\n",
       " '../6.2_files,_folders_&_os__exercises/second-os-collaboration-exercise-data/mar-05_cairo.txt',\n",
       " '../6.2_files,_folders_&_os__exercises/second-os-collaboration-exercise-data/aug-12_cairo.txt',\n",
       " '../6.2_files,_folders_&_os__exercises/second-os-collaboration-exercise-data/mar-24_cairo.txt',\n",
       " '../6.2_files,_folders_&_os__exercises/second-os-collaboration-exercise-data/sep-16_cairo.txt',\n",
       " '../6.2_files,_folders_&_os__exercises/second-os-collaboration-exercise-data/sep-02_cairo.txt',\n",
       " '../6.2_files,_folders_&_os__exercises/second-os-collaboration-exercise-data/jan-27_cairo.txt',\n",
       " '../6.2_files,_folders_&_os__exercises/second-os-collaboration-exercise-data/dec-01_cairo.txt',\n",
       " '../6.2_files,_folders_&_os__exercises/second-os-collaboration-exercise-data/may-02_cairo.txt',\n",
       " '../6.2_files,_folders_&_os__exercises/second-os-collaboration-exercise-data/sep-28_cairo.txt',\n",
       " '../6.2_files,_folders_&_os__exercises/second-os-collaboration-exercise-data/aug-19_cairo.txt',\n",
       " '../6.2_files,_folders_&_os__exercises/second-os-collaboration-exercise-data/jul-14_cairo.txt',\n",
       " '../6.2_files,_folders_&_os__exercises/second-os-collaboration-exercise-data/jan-19_cairo.txt',\n",
       " '../6.2_files,_folders_&_os__exercises/second-os-collaboration-exercise-data/jan-21_cairo.txt',\n",
       " '../6.2_files,_folders_&_os__exercises/second-os-collaboration-exercise-data/sep-04_cairo.txt',\n",
       " '../6.2_files,_folders_&_os__exercises/second-os-collaboration-exercise-data/apr-23_cairo.txt',\n",
       " '../6.2_files,_folders_&_os__exercises/second-os-collaboration-exercise-data/sep-25_cairo.txt',\n",
       " '../6.2_files,_folders_&_os__exercises/second-os-collaboration-exercise-data/apr-02_cairo.txt',\n",
       " '../6.2_files,_folders_&_os__exercises/second-os-collaboration-exercise-data/aug-14_cairo.txt',\n",
       " '../6.2_files,_folders_&_os__exercises/second-os-collaboration-exercise-data/dec-18_cairo.txt',\n",
       " '../6.2_files,_folders_&_os__exercises/second-os-collaboration-exercise-data/jul-19_cairo.txt',\n",
       " '../6.2_files,_folders_&_os__exercises/second-os-collaboration-exercise-data/jul-24_cairo.txt',\n",
       " '../6.2_files,_folders_&_os__exercises/second-os-collaboration-exercise-data/jul-30_cairo.txt',\n",
       " '../6.2_files,_folders_&_os__exercises/second-os-collaboration-exercise-data/sep-18_cairo.txt',\n",
       " '../6.2_files,_folders_&_os__exercises/second-os-collaboration-exercise-data/dec-10_cairo.txt',\n",
       " '../6.2_files,_folders_&_os__exercises/second-os-collaboration-exercise-data/nov-17_cairo.txt',\n",
       " '../6.2_files,_folders_&_os__exercises/second-os-collaboration-exercise-data/aug-08_cairo.txt',\n",
       " '../6.2_files,_folders_&_os__exercises/second-os-collaboration-exercise-data/jan-08_cairo.txt',\n",
       " '../6.2_files,_folders_&_os__exercises/second-os-collaboration-exercise-data/nov-03_cairo.txt',\n",
       " '../6.2_files,_folders_&_os__exercises/second-os-collaboration-exercise-data/dec-04_cairo.txt',\n",
       " '../6.2_files,_folders_&_os__exercises/second-os-collaboration-exercise-data/aug-24_cairo.txt',\n",
       " '../6.2_files,_folders_&_os__exercises/second-os-collaboration-exercise-data/jul-29_cairo.txt',\n",
       " '../6.2_files,_folders_&_os__exercises/second-os-collaboration-exercise-data/jan-30_cairo.txt',\n",
       " '../6.2_files,_folders_&_os__exercises/second-os-collaboration-exercise-data/jan-11_cairo.txt',\n",
       " '../6.2_files,_folders_&_os__exercises/second-os-collaboration-exercise-data/mar-06_cairo.txt',\n",
       " '../6.2_files,_folders_&_os__exercises/second-os-collaboration-exercise-data/apr-13_cairo.txt',\n",
       " '../6.2_files,_folders_&_os__exercises/second-os-collaboration-exercise-data/apr-07_cairo.txt',\n",
       " '../6.2_files,_folders_&_os__exercises/second-os-collaboration-exercise-data/aug-05_cairo.txt',\n",
       " '../6.2_files,_folders_&_os__exercises/second-os-collaboration-exercise-data/mar-12_cairo.txt',\n",
       " '../6.2_files,_folders_&_os__exercises/second-os-collaboration-exercise-data/sep-20_cairo.txt',\n",
       " '../6.2_files,_folders_&_os__exercises/second-os-collaboration-exercise-data/dec-09_cairo.txt',\n",
       " '../6.2_files,_folders_&_os__exercises/second-os-collaboration-exercise-data/jan-05_cairo.txt',\n",
       " '../6.2_files,_folders_&_os__exercises/second-os-collaboration-exercise-data/jul-08_cairo.txt',\n",
       " '../6.2_files,_folders_&_os__exercises/second-os-collaboration-exercise-data/jul-17_cairo.txt',\n",
       " '../6.2_files,_folders_&_os__exercises/second-os-collaboration-exercise-data/may-01_cairo.txt',\n",
       " '../6.2_files,_folders_&_os__exercises/second-os-collaboration-exercise-data/nov-05_cairo.txt',\n",
       " '../6.2_files,_folders_&_os__exercises/second-os-collaboration-exercise-data/mar-19_cairo.txt',\n",
       " '../6.2_files,_folders_&_os__exercises/second-os-collaboration-exercise-data/dec-23_cairo.txt',\n",
       " '../6.2_files,_folders_&_os__exercises/second-os-collaboration-exercise-data/apr-15_cairo.txt',\n",
       " '../6.2_files,_folders_&_os__exercises/second-os-collaboration-exercise-data/feb-22_cairo.txt',\n",
       " '../6.2_files,_folders_&_os__exercises/second-os-collaboration-exercise-data/jan-03_cairo.txt',\n",
       " '../6.2_files,_folders_&_os__exercises/second-os-collaboration-exercise-data/oct-23_cairo.txt',\n",
       " '../6.2_files,_folders_&_os__exercises/second-os-collaboration-exercise-data/sep-26_cairo.txt',\n",
       " '../6.2_files,_folders_&_os__exercises/second-os-collaboration-exercise-data/mar-14_cairo.txt',\n",
       " '../6.2_files,_folders_&_os__exercises/second-os-collaboration-exercise-data/aug-03_cairo.txt',\n",
       " '../6.2_files,_folders_&_os__exercises/second-os-collaboration-exercise-data/nov-29_cairo.txt',\n",
       " '../6.2_files,_folders_&_os__exercises/second-os-collaboration-exercise-data/apr-20_cairo.txt',\n",
       " '../6.2_files,_folders_&_os__exercises/second-os-collaboration-exercise-data/feb-17_cairo.txt',\n",
       " '../6.2_files,_folders_&_os__exercises/second-os-collaboration-exercise-data/sep-07_cairo.txt',\n",
       " '../6.2_files,_folders_&_os__exercises/second-os-collaboration-exercise-data/sep-13_cairo.txt',\n",
       " '../6.2_files,_folders_&_os__exercises/second-os-collaboration-exercise-data/may-27_cairo.txt',\n",
       " '../6.2_files,_folders_&_os__exercises/second-os-collaboration-exercise-data/jul-04_cairo.txt',\n",
       " '../6.2_files,_folders_&_os__exercises/second-os-collaboration-exercise-data/dec-05_cairo.txt',\n",
       " '../6.2_files,_folders_&_os__exercises/second-os-collaboration-exercise-data/jan-09_cairo.txt',\n",
       " '../6.2_files,_folders_&_os__exercises/second-os-collaboration-exercise-data/may-12_cairo.txt',\n",
       " '../6.2_files,_folders_&_os__exercises/second-os-collaboration-exercise-data/jul-10_cairo.txt',\n",
       " '../6.2_files,_folders_&_os__exercises/second-os-collaboration-exercise-data/feb-10_cairo.txt',\n",
       " '../6.2_files,_folders_&_os__exercises/second-os-collaboration-exercise-data/aug-25_cairo.txt',\n",
       " '../6.2_files,_folders_&_os__exercises/second-os-collaboration-exercise-data/dec-29_cairo.txt',\n",
       " '../6.2_files,_folders_&_os__exercises/second-os-collaboration-exercise-data/apr-06_cairo.txt',\n",
       " '../6.2_files,_folders_&_os__exercises/second-os-collaboration-exercise-data/aug-04_cairo.txt',\n",
       " '../6.2_files,_folders_&_os__exercises/second-os-collaboration-exercise-data/jan-04_cairo.txt',\n",
       " '../6.2_files,_folders_&_os__exercises/second-os-collaboration-exercise-data/aug-10_cairo.txt',\n",
       " '../6.2_files,_folders_&_os__exercises/second-os-collaboration-exercise-data/feb-25_cairo.txt',\n",
       " '../6.2_files,_folders_&_os__exercises/second-os-collaboration-exercise-data/apr-12_cairo.txt',\n",
       " '../6.2_files,_folders_&_os__exercises/second-os-collaboration-exercise-data/nov-04_cairo.txt',\n",
       " '../6.2_files,_folders_&_os__exercises/second-os-collaboration-exercise-data/dec-03_cairo.txt',\n",
       " '../6.2_files,_folders_&_os__exercises/second-os-collaboration-exercise-data/dec-17_cairo.txt',\n",
       " '../6.2_files,_folders_&_os__exercises/second-os-collaboration-exercise-data/nov-10_cairo.txt',\n",
       " '../6.2_files,_folders_&_os__exercises/second-os-collaboration-exercise-data/jul-16_cairo.txt',\n",
       " '../6.2_files,_folders_&_os__exercises/second-os-collaboration-exercise-data/dec-22_cairo.txt',\n",
       " '../6.2_files,_folders_&_os__exercises/second-os-collaboration-exercise-data/jan-02_cairo.txt',\n",
       " '../6.2_files,_folders_&_os__exercises/second-os-collaboration-exercise-data/apr-14_cairo.txt',\n",
       " '../6.2_files,_folders_&_os__exercises/second-os-collaboration-exercise-data/jan-16_cairo.txt',\n",
       " '../6.2_files,_folders_&_os__exercises/second-os-collaboration-exercise-data/sep-12_cairo.txt',\n",
       " '../6.2_files,_folders_&_os__exercises/second-os-collaboration-exercise-data/jan-23_cairo.txt',\n",
       " '../6.2_files,_folders_&_os__exercises/second-os-collaboration-exercise-data/apr-21_cairo.txt',\n",
       " '../6.2_files,_folders_&_os__exercises/[first attempt] os-collaboration-exercise-data/09-18-cairo.txt',\n",
       " '../6.2_files,_folders_&_os__exercises/[first attempt] os-collaboration-exercise-data/04-06-cairo.txt',\n",
       " '../6.2_files,_folders_&_os__exercises/[first attempt] os-collaboration-exercise-data/03-06-cairo.txt',\n",
       " '../6.2_files,_folders_&_os__exercises/[first attempt] os-collaboration-exercise-data/01-03-cairo.txt',\n",
       " '../6.2_files,_folders_&_os__exercises/[first attempt] os-collaboration-exercise-data/03-12-cairo.txt',\n",
       " '../6.2_files,_folders_&_os__exercises/[first attempt] os-collaboration-exercise-data/04-12-cairo.txt',\n",
       " '../6.2_files,_folders_&_os__exercises/[first attempt] os-collaboration-exercise-data/12-05-cairo.txt',\n",
       " '../6.2_files,_folders_&_os__exercises/[first attempt] os-collaboration-exercise-data/07-30-cairo.txt',\n",
       " '../6.2_files,_folders_&_os__exercises/[first attempt] os-collaboration-exercise-data/07-24-cairo.txt',\n",
       " '../6.2_files,_folders_&_os__exercises/[first attempt] os-collaboration-exercise-data/07-08-cairo.txt',\n",
       " '../6.2_files,_folders_&_os__exercises/[first attempt] os-collaboration-exercise-data/12-29-cairo.txt',\n",
       " '../6.2_files,_folders_&_os__exercises/[first attempt] os-collaboration-exercise-data/08-07-cairo.txt',\n",
       " '../6.2_files,_folders_&_os__exercises/[first attempt] os-collaboration-exercise-data/09-20-cairo.txt',\n",
       " '../6.2_files,_folders_&_os__exercises/[first attempt] os-collaboration-exercise-data/08-26-cairo.txt',\n",
       " '../6.2_files,_folders_&_os__exercises/[first attempt] os-collaboration-exercise-data/07-29-cairo.txt',\n",
       " '../6.2_files,_folders_&_os__exercises/[first attempt] os-collaboration-exercise-data/12-03-cairo.txt',\n",
       " '../6.2_files,_folders_&_os__exercises/[first attempt] os-collaboration-exercise-data/01-30-cairo.txt',\n",
       " '../6.2_files,_folders_&_os__exercises/[first attempt] os-collaboration-exercise-data/12-17-cairo.txt',\n",
       " '../6.2_files,_folders_&_os__exercises/[first attempt] os-collaboration-exercise-data/05-27-cairo.txt',\n",
       " '../6.2_files,_folders_&_os__exercises/[first attempt] os-collaboration-exercise-data/11-14-cairo.txt',\n",
       " '../6.2_files,_folders_&_os__exercises/[first attempt] os-collaboration-exercise-data/04-21-cairo.txt',\n",
       " '../6.2_files,_folders_&_os__exercises/[first attempt] os-collaboration-exercise-data/01-05-cairo.txt',\n",
       " '../6.2_files,_folders_&_os__exercises/[first attempt] os-collaboration-exercise-data/08-18-cairo.txt',\n",
       " '../6.2_files,_folders_&_os__exercises/[first attempt] os-collaboration-exercise-data/04-14-cairo.txt',\n",
       " '../6.2_files,_folders_&_os__exercises/[first attempt] os-collaboration-exercise-data/11-21-cairo.txt',\n",
       " '../6.2_files,_folders_&_os__exercises/[first attempt] os-collaboration-exercise-data/12-22-cairo.txt',\n",
       " '../6.2_files,_folders_&_os__exercises/[first attempt] os-collaboration-exercise-data/07-17-cairo.txt',\n",
       " '../6.2_files,_folders_&_os__exercises/[first attempt] os-collaboration-exercise-data/05-12-cairo.txt',\n",
       " '../6.2_files,_folders_&_os__exercises/[first attempt] os-collaboration-exercise-data/03-14-cairo.txt',\n",
       " '../6.2_files,_folders_&_os__exercises/[first attempt] os-collaboration-exercise-data/01-11-cairo.txt',\n",
       " '../6.2_files,_folders_&_os__exercises/[first attempt] os-collaboration-exercise-data/09-26-cairo.txt',\n",
       " '../6.2_files,_folders_&_os__exercises/[first attempt] os-collaboration-exercise-data/08-20-cairo.txt',\n",
       " '../6.2_files,_folders_&_os__exercises/[first attempt] os-collaboration-exercise-data/11-19-cairo.txt',\n",
       " '../6.2_files,_folders_&_os__exercises/[first attempt] os-collaboration-exercise-data/01-08-cairo.txt',\n",
       " '../6.2_files,_folders_&_os__exercises/[first attempt] os-collaboration-exercise-data/09-13-cairo.txt',\n",
       " '../6.2_files,_folders_&_os__exercises/[first attempt] os-collaboration-exercise-data/09-07-cairo.txt',\n",
       " '../6.2_files,_folders_&_os__exercises/[first attempt] os-collaboration-exercise-data/08-01-cairo.txt',\n",
       " '../6.2_files,_folders_&_os__exercises/[first attempt] os-collaboration-exercise-data/03-19-cairo.txt',\n",
       " '../6.2_files,_folders_&_os__exercises/[first attempt] os-collaboration-exercise-data/01-16-cairo.txt',\n",
       " '../6.2_files,_folders_&_os__exercises/[first attempt] os-collaboration-exercise-data/04-13-cairo.txt',\n",
       " '../6.2_files,_folders_&_os__exercises/[first attempt] os-collaboration-exercise-data/07-10-cairo.txt',\n",
       " '../6.2_files,_folders_&_os__exercises/[first attempt] os-collaboration-exercise-data/07-04-cairo.txt',\n",
       " '../6.2_files,_folders_&_os__exercises/[first attempt] os-collaboration-exercise-data/05-01-cairo.txt',\n",
       " '../6.2_files,_folders_&_os__exercises/[first attempt] os-collaboration-exercise-data/04-07-cairo.txt',\n",
       " '../6.2_files,_folders_&_os__exercises/[first attempt] os-collaboration-exercise-data/01-02-cairo.txt',\n",
       " '../6.2_files,_folders_&_os__exercises/[first attempt] os-collaboration-exercise-data/12-10-cairo.txt',\n",
       " '../6.2_files,_folders_&_os__exercises/[first attempt] os-collaboration-exercise-data/02-20-cairo.txt',\n",
       " '../6.2_files,_folders_&_os__exercises/[first attempt] os-collaboration-exercise-data/01-23-cairo.txt',\n",
       " '../6.2_files,_folders_&_os__exercises/[first attempt] os-collaboration-exercise-data/12-04-cairo.txt',\n",
       " '../6.2_files,_folders_&_os__exercises/[first attempt] os-collaboration-exercise-data/08-12-cairo.txt',\n",
       " '../6.2_files,_folders_&_os__exercises/[first attempt] os-collaboration-exercise-data/12-09-cairo.txt',\n",
       " '../6.2_files,_folders_&_os__exercises/[first attempt] os-collaboration-exercise-data/02-26-cairo.txt',\n",
       " '../6.2_files,_folders_&_os__exercises/[first attempt] os-collaboration-exercise-data/04-20-cairo.txt',\n",
       " '../6.2_files,_folders_&_os__exercises/[first attempt] os-collaboration-exercise-data/04-15-cairo.txt',\n",
       " '../6.2_files,_folders_&_os__exercises/[first attempt] os-collaboration-exercise-data/07-16-cairo.txt',\n",
       " '../6.2_files,_folders_&_os__exercises/[first attempt] os-collaboration-exercise-data/12-23-cairo.txt',\n",
       " '../6.2_files,_folders_&_os__exercises/[first attempt] os-collaboration-exercise-data/01-04-cairo.txt',\n",
       " '../6.2_files,_folders_&_os__exercises/[first attempt] os-collaboration-exercise-data/08-19-cairo.txt',\n",
       " '../6.2_files,_folders_&_os__exercises/[first attempt] os-collaboration-exercise-data/06-28-cairo.txt',\n",
       " '../6.2_files,_folders_&_os__exercises/[first attempt] os-collaboration-exercise-data/01-09-cairo.txt',\n",
       " '../6.2_files,_folders_&_os__exercises/[first attempt] os-collaboration-exercise-data/08-14-cairo.txt',\n",
       " '../6.2_files,_folders_&_os__exercises/[first attempt] os-collaboration-exercise-data/09-12-cairo.txt',\n",
       " '../6.2_files,_folders_&_os__exercises/[first attempt] os-collaboration-exercise-data/12-07-cairo.txt',\n",
       " '../6.2_files,_folders_&_os__exercises/[first attempt] os-collaboration-exercise-data/11-04-cairo.txt',\n",
       " '../6.2_files,_folders_&_os__exercises/[first attempt] os-collaboration-exercise-data/11-10-cairo.txt',\n",
       " '../6.2_files,_folders_&_os__exercises/[first attempt] os-collaboration-exercise-data/12-13-cairo.txt',\n",
       " '../6.2_files,_folders_&_os__exercises/[first attempt] os-collaboration-exercise-data/07-26-cairo.txt',\n",
       " '../6.2_files,_folders_&_os__exercises/[first attempt] os-collaboration-exercise-data/01-20-cairo.txt',\n",
       " '../6.2_files,_folders_&_os__exercises/[first attempt] os-collaboration-exercise-data/05-02-cairo.txt',\n",
       " '../6.2_files,_folders_&_os__exercises/[first attempt] os-collaboration-exercise-data/01-15-cairo.txt',\n",
       " '../6.2_files,_folders_&_os__exercises/[first attempt] os-collaboration-exercise-data/07-13-cairo.txt',\n",
       " '../6.2_files,_folders_&_os__exercises/[first attempt] os-collaboration-exercise-data/12-26-cairo.txt',\n",
       " '../6.2_files,_folders_&_os__exercises/[first attempt] os-collaboration-exercise-data/10-23-cairo.txt',\n",
       " '../6.2_files,_folders_&_os__exercises/[first attempt] os-collaboration-exercise-data/08-08-cairo.txt',\n",
       " '../6.2_files,_folders_&_os__exercises/[first attempt] os-collaboration-exercise-data/04-10-cairo.txt',\n",
       " '../6.2_files,_folders_&_os__exercises/[first attempt] os-collaboration-exercise-data/08-24-cairo.txt',\n",
       " '../6.2_files,_folders_&_os__exercises/[first attempt] os-collaboration-exercise-data/09-22-cairo.txt',\n",
       " '../6.2_files,_folders_&_os__exercises/[first attempt] os-collaboration-exercise-data/08-05-cairo.txt',\n",
       " '../6.2_files,_folders_&_os__exercises/[first attempt] os-collaboration-exercise-data/01-07-cairo.txt',\n",
       " '../6.2_files,_folders_&_os__exercises/[first attempt] os-collaboration-exercise-data/04-02-cairo.txt',\n",
       " '../6.2_files,_folders_&_os__exercises/[first attempt] os-collaboration-exercise-data/09-08-cairo.txt',\n",
       " '../6.2_files,_folders_&_os__exercises/[first attempt] os-collaboration-exercise-data/07-15-cairo.txt',\n",
       " '../6.2_files,_folders_&_os__exercises/[first attempt] os-collaboration-exercise-data/02-10-cairo.txt',\n",
       " '../6.2_files,_folders_&_os__exercises/[first attempt] os-collaboration-exercise-data/01-13-cairo.txt',\n",
       " '../6.2_files,_folders_&_os__exercises/[first attempt] os-collaboration-exercise-data/12-01-cairo.txt',\n",
       " '../6.2_files,_folders_&_os__exercises/[first attempt] os-collaboration-exercise-data/02-25-cairo.txt',\n",
       " '../6.2_files,_folders_&_os__exercises/[first attempt] os-collaboration-exercise-data/04-23-cairo.txt',\n",
       " '../6.2_files,_folders_&_os__exercises/[first attempt] os-collaboration-exercise-data/05-25-cairo.txt',\n",
       " '../6.2_files,_folders_&_os__exercises/[first attempt] os-collaboration-exercise-data/09-11-cairo.txt',\n",
       " '../6.2_files,_folders_&_os__exercises/[first attempt] os-collaboration-exercise-data/08-03-cairo.txt',\n",
       " '../6.2_files,_folders_&_os__exercises/[first attempt] os-collaboration-exercise-data/09-05-cairo.txt',\n",
       " '../6.2_files,_folders_&_os__exercises/[first attempt] os-collaboration-exercise-data/09-24-cairo.txt',\n",
       " '../6.2_files,_folders_&_os__exercises/[first attempt] os-collaboration-exercise-data/12-18-cairo.txt',\n",
       " '../6.2_files,_folders_&_os__exercises/[first attempt] os-collaboration-exercise-data/04-24-cairo.txt',\n",
       " '../6.2_files,_folders_&_os__exercises/[first attempt] os-collaboration-exercise-data/07-27-cairo.txt',\n",
       " '../6.2_files,_folders_&_os__exercises/[first attempt] os-collaboration-exercise-data/03-24-cairo.txt',\n",
       " '../6.2_files,_folders_&_os__exercises/[first attempt] os-collaboration-exercise-data/01-21-cairo.txt',\n",
       " '../6.2_files,_folders_&_os__exercises/[first attempt] os-collaboration-exercise-data/02-22-cairo.txt',\n",
       " '../6.2_files,_folders_&_os__exercises/[first attempt] os-collaboration-exercise-data/11-05-cairo.txt',\n",
       " '../6.2_files,_folders_&_os__exercises/[first attempt] os-collaboration-exercise-data/02-17-cairo.txt',\n",
       " '../6.2_files,_folders_&_os__exercises/[first attempt] os-collaboration-exercise-data/12-27-cairo.txt',\n",
       " '../6.2_files,_folders_&_os__exercises/[first attempt] os-collaboration-exercise-data/05-17-cairo.txt',\n",
       " '../6.2_files,_folders_&_os__exercises/[first attempt] os-collaboration-exercise-data/03-05-cairo.txt',\n",
       " '../6.2_files,_folders_&_os__exercises/[first attempt] os-collaboration-exercise-data/08-25-cairo.txt',\n",
       " '../6.2_files,_folders_&_os__exercises/[first attempt] os-collaboration-exercise-data/09-23-cairo.txt',\n",
       " '../6.2_files,_folders_&_os__exercises/[first attempt] os-collaboration-exercise-data/01-19-cairo.txt',\n",
       " '../6.2_files,_folders_&_os__exercises/[first attempt] os-collaboration-exercise-data/11-29-cairo.txt',\n",
       " '../6.2_files,_folders_&_os__exercises/[first attempt] os-collaboration-exercise-data/08-04-cairo.txt',\n",
       " '../6.2_files,_folders_&_os__exercises/[first attempt] os-collaboration-exercise-data/09-02-cairo.txt',\n",
       " '../6.2_files,_folders_&_os__exercises/[first attempt] os-collaboration-exercise-data/09-16-cairo.txt',\n",
       " '../6.2_files,_folders_&_os__exercises/[first attempt] os-collaboration-exercise-data/08-10-cairo.txt',\n",
       " '../6.2_files,_folders_&_os__exercises/[first attempt] os-collaboration-exercise-data/07-14-cairo.txt',\n",
       " '../6.2_files,_folders_&_os__exercises/[first attempt] os-collaboration-exercise-data/12-21-cairo.txt',\n",
       " '../6.2_files,_folders_&_os__exercises/[first attempt] os-collaboration-exercise-data/04-17-cairo.txt',\n",
       " '../6.2_files,_folders_&_os__exercises/[first attempt] os-collaboration-exercise-data/01-12-cairo.txt',\n",
       " '../6.2_files,_folders_&_os__exercises/[first attempt] os-collaboration-exercise-data/01-27-cairo.txt',\n",
       " '../6.2_files,_folders_&_os__exercises/[first attempt] os-collaboration-exercise-data/04-22-cairo.txt',\n",
       " '../6.2_files,_folders_&_os__exercises/[first attempt] os-collaboration-exercise-data/11-17-cairo.txt',\n",
       " '../6.2_files,_folders_&_os__exercises/[first attempt] os-collaboration-exercise-data/09-28-cairo.txt',\n",
       " '../6.2_files,_folders_&_os__exercises/[first attempt] os-collaboration-exercise-data/05-30-cairo.txt',\n",
       " '../6.2_files,_folders_&_os__exercises/[first attempt] os-collaboration-exercise-data/11-03-cairo.txt',\n",
       " '../6.2_files,_folders_&_os__exercises/[first attempt] os-collaboration-exercise-data/07-19-cairo.txt',\n",
       " '../6.2_files,_folders_&_os__exercises/[first attempt] os-collaboration-exercise-data/09-04-cairo.txt',\n",
       " '../6.2_files,_folders_&_os__exercises/[first attempt] os-collaboration-exercise-data/12-19-cairo.txt',\n",
       " '../6.2_files,_folders_&_os__exercises/[first attempt] os-collaboration-exercise-data/05-29-cairo.txt',\n",
       " '../6.2_files,_folders_&_os__exercises/[first attempt] os-collaboration-exercise-data/09-25-cairo.txt',\n",
       " '../6.2_files,_folders_&_os__exercises/[first attempt] os-collaboration-exercise-data/Cairo/09-18-cairo.txt',\n",
       " '../6.2_files,_folders_&_os__exercises/[first attempt] os-collaboration-exercise-data/Cairo/04-06-cairo.txt',\n",
       " '../6.2_files,_folders_&_os__exercises/[first attempt] os-collaboration-exercise-data/Cairo/03-06-cairo.txt',\n",
       " '../6.2_files,_folders_&_os__exercises/[first attempt] os-collaboration-exercise-data/Cairo/01-03-cairo.txt',\n",
       " '../6.2_files,_folders_&_os__exercises/[first attempt] os-collaboration-exercise-data/Cairo/03-12-cairo.txt',\n",
       " '../6.2_files,_folders_&_os__exercises/[first attempt] os-collaboration-exercise-data/Cairo/04-12-cairo.txt',\n",
       " '../6.2_files,_folders_&_os__exercises/[first attempt] os-collaboration-exercise-data/Cairo/12-05-cairo.txt',\n",
       " '../6.2_files,_folders_&_os__exercises/[first attempt] os-collaboration-exercise-data/Cairo/07-30-cairo.txt',\n",
       " '../6.2_files,_folders_&_os__exercises/[first attempt] os-collaboration-exercise-data/Cairo/07-24-cairo.txt',\n",
       " '../6.2_files,_folders_&_os__exercises/[first attempt] os-collaboration-exercise-data/Cairo/07-08-cairo.txt',\n",
       " '../6.2_files,_folders_&_os__exercises/[first attempt] os-collaboration-exercise-data/Cairo/12-29-cairo.txt',\n",
       " '../6.2_files,_folders_&_os__exercises/[first attempt] os-collaboration-exercise-data/Cairo/08-07-cairo.txt',\n",
       " '../6.2_files,_folders_&_os__exercises/[first attempt] os-collaboration-exercise-data/Cairo/09-20-cairo.txt',\n",
       " '../6.2_files,_folders_&_os__exercises/[first attempt] os-collaboration-exercise-data/Cairo/08-26-cairo.txt',\n",
       " '../6.2_files,_folders_&_os__exercises/[first attempt] os-collaboration-exercise-data/Cairo/07-29-cairo.txt',\n",
       " '../6.2_files,_folders_&_os__exercises/[first attempt] os-collaboration-exercise-data/Cairo/12-03-cairo.txt',\n",
       " '../6.2_files,_folders_&_os__exercises/[first attempt] os-collaboration-exercise-data/Cairo/01-30-cairo.txt',\n",
       " '../6.2_files,_folders_&_os__exercises/[first attempt] os-collaboration-exercise-data/Cairo/12-17-cairo.txt',\n",
       " '../6.2_files,_folders_&_os__exercises/[first attempt] os-collaboration-exercise-data/Cairo/05-27-cairo.txt',\n",
       " '../6.2_files,_folders_&_os__exercises/[first attempt] os-collaboration-exercise-data/Cairo/11-14-cairo.txt',\n",
       " '../6.2_files,_folders_&_os__exercises/[first attempt] os-collaboration-exercise-data/Cairo/04-21-cairo.txt',\n",
       " '../6.2_files,_folders_&_os__exercises/[first attempt] os-collaboration-exercise-data/Cairo/01-05-cairo.txt',\n",
       " '../6.2_files,_folders_&_os__exercises/[first attempt] os-collaboration-exercise-data/Cairo/08-18-cairo.txt',\n",
       " '../6.2_files,_folders_&_os__exercises/[first attempt] os-collaboration-exercise-data/Cairo/04-14-cairo.txt',\n",
       " '../6.2_files,_folders_&_os__exercises/[first attempt] os-collaboration-exercise-data/Cairo/11-21-cairo.txt',\n",
       " '../6.2_files,_folders_&_os__exercises/[first attempt] os-collaboration-exercise-data/Cairo/12-22-cairo.txt',\n",
       " '../6.2_files,_folders_&_os__exercises/[first attempt] os-collaboration-exercise-data/Cairo/07-17-cairo.txt',\n",
       " '../6.2_files,_folders_&_os__exercises/[first attempt] os-collaboration-exercise-data/Cairo/05-12-cairo.txt',\n",
       " '../6.2_files,_folders_&_os__exercises/[first attempt] os-collaboration-exercise-data/Cairo/03-14-cairo.txt',\n",
       " '../6.2_files,_folders_&_os__exercises/[first attempt] os-collaboration-exercise-data/Cairo/01-11-cairo.txt',\n",
       " '../6.2_files,_folders_&_os__exercises/[first attempt] os-collaboration-exercise-data/Cairo/09-26-cairo.txt',\n",
       " '../6.2_files,_folders_&_os__exercises/[first attempt] os-collaboration-exercise-data/Cairo/08-20-cairo.txt',\n",
       " '../6.2_files,_folders_&_os__exercises/[first attempt] os-collaboration-exercise-data/Cairo/11-19-cairo.txt',\n",
       " '../6.2_files,_folders_&_os__exercises/[first attempt] os-collaboration-exercise-data/Cairo/01-08-cairo.txt',\n",
       " '../6.2_files,_folders_&_os__exercises/[first attempt] os-collaboration-exercise-data/Cairo/09-13-cairo.txt',\n",
       " '../6.2_files,_folders_&_os__exercises/[first attempt] os-collaboration-exercise-data/Cairo/09-07-cairo.txt',\n",
       " '../6.2_files,_folders_&_os__exercises/[first attempt] os-collaboration-exercise-data/Cairo/08-01-cairo.txt',\n",
       " '../6.2_files,_folders_&_os__exercises/[first attempt] os-collaboration-exercise-data/Cairo/03-19-cairo.txt',\n",
       " '../6.2_files,_folders_&_os__exercises/[first attempt] os-collaboration-exercise-data/Cairo/01-16-cairo.txt',\n",
       " '../6.2_files,_folders_&_os__exercises/[first attempt] os-collaboration-exercise-data/Cairo/04-13-cairo.txt',\n",
       " '../6.2_files,_folders_&_os__exercises/[first attempt] os-collaboration-exercise-data/Cairo/07-10-cairo.txt',\n",
       " '../6.2_files,_folders_&_os__exercises/[first attempt] os-collaboration-exercise-data/Cairo/07-04-cairo.txt',\n",
       " '../6.2_files,_folders_&_os__exercises/[first attempt] os-collaboration-exercise-data/Cairo/05-01-cairo.txt',\n",
       " '../6.2_files,_folders_&_os__exercises/[first attempt] os-collaboration-exercise-data/Cairo/04-07-cairo.txt',\n",
       " '../6.2_files,_folders_&_os__exercises/[first attempt] os-collaboration-exercise-data/Cairo/01-02-cairo.txt',\n",
       " '../6.2_files,_folders_&_os__exercises/[first attempt] os-collaboration-exercise-data/Cairo/12-10-cairo.txt',\n",
       " '../6.2_files,_folders_&_os__exercises/[first attempt] os-collaboration-exercise-data/Cairo/02-20-cairo.txt',\n",
       " '../6.2_files,_folders_&_os__exercises/[first attempt] os-collaboration-exercise-data/Cairo/01-23-cairo.txt',\n",
       " '../6.2_files,_folders_&_os__exercises/[first attempt] os-collaboration-exercise-data/Cairo/12-04-cairo.txt',\n",
       " '../6.2_files,_folders_&_os__exercises/[first attempt] os-collaboration-exercise-data/Cairo/08-12-cairo.txt',\n",
       " '../6.2_files,_folders_&_os__exercises/[first attempt] os-collaboration-exercise-data/Cairo/12-09-cairo.txt',\n",
       " '../6.2_files,_folders_&_os__exercises/[first attempt] os-collaboration-exercise-data/Cairo/02-26-cairo.txt',\n",
       " '../6.2_files,_folders_&_os__exercises/[first attempt] os-collaboration-exercise-data/Cairo/04-20-cairo.txt',\n",
       " '../6.2_files,_folders_&_os__exercises/[first attempt] os-collaboration-exercise-data/Cairo/04-15-cairo.txt',\n",
       " '../6.2_files,_folders_&_os__exercises/[first attempt] os-collaboration-exercise-data/Cairo/07-16-cairo.txt',\n",
       " '../6.2_files,_folders_&_os__exercises/[first attempt] os-collaboration-exercise-data/Cairo/12-23-cairo.txt',\n",
       " '../6.2_files,_folders_&_os__exercises/[first attempt] os-collaboration-exercise-data/Cairo/01-04-cairo.txt',\n",
       " '../6.2_files,_folders_&_os__exercises/[first attempt] os-collaboration-exercise-data/Cairo/08-19-cairo.txt',\n",
       " '../6.2_files,_folders_&_os__exercises/[first attempt] os-collaboration-exercise-data/Cairo/06-28-cairo.txt',\n",
       " '../6.2_files,_folders_&_os__exercises/[first attempt] os-collaboration-exercise-data/Cairo/01-09-cairo.txt',\n",
       " '../6.2_files,_folders_&_os__exercises/[first attempt] os-collaboration-exercise-data/Cairo/08-14-cairo.txt',\n",
       " '../6.2_files,_folders_&_os__exercises/[first attempt] os-collaboration-exercise-data/Cairo/09-12-cairo.txt',\n",
       " '../6.2_files,_folders_&_os__exercises/[first attempt] os-collaboration-exercise-data/Cairo/12-07-cairo.txt',\n",
       " '../6.2_files,_folders_&_os__exercises/[first attempt] os-collaboration-exercise-data/Cairo/11-04-cairo.txt',\n",
       " '../6.2_files,_folders_&_os__exercises/[first attempt] os-collaboration-exercise-data/Cairo/11-10-cairo.txt',\n",
       " '../6.2_files,_folders_&_os__exercises/[first attempt] os-collaboration-exercise-data/Cairo/12-13-cairo.txt',\n",
       " '../6.2_files,_folders_&_os__exercises/[first attempt] os-collaboration-exercise-data/Cairo/07-26-cairo.txt',\n",
       " '../6.2_files,_folders_&_os__exercises/[first attempt] os-collaboration-exercise-data/Cairo/01-20-cairo.txt',\n",
       " '../6.2_files,_folders_&_os__exercises/[first attempt] os-collaboration-exercise-data/Cairo/05-02-cairo.txt',\n",
       " '../6.2_files,_folders_&_os__exercises/[first attempt] os-collaboration-exercise-data/Cairo/01-15-cairo.txt',\n",
       " '../6.2_files,_folders_&_os__exercises/[first attempt] os-collaboration-exercise-data/Cairo/07-13-cairo.txt',\n",
       " '../6.2_files,_folders_&_os__exercises/[first attempt] os-collaboration-exercise-data/Cairo/12-26-cairo.txt',\n",
       " '../6.2_files,_folders_&_os__exercises/[first attempt] os-collaboration-exercise-data/Cairo/10-23-cairo.txt',\n",
       " '../6.2_files,_folders_&_os__exercises/[first attempt] os-collaboration-exercise-data/Cairo/08-08-cairo.txt',\n",
       " '../6.2_files,_folders_&_os__exercises/[first attempt] os-collaboration-exercise-data/Cairo/04-10-cairo.txt',\n",
       " '../6.2_files,_folders_&_os__exercises/[first attempt] os-collaboration-exercise-data/Cairo/08-24-cairo.txt',\n",
       " '../6.2_files,_folders_&_os__exercises/[first attempt] os-collaboration-exercise-data/Cairo/09-22-cairo.txt',\n",
       " '../6.2_files,_folders_&_os__exercises/[first attempt] os-collaboration-exercise-data/Cairo/08-05-cairo.txt',\n",
       " '../6.2_files,_folders_&_os__exercises/[first attempt] os-collaboration-exercise-data/Cairo/01-07-cairo.txt',\n",
       " '../6.2_files,_folders_&_os__exercises/[first attempt] os-collaboration-exercise-data/Cairo/04-02-cairo.txt',\n",
       " '../6.2_files,_folders_&_os__exercises/[first attempt] os-collaboration-exercise-data/Cairo/09-08-cairo.txt',\n",
       " '../6.2_files,_folders_&_os__exercises/[first attempt] os-collaboration-exercise-data/Cairo/07-15-cairo.txt',\n",
       " '../6.2_files,_folders_&_os__exercises/[first attempt] os-collaboration-exercise-data/Cairo/02-10-cairo.txt',\n",
       " '../6.2_files,_folders_&_os__exercises/[first attempt] os-collaboration-exercise-data/Cairo/01-13-cairo.txt',\n",
       " '../6.2_files,_folders_&_os__exercises/[first attempt] os-collaboration-exercise-data/Cairo/12-01-cairo.txt',\n",
       " '../6.2_files,_folders_&_os__exercises/[first attempt] os-collaboration-exercise-data/Cairo/02-25-cairo.txt',\n",
       " '../6.2_files,_folders_&_os__exercises/[first attempt] os-collaboration-exercise-data/Cairo/04-23-cairo.txt',\n",
       " '../6.2_files,_folders_&_os__exercises/[first attempt] os-collaboration-exercise-data/Cairo/05-25-cairo.txt',\n",
       " '../6.2_files,_folders_&_os__exercises/[first attempt] os-collaboration-exercise-data/Cairo/09-11-cairo.txt',\n",
       " '../6.2_files,_folders_&_os__exercises/[first attempt] os-collaboration-exercise-data/Cairo/08-03-cairo.txt',\n",
       " '../6.2_files,_folders_&_os__exercises/[first attempt] os-collaboration-exercise-data/Cairo/09-05-cairo.txt',\n",
       " '../6.2_files,_folders_&_os__exercises/[first attempt] os-collaboration-exercise-data/Cairo/09-24-cairo.txt',\n",
       " '../6.2_files,_folders_&_os__exercises/[first attempt] os-collaboration-exercise-data/Cairo/12-18-cairo.txt',\n",
       " '../6.2_files,_folders_&_os__exercises/[first attempt] os-collaboration-exercise-data/Cairo/04-24-cairo.txt',\n",
       " '../6.2_files,_folders_&_os__exercises/[first attempt] os-collaboration-exercise-data/Cairo/07-27-cairo.txt',\n",
       " '../6.2_files,_folders_&_os__exercises/[first attempt] os-collaboration-exercise-data/Cairo/03-24-cairo.txt',\n",
       " '../6.2_files,_folders_&_os__exercises/[first attempt] os-collaboration-exercise-data/Cairo/01-21-cairo.txt',\n",
       " '../6.2_files,_folders_&_os__exercises/[first attempt] os-collaboration-exercise-data/Cairo/02-22-cairo.txt',\n",
       " '../6.2_files,_folders_&_os__exercises/[first attempt] os-collaboration-exercise-data/Cairo/11-05-cairo.txt',\n",
       " '../6.2_files,_folders_&_os__exercises/[first attempt] os-collaboration-exercise-data/Cairo/02-17-cairo.txt',\n",
       " '../6.2_files,_folders_&_os__exercises/[first attempt] os-collaboration-exercise-data/Cairo/12-27-cairo.txt',\n",
       " '../6.2_files,_folders_&_os__exercises/[first attempt] os-collaboration-exercise-data/Cairo/05-17-cairo.txt',\n",
       " '../6.2_files,_folders_&_os__exercises/[first attempt] os-collaboration-exercise-data/Cairo/03-05-cairo.txt',\n",
       " '../6.2_files,_folders_&_os__exercises/[first attempt] os-collaboration-exercise-data/Cairo/08-25-cairo.txt',\n",
       " '../6.2_files,_folders_&_os__exercises/[first attempt] os-collaboration-exercise-data/Cairo/09-23-cairo.txt',\n",
       " '../6.2_files,_folders_&_os__exercises/[first attempt] os-collaboration-exercise-data/Cairo/01-19-cairo.txt',\n",
       " '../6.2_files,_folders_&_os__exercises/[first attempt] os-collaboration-exercise-data/Cairo/11-29-cairo.txt',\n",
       " '../6.2_files,_folders_&_os__exercises/[first attempt] os-collaboration-exercise-data/Cairo/08-04-cairo.txt',\n",
       " '../6.2_files,_folders_&_os__exercises/[first attempt] os-collaboration-exercise-data/Cairo/09-02-cairo.txt',\n",
       " '../6.2_files,_folders_&_os__exercises/[first attempt] os-collaboration-exercise-data/Cairo/09-16-cairo.txt',\n",
       " '../6.2_files,_folders_&_os__exercises/[first attempt] os-collaboration-exercise-data/Cairo/08-10-cairo.txt',\n",
       " '../6.2_files,_folders_&_os__exercises/[first attempt] os-collaboration-exercise-data/Cairo/07-14-cairo.txt',\n",
       " '../6.2_files,_folders_&_os__exercises/[first attempt] os-collaboration-exercise-data/Cairo/12-21-cairo.txt',\n",
       " '../6.2_files,_folders_&_os__exercises/[first attempt] os-collaboration-exercise-data/Cairo/04-17-cairo.txt',\n",
       " '../6.2_files,_folders_&_os__exercises/[first attempt] os-collaboration-exercise-data/Cairo/01-12-cairo.txt',\n",
       " '../6.2_files,_folders_&_os__exercises/[first attempt] os-collaboration-exercise-data/Cairo/01-27-cairo.txt',\n",
       " '../6.2_files,_folders_&_os__exercises/[first attempt] os-collaboration-exercise-data/Cairo/04-22-cairo.txt',\n",
       " '../6.2_files,_folders_&_os__exercises/[first attempt] os-collaboration-exercise-data/Cairo/11-17-cairo.txt',\n",
       " '../6.2_files,_folders_&_os__exercises/[first attempt] os-collaboration-exercise-data/Cairo/09-28-cairo.txt',\n",
       " '../6.2_files,_folders_&_os__exercises/[first attempt] os-collaboration-exercise-data/Cairo/05-30-cairo.txt',\n",
       " '../6.2_files,_folders_&_os__exercises/[first attempt] os-collaboration-exercise-data/Cairo/11-03-cairo.txt',\n",
       " '../6.2_files,_folders_&_os__exercises/[first attempt] os-collaboration-exercise-data/Cairo/07-19-cairo.txt',\n",
       " '../6.2_files,_folders_&_os__exercises/[first attempt] os-collaboration-exercise-data/Cairo/09-04-cairo.txt',\n",
       " '../6.2_files,_folders_&_os__exercises/[first attempt] os-collaboration-exercise-data/Cairo/12-19-cairo.txt',\n",
       " '../6.2_files,_folders_&_os__exercises/[first attempt] os-collaboration-exercise-data/Cairo/05-29-cairo.txt',\n",
       " '../6.2_files,_folders_&_os__exercises/[first attempt] os-collaboration-exercise-data/Cairo/09-25-cairo.txt']"
      ]
     },
     "execution_count": 16,
     "metadata": {},
     "output_type": "execute_result"
    }
   ],
   "source": [
    "glob.glob(r'../**/*cairo.txt', recursive = True)"
   ]
  },
  {
   "cell_type": "markdown",
   "id": "72b55629-a746-4122-82d1-fa1fc9e6fd05",
   "metadata": {},
   "source": [
    "What if I only want PDF/ PNG files? "
   ]
  },
  {
   "cell_type": "code",
   "execution_count": 31,
   "id": "07fc5a71-8552-420e-a0ab-1928fda55671",
   "metadata": {},
   "outputs": [
    {
     "data": {
      "text/plain": [
       "[]"
      ]
     },
     "execution_count": 31,
     "metadata": {},
     "output_type": "execute_result"
    }
   ],
   "source": [
    "glob.glob(r'../**/*.pdf', recursive=True)        # It goes through all folders and gives you pdf"
   ]
  },
  {
   "cell_type": "code",
   "execution_count": 34,
   "id": "bee098f5-8467-4ec6-9c0e-75baa82f96c2",
   "metadata": {},
   "outputs": [
    {
     "data": {
      "text/plain": [
       "['../7.2_plotting__exercises/4 graphs.jpg']"
      ]
     },
     "execution_count": 34,
     "metadata": {},
     "output_type": "execute_result"
    }
   ],
   "source": [
    "glob.glob(r'../**/*.jpg', recursive=True)         # Only want JPG"
   ]
  },
  {
   "cell_type": "markdown",
   "id": "1fb0c92d-b55b-4aa1-9aa8-3d3d5faf41e9",
   "metadata": {},
   "source": [
    "What if I only want files with logos?\n",
    "- Assuming I saved logo file starting with L"
   ]
  },
  {
   "cell_type": "code",
   "execution_count": 37,
   "id": "1f57d3ad-d933-45a7-9799-407425e1a841",
   "metadata": {},
   "outputs": [
    {
     "data": {
      "text/plain": [
       "[]"
      ]
     },
     "execution_count": 37,
     "metadata": {},
     "output_type": "execute_result"
    }
   ],
   "source": [
    "glob.glob(r'../**/l*.jpg', recursive=True)       # Start with L and ends with jpg"
   ]
  },
  {
   "cell_type": "code",
   "execution_count": 39,
   "id": "98f2be9d-001c-40c6-bd71-efb94d48830e",
   "metadata": {},
   "outputs": [],
   "source": [
    "import glob\n",
    "import os\n",
    "import shutil"
   ]
  },
  {
   "cell_type": "code",
   "execution_count": 40,
   "id": "e733e617-0d55-4ea1-a391-502b72ee0279",
   "metadata": {},
   "outputs": [
    {
     "ename": "AttributeError",
     "evalue": "module 'os' has no attribute 'copy'",
     "output_type": "error",
     "traceback": [
      "\u001b[0;31m---------------------------------------------------------------------------\u001b[0m",
      "\u001b[0;31mAttributeError\u001b[0m                            Traceback (most recent call last)",
      "Cell \u001b[0;32mIn[40], line 1\u001b[0m\n\u001b[0;32m----> 1\u001b[0m \u001b[43mos\u001b[49m\u001b[38;5;241;43m.\u001b[39;49m\u001b[43mcopy\u001b[49m(\u001b[38;5;124m'\u001b[39m\u001b[38;5;124m../7.2_plotting__exercises/4 graphs.jpg\u001b[39m\u001b[38;5;124m'\u001b[39m,\u001b[38;5;124m'\u001b[39m\u001b[38;5;124m.\u001b[39m\u001b[38;5;124m'\u001b[39m)\n",
      "\u001b[0;31mAttributeError\u001b[0m: module 'os' has no attribute 'copy'"
     ]
    }
   ],
   "source": [
    "os.copy('../7.2_plotting__exercises/4 graphs.jpg','.')"
   ]
  },
  {
   "cell_type": "markdown",
   "id": "9da8d5c1-d4f9-4128-ba7d-e3430b989159",
   "metadata": {},
   "source": [
    "So we need to use shutil"
   ]
  },
  {
   "cell_type": "code",
   "execution_count": 41,
   "id": "80c80235-7909-4dfd-b14b-7a5395cdc8e9",
   "metadata": {},
   "outputs": [
    {
     "data": {
      "text/plain": [
       "'./4 graphs.jpg'"
      ]
     },
     "execution_count": 41,
     "metadata": {},
     "output_type": "execute_result"
    }
   ],
   "source": [
    "shutil.copy('../7.2_plotting__exercises/4 graphs.jpg','.')"
   ]
  },
  {
   "cell_type": "code",
   "execution_count": 46,
   "id": "97909441-a8e6-45a2-b936-395035803c05",
   "metadata": {},
   "outputs": [
    {
     "name": "stdout",
     "output_type": "stream",
     "text": [
      "../6.1_files,_folders_&_os/4 graphs.jpg already here\n"
     ]
    }
   ],
   "source": [
    "jpg_files = glob.glob('..//**//*.jpg', recursive=True)\n",
    "\n",
    "for file in jpg_files:\n",
    "    try:\n",
    "        shutil.copy(file,'.')      \n",
    "    except:\n",
    "        print(f'{file} already here')"
   ]
  },
  {
   "cell_type": "markdown",
   "id": "e5bd4d09-6a45-4e20-bec3-1a2c8167dbbe",
   "metadata": {},
   "source": [
    "Trying to find if the file exists, then copy it\n",
    "- But file is the original file in another place "
   ]
  },
  {
   "cell_type": "code",
   "execution_count": 52,
   "id": "0801de3f-60dc-41f6-ac5b-96b712ec9f69",
   "metadata": {},
   "outputs": [
    {
     "data": {
      "text/plain": [
       "['..', '6.1_files,_folders_&_os', '4 graphs.jpg']"
      ]
     },
     "execution_count": 52,
     "metadata": {},
     "output_type": "execute_result"
    }
   ],
   "source": [
    "file.split(os.path.sep)          # Pathsep just means it will change according to your OS"
   ]
  },
  {
   "cell_type": "code",
   "execution_count": 54,
   "id": "01b8014d-bde6-4ce6-ba4f-ed72537ce31b",
   "metadata": {},
   "outputs": [
    {
     "data": {
      "text/plain": [
       "'/'"
      ]
     },
     "execution_count": 54,
     "metadata": {},
     "output_type": "execute_result"
    }
   ],
   "source": [
    "os.path.sep"
   ]
  },
  {
   "cell_type": "code",
   "execution_count": 58,
   "id": "27d5745e-8f3c-4124-8105-7f5dc1efb25b",
   "metadata": {},
   "outputs": [
    {
     "ename": "SameFileError",
     "evalue": "'../6.1_files,_folders_&_os/4 graphs.jpg' and './4 graphs.jpg' are the same file",
     "output_type": "error",
     "traceback": [
      "\u001b[0;31m---------------------------------------------------------------------------\u001b[0m",
      "\u001b[0;31mSameFileError\u001b[0m                             Traceback (most recent call last)",
      "Cell \u001b[0;32mIn[58], line 7\u001b[0m\n\u001b[1;32m      4\u001b[0m filename \u001b[38;5;241m=\u001b[39m file\u001b[38;5;241m.\u001b[39msplit(os\u001b[38;5;241m.\u001b[39mpath\u001b[38;5;241m.\u001b[39msep)[\u001b[38;5;241m-\u001b[39m\u001b[38;5;241m1\u001b[39m]  \n\u001b[1;32m      6\u001b[0m \u001b[38;5;66;03m# if not os.path.exists(filename): \u001b[39;00m\n\u001b[0;32m----> 7\u001b[0m \u001b[43mshutil\u001b[49m\u001b[38;5;241;43m.\u001b[39;49m\u001b[43mcopy\u001b[49m\u001b[43m(\u001b[49m\u001b[43mfile\u001b[49m\u001b[43m,\u001b[49m\u001b[38;5;124;43m'\u001b[39;49m\u001b[38;5;124;43m.\u001b[39;49m\u001b[38;5;124;43m'\u001b[39;49m\u001b[43m)\u001b[49m\n",
      "File \u001b[0;32m/opt/miniconda3/lib/python3.12/shutil.py:435\u001b[0m, in \u001b[0;36mcopy\u001b[0;34m(src, dst, follow_symlinks)\u001b[0m\n\u001b[1;32m    433\u001b[0m \u001b[38;5;28;01mif\u001b[39;00m os\u001b[38;5;241m.\u001b[39mpath\u001b[38;5;241m.\u001b[39misdir(dst):\n\u001b[1;32m    434\u001b[0m     dst \u001b[38;5;241m=\u001b[39m os\u001b[38;5;241m.\u001b[39mpath\u001b[38;5;241m.\u001b[39mjoin(dst, os\u001b[38;5;241m.\u001b[39mpath\u001b[38;5;241m.\u001b[39mbasename(src))\n\u001b[0;32m--> 435\u001b[0m \u001b[43mcopyfile\u001b[49m\u001b[43m(\u001b[49m\u001b[43msrc\u001b[49m\u001b[43m,\u001b[49m\u001b[43m \u001b[49m\u001b[43mdst\u001b[49m\u001b[43m,\u001b[49m\u001b[43m \u001b[49m\u001b[43mfollow_symlinks\u001b[49m\u001b[38;5;241;43m=\u001b[39;49m\u001b[43mfollow_symlinks\u001b[49m\u001b[43m)\u001b[49m\n\u001b[1;32m    436\u001b[0m copymode(src, dst, follow_symlinks\u001b[38;5;241m=\u001b[39mfollow_symlinks)\n\u001b[1;32m    437\u001b[0m \u001b[38;5;28;01mreturn\u001b[39;00m dst\n",
      "File \u001b[0;32m/opt/miniconda3/lib/python3.12/shutil.py:240\u001b[0m, in \u001b[0;36mcopyfile\u001b[0;34m(src, dst, follow_symlinks)\u001b[0m\n\u001b[1;32m    237\u001b[0m sys\u001b[38;5;241m.\u001b[39maudit(\u001b[38;5;124m\"\u001b[39m\u001b[38;5;124mshutil.copyfile\u001b[39m\u001b[38;5;124m\"\u001b[39m, src, dst)\n\u001b[1;32m    239\u001b[0m \u001b[38;5;28;01mif\u001b[39;00m _samefile(src, dst):\n\u001b[0;32m--> 240\u001b[0m     \u001b[38;5;28;01mraise\u001b[39;00m SameFileError(\u001b[38;5;124m\"\u001b[39m\u001b[38;5;132;01m{!r}\u001b[39;00m\u001b[38;5;124m and \u001b[39m\u001b[38;5;132;01m{!r}\u001b[39;00m\u001b[38;5;124m are the same file\u001b[39m\u001b[38;5;124m\"\u001b[39m\u001b[38;5;241m.\u001b[39mformat(src, dst))\n\u001b[1;32m    242\u001b[0m file_size \u001b[38;5;241m=\u001b[39m \u001b[38;5;241m0\u001b[39m\n\u001b[1;32m    243\u001b[0m \u001b[38;5;28;01mfor\u001b[39;00m i, fn \u001b[38;5;129;01min\u001b[39;00m \u001b[38;5;28menumerate\u001b[39m([src, dst]):\n",
      "\u001b[0;31mSameFileError\u001b[0m: '../6.1_files,_folders_&_os/4 graphs.jpg' and './4 graphs.jpg' are the same file"
     ]
    }
   ],
   "source": [
    "jpg_files = glob.glob('..//**//*.jpg', recursive=True)\n",
    "\n",
    "for file in jpg_files:\n",
    "    filename = file.split(os.path.sep)[-1]  \n",
    "\n",
    "    # if not os.path.exists(filename): \n",
    "    shutil.copy(file,'.')"
   ]
  },
  {
   "cell_type": "markdown",
   "id": "c13f7e47-f12e-4ef1-bedd-5ef2662befa5",
   "metadata": {},
   "source": [
    "Error telling you that it is already there"
   ]
  },
  {
   "cell_type": "code",
   "execution_count": 60,
   "id": "a7e9f5c2-a7d1-4720-b51b-ccd8bf3cb37e",
   "metadata": {},
   "outputs": [
    {
     "name": "stdout",
     "output_type": "stream",
     "text": [
      "Did not copy 4 graphs.jpg\n",
      "Did not copy 4 graphs.jpg\n"
     ]
    }
   ],
   "source": [
    "jpg_files = glob.glob('..//**//*.jpg', recursive=True)\n",
    "\n",
    "for file in jpg_files:\n",
    "    filename = file.split(os.path.sep)[-1]  \n",
    "\n",
    "    if not os.path.exists(filename): \n",
    "        shutil.copy(file,'.')\n",
    "    else: \n",
    "        print(f'Did not copy {filename}')\n",
    "\n",
    "    # os.remove(filename)       # Means you want to remove that file. If file doesn't exist it will say cannot remove"
   ]
  },
  {
   "attachments": {},
   "cell_type": "markdown",
   "id": "4adac915",
   "metadata": {
    "jp-MarkdownHeadingCollapsed": true
   },
   "source": [
    "## 1.3 Path separator"
   ]
  },
  {
   "attachments": {},
   "cell_type": "markdown",
   "id": "ef9d87ba",
   "metadata": {
    "jp-MarkdownHeadingCollapsed": true
   },
   "source": [
    "## 1.4 Text files vs. Binary files"
   ]
  },
  {
   "attachments": {},
   "cell_type": "markdown",
   "id": "9bb62aaf",
   "metadata": {},
   "source": [
    "## 1.5 Extensions"
   ]
  },
  {
   "attachments": {},
   "cell_type": "markdown",
   "id": "223ab4eb",
   "metadata": {},
   "source": [
    "# 2 Opening and closing files"
   ]
  },
  {
   "attachments": {},
   "cell_type": "markdown",
   "id": "91bef147",
   "metadata": {},
   "source": [
    "## 2.1 Reading data"
   ]
  },
  {
   "cell_type": "code",
   "execution_count": null,
   "id": "d620c050-21c4-4e47-9c4a-dfb0d99b47a1",
   "metadata": {},
   "outputs": [],
   "source": []
  },
  {
   "attachments": {},
   "cell_type": "markdown",
   "id": "c1b78e33",
   "metadata": {},
   "source": [
    "## 2.2 Writing data"
   ]
  },
  {
   "cell_type": "code",
   "execution_count": 66,
   "id": "0708a8dc-30cd-410e-a796-8cb90039b0c3",
   "metadata": {},
   "outputs": [
    {
     "data": {
      "text/plain": [
       "11"
      ]
     },
     "execution_count": 66,
     "metadata": {},
     "output_type": "execute_result"
    }
   ],
   "source": [
    "file = open('hahaha.txt','w')      # w stands for write\n",
    "file.write('asdjhsadjsa')            # Nothing is inside the file. my keyboard spam isn't typed inside"
   ]
  },
  {
   "attachments": {},
   "cell_type": "markdown",
   "id": "ecc5403e",
   "metadata": {},
   "source": [
    "### Writing to a file in one go"
   ]
  },
  {
   "cell_type": "markdown",
   "id": "e963a84c-3e07-4859-9125-355d17198575",
   "metadata": {},
   "source": [
    "Use this sample code!"
   ]
  },
  {
   "cell_type": "code",
   "execution_count": 67,
   "id": "e8cc691f-06e7-4cd5-8dc8-83ffe5cc8326",
   "metadata": {},
   "outputs": [],
   "source": [
    "#  with open('my-text-once.txt', 'w') as file:\n",
    "    #  file.write(text)\n",
    "\n",
    "with open('hohoho.txt','w') as file:\n",
    "    file.write('im trying')"
   ]
  },
  {
   "cell_type": "code",
   "execution_count": 68,
   "id": "486e04ff-a2e3-4674-9be4-b262256a3fda",
   "metadata": {},
   "outputs": [],
   "source": [
    "with open('hohoho.txt','a') as file:     # Putting a here means I'm appending each time\n",
    "    file.write('im trying')             # It becomes im tryingim trying. But I want spacing. See below"
   ]
  },
  {
   "cell_type": "code",
   "execution_count": null,
   "id": "2bd7151b-2a8e-4695-b912-04a478bd5128",
   "metadata": {},
   "outputs": [],
   "source": [
    "with open('hohoho.txt','a') as file:  \n",
    "    for i in range(10):\n",
    "        file.write(im trying\\n') "
   ]
  },
  {
   "cell_type": "code",
   "execution_count": 72,
   "id": "34e10cf8-2db4-4459-a9a0-544f14d66b59",
   "metadata": {},
   "outputs": [],
   "source": [
    "with open('hohoho.txt','a') as file:  \n",
    "    for i in range(10):\n",
    "        file.write(f'{i} im trying\\n')   # It just keep writing new... But if a is swapped with w, it overrides"
   ]
  },
  {
   "cell_type": "code",
   "execution_count": 77,
   "id": "2659987b-8977-460a-b5d5-1e4cac8ea9ed",
   "metadata": {},
   "outputs": [
    {
     "name": "stdout",
     "output_type": "stream",
     "text": [
      "im tryingim tryingim tryingim tryingim tryingim tryingim tryingim tryingim tryingim tryingim tryingim tryingim tryingim trying\n",
      "im trying\n",
      "im trying\n",
      "im trying\n",
      "im trying\n",
      "im trying\n",
      "im trying\n",
      "im trying\n",
      "im trying\n",
      "im trying\n",
      "0 im trying\n",
      "1 im trying\n",
      "2 im trying\n",
      "3 im trying\n",
      "4 im trying\n",
      "5 im trying\n",
      "6 im trying\n",
      "7 im trying\n",
      "8 im trying\n",
      "9 im trying\n",
      "\n"
     ]
    }
   ],
   "source": [
    "with open('hohoho.txt','r') as file:\n",
    "    text=file.read()\n",
    "\n",
    "print(text)"
   ]
  },
  {
   "attachments": {},
   "cell_type": "markdown",
   "id": "eb62f910",
   "metadata": {
    "jp-MarkdownHeadingCollapsed": true
   },
   "source": [
    "### Writing to a file, line by line"
   ]
  },
  {
   "cell_type": "code",
   "execution_count": null,
   "id": "7a78b003",
   "metadata": {},
   "outputs": [],
   "source": [
    "\n",
    "# Your code here\n"
   ]
  },
  {
   "attachments": {},
   "cell_type": "markdown",
   "id": "7f6158f8",
   "metadata": {},
   "source": [
    "# 3 Some useful packages"
   ]
  },
  {
   "attachments": {},
   "cell_type": "markdown",
   "id": "6e8bbe24",
   "metadata": {},
   "source": [
    "# 4 OS safe paths"
   ]
  },
  {
   "attachments": {},
   "cell_type": "markdown",
   "id": "cc2f3464",
   "metadata": {},
   "source": [
    "# 5 Folders"
   ]
  },
  {
   "attachments": {},
   "cell_type": "markdown",
   "id": "20ef952e",
   "metadata": {},
   "source": [
    "## 5.1 Creating folders & Joining Paths"
   ]
  },
  {
   "cell_type": "code",
   "execution_count": 61,
   "id": "d14e29fc-14b3-4dd8-91b8-718653e08629",
   "metadata": {},
   "outputs": [
    {
     "name": "stdout",
     "output_type": "stream",
     "text": [
      "Creating people/John\n",
      "Creating people/Paul\n",
      "Creating people/Ringo\n"
     ]
    }
   ],
   "source": [
    "os.mkdir('people')        # Creates a folder called people \n",
    "\n",
    "for person in ['John', 'Paul', 'Ringo']:     # Then I create 3 other subfolders \n",
    "    path = os.path.join('people', person)\n",
    "    print(f'Creating {path}')\n",
    "    os.mkdir(path)"
   ]
  },
  {
   "cell_type": "code",
   "execution_count": 64,
   "id": "61721705-bbd6-4f10-ab1d-85e69d0d28c6",
   "metadata": {},
   "outputs": [
    {
     "name": "stdout",
     "output_type": "stream",
     "text": [
      "people/John\n",
      "people/Paul\n",
      "people/Ringo\n"
     ]
    }
   ],
   "source": [
    "# os.mkdir('people')        # Creates a folder called people \n",
    "\n",
    "for person in ['John', 'Paul', 'Ringo']:     # Then I create 3 other subfolders \n",
    "    path = os.path.join('people', person)      # Join path in this way safely\n",
    "    print(path)\n",
    "    # print(f'Creating {path}')\n",
    "    #  os.mkdir(path)"
   ]
  },
  {
   "attachments": {},
   "cell_type": "markdown",
   "id": "4fb0f327",
   "metadata": {},
   "source": [
    "## 5.2 Checking for existence"
   ]
  },
  {
   "attachments": {},
   "cell_type": "markdown",
   "id": "74593508",
   "metadata": {},
   "source": [
    "### Using try-except"
   ]
  },
  {
   "cell_type": "code",
   "execution_count": null,
   "id": "334ffc3c",
   "metadata": {},
   "outputs": [],
   "source": [
    "\n",
    "# Your code here\n"
   ]
  },
  {
   "attachments": {},
   "cell_type": "markdown",
   "id": "95879847",
   "metadata": {},
   "source": [
    "### Using os.path.exists()"
   ]
  },
  {
   "cell_type": "code",
   "execution_count": null,
   "id": "c9a19878",
   "metadata": {},
   "outputs": [],
   "source": [
    "\n",
    "# Your code here\n"
   ]
  },
  {
   "attachments": {},
   "cell_type": "markdown",
   "id": "d45ac5b1",
   "metadata": {},
   "source": [
    "## 5.3 Copying files"
   ]
  },
  {
   "attachments": {},
   "cell_type": "markdown",
   "id": "caf7679e",
   "metadata": {},
   "source": [
    "# 6 Listing and looking for files"
   ]
  },
  {
   "attachments": {},
   "cell_type": "markdown",
   "id": "b5393bcd",
   "metadata": {},
   "source": [
    "# 7 Extracting file info"
   ]
  },
  {
   "attachments": {},
   "cell_type": "markdown",
   "id": "b7975752",
   "metadata": {},
   "source": [
    "# 8 Deleting stuff"
   ]
  }
 ],
 "metadata": {
  "kernelspec": {
   "display_name": "Python 3 (ipykernel)",
   "language": "python",
   "name": "python3"
  },
  "language_info": {
   "codemirror_mode": {
    "name": "ipython",
    "version": 3
   },
   "file_extension": ".py",
   "mimetype": "text/x-python",
   "name": "python",
   "nbconvert_exporter": "python",
   "pygments_lexer": "ipython3",
   "version": "3.12.2"
  },
  "toc": {
   "base_numbering": 1,
   "nav_menu": {},
   "number_sections": true,
   "sideBar": true,
   "skip_h1_title": false,
   "title_cell": "Table of Contents",
   "title_sidebar": "Contents",
   "toc_cell": false,
   "toc_position": {},
   "toc_section_display": true,
   "toc_window_display": false
  },
  "vscode": {
   "interpreter": {
    "hash": "31f2aee4e71d21fbe5cf8b01ff0e069b9275f58929596ceb00d14d90e3e16cd6"
   }
  }
 },
 "nbformat": 4,
 "nbformat_minor": 5
}
