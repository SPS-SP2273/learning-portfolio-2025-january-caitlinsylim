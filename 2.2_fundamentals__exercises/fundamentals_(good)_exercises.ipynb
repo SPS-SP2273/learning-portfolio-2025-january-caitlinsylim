{
 "cells": [
  {
   "attachments": {},
   "cell_type": "markdown",
   "id": "123456",
   "metadata": {},
   "source": [
    "<div style=\"text-align:left;font-size:2em\"><span style=\"font-weight:bolder;font-size:1.25em\">SP2273 | Learning Portfolio</span><br><br><span style=\"font-weight:bold;color:darkred\">Fundamentals (Good) Exercises</span></div>"
   ]
  },
  {
   "cell_type": "markdown",
   "id": "16600970-3b61-4514-a34b-1483876e4d0f",
   "metadata": {
    "jp-MarkdownHeadingCollapsed": true
   },
   "source": [
    "## 2nd attempt: exercise 1 (ignore)"
   ]
  },
  {
   "cell_type": "code",
   "execution_count": null,
   "id": "e80d675e-d76f-4c48-b548-44000fa1356b",
   "metadata": {},
   "outputs": [],
   "source": [
    "user_input = input('Please provide me with a number?')\n",
    "print('You entered', user_input)"
   ]
  },
  {
   "cell_type": "markdown",
   "id": "13514807-11fa-456b-9b98-4964e11d580a",
   "metadata": {},
   "source": [
    "Qns: Ask for the name of the user and then print out the greeting:\n",
    "\n",
    "“How you doin NAME!”"
   ]
  },
  {
   "cell_type": "code",
   "execution_count": 1,
   "id": "92718c34-9265-48eb-b02d-72902c45ffa3",
   "metadata": {},
   "outputs": [
    {
     "name": "stdin",
     "output_type": "stream",
     "text": [
      "What is your name? jay\n"
     ]
    },
    {
     "name": "stdout",
     "output_type": "stream",
     "text": [
      "How you doin jay\n"
     ]
    }
   ],
   "source": [
    "user_input = input('What is your name?')\n",
    "print(f'How you doin {user_input}')"
   ]
  },
  {
   "cell_type": "markdown",
   "id": "392adb66-a0f5-4fb0-a7d0-06c70143e275",
   "metadata": {},
   "source": [
    "Ask for the name of the user, then ask for the age of the user and print out the introduction:\n",
    "\n",
    "“My name is NAME and I am AGE years old.”"
   ]
  },
  {
   "cell_type": "code",
   "execution_count": 7,
   "id": "d0b3e54f-40b0-4a65-969f-74c679da15cd",
   "metadata": {},
   "outputs": [
    {
     "name": "stdin",
     "output_type": "stream",
     "text": [
      "What is your name? jay\n",
      "What is your age? 15\n"
     ]
    },
    {
     "name": "stdout",
     "output_type": "stream",
     "text": [
      "My name is jay and I am 15 years old\n"
     ]
    }
   ],
   "source": [
    "name_input = input('What is your name?')\n",
    "age_input = input('What is your age?')\n",
    "\n",
    "print(f'My name is {name_input}'+ f' and I am {age_input} years old')"
   ]
  },
  {
   "cell_type": "markdown",
   "id": "507eae3b-7fcf-4f46-b48b-2f5b586621de",
   "metadata": {},
   "source": [
    "You are given the value of pi as 3.141592653589793\n",
    "\n",
    "Define the variable pi with this value and then use it to produce the following using f-strings.\n",
    "\n",
    "- The value of pi to 2 decimal places is: 3.14\n",
    "- The value of pi to 3 decimal places is: 3.142\n",
    "- The value of pi to 4 decimal places is: 3.1416"
   ]
  },
  {
   "cell_type": "code",
   "execution_count": 17,
   "id": "5c2dc2ce-9a10-438f-b3bb-a1d80ed0855c",
   "metadata": {},
   "outputs": [
    {
     "name": "stdout",
     "output_type": "stream",
     "text": [
      "The value of pi to 2 decimal places is: 3.14\n",
      "The value of pi to 2 decimal places is: 3.142\n",
      "The value of pi to 2 decimal places is: 3.1416\n"
     ]
    }
   ],
   "source": [
    "import numpy as np \n",
    "\n",
    "x = np.pi\n",
    "\n",
    "print(f'The value of pi to 2 decimal places is: {x:.2f}')\n",
    "print(f'The value of pi to 2 decimal places is: {x:.3f}')\n",
    "print(f'The value of pi to 2 decimal places is: {x:.4f}')"
   ]
  },
  {
   "cell_type": "code",
   "execution_count": 58,
   "id": "999c61a9-0688-45df-aaa7-d015d5be9752",
   "metadata": {},
   "outputs": [
    {
     "name": "stdout",
     "output_type": "stream",
     "text": [
      "Apple     \n"
     ]
    }
   ],
   "source": [
    "print(f\"{\"Apple\":10}\")"
   ]
  },
  {
   "cell_type": "code",
   "execution_count": 66,
   "id": "e62be2f6-0115-4335-9514-e7272ff1fbba",
   "metadata": {},
   "outputs": [
    {
     "name": "stdout",
     "output_type": "stream",
     "text": [
      "Apple      $0.99\n",
      "Banana     $0.59\n",
      "Orange     $1.29\n"
     ]
    }
   ],
   "source": [
    "## REVISE AGAIN..\n",
    "print(f\"{\"Apple\":<10} ${0.99}\")\n",
    "print(f\"{\"Banana\":10} ${0.59}\")\n",
    "print(f\"{\"Orange\":10} ${1.29}\")"
   ]
  },
  {
   "cell_type": "markdown",
   "id": "be67235c-9f45-49d5-9db5-517d143f179b",
   "metadata": {
    "jp-MarkdownHeadingCollapsed": true
   },
   "source": [
    "## 2nd attempt: Exercise 2 (ignore)"
   ]
  },
  {
   "cell_type": "code",
   "execution_count": 42,
   "id": "c27765b6-82ab-4772-821e-791cf43e3370",
   "metadata": {},
   "outputs": [
    {
     "name": "stdin",
     "output_type": "stream",
     "text": [
      " 50.5\n"
     ]
    },
    {
     "name": "stdout",
     "output_type": "stream",
     "text": [
      "Enter the student's score: 50.5\n",
      "The student letter grade is: B\n"
     ]
    }
   ],
   "source": [
    "x = float(input())\n",
    "print(f\"Enter the student's score: {x}\")\n",
    "\n",
    "if 70 <= x <= 100: \n",
    "    print('The student letter grade is: A')\n",
    "elif 50 <= x<= 69:\n",
    "    print('The student letter grade is: B')\n",
    "elif 35 <= x <= 49:\n",
    "    print('The student letter grade is: C')\n",
    "elif 0 <= x <= 34: \n",
    "    print('Fail')\n",
    "else: \n",
    "    print('Error')"
   ]
  },
  {
   "cell_type": "markdown",
   "id": "8ee25d3c-753f-422c-a94c-174d3000ac88",
   "metadata": {
    "jp-MarkdownHeadingCollapsed": true
   },
   "source": [
    "## Exercise 3 (ignore)"
   ]
  },
  {
   "cell_type": "code",
   "execution_count": 24,
   "id": "1291d266-aea3-4fd6-b3b3-246a5d3f4464",
   "metadata": {},
   "outputs": [
    {
     "name": "stdout",
     "output_type": "stream",
     "text": [
      "120\n",
      "Invalid input\n"
     ]
    }
   ],
   "source": [
    "def factorial(n):\n",
    "    if n < 0:\n",
    "        return \"Invalid input\"\n",
    "    elif n == 0:\n",
    "        return 1\n",
    "    else:\n",
    "        result = 1\n",
    "        for number in range(1, n+1):\n",
    "            result *= number\n",
    "        return result\n",
    "\n",
    "\n",
    "print(factorial(5))   # Testing, expected output: 120\n",
    "print(factorial(-1))  # Testing, expected output: Invalid input"
   ]
  },
  {
   "cell_type": "markdown",
   "id": "8c8ff80e-db65-4e00-9a47-c6e81f5da9d6",
   "metadata": {},
   "source": [
    "## Exercise 1 (f-strings to the rescue) "
   ]
  },
  {
   "cell_type": "code",
   "execution_count": null,
   "id": "e4663786-4b2a-45f3-9761-6689d0ac821b",
   "metadata": {},
   "outputs": [],
   "source": [
    "# Example 1\n",
    "user_input = input('Please provide me with a number?')\n",
    "print('You entered', user_input)"
   ]
  },
  {
   "cell_type": "code",
   "execution_count": 6,
   "id": "9e0edbac-09ad-4931-839c-1f30669ebdfd",
   "metadata": {},
   "outputs": [
    {
     "name": "stdin",
     "output_type": "stream",
     "text": [
      "What is your name? jay\n"
     ]
    },
    {
     "name": "stdout",
     "output_type": "stream",
     "text": [
      "How you doin jay\n"
     ]
    }
   ],
   "source": [
    "# Task 1 \n",
    "user_input = input('What is your name?') \n",
    "print('How you doin', user_input)"
   ]
  },
  {
   "cell_type": "code",
   "execution_count": 9,
   "id": "ea6ad6ad-6db0-4d39-9137-446e736deacc",
   "metadata": {},
   "outputs": [
    {
     "name": "stdin",
     "output_type": "stream",
     "text": [
      "What is your name? jay\n"
     ]
    },
    {
     "name": "stdout",
     "output_type": "stream",
     "text": [
      "My name is jay\n"
     ]
    },
    {
     "name": "stdin",
     "output_type": "stream",
     "text": [
      "What is your age? 30\n"
     ]
    },
    {
     "name": "stdout",
     "output_type": "stream",
     "text": [
      "and I am 30 years old\n"
     ]
    }
   ],
   "source": [
    "# Task 2\n",
    "user_input_name = input('What is your name?') \n",
    "print('My name is', user_input_name)\n",
    "user_input_age = input('What is your age?') \n",
    "print('and I am', user_input_age, 'years old')"
   ]
  },
  {
   "cell_type": "markdown",
   "id": "4a6aaa6b-9437-4327-ac55-f30f3bd1b75b",
   "metadata": {},
   "source": [
    "Task 3\n",
    "\n",
    "You are given the value of pi as 3.141592653589793\n",
    "\n",
    "Define the variable pi with this value and then use it to produce the following using f-strings.\n",
    "\n",
    "- The value of pi to 2 decimal places is: 3.14\n",
    "- The value of pi to 3 decimal places is: 3.142\n",
    "- The value of pi to 4 decimal places is: 3.1416"
   ]
  },
  {
   "cell_type": "code",
   "execution_count": 16,
   "id": "04ac94ae-dbc7-405e-b26f-3a2b7405a862",
   "metadata": {},
   "outputs": [
    {
     "name": "stdout",
     "output_type": "stream",
     "text": [
      "(The value of pi to 2 decimal places is 3.14\n",
      "(The value of pi to 3 decimal places is 3.142\n",
      "(The value of pi to 4 decimal places is 3.1416\n"
     ]
    }
   ],
   "source": [
    "import numpy as np\n",
    "pi = 3.141592653589793\n",
    "print(f'(The value of pi to 2 decimal places is {np.pi:.2f}')\n",
    "print(f'(The value of pi to 3 decimal places is {np.pi:.3f}')\n",
    "print(f'(The value of pi to 4 decimal places is {np.pi:.4f}')"
   ]
  },
  {
   "cell_type": "markdown",
   "id": "604fe53d-d995-4b84-8c67-4e25436307d7",
   "metadata": {},
   "source": [
    "Task 4 "
   ]
  },
  {
   "cell_type": "markdown",
   "id": "94df084f-b355-422f-a1ba-766ae1824b70",
   "metadata": {},
   "source": [
    "| Fruit    |  Price   |  \n",
    "| :--- | :--: | \n",
    "| Apple   |  0.99  |  \n",
    "| Banana  |  0.59  |   \n",
    "| Orange   |  1.29  |   "
   ]
  },
  {
   "cell_type": "code",
   "execution_count": 64,
   "id": "5fd8cdcc-1688-4aa0-8713-0c662baeb66e",
   "metadata": {},
   "outputs": [
    {
     "name": "stdout",
     "output_type": "stream",
     "text": [
      "Apple      $0.99\n",
      "Banana     $0.59\n",
      "Orange     $1.29\n"
     ]
    }
   ],
   "source": [
    "fruits_px = [('Apple', 0.99), ('Banana', 0.59), ('Orange', 1.29)] \n",
    "\n",
    "for fruit, price in fruits_px: \n",
    "    print(f\"{fruit:<10} ${price:}\")\n",
    "# how to do this... "
   ]
  },
  {
   "cell_type": "markdown",
   "id": "0333821f-95e5-49c3-8ed5-a18db54e8dcb",
   "metadata": {},
   "source": [
    "## Exercise 2 (What is your grade?)"
   ]
  },
  {
   "cell_type": "markdown",
   "id": "6a0eca89-a829-40f8-a571-f52cff973716",
   "metadata": {},
   "source": [
    "| Grade    |  Score Range   |  \n",
    "| :--- | :--: | \n",
    "| A   |  70-100  |  \n",
    "| B  |  50-69  |   \n",
    "| C  |  35-49  | \n",
    "| D |  0-34 | "
   ]
  },
  {
   "cell_type": "code",
   "execution_count": 67,
   "id": "0db3469b-39b4-4608-b754-d3983603dcb8",
   "metadata": {},
   "outputs": [
    {
     "name": "stdin",
     "output_type": "stream",
     "text": [
      "Enter student's score? 34.5\n"
     ]
    },
    {
     "name": "stdout",
     "output_type": "stream",
     "text": [
      "student's letter grade is: error\n"
     ]
    }
   ],
   "source": [
    "def determine_grade(score): \n",
    "    if 70 <= score <= 100: \n",
    "        return \"A\" \n",
    "    elif 50 <= score <= 69:\n",
    "        return \"B\" \n",
    "    elif 35 <= score <= 64:\n",
    "        return \"C\" \n",
    "    elif 0 <= score <= 34:\n",
    "        return \"D\"\n",
    "    else: \n",
    "        return \"error\" \n",
    "        \n",
    "user_input = input(\"Enter student's score?\")\n",
    "score = float(user_input)\n",
    " \n",
    "grade = determine_grade(score)\n",
    "\n",
    "print(f\"student's letter grade is: {grade}\" )"
   ]
  },
  {
   "cell_type": "code",
   "execution_count": 68,
   "id": "c95465a0-e753-4123-8439-9dfd6ae68576",
   "metadata": {},
   "outputs": [
    {
     "name": "stdin",
     "output_type": "stream",
     "text": [
      " 34.5\n"
     ]
    },
    {
     "name": "stdout",
     "output_type": "stream",
     "text": [
      "Enter the student's score: 34.5\n",
      "Error\n"
     ]
    }
   ],
   "source": [
    "x = float(input())\n",
    "print(f\"Enter the student's score: {x}\")\n",
    "\n",
    "if 70 <= x <= 100: \n",
    "    print('The student letter grade is: A')\n",
    "elif 50 <= x<= 69:\n",
    "    print('The student letter grade is: B')\n",
    "elif 35 <= x <= 49:\n",
    "    print('The student letter grade is: C')\n",
    "elif 0 <= x <= 34: \n",
    "    print('Fail')\n",
    "else: \n",
    "    print('Error')"
   ]
  },
  {
   "cell_type": "markdown",
   "id": "b980d205-f903-449a-bd70-1dd9bf3bb37c",
   "metadata": {
    "jp-MarkdownHeadingCollapsed": true
   },
   "source": [
    "## Exercise 3 (Debugging Code)"
   ]
  },
  {
   "cell_type": "code",
   "execution_count": 32,
   "id": "6a62e855-0da0-4843-bb36-e73ec6403d2f",
   "metadata": {},
   "outputs": [
    {
     "name": "stdout",
     "output_type": "stream",
     "text": [
      "120\n",
      "Invalid input\n"
     ]
    }
   ],
   "source": [
    "def factorial(n):\n",
    "    if n < 0:\n",
    "        return \"Invalid input\"\n",
    "    elif n == 0:\n",
    "        return 1\n",
    "    else:\n",
    "        result = 1\n",
    "        for number in range(1, n+1):\n",
    "            result *= number\n",
    "        return result\n",
    "\n",
    "\n",
    "print(factorial(5))   # Testing, expected output: 120\n",
    "print(factorial(-1))  # Testing, expected output: Invalid input"
   ]
  },
  {
   "cell_type": "code",
   "execution_count": null,
   "id": "7e140358-b51a-4dbf-b71a-cbd2eda8239e",
   "metadata": {},
   "outputs": [],
   "source": []
  }
 ],
 "metadata": {
  "kernelspec": {
   "display_name": "Python 3 (ipykernel)",
   "language": "python",
   "name": "python3"
  },
  "language_info": {
   "codemirror_mode": {
    "name": "ipython",
    "version": 3
   },
   "file_extension": ".py",
   "mimetype": "text/x-python",
   "name": "python",
   "nbconvert_exporter": "python",
   "pygments_lexer": "ipython3",
   "version": "3.12.2"
  },
  "toc": {
   "base_numbering": 1,
   "nav_menu": {},
   "number_sections": true,
   "sideBar": true,
   "skip_h1_title": false,
   "title_cell": "Table of Contents",
   "title_sidebar": "Contents",
   "toc_cell": false,
   "toc_position": {},
   "toc_section_display": true,
   "toc_window_display": false
  },
  "vscode": {
   "interpreter": {
    "hash": "31f2aee4e71d21fbe5cf8b01ff0e069b9275f58929596ceb00d14d90e3e16cd6"
   }
  }
 },
 "nbformat": 4,
 "nbformat_minor": 5
}
