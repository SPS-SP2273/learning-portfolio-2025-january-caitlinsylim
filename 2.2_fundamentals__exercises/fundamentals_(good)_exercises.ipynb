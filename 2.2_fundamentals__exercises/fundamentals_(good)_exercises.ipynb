{
 "cells": [
  {
   "attachments": {},
   "cell_type": "markdown",
   "id": "123456",
   "metadata": {},
   "source": [
    "<div style=\"text-align:left;font-size:2em\"><span style=\"font-weight:bolder;font-size:1.25em\">SP2273 | Learning Portfolio</span><br><br><span style=\"font-weight:bold;color:darkred\">Fundamentals (Good) Exercises</span></div>"
   ]
  },
  {
   "cell_type": "markdown",
   "id": "8c8ff80e-db65-4e00-9a47-c6e81f5da9d6",
   "metadata": {},
   "source": [
    "## Exercise 1 (f-strings to the rescue) "
   ]
  },
  {
   "cell_type": "code",
   "execution_count": 2,
   "id": "e4663786-4b2a-45f3-9761-6689d0ac821b",
   "metadata": {},
   "outputs": [
    {
     "name": "stdin",
     "output_type": "stream",
     "text": [
      "Please provide me with a number? 30\n"
     ]
    },
    {
     "name": "stdout",
     "output_type": "stream",
     "text": [
      "You entered 30\n"
     ]
    }
   ],
   "source": [
    "# Example 1\n",
    "user_input = input('Please provide me with a number?')\n",
    "print('You entered', user_input)"
   ]
  },
  {
   "cell_type": "code",
   "execution_count": 6,
   "id": "9e0edbac-09ad-4931-839c-1f30669ebdfd",
   "metadata": {},
   "outputs": [
    {
     "name": "stdin",
     "output_type": "stream",
     "text": [
      "What is your name? jay\n"
     ]
    },
    {
     "name": "stdout",
     "output_type": "stream",
     "text": [
      "How you doin jay\n"
     ]
    }
   ],
   "source": [
    "# Task 1 \n",
    "user_input = input('What is your name?') \n",
    "print('How you doin', user_input)"
   ]
  },
  {
   "cell_type": "code",
   "execution_count": 9,
   "id": "ea6ad6ad-6db0-4d39-9137-446e736deacc",
   "metadata": {},
   "outputs": [
    {
     "name": "stdin",
     "output_type": "stream",
     "text": [
      "What is your name? jay\n"
     ]
    },
    {
     "name": "stdout",
     "output_type": "stream",
     "text": [
      "My name is jay\n"
     ]
    },
    {
     "name": "stdin",
     "output_type": "stream",
     "text": [
      "What is your age? 30\n"
     ]
    },
    {
     "name": "stdout",
     "output_type": "stream",
     "text": [
      "and I am 30 years old\n"
     ]
    }
   ],
   "source": [
    "# Task 2\n",
    "user_input_name = input('What is your name?') \n",
    "print('My name is', user_input_name)\n",
    "user_input_age = input('What is your age?') \n",
    "print('and I am', user_input_age, 'years old')"
   ]
  },
  {
   "cell_type": "markdown",
   "id": "4a6aaa6b-9437-4327-ac55-f30f3bd1b75b",
   "metadata": {},
   "source": [
    "Task 3\n",
    "\n",
    "You are given the value of pi as 3.141592653589793\n",
    "\n",
    "Define the variable pi with this value and then use it to produce the following using f-strings.\n",
    "\n",
    "- The value of pi to 2 decimal places is: 3.14\n",
    "- The value of pi to 3 decimal places is: 3.142\n",
    "- The value of pi to 4 decimal places is: 3.1416"
   ]
  },
  {
   "cell_type": "code",
   "execution_count": 16,
   "id": "04ac94ae-dbc7-405e-b26f-3a2b7405a862",
   "metadata": {},
   "outputs": [
    {
     "name": "stdout",
     "output_type": "stream",
     "text": [
      "(The value of pi to 2 decimal places is 3.14\n",
      "(The value of pi to 3 decimal places is 3.142\n",
      "(The value of pi to 4 decimal places is 3.1416\n"
     ]
    }
   ],
   "source": [
    "import numpy as np\n",
    "pi = 3.141592653589793\n",
    "print(f'(The value of pi to 2 decimal places is {np.pi:.2f}')\n",
    "print(f'(The value of pi to 3 decimal places is {np.pi:.3f}')\n",
    "print(f'(The value of pi to 4 decimal places is {np.pi:.4f}')"
   ]
  },
  {
   "cell_type": "markdown",
   "id": "604fe53d-d995-4b84-8c67-4e25436307d7",
   "metadata": {},
   "source": [
    "Task 4 "
   ]
  },
  {
   "cell_type": "markdown",
   "id": "94df084f-b355-422f-a1ba-766ae1824b70",
   "metadata": {},
   "source": [
    "| Fruit    |  Price   |  \n",
    "| :--- | :--: | \n",
    "| Apple   |  0.99  |  \n",
    "| Banana  |  0.59  |   \n",
    "| Orange   |  1.29  |   "
   ]
  },
  {
   "cell_type": "code",
   "execution_count": 24,
   "id": "5fd8cdcc-1688-4aa0-8713-0c662baeb66e",
   "metadata": {},
   "outputs": [
    {
     "name": "stdout",
     "output_type": "stream",
     "text": [
      "0.59\n"
     ]
    }
   ],
   "source": [
    "fruits = [('Apple', 0.99), ('Banana', 0.59), ('Orange', 1.29)] \n",
    "\n",
    "if fruits == 'Apple':\n",
    "    print(0.99)\n",
    "else: \n",
    "    print(0.59)"
   ]
  },
  {
   "cell_type": "code",
   "execution_count": null,
   "id": "5830b142-89ed-4b39-8771-25c04cd0b12a",
   "metadata": {},
   "outputs": [],
   "source": []
  }
 ],
 "metadata": {
  "kernelspec": {
   "display_name": "Python 3 (ipykernel)",
   "language": "python",
   "name": "python3"
  },
  "language_info": {
   "codemirror_mode": {
    "name": "ipython",
    "version": 3
   },
   "file_extension": ".py",
   "mimetype": "text/x-python",
   "name": "python",
   "nbconvert_exporter": "python",
   "pygments_lexer": "ipython3",
   "version": "3.12.2"
  },
  "toc": {
   "base_numbering": 1,
   "nav_menu": {},
   "number_sections": true,
   "sideBar": true,
   "skip_h1_title": false,
   "title_cell": "Table of Contents",
   "title_sidebar": "Contents",
   "toc_cell": false,
   "toc_position": {},
   "toc_section_display": true,
   "toc_window_display": false
  },
  "vscode": {
   "interpreter": {
    "hash": "31f2aee4e71d21fbe5cf8b01ff0e069b9275f58929596ceb00d14d90e3e16cd6"
   }
  }
 },
 "nbformat": 4,
 "nbformat_minor": 5
}
