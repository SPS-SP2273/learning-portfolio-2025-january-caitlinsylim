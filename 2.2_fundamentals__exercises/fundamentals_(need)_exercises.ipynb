{
 "cells": [
  {
   "attachments": {},
   "cell_type": "markdown",
   "id": "123456",
   "metadata": {},
   "source": [
    "<div style=\"text-align:left;font-size:2em\"><span style=\"font-weight:bolder;font-size:1.25em\">SP2273 | Learning Portfolio</span><br><br><span style=\"font-weight:bold;color:darkred\">Fundamentals (Need) Exercises</span></div>"
   ]
  },
  {
   "cell_type": "markdown",
   "id": "d21de001-c4f2-4962-8f1e-5beb63539435",
   "metadata": {},
   "source": [
    "## Exercise 1 (Total Recall)"
   ]
  },
  {
   "cell_type": "markdown",
   "id": "692829a9-63d9-45d6-afda-f3a00639fb0c",
   "metadata": {},
   "source": [
    "Part 1: From memory: \n",
    "\n",
    "- dictionary {} \n",
    "- array \n",
    "- list [] \n",
    "- loop functions -> if... else \n",
    "- print(\" \") \n",
    "- \"=\" to assign value \n",
    "- \"==\" asking question \n",
    "- import numpy as np\n",
    "\n",
    "*Part 2: Missing list*: \n",
    "\n",
    "- *variables vs values: print(age) vs print(\"age\") -> latter is string so it prints the eng word age* \n",
    "- *( ) used for maths*\n",
    "- *import math -> then can .sqrt*"
   ]
  },
  {
   "cell_type": "markdown",
   "id": "73b92f7b-9fea-43e5-8683-059b0dc01008",
   "metadata": {},
   "source": [
    "## Exercise 2 (Debug me)"
   ]
  },
  {
   "cell_type": "code",
   "execution_count": 14,
   "id": "53c6e8a2-c121-450b-b640-57424268e920",
   "metadata": {},
   "outputs": [
    {
     "name": "stdout",
     "output_type": "stream",
     "text": [
      "3 4 5.0\n"
     ]
    }
   ],
   "source": [
    "import math\n",
    "import numpy as np\n",
    "x, y = 3, 4\n",
    "z = np.round(math.sqrt(x**2 + y**2)) #indentation error\n",
    "print(x, y, z)   #caps P error\n",
    "\n",
    "#how do i remove 5.0 to make it 5? "
   ]
  },
  {
   "cell_type": "markdown",
   "id": "c0346f7a-2aae-48d8-b192-85960c4c744e",
   "metadata": {},
   "source": [
    "## Exercise 3 (In your own words)"
   ]
  },
  {
   "cell_type": "markdown",
   "id": "e75161a0-62ea-4575-9ea0-33de64751874",
   "metadata": {},
   "source": [
    "| #   |  Term  |    Description |\n",
    "| :--- | :--: | ---: |\n",
    "| 1   |  Function  |  does a specific task  |\n",
    "| 2   |  Arguments  |  values we pass to functions when we call it  |\n",
    "| 3   |  Comments  | noted by #, helps keep track of thought process   |\n",
    "| 4  |  Indentations  | using 'tab' to have different spacings before a code. This is needed for functions or loops to run smoothly  |\n",
    "| 5| Packages | different packages have different tools to help solve problems, eg math package has sq rt |\n",
    "| 6   |  .  |  to indicate ownership |\n",
    "| 7   |  :  |  to indicate going to the next line and continuing the function or loop (we use this in functions and loop, eg if x<10:) |\n",
    "| 8   |  []  |  list  |\n",
    "| 9   |  [[],[]]   |   2 lists combining to form 1 bigger list  |\n",
    "| 10 | {} | dictionary|\n"
   ]
  },
  {
   "cell_type": "markdown",
   "id": "f00f7a70-a57e-4f5d-adce-32879f6ce52a",
   "metadata": {},
   "source": [
    "## Exercise 4 (More than 1 way to divide)"
   ]
  },
  {
   "cell_type": "code",
   "execution_count": 15,
   "id": "9ad2babb-eec6-4063-8eb1-f59f13f4e2a7",
   "metadata": {},
   "outputs": [
    {
     "name": "stdout",
     "output_type": "stream",
     "text": [
      "2.5\n",
      "2\n",
      "1\n"
     ]
    }
   ],
   "source": [
    "print(5/2)      #5 divide by 2 = 2.5 \n",
    "print(5//2)     #round to whole number = 2\n",
    "print(5%2)      #gives remainder = 1 "
   ]
  },
  {
   "cell_type": "code",
   "execution_count": null,
   "id": "1ab954ed-6516-4887-97d0-ddb284134c01",
   "metadata": {},
   "outputs": [],
   "source": []
  }
 ],
 "metadata": {
  "kernelspec": {
   "display_name": "Python 3 (ipykernel)",
   "language": "python",
   "name": "python3"
  },
  "language_info": {
   "codemirror_mode": {
    "name": "ipython",
    "version": 3
   },
   "file_extension": ".py",
   "mimetype": "text/x-python",
   "name": "python",
   "nbconvert_exporter": "python",
   "pygments_lexer": "ipython3",
   "version": "3.12.2"
  },
  "toc": {
   "base_numbering": 1,
   "nav_menu": {},
   "number_sections": true,
   "sideBar": true,
   "skip_h1_title": false,
   "title_cell": "Table of Contents",
   "title_sidebar": "Contents",
   "toc_cell": false,
   "toc_position": {},
   "toc_section_display": true,
   "toc_window_display": false
  },
  "vscode": {
   "interpreter": {
    "hash": "31f2aee4e71d21fbe5cf8b01ff0e069b9275f58929596ceb00d14d90e3e16cd6"
   }
  }
 },
 "nbformat": 4,
 "nbformat_minor": 5
}
