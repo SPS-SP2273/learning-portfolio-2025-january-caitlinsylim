{
 "cells": [
  {
   "attachments": {},
   "cell_type": "markdown",
   "id": "123456",
   "metadata": {},
   "source": [
    "<div style=\"text-align:left;font-size:2em\"><span style=\"font-weight:bolder;font-size:1.25em\">SP2273 | Learning Portfolio</span><br><br><span style=\"font-weight:bold;color:darkred\">Storing Data (Need) Exercises</span></div>"
   ]
  },
  {
   "cell_type": "markdown",
   "id": "fcc56442-157b-4757-a913-d316a283df3c",
   "metadata": {},
   "source": [
    "## Reattempt Exercise 4 (ignore)"
   ]
  },
  {
   "cell_type": "code",
   "execution_count": 52,
   "id": "e21c37c8-2e4d-4289-b394-8acc09da7b65",
   "metadata": {},
   "outputs": [],
   "source": [
    "import numpy as np\n",
    "numbers=[45, 60, 1, 30, 96, 1, 96, 57, 16, 1,\n",
    "        99, 62, 86, 43, 42, 60, 59, 1, 1, 35,\n",
    "        83, 47, 34, 28, 68, 23, 22, 92, 1, 79,\n",
    "        1, 29, 94, 72, 46, 47, 1, 74, 32, 20,\n",
    "        8, 37, 35, 1, 89, 29, 86, 19, 43, 61]                  "
   ]
  },
  {
   "cell_type": "code",
   "execution_count": 53,
   "id": "2f644907-46a1-4d27-a0cf-638e28296f67",
   "metadata": {},
   "outputs": [
    {
     "data": {
      "text/plain": [
       "array([45, 60,  1, 30, 96,  1, 96, 57, 16,  1, 99, 62, 86, 43, 42, 60, 59,\n",
       "        1,  1, 35, 83, 47, 34, 28, 68, 23, 22, 92,  1, 79,  1, 29, 94, 72,\n",
       "       46, 47,  1, 74, 32, 20,  8, 37, 35,  1, 89, 29, 86, 19, 43, 61])"
      ]
     },
     "execution_count": 53,
     "metadata": {},
     "output_type": "execute_result"
    }
   ],
   "source": [
    "numbers_array = np.array(numbers)\n",
    "numbers_array"
   ]
  },
  {
   "cell_type": "markdown",
   "id": "d0e8eeb8-c6a3-42d1-b6ec-f09838a2029c",
   "metadata": {},
   "source": [
    "Using sum:"
   ]
  },
  {
   "cell_type": "code",
   "execution_count": 55,
   "id": "3e321385-6836-473a-8c71-6e230408eb8e",
   "metadata": {},
   "outputs": [
    {
     "data": {
      "text/plain": [
       "array([False, False,  True, False, False,  True, False, False, False,\n",
       "        True, False, False, False, False, False, False, False,  True,\n",
       "        True, False, False, False, False, False, False, False, False,\n",
       "       False,  True, False,  True, False, False, False, False, False,\n",
       "        True, False, False, False, False, False, False,  True, False,\n",
       "       False, False, False, False, False])"
      ]
     },
     "execution_count": 55,
     "metadata": {},
     "output_type": "execute_result"
    }
   ],
   "source": [
    "numbers_array <= 1"
   ]
  },
  {
   "cell_type": "code",
   "execution_count": 56,
   "id": "3f747c7f-a971-47b4-a4b8-b53ea54f4652",
   "metadata": {},
   "outputs": [
    {
     "data": {
      "text/plain": [
       "np.int64(9)"
      ]
     },
     "execution_count": 56,
     "metadata": {},
     "output_type": "execute_result"
    }
   ],
   "source": [
    "sum(numbers_array<=1)"
   ]
  },
  {
   "cell_type": "markdown",
   "id": "eb844453-9da0-4600-8f9f-423d585e91b8",
   "metadata": {},
   "source": [
    "Using count: count only applies for lists and NOT arrays! that's why there's error"
   ]
  },
  {
   "cell_type": "code",
   "execution_count": 66,
   "id": "c0017cfe-1125-48c6-b3bc-4e50b68f1de9",
   "metadata": {},
   "outputs": [
    {
     "data": {
      "text/plain": [
       "array([False, False,  True, False, False,  True, False, False, False,\n",
       "        True, False, False, False, False, False, False, False,  True,\n",
       "        True, False, False, False, False, False, False, False, False,\n",
       "       False,  True, False,  True, False, False, False, False, False,\n",
       "        True, False, False, False, False, False, False,  True, False,\n",
       "       False, False, False, False, False])"
      ]
     },
     "execution_count": 66,
     "metadata": {},
     "output_type": "execute_result"
    }
   ],
   "source": [
    "T_F_arrays = numbers_array <= 1\n",
    "T_F_arrays"
   ]
  },
  {
   "cell_type": "code",
   "execution_count": 67,
   "id": "76386ef8-b42f-4c11-ab67-13f46f54b877",
   "metadata": {},
   "outputs": [
    {
     "ename": "AttributeError",
     "evalue": "'numpy.ndarray' object has no attribute 'count'",
     "output_type": "error",
     "traceback": [
      "\u001b[0;31m---------------------------------------------------------------------------\u001b[0m",
      "\u001b[0;31mAttributeError\u001b[0m                            Traceback (most recent call last)",
      "Cell \u001b[0;32mIn[67], line 1\u001b[0m\n\u001b[0;32m----> 1\u001b[0m \u001b[43m(\u001b[49m\u001b[43mT_F_arrays\u001b[49m\u001b[43m)\u001b[49m\u001b[38;5;241;43m.\u001b[39;49m\u001b[43mcount\u001b[49m(\u001b[38;5;241m1\u001b[39m)\n",
      "\u001b[0;31mAttributeError\u001b[0m: 'numpy.ndarray' object has no attribute 'count'"
     ]
    }
   ],
   "source": [
    "(T_F_arrays).count(1)"
   ]
  },
  {
   "cell_type": "code",
   "execution_count": 69,
   "id": "847400be-8df2-41f5-a0ba-dabd14520308",
   "metadata": {},
   "outputs": [
    {
     "data": {
      "text/plain": [
       "9"
      ]
     },
     "execution_count": 69,
     "metadata": {},
     "output_type": "execute_result"
    }
   ],
   "source": [
    "numbers_testing_count = [45, 60, 1, 30, 96, 1, 96, 57, 16, 1,\n",
    "        99, 62, 86, 43, 42, 60, 59, 1, 1, 35,\n",
    "        83, 47, 34, 28, 68, 23, 22, 92, 1, 79,\n",
    "        1, 29, 94, 72, 46, 47, 1, 74, 32, 20,\n",
    "        8, 37, 35, 1, 89, 29, 86, 19, 43, 61]\n",
    "\n",
    "number_of_ones_testing_count = numbers_testing_count.count(1)\n",
    "number_of_ones_testing_count"
   ]
  },
  {
   "cell_type": "markdown",
   "id": "b4ecb4a3-964f-40a0-be9c-62c57cb36297",
   "metadata": {},
   "source": [
    "Using masking"
   ]
  },
  {
   "cell_type": "code",
   "execution_count": 42,
   "id": "e1a2f58a-e416-4d71-8d00-4d4638f46120",
   "metadata": {},
   "outputs": [
    {
     "data": {
      "text/plain": [
       "array([1, 1, 1, 1, 1, 1, 1, 1, 1])"
      ]
     },
     "execution_count": 42,
     "metadata": {},
     "output_type": "execute_result"
    }
   ],
   "source": [
    "mask = numbers_array <= 1\n",
    "numbers_array[mask]"
   ]
  },
  {
   "cell_type": "code",
   "execution_count": 44,
   "id": "24dcb2a8-a4cf-4f12-9341-53540052484e",
   "metadata": {},
   "outputs": [
    {
     "data": {
      "text/plain": [
       "9"
      ]
     },
     "execution_count": 44,
     "metadata": {},
     "output_type": "execute_result"
    }
   ],
   "source": [
    "len(numbers_array[mask])"
   ]
  },
  {
   "cell_type": "markdown",
   "id": "baa519f7-888b-4407-b3ea-a4b883b405a6",
   "metadata": {},
   "source": [
    "## Reattempt Exercise 5 (ignore)"
   ]
  },
  {
   "cell_type": "code",
   "execution_count": 10,
   "id": "9613211a-4f56-4276-b95f-9ae81bb53b1c",
   "metadata": {},
   "outputs": [],
   "source": [
    "import numpy as np\n",
    "x_1 = [1, 4, 9, 16, 25, 36, 49, 64, 81, 100]\n",
    "x_2 = [1, 8, 27, 64, 125, 216, 343, 512, 729, 1000]"
   ]
  },
  {
   "cell_type": "markdown",
   "id": "52fa0c51-f69c-4ea4-a344-4a0a1d88b1b2",
   "metadata": {},
   "source": [
    "### Means of X1 and X2"
   ]
  },
  {
   "cell_type": "code",
   "execution_count": 11,
   "id": "6d95214b-7f2a-4fad-b8fb-1b1f788abd0f",
   "metadata": {},
   "outputs": [],
   "source": [
    "x_1_array = np.array(x_1)\n",
    "x_2_array = np.array(x_2)\n",
    "\n",
    "x_1_mean = np.mean(x_1_array)\n",
    "x_2_mean = np.mean(x_2_array)"
   ]
  },
  {
   "cell_type": "code",
   "execution_count": 12,
   "id": "59969ef2-5e05-4c81-abc4-f38b5d74fa06",
   "metadata": {},
   "outputs": [
    {
     "data": {
      "text/plain": [
       "np.float64(38.5)"
      ]
     },
     "execution_count": 12,
     "metadata": {},
     "output_type": "execute_result"
    }
   ],
   "source": [
    "x_1_mean"
   ]
  },
  {
   "cell_type": "code",
   "execution_count": 13,
   "id": "1f2f38b9-6bc1-44c4-bcf1-3d86eaed2f6e",
   "metadata": {},
   "outputs": [
    {
     "data": {
      "text/plain": [
       "np.float64(302.5)"
      ]
     },
     "execution_count": 13,
     "metadata": {},
     "output_type": "execute_result"
    }
   ],
   "source": [
    "x_2_mean"
   ]
  },
  {
   "cell_type": "markdown",
   "id": "042fb268-5d22-4a55-b334-816b0239e7ff",
   "metadata": {},
   "source": [
    "### SD of X1 and X2"
   ]
  },
  {
   "cell_type": "code",
   "execution_count": 14,
   "id": "2d3b16c2-3938-46b4-8b80-d6627fc32408",
   "metadata": {},
   "outputs": [],
   "source": [
    "x_1_sd = np.std(x_1_array)\n",
    "x_2_sd = np.std(x_2_array)"
   ]
  },
  {
   "cell_type": "code",
   "execution_count": 15,
   "id": "e8bfc250-3b68-4f14-85ed-30c40cfd83d7",
   "metadata": {},
   "outputs": [
    {
     "data": {
      "text/plain": [
       "np.float64(32.41990129534635)"
      ]
     },
     "execution_count": 15,
     "metadata": {},
     "output_type": "execute_result"
    }
   ],
   "source": [
    "x_1_sd"
   ]
  },
  {
   "cell_type": "code",
   "execution_count": 16,
   "id": "1749038c-e187-466b-805b-4917181389d9",
   "metadata": {},
   "outputs": [
    {
     "data": {
      "text/plain": [
       "np.float64(326.0893282522444)"
      ]
     },
     "execution_count": 16,
     "metadata": {},
     "output_type": "execute_result"
    }
   ],
   "source": [
    "x_2_sd"
   ]
  },
  {
   "cell_type": "markdown",
   "id": "e23176ba-6485-4a70-b075-b2ca522d9d4e",
   "metadata": {},
   "source": [
    "### Pearson Correlation"
   ]
  },
  {
   "cell_type": "markdown",
   "id": "3d08ba77-6c21-4bf5-a320-869d984bafb8",
   "metadata": {},
   "source": [
    "#### Calculating numerator"
   ]
  },
  {
   "cell_type": "code",
   "execution_count": 39,
   "id": "defa2d63-361d-4275-b907-990a015b855c",
   "metadata": {},
   "outputs": [
    {
     "data": {
      "text/plain": [
       "array([-37.5, -34.5, -29.5, -22.5, -13.5,  -2.5,  10.5,  25.5,  42.5,\n",
       "        61.5])"
      ]
     },
     "execution_count": 39,
     "metadata": {},
     "output_type": "execute_result"
    }
   ],
   "source": [
    "numerator_x1 = (x_1_array - x_1_mean)\n",
    "numerator_x1 "
   ]
  },
  {
   "cell_type": "code",
   "execution_count": 40,
   "id": "1610e075-f541-4ee0-a11b-70cc1c14204b",
   "metadata": {},
   "outputs": [
    {
     "data": {
      "text/plain": [
       "array([-301.5, -294.5, -275.5, -238.5, -177.5,  -86.5,   40.5,  209.5,\n",
       "        426.5,  697.5])"
      ]
     },
     "execution_count": 40,
     "metadata": {},
     "output_type": "execute_result"
    }
   ],
   "source": [
    "numerator_x2 = (x_2_array - x_2_mean)\n",
    "numerator_x2"
   ]
  },
  {
   "cell_type": "code",
   "execution_count": 44,
   "id": "30ec4c1f-afac-4618-ba43-be26980ad2e8",
   "metadata": {},
   "outputs": [
    {
     "data": {
      "text/plain": [
       "np.float64(104362.5)"
      ]
     },
     "execution_count": 44,
     "metadata": {},
     "output_type": "execute_result"
    }
   ],
   "source": [
    "sum(numerator_x1 * numerator_x2)"
   ]
  },
  {
   "cell_type": "markdown",
   "id": "09faf78e-ca8d-45ab-8bd0-bbf4e8a907f3",
   "metadata": {},
   "source": [
    "#### Calculating denominator "
   ]
  },
  {
   "cell_type": "code",
   "execution_count": 45,
   "id": "f3bf321a-9567-432b-9867-a927b53ec800",
   "metadata": {},
   "outputs": [
    {
     "data": {
      "text/plain": [
       "np.float64(10510.5)"
      ]
     },
     "execution_count": 45,
     "metadata": {},
     "output_type": "execute_result"
    }
   ],
   "source": [
    "denominator_x1 = (x_1_array - x_1_mean)**2\n",
    "sum(denominator_x1)"
   ]
  },
  {
   "cell_type": "code",
   "execution_count": 46,
   "id": "cdef553e-752d-41ee-84f6-f0a7cbfb3be4",
   "metadata": {},
   "outputs": [
    {
     "data": {
      "text/plain": [
       "np.float64(1063342.5)"
      ]
     },
     "execution_count": 46,
     "metadata": {},
     "output_type": "execute_result"
    }
   ],
   "source": [
    "denominator_x2 = (x_2_array - x_2_mean)**2\n",
    "sum(denominator_x2)"
   ]
  },
  {
   "cell_type": "code",
   "execution_count": 47,
   "id": "59b4ab65-6c6f-4071-8321-8a52b2ef03dc",
   "metadata": {},
   "outputs": [
    {
     "data": {
      "text/plain": [
       "np.float64(105717.8383540356)"
      ]
     },
     "execution_count": 47,
     "metadata": {},
     "output_type": "execute_result"
    }
   ],
   "source": [
    "np.sqrt(sum(denominator_x1)*sum(denominator_x2))"
   ]
  },
  {
   "cell_type": "markdown",
   "id": "eaa418c7-7bc8-4afa-9a5b-4a1c572ea256",
   "metadata": {},
   "source": [
    "#### Calculating pearson correlation coefficient"
   ]
  },
  {
   "cell_type": "code",
   "execution_count": 48,
   "id": "4f02b0f9-1286-4578-b4cd-92b5c5b229cc",
   "metadata": {},
   "outputs": [
    {
     "data": {
      "text/plain": [
       "0.9871796626270701"
      ]
     },
     "execution_count": 48,
     "metadata": {},
     "output_type": "execute_result"
    }
   ],
   "source": [
    "104362.5 / 105717.8383540356"
   ]
  },
  {
   "cell_type": "code",
   "execution_count": 41,
   "id": "1c0e6d17-e5c4-48d9-bbe8-8ab4ae0a6246",
   "metadata": {},
   "outputs": [
    {
     "data": {
      "text/plain": [
       "array([[1.        , 0.98717966],\n",
       "       [0.98717966, 1.        ]])"
      ]
     },
     "execution_count": 41,
     "metadata": {},
     "output_type": "execute_result"
    }
   ],
   "source": [
    "np.corrcoef(x_1_array, x_2_array)"
   ]
  },
  {
   "cell_type": "markdown",
   "id": "1602efba-80b5-4899-b050-4c58be327024",
   "metadata": {},
   "source": [
    "## Exercise 1 - Total Recall"
   ]
  },
  {
   "cell_type": "markdown",
   "id": "17609051-d8b2-4e2e-82cf-8e1df56e0bea",
   "metadata": {},
   "source": [
    "Similarity 1: List and Arrays: They can both hold lots of items"
   ]
  },
  {
   "cell_type": "markdown",
   "id": "1294a599-e7e5-46eb-8232-00720fd12365",
   "metadata": {},
   "source": [
    "Similarity 2: List and Arrays: .append can be used for both "
   ]
  },
  {
   "cell_type": "markdown",
   "id": "931bd161-7248-447f-a3ae-6d9eb4aa8212",
   "metadata": {},
   "source": [
    "Difference 1: List vs Arrays: List holds different types of items, eg string and int; but arrays only hold one type of item, eg only string or int "
   ]
  },
  {
   "cell_type": "markdown",
   "id": "1aa25472-feb0-4e61-a5c5-383e0b930f7e",
   "metadata": {},
   "source": [
    "Difference 2: When mathematical operations are applied to list (eg when multiplying), it grows because of concetenation. But for arrays, the math operation is applied as it is in math to every element. \n",
    "\n",
    "eg: mylist = [1,2,3]*2 becomes [1,2,3,1,2,3]\n",
    "but myarray = array([1,2,3])*2 becomes array([2,4,6])"
   ]
  },
  {
   "cell_type": "markdown",
   "id": "b23f6c9f-491b-406d-9736-44e406c1eb8c",
   "metadata": {},
   "source": [
    "What is a dictionary? : It holds items like list and array, but we use { } and it is key: value. We can retrieve keys and values separately and conveniently"
   ]
  },
  {
   "cell_type": "markdown",
   "id": "566c1e7c-bfe7-49d1-9628-4ee8d5d1214b",
   "metadata": {},
   "source": [
    "## Exercise 2 (Indexing)"
   ]
  },
  {
   "cell_type": "markdown",
   "id": "3e0db7dd-3ff7-4c45-9b23-648f25cc9ab8",
   "metadata": {},
   "source": [
    "Modify the following code to print out all elements with an odd number."
   ]
  },
  {
   "cell_type": "code",
   "execution_count": 1,
   "id": "0ceeb0e5-771f-4db0-bd50-862155b09bf0",
   "metadata": {},
   "outputs": [
    {
     "name": "stdout",
     "output_type": "stream",
     "text": [
      "i9\n"
     ]
    }
   ],
   "source": [
    "py_list = [\"a1\", \"b2\", \"c3\", \"d4\", \"e5\", \"f6\", \"g7\", \"h8\", \"i9\", \"j10\"]\n",
    "                    # Prints 'a1'\n",
    "                    # Prints 'c3'\n",
    "                    # Prints 'e5'\n",
    "                    # Prints 'g7'\n",
    "print(py_list[8])   # Prints 'i9'"
   ]
  },
  {
   "cell_type": "code",
   "execution_count": 4,
   "id": "e4c10333-eb87-4ef9-8076-7b9658827334",
   "metadata": {},
   "outputs": [
    {
     "name": "stdout",
     "output_type": "stream",
     "text": [
      "['a1', 'c3', 'e5', 'g7', 'i9']\n"
     ]
    }
   ],
   "source": [
    "print(py_list[0::2])"
   ]
  },
  {
   "cell_type": "markdown",
   "id": "e59764b7-4130-4eef-a3ab-7f04d4654a27",
   "metadata": {},
   "source": [
    "## Exercise 3 (Index Again) "
   ]
  },
  {
   "cell_type": "markdown",
   "id": "74e9e453-6036-4aad-bd85-07395e861031",
   "metadata": {},
   "source": [
    "Given the following list in Python\n",
    "- Access and print the element at index 4 using forward indexing.\n",
    "- Access and print the element at index 4 from the end of the list using reverse indexing."
   ]
  },
  {
   "cell_type": "code",
   "execution_count": 5,
   "id": "c826cd78-7fba-4695-92e4-c3a4a25bf9dd",
   "metadata": {},
   "outputs": [],
   "source": [
    "elements = ['Hydrogen',\n",
    "            'Helium', 'Lithium',\n",
    "            'Beryllium', 'Boron', 'Carbon',\n",
    "            'Nitrogen', 'Oxygen',\n",
    "            'Fluorine',\n",
    "            'Neon']"
   ]
  },
  {
   "cell_type": "code",
   "execution_count": 6,
   "id": "70bee121-9f1f-452c-88bd-91635975fb89",
   "metadata": {},
   "outputs": [
    {
     "name": "stdout",
     "output_type": "stream",
     "text": [
      "Boron\n"
     ]
    }
   ],
   "source": [
    "print(elements[4])"
   ]
  },
  {
   "cell_type": "code",
   "execution_count": 6,
   "id": "d570aee3-5688-4410-a269-dbc01ae9aeb0",
   "metadata": {},
   "outputs": [
    {
     "name": "stdout",
     "output_type": "stream",
     "text": [
      "Nitrogen\n"
     ]
    }
   ],
   "source": [
    "print(elements[-4])"
   ]
  },
  {
   "cell_type": "markdown",
   "id": "332c4ca3-79a8-452c-8fe2-e5a671319bcf",
   "metadata": {},
   "source": [
    "## Exercise 4 (How many ones)"
   ]
  },
  {
   "cell_type": "markdown",
   "id": "4a54f19f-0ad0-4194-ac0e-d56779d3b2b2",
   "metadata": {},
   "source": [
    "Use the concepts you learned in this chapter to determine the number of 1’s in the following list of numbers."
   ]
  },
  {
   "cell_type": "code",
   "execution_count": 2,
   "id": "8388ec10-7e57-4d07-bd92-8ca2c97523e9",
   "metadata": {},
   "outputs": [],
   "source": [
    "import numpy as np \n",
    "\n",
    "numbers=[45, 60, 1, 30, 96, 1, 96, 57, 16, 1,\n",
    "        99, 62, 86, 43, 42, 60, 59, 1, 1, 35,\n",
    "        83, 47, 34, 28, 68, 23, 22, 92, 1, 79,\n",
    "        1, 29, 94, 72, 46, 47, 1, 74, 32, 20,\n",
    "        8, 37, 35, 1, 89, 29, 86, 19, 43, 61] \n",
    "\n",
    "np_numbers = np.array(numbers)\n",
    "number_of_ones = sum((np_numbers == 1))"
   ]
  },
  {
   "cell_type": "code",
   "execution_count": 3,
   "id": "23aef6f0-d1db-4132-a93b-e98b28087d82",
   "metadata": {},
   "outputs": [
    {
     "name": "stdout",
     "output_type": "stream",
     "text": [
      "The number of 1's here equal 9\n"
     ]
    }
   ],
   "source": [
    "print(f\"The number of 1's here equal {number_of_ones}\") "
   ]
  },
  {
   "cell_type": "code",
   "execution_count": 4,
   "id": "8901d570-f532-4d93-9748-e57ed64941e4",
   "metadata": {},
   "outputs": [
    {
     "name": "stdout",
     "output_type": "stream",
     "text": [
      "The number of 1's here equal 9\n"
     ]
    }
   ],
   "source": [
    "# can you use .count? eg: \n",
    "\n",
    "numbers_testing_count = [45, 60, 1, 30, 96, 1, 96, 57, 16, 1,\n",
    "        99, 62, 86, 43, 42, 60, 59, 1, 1, 35,\n",
    "        83, 47, 34, 28, 68, 23, 22, 92, 1, 79,\n",
    "        1, 29, 94, 72, 46, 47, 1, 74, 32, 20,\n",
    "        8, 37, 35, 1, 89, 29, 86, 19, 43, 61]\n",
    "\n",
    "number_of_ones_testing_count = numbers_testing_count.count(1)\n",
    "\n",
    "print(f\"The number of 1's here equal {number_of_ones_testing_count}\") "
   ]
  },
  {
   "cell_type": "markdown",
   "id": "a09aed3a-39d3-457c-9da5-ae79c1f78a5c",
   "metadata": {},
   "source": [
    "## Exercise 5 (A Matter of Statistics)"
   ]
  },
  {
   "cell_type": "markdown",
   "id": "d9bc5625-044f-42a6-8e87-bfef15222f46",
   "metadata": {},
   "source": [
    "Using NumPy:\n",
    "\n",
    "- Determine the means of x1 and x2\n",
    "- Determine the standard deviations of x1 and x2 \n",
    "- Determine the Pearson correlation coefficient r for the two datasets. Don’t use np.corrcoef()!\n",
    "- Compare your results to np.corrcoef()."
   ]
  },
  {
   "cell_type": "code",
   "execution_count": 2,
   "id": "ef872838-b658-4038-a100-60bb19217d4e",
   "metadata": {},
   "outputs": [],
   "source": [
    "import numpy as np\n",
    "x_1 = [1, 4, 9, 16, 25, 36, 49, 64, 81, 100]\n",
    "x_2 = [1, 8, 27, 64, 125, 216, 343, 512, 729, 1000]"
   ]
  },
  {
   "cell_type": "code",
   "execution_count": 14,
   "id": "cea8b780-57c5-45ad-a9af-5c2e35cc602a",
   "metadata": {},
   "outputs": [
    {
     "name": "stdout",
     "output_type": "stream",
     "text": [
      "The mean of x1 is 38.5\n",
      "The mean of x2 is 302.5\n"
     ]
    }
   ],
   "source": [
    "# Means of x1 and x2\n",
    "\n",
    "mean_x_1 = np.mean(x_1)\n",
    "print(f\"The mean of x1 is {mean_x_1}\")\n",
    "\n",
    "mean_x_2 = np.mean(x_2)\n",
    "print(f\"The mean of x2 is {mean_x_2}\")"
   ]
  },
  {
   "cell_type": "code",
   "execution_count": 15,
   "id": "8196bf74-7bd5-4579-a780-28cfe2b22845",
   "metadata": {},
   "outputs": [
    {
     "name": "stdout",
     "output_type": "stream",
     "text": [
      "The SD of x1 is 32.41990129534635\n",
      "The SD of x2 is 326.0893282522444\n"
     ]
    }
   ],
   "source": [
    "# SD of x1 and x2\n",
    "\n",
    "SD_x_1 = np.std(x_1)\n",
    "print(f\"The SD of x1 is {SD_x_1}\")\n",
    "\n",
    "SD_x_2 = np.std(x_2)\n",
    "print(f\"The SD of x2 is {SD_x_2}\")"
   ]
  },
  {
   "cell_type": "code",
   "execution_count": 57,
   "id": "70ead926-80c4-4288-a863-ee989c2b910a",
   "metadata": {},
   "outputs": [
    {
     "name": "stdout",
     "output_type": "stream",
     "text": [
      "0.9871796626270701\n"
     ]
    }
   ],
   "source": [
    "x_1_array = np.array(x_1)\n",
    "# x_2_array = np.array\n",
    "\n",
    "x_2_array = np.array(x_2)\n",
    "\n",
    "difference_x1 = x_1_array - mean_x_1\n",
    "\n",
    "difference_x2 = x_2_array - mean_x_2\n",
    "\n",
    "sum_differences_num = difference_x1 * difference_x2\n",
    "\n",
    "sum_differences.sum()\n",
    "\n",
    "denom_x1 = (difference_x1)**2\n",
    "denom_x2 = (difference_x2)**2\n",
    "\n",
    "total_denom = denom_x1.sum() * denom_x2.sum()\n",
    "\n",
    "total_denom.sum()**0.5 \n",
    "\n",
    "# for sqrt, do np.sqrt\n",
    "\n",
    "correlation_coeff = sum_differences.sum() / total_denom.sum()**0.5\n",
    "\n",
    "print(correlation_coeff)"
   ]
  },
  {
   "cell_type": "code",
   "execution_count": 25,
   "id": "0be4db54-8c75-43b7-bb68-92bd03cb2204",
   "metadata": {},
   "outputs": [
    {
     "name": "stdout",
     "output_type": "stream",
     "text": [
      "[[  1167.83333333  11595.83333333]\n",
      " [ 11595.83333333 118149.16666667]]\n",
      "The covariance is 11595.833333333332\n",
      "The correlation is 1.0968662918078558\n"
     ]
    }
   ],
   "source": [
    "# IGNORE\n",
    "\n",
    "# Pearson correlation coefficient r for the two datasets: \n",
    "\n",
    "#finding covariance first\n",
    "\n",
    "covariance_x1x2 = np.cov(x_1, x_2)\n",
    "print(covariance_x1x2) #gives you 4 values bcos it's the cov matrix\n",
    "print(f\"The covariance is {covariance_x1x2[0,1]}\") #extract covariance value, between x1 and x2 \n",
    "\n",
    "#finding correlation\n",
    "\n",
    "correlation = (11595.833333333332 / (32.41990129534635*326.0893282522444)) \n",
    "print(f\"The correlation is {correlation}\")"
   ]
  },
  {
   "cell_type": "code",
   "execution_count": 6,
   "id": "1234326b-cdbb-49e7-9f80-5807568216eb",
   "metadata": {},
   "outputs": [
    {
     "name": "stdout",
     "output_type": "stream",
     "text": [
      "The correlation is [[1.         0.98717966]\n",
      " [0.98717966 1.        ]]\n"
     ]
    }
   ],
   "source": [
    "# Compare your results to np.corrcoef(). \n",
    "\n",
    "correlation_x1_x2 = np.corrcoef(x_1, x_2)\n",
    "\n",
    "print(f\"The correlation is {correlation_x1_x2}\")"
   ]
  }
 ],
 "metadata": {
  "kernelspec": {
   "display_name": "Python 3 (ipykernel)",
   "language": "python",
   "name": "python3"
  },
  "language_info": {
   "codemirror_mode": {
    "name": "ipython",
    "version": 3
   },
   "file_extension": ".py",
   "mimetype": "text/x-python",
   "name": "python",
   "nbconvert_exporter": "python",
   "pygments_lexer": "ipython3",
   "version": "3.12.2"
  },
  "toc": {
   "base_numbering": 1,
   "nav_menu": {},
   "number_sections": true,
   "sideBar": true,
   "skip_h1_title": false,
   "title_cell": "Table of Contents",
   "title_sidebar": "Contents",
   "toc_cell": false,
   "toc_position": {},
   "toc_section_display": true,
   "toc_window_display": false
  },
  "vscode": {
   "interpreter": {
    "hash": "31f2aee4e71d21fbe5cf8b01ff0e069b9275f58929596ceb00d14d90e3e16cd6"
   }
  }
 },
 "nbformat": 4,
 "nbformat_minor": 5
}
