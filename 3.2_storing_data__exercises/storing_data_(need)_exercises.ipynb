{
 "cells": [
  {
   "attachments": {},
   "cell_type": "markdown",
   "id": "123456",
   "metadata": {},
   "source": [
    "<div style=\"text-align:left;font-size:2em\"><span style=\"font-weight:bolder;font-size:1.25em\">SP2273 | Learning Portfolio</span><br><br><span style=\"font-weight:bold;color:darkred\">Storing Data (Need) Exercises</span></div>"
   ]
  },
  {
   "cell_type": "markdown",
   "id": "1602efba-80b5-4899-b050-4c58be327024",
   "metadata": {},
   "source": [
    "## Exercise 1 - Total Recall"
   ]
  },
  {
   "cell_type": "markdown",
   "id": "17609051-d8b2-4e2e-82cf-8e1df56e0bea",
   "metadata": {},
   "source": [
    "Similarity 1: List and Arrays: They can both hold lots of items"
   ]
  },
  {
   "cell_type": "markdown",
   "id": "1294a599-e7e5-46eb-8232-00720fd12365",
   "metadata": {},
   "source": [
    "Similarity 2: List and Arrays: .append can be used for both "
   ]
  },
  {
   "cell_type": "markdown",
   "id": "931bd161-7248-447f-a3ae-6d9eb4aa8212",
   "metadata": {},
   "source": [
    "Difference 1: List vs Arrays: List holds different types of items, eg string and int; but arrays only hold one type of item, eg only string or int "
   ]
  },
  {
   "cell_type": "markdown",
   "id": "1aa25472-feb0-4e61-a5c5-383e0b930f7e",
   "metadata": {},
   "source": [
    "Difference 2: List vs Arrays: to use array, need to import numpy as np; but list doesn't require this"
   ]
  },
  {
   "cell_type": "markdown",
   "id": "b23f6c9f-491b-406d-9736-44e406c1eb8c",
   "metadata": {},
   "source": [
    "What is a dictionary? : It holds items like list and array, but we use { } and it is key: value. We can retrieve keys and values separately and conveniently"
   ]
  },
  {
   "cell_type": "markdown",
   "id": "566c1e7c-bfe7-49d1-9628-4ee8d5d1214b",
   "metadata": {},
   "source": [
    "## Exercise 2 (Indexing)"
   ]
  },
  {
   "cell_type": "markdown",
   "id": "3e0db7dd-3ff7-4c45-9b23-648f25cc9ab8",
   "metadata": {},
   "source": [
    "Modify the following code to print out all elements with an odd number."
   ]
  },
  {
   "cell_type": "code",
   "execution_count": 2,
   "id": "0ceeb0e5-771f-4db0-bd50-862155b09bf0",
   "metadata": {},
   "outputs": [
    {
     "name": "stdout",
     "output_type": "stream",
     "text": [
      "i9\n"
     ]
    }
   ],
   "source": [
    "py_list = [\"a1\", \"b2\", \"c3\", \"d4\", \"e5\", \"f6\", \"g7\", \"h8\", \"i9\", \"j10\"]\n",
    "                    # Prints 'a1'\n",
    "                    # Prints 'c3'\n",
    "                    # Prints 'e5'\n",
    "                    # Prints 'g7'\n",
    "print(py_list[8])   # Prints 'i9'"
   ]
  },
  {
   "cell_type": "code",
   "execution_count": 4,
   "id": "e4c10333-eb87-4ef9-8076-7b9658827334",
   "metadata": {},
   "outputs": [
    {
     "name": "stdout",
     "output_type": "stream",
     "text": [
      "['a1', 'c3', 'e5', 'g7', 'i9']\n"
     ]
    }
   ],
   "source": [
    "print(py_list[0::2])"
   ]
  },
  {
   "cell_type": "markdown",
   "id": "e59764b7-4130-4eef-a3ab-7f04d4654a27",
   "metadata": {},
   "source": [
    "## Exercise 3 (Index Again) "
   ]
  },
  {
   "cell_type": "markdown",
   "id": "74e9e453-6036-4aad-bd85-07395e861031",
   "metadata": {},
   "source": [
    "Given the following list in Python\n",
    "- Access and print the element at index 4 using forward indexing.\n",
    "- Access and print the element at index 4 from the end of the list using reverse indexing."
   ]
  },
  {
   "cell_type": "code",
   "execution_count": 5,
   "id": "c826cd78-7fba-4695-92e4-c3a4a25bf9dd",
   "metadata": {},
   "outputs": [],
   "source": [
    "elements = ['Hydrogen',\n",
    "            'Helium', 'Lithium',\n",
    "            'Beryllium', 'Boron', 'Carbon',\n",
    "            'Nitrogen', 'Oxygen',\n",
    "            'Fluorine',\n",
    "            'Neon']"
   ]
  },
  {
   "cell_type": "code",
   "execution_count": 6,
   "id": "70bee121-9f1f-452c-88bd-91635975fb89",
   "metadata": {},
   "outputs": [
    {
     "name": "stdout",
     "output_type": "stream",
     "text": [
      "Boron\n"
     ]
    }
   ],
   "source": [
    "print(elements[4])"
   ]
  },
  {
   "cell_type": "code",
   "execution_count": 7,
   "id": "d570aee3-5688-4410-a269-dbc01ae9aeb0",
   "metadata": {},
   "outputs": [
    {
     "name": "stdout",
     "output_type": "stream",
     "text": [
      "Boron\n"
     ]
    }
   ],
   "source": [
    "print(elements[-6])"
   ]
  },
  {
   "cell_type": "markdown",
   "id": "332c4ca3-79a8-452c-8fe2-e5a671319bcf",
   "metadata": {},
   "source": [
    "## Exercise 4 (How many ones)"
   ]
  },
  {
   "cell_type": "markdown",
   "id": "4a54f19f-0ad0-4194-ac0e-d56779d3b2b2",
   "metadata": {},
   "source": [
    "Use the concepts you learned in this chapter to determine the number of 1’s in the following list of numbers."
   ]
  },
  {
   "cell_type": "code",
   "execution_count": 2,
   "id": "8388ec10-7e57-4d07-bd92-8ca2c97523e9",
   "metadata": {},
   "outputs": [],
   "source": [
    "import numpy as np \n",
    "\n",
    "numbers=[45, 60, 1, 30, 96, 1, 96, 57, 16, 1,\n",
    "        99, 62, 86, 43, 42, 60, 59, 1, 1, 35,\n",
    "        83, 47, 34, 28, 68, 23, 22, 92, 1, 79,\n",
    "        1, 29, 94, 72, 46, 47, 1, 74, 32, 20,\n",
    "        8, 37, 35, 1, 89, 29, 86, 19, 43, 61] \n",
    "\n",
    "np_numbers = np.array(numbers)\n",
    "number_of_ones = sum((np_numbers == 1))"
   ]
  },
  {
   "cell_type": "code",
   "execution_count": 3,
   "id": "23aef6f0-d1db-4132-a93b-e98b28087d82",
   "metadata": {},
   "outputs": [
    {
     "name": "stdout",
     "output_type": "stream",
     "text": [
      "The number of 1's here equal 9\n"
     ]
    }
   ],
   "source": [
    "print(f\"The number of 1's here equal {number_of_ones}\") "
   ]
  },
  {
   "cell_type": "code",
   "execution_count": 4,
   "id": "8901d570-f532-4d93-9748-e57ed64941e4",
   "metadata": {},
   "outputs": [
    {
     "name": "stdout",
     "output_type": "stream",
     "text": [
      "The number of 1's here equal 9\n"
     ]
    }
   ],
   "source": [
    "# can you use .count? eg: \n",
    "\n",
    "numbers_testing_count = [45, 60, 1, 30, 96, 1, 96, 57, 16, 1,\n",
    "        99, 62, 86, 43, 42, 60, 59, 1, 1, 35,\n",
    "        83, 47, 34, 28, 68, 23, 22, 92, 1, 79,\n",
    "        1, 29, 94, 72, 46, 47, 1, 74, 32, 20,\n",
    "        8, 37, 35, 1, 89, 29, 86, 19, 43, 61]\n",
    "\n",
    "number_of_ones_testing_count = numbers_testing_count.count(1)\n",
    "\n",
    "print(f\"The number of 1's here equal {number_of_ones_testing_count}\") "
   ]
  },
  {
   "cell_type": "markdown",
   "id": "a09aed3a-39d3-457c-9da5-ae79c1f78a5c",
   "metadata": {},
   "source": [
    "## Exercise 5 (A Matter of Statistics)"
   ]
  },
  {
   "cell_type": "markdown",
   "id": "d9bc5625-044f-42a6-8e87-bfef15222f46",
   "metadata": {},
   "source": [
    "Using NumPy:\n",
    "\n",
    "- Determine the means of x1 and x2\n",
    "- Determine the standard deviations of x1 and x2 \n",
    "- Determine the Pearson correlation coefficient r for the two datasets. Don’t use np.corrcoef()!\n",
    "- Compare your results to np.corrcoef()."
   ]
  },
  {
   "cell_type": "code",
   "execution_count": 2,
   "id": "ef872838-b658-4038-a100-60bb19217d4e",
   "metadata": {},
   "outputs": [],
   "source": [
    "import numpy as np\n",
    "x_1 = [1, 4, 9, 16, 25, 36, 49, 64, 81, 100]\n",
    "x_2 = [1, 8, 27, 64, 125, 216, 343, 512, 729, 1000]"
   ]
  },
  {
   "cell_type": "code",
   "execution_count": 14,
   "id": "cea8b780-57c5-45ad-a9af-5c2e35cc602a",
   "metadata": {},
   "outputs": [
    {
     "name": "stdout",
     "output_type": "stream",
     "text": [
      "The mean of x1 is 38.5\n",
      "The mean of x2 is 302.5\n"
     ]
    }
   ],
   "source": [
    "# Means of x1 and x2\n",
    "\n",
    "mean_x_1 = np.mean(x_1)\n",
    "print(f\"The mean of x1 is {mean_x_1}\")\n",
    "\n",
    "mean_x_2 = np.mean(x_2)\n",
    "print(f\"The mean of x2 is {mean_x_2}\")"
   ]
  },
  {
   "cell_type": "code",
   "execution_count": 15,
   "id": "8196bf74-7bd5-4579-a780-28cfe2b22845",
   "metadata": {},
   "outputs": [
    {
     "name": "stdout",
     "output_type": "stream",
     "text": [
      "The SD of x1 is 32.41990129534635\n",
      "The SD of x2 is 326.0893282522444\n"
     ]
    }
   ],
   "source": [
    "# SD of x1 and x2\n",
    "\n",
    "SD_x_1 = np.std(x_1)\n",
    "print(f\"The SD of x1 is {SD_x_1}\")\n",
    "\n",
    "SD_x_2 = np.std(x_2)\n",
    "print(f\"The SD of x2 is {SD_x_2}\")"
   ]
  },
  {
   "cell_type": "code",
   "execution_count": 57,
   "id": "70ead926-80c4-4288-a863-ee989c2b910a",
   "metadata": {},
   "outputs": [
    {
     "name": "stdout",
     "output_type": "stream",
     "text": [
      "0.9871796626270701\n"
     ]
    }
   ],
   "source": [
    "x_1_array = np.array(x_1)\n",
    "# x_2_array = np.array\n",
    "\n",
    "x_2_array = np.array(x_2)\n",
    "\n",
    "difference_x1 = x_1_array - mean_x_1\n",
    "\n",
    "difference_x2 = x_2_array - mean_x_2\n",
    "\n",
    "sum_differences_num = difference_x1 * difference_x2\n",
    "\n",
    "sum_differences.sum()\n",
    "\n",
    "denom_x1 = (difference_x1)**2\n",
    "denom_x2 = (difference_x2)**2\n",
    "\n",
    "total_denom = denom_x1.sum() * denom_x2.sum()\n",
    "\n",
    "total_denom.sum()**0.5 \n",
    "\n",
    "# for sqrt, do np.sqrt\n",
    "\n",
    "correlation_coeff = sum_differences.sum() / total_denom.sum()**0.5\n",
    "\n",
    "print(correlation_coeff)"
   ]
  },
  {
   "cell_type": "code",
   "execution_count": 25,
   "id": "0be4db54-8c75-43b7-bb68-92bd03cb2204",
   "metadata": {},
   "outputs": [
    {
     "name": "stdout",
     "output_type": "stream",
     "text": [
      "[[  1167.83333333  11595.83333333]\n",
      " [ 11595.83333333 118149.16666667]]\n",
      "The covariance is 11595.833333333332\n",
      "The correlation is 1.0968662918078558\n"
     ]
    }
   ],
   "source": [
    "# IGNORE\n",
    "\n",
    "# Pearson correlation coefficient r for the two datasets: \n",
    "\n",
    "#finding covariance first\n",
    "\n",
    "covariance_x1x2 = np.cov(x_1, x_2)\n",
    "print(covariance_x1x2) #gives you 4 values bcos it's the cov matrix\n",
    "print(f\"The covariance is {covariance_x1x2[0,1]}\") #extract covariance value, between x1 and x2 \n",
    "\n",
    "#finding correlation\n",
    "\n",
    "correlation = (11595.833333333332 / (32.41990129534635*326.0893282522444)) \n",
    "print(f\"The correlation is {correlation}\")"
   ]
  },
  {
   "cell_type": "code",
   "execution_count": 6,
   "id": "1234326b-cdbb-49e7-9f80-5807568216eb",
   "metadata": {},
   "outputs": [
    {
     "name": "stdout",
     "output_type": "stream",
     "text": [
      "The correlation is [[1.         0.98717966]\n",
      " [0.98717966 1.        ]]\n"
     ]
    }
   ],
   "source": [
    "# Compare your results to np.corrcoef(). \n",
    "\n",
    "correlation_x1_x2 = np.corrcoef(x_1, x_2)\n",
    "\n",
    "print(f\"The correlation is {correlation_x1_x2}\")"
   ]
  },
  {
   "cell_type": "code",
   "execution_count": null,
   "id": "55c26f84-0193-4dd6-bd80-ac1b26e78add",
   "metadata": {},
   "outputs": [],
   "source": []
  }
 ],
 "metadata": {
  "kernelspec": {
   "display_name": "Python 3 (ipykernel)",
   "language": "python",
   "name": "python3"
  },
  "language_info": {
   "codemirror_mode": {
    "name": "ipython",
    "version": 3
   },
   "file_extension": ".py",
   "mimetype": "text/x-python",
   "name": "python",
   "nbconvert_exporter": "python",
   "pygments_lexer": "ipython3",
   "version": "3.12.2"
  },
  "toc": {
   "base_numbering": 1,
   "nav_menu": {},
   "number_sections": true,
   "sideBar": true,
   "skip_h1_title": false,
   "title_cell": "Table of Contents",
   "title_sidebar": "Contents",
   "toc_cell": false,
   "toc_position": {},
   "toc_section_display": true,
   "toc_window_display": false
  },
  "vscode": {
   "interpreter": {
    "hash": "31f2aee4e71d21fbe5cf8b01ff0e069b9275f58929596ceb00d14d90e3e16cd6"
   }
  }
 },
 "nbformat": 4,
 "nbformat_minor": 5
}
