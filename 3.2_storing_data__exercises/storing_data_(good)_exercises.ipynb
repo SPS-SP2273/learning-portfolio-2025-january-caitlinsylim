{
 "cells": [
  {
   "attachments": {},
   "cell_type": "markdown",
   "id": "123456",
   "metadata": {},
   "source": [
    "<div style=\"text-align:left;font-size:2em\"><span style=\"font-weight:bolder;font-size:1.25em\">SP2273 | Learning Portfolio</span><br><br><span style=\"font-weight:bold;color:darkred\">Storing Data (Good) Exercises</span></div>"
   ]
  },
  {
   "cell_type": "markdown",
   "id": "7fd003ed-2bfb-44ae-8f25-ce8629dfba1a",
   "metadata": {},
   "source": [
    "## Exercise 1 (Total Recall)"
   ]
  },
  {
   "cell_type": "markdown",
   "id": "c370f289-c5b2-4f24-9035-ca86f7789378",
   "metadata": {},
   "source": [
    "| Term    |  Brief Description   |\n",
    "| :--- | :--: | \n",
    "| Subsetting  | *to select*   |   \n",
    "| Indexing  |  *selecting 1 element* |   \n",
    "| Slicing   |  selecting multiple elements |   \n",
    "| Masking   |  *to subset arrays*  |   "
   ]
  },
  {
   "cell_type": "markdown",
   "id": "2e0706f9-c0c7-4fcc-9c0b-d0ad1a97710a",
   "metadata": {},
   "source": [
    "## Exercise 2  (Show me the ‘odd’ letters)"
   ]
  },
  {
   "cell_type": "markdown",
   "id": "a7e337a3-33fb-46d4-8224-ae06174e2328",
   "metadata": {},
   "source": [
    "Use masking to subset the letters that correspond to the odd numbers. I.e., get the result [A, C, E, G, I].\n",
    "\n",
    "This is a slightly tricky problem because arrays are fussy about type. So, let me give you a recipe to solve this problem.\n",
    "\n",
    "1. Subset all the first elements.\n",
    "    - You should get array(['1', '3', '2', ..., '10', '9'])\n",
    "2. Convert this to integers using astype(int)\n",
    "    - You must look up how astype() works.\n",
    "3. Use % to get the remainder for division by 2.\n",
    "    - You should get array([1, 1, 0, ..., 0, 1]).\n",
    "4. Use the previous result to create a mask that checks if the remainder is zero or not\n",
    "    - You should get array([True, True, False, ..., False, True]).\n",
    "    - Now you have identified the locations of the odd numbers.\n",
    "5. Use the mask and extract the corresponding second elements."
   ]
  },
  {
   "cell_type": "code",
   "execution_count": 2,
   "id": "7ec0265e-b0c5-4711-bf21-df9dd7ff9962",
   "metadata": {},
   "outputs": [],
   "source": [
    "import numpy as np\n",
    "np_array_2d = np.array([[1, \"A\"], [3, \"C\"], [2, \"B\"], [4, \"D\"],\n",
    "                        [5, \"E\"], [7, \"G\"], [6, \"F\"], [8, \"H\"],\n",
    "                        [10, \"J\"], [9, \"I\"]])"
   ]
  },
  {
   "cell_type": "code",
   "execution_count": 5,
   "id": "4da2647f-d1d7-4b89-bcb9-06108849fe1e",
   "metadata": {},
   "outputs": [
    {
     "data": {
      "text/plain": [
       "array(['1', '3', '2', '4', '5', '7', '6', '8', '10', '9'], dtype='<U21')"
      ]
     },
     "execution_count": 5,
     "metadata": {},
     "output_type": "execute_result"
    }
   ],
   "source": [
    "# Subset all first elements\n",
    "np.array(np_array_2d[0::,0])"
   ]
  },
  {
   "cell_type": "code",
   "execution_count": 14,
   "id": "c25ecd89-a545-4675-bc6f-c3ceb48fb45a",
   "metadata": {},
   "outputs": [
    {
     "data": {
      "text/plain": [
       "array([ 1,  3,  2,  4,  5,  7,  6,  8, 10,  9])"
      ]
     },
     "execution_count": 14,
     "metadata": {},
     "output_type": "execute_result"
    }
   ],
   "source": [
    "x = np.array(np_array_2d[0::,0]).astype(int)\n",
    "\n",
    "np.array(np_array_2d[0::,0]).astype(int)"
   ]
  },
  {
   "cell_type": "code",
   "execution_count": 16,
   "id": "f2e15467-1db5-478e-9d8c-9614fcf3a878",
   "metadata": {},
   "outputs": [
    {
     "name": "stdout",
     "output_type": "stream",
     "text": [
      "[1 1 0 0 1 1 0 0 0 1]\n"
     ]
    }
   ],
   "source": [
    "# Use % to get the remainder for division by 2.\n",
    "\n",
    "remainder = x%2\n",
    "\n",
    "print(remainder) #i don't have the array... what's wrong? -> if you type print, then the type 'array' doesn't come up, but it is still the same thing"
   ]
  },
  {
   "cell_type": "code",
   "execution_count": 37,
   "id": "5586467c-6643-4168-b075-3afcd5df6fd6",
   "metadata": {},
   "outputs": [
    {
     "name": "stdout",
     "output_type": "stream",
     "text": [
      "[ True  True False False  True  True False False False  True]\n",
      "<class 'numpy.ndarray'>\n"
     ]
    }
   ],
   "source": [
    "# create a mask that checks if the remainder is zero or not\n",
    "\n",
    "mask = remainder > 0\n",
    "\n",
    "print(mask)\n",
    "\n",
    "print(type(mask))"
   ]
  },
  {
   "cell_type": "code",
   "execution_count": 41,
   "id": "5eb3ce2d-2c8b-4173-a9d5-e61342e5ad29",
   "metadata": {},
   "outputs": [
    {
     "name": "stdout",
     "output_type": "stream",
     "text": [
      "['A' 'C' 'B' 'D' 'E' 'G' 'F' 'H' 'J' 'I']\n"
     ]
    },
    {
     "data": {
      "text/plain": [
       "array(['A', 'C', 'E', 'G', 'I'], dtype='<U21')"
      ]
     },
     "execution_count": 41,
     "metadata": {},
     "output_type": "execute_result"
    }
   ],
   "source": [
    "# Use the mask and extract the corresponding second elements.\n",
    "\n",
    "#extract all 2nd elements (letters) first: \n",
    "\n",
    "letters = np_array_2d[0::,1]\n",
    "\n",
    "print(letters)\n",
    "\n",
    "# use mask to extract corres. letter\n",
    "\n",
    "letters[mask]"
   ]
  },
  {
   "cell_type": "markdown",
   "id": "303f3d04-3fb1-4115-83d1-70e4ec592613",
   "metadata": {},
   "source": [
    "## Exercise 3"
   ]
  },
  {
   "cell_type": "markdown",
   "id": "7fb5e0fa-f419-4ba0-a628-387f70148ec7",
   "metadata": {},
   "source": [
    "Consider the 2D array shown. Using your knowledge of NumPy masking, change:\n",
    "- values below 50 to -1,\n",
    "- values above 50 to +1, and\n",
    "- values equal to 50 to 0."
   ]
  },
  {
   "cell_type": "code",
   "execution_count": 22,
   "id": "bf6f9b36-3170-49a0-a05d-9aab3ff9f472",
   "metadata": {},
   "outputs": [],
   "source": [
    "import numpy as np\n",
    "\n",
    "x = [[66, 50, 57, -1, -1],\n",
    " [92, -1, 88, -1, -1],\n",
    " [75, -1, -1, 76, -1],\n",
    " [-1, 51, 87, -1, -1],\n",
    " [71, -1, 67, -1, 69]]"
   ]
  },
  {
   "cell_type": "code",
   "execution_count": 23,
   "id": "810e3ce6-964e-439b-bdf6-d986dbed8e90",
   "metadata": {},
   "outputs": [
    {
     "ename": "TypeError",
     "evalue": "'<' not supported between instances of 'list' and 'int'",
     "output_type": "error",
     "traceback": [
      "\u001b[0;31m---------------------------------------------------------------------------\u001b[0m",
      "\u001b[0;31mTypeError\u001b[0m                                 Traceback (most recent call last)",
      "Cell \u001b[0;32mIn[23], line 3\u001b[0m\n\u001b[1;32m      1\u001b[0m \u001b[38;5;66;03m# changing value below 50 to -1 \u001b[39;00m\n\u001b[0;32m----> 3\u001b[0m below_50 \u001b[38;5;241m=\u001b[39m \u001b[43mx\u001b[49m\u001b[43m \u001b[49m\u001b[38;5;241;43m<\u001b[39;49m\u001b[43m \u001b[49m\u001b[38;5;241;43m50\u001b[39;49m\n",
      "\u001b[0;31mTypeError\u001b[0m: '<' not supported between instances of 'list' and 'int'"
     ]
    }
   ],
   "source": [
    "# changing value below 50 to -1 \n",
    "\n",
    "below_50 = x < 50 # list and integer comparison isn't allowed, so nd to make into array"
   ]
  },
  {
   "cell_type": "code",
   "execution_count": 30,
   "id": "6f1ffb15-e8ee-409e-9862-2b1b37352b8f",
   "metadata": {},
   "outputs": [
    {
     "name": "stdout",
     "output_type": "stream",
     "text": [
      "[[ 1  0  1 -1 -1]\n",
      " [ 1 -1  1 -1 -1]\n",
      " [ 1 -1 -1  1 -1]\n",
      " [-1  1  1 -1 -1]\n",
      " [ 1 -1  1 -1  1]]\n"
     ]
    }
   ],
   "source": [
    "# changing value below 50 to -1 \n",
    "x_array = np.array(x)\n",
    "x_array[x_array < 50] = -1\n",
    "x_array[x_array > 50] = +1\n",
    "x_array[x_array == 50] = 0\n",
    "print(x_array)"
   ]
  },
  {
   "cell_type": "code",
   "execution_count": null,
   "id": "084ab33a-2151-4329-9044-276ea2b94314",
   "metadata": {},
   "outputs": [],
   "source": []
  },
  {
   "cell_type": "code",
   "execution_count": null,
   "id": "6d4981d6-07b2-41a3-8c7b-fda9877448f5",
   "metadata": {},
   "outputs": [],
   "source": []
  }
 ],
 "metadata": {
  "kernelspec": {
   "display_name": "Python 3 (ipykernel)",
   "language": "python",
   "name": "python3"
  },
  "language_info": {
   "codemirror_mode": {
    "name": "ipython",
    "version": 3
   },
   "file_extension": ".py",
   "mimetype": "text/x-python",
   "name": "python",
   "nbconvert_exporter": "python",
   "pygments_lexer": "ipython3",
   "version": "3.12.2"
  },
  "toc": {
   "base_numbering": 1,
   "nav_menu": {},
   "number_sections": true,
   "sideBar": true,
   "skip_h1_title": false,
   "title_cell": "Table of Contents",
   "title_sidebar": "Contents",
   "toc_cell": false,
   "toc_position": {},
   "toc_section_display": true,
   "toc_window_display": false
  },
  "vscode": {
   "interpreter": {
    "hash": "31f2aee4e71d21fbe5cf8b01ff0e069b9275f58929596ceb00d14d90e3e16cd6"
   }
  }
 },
 "nbformat": 4,
 "nbformat_minor": 5
}
