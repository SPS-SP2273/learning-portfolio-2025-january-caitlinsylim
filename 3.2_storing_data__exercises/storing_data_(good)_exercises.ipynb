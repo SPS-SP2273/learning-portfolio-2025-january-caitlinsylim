{
 "cells": [
  {
   "attachments": {},
   "cell_type": "markdown",
   "id": "123456",
   "metadata": {},
   "source": [
    "<div style=\"text-align:left;font-size:2em\"><span style=\"font-weight:bolder;font-size:1.25em\">SP2273 | Learning Portfolio</span><br><br><span style=\"font-weight:bold;color:darkred\">Storing Data (Good) Exercises</span></div>"
   ]
  },
  {
   "cell_type": "markdown",
   "id": "7fd003ed-2bfb-44ae-8f25-ce8629dfba1a",
   "metadata": {},
   "source": [
    "## Exercise 1 (Total Recall)"
   ]
  },
  {
   "cell_type": "markdown",
   "id": "c370f289-c5b2-4f24-9035-ca86f7789378",
   "metadata": {},
   "source": [
    "| Term    |  Brief Description   |\n",
    "| :--- | :--: | \n",
    "| Subsetting  | *to select*   |   \n",
    "| Indexing  |  *selecting 1 element* |   \n",
    "| Slicing   |  selecting multiple elements |   \n",
    "| Masking   |  *to subset arrays*  |   "
   ]
  },
  {
   "cell_type": "markdown",
   "id": "2e0706f9-c0c7-4fcc-9c0b-d0ad1a97710a",
   "metadata": {},
   "source": [
    "## Exercise 2  (Show me the ‘odd’ letters)"
   ]
  },
  {
   "cell_type": "markdown",
   "id": "a7e337a3-33fb-46d4-8224-ae06174e2328",
   "metadata": {},
   "source": [
    "Use masking to subset the letters that correspond to the odd numbers. I.e., get the result [A, C, E, G, I].\n",
    "\n",
    "This is a slightly tricky problem because arrays are fussy about type. So, let me give you a recipe to solve this problem.\n",
    "\n",
    "1. Subset all the first elements.\n",
    "    - You should get array(['1', '3', '2', ..., '10', '9'])\n",
    "2. Convert this to integers using astype(int)\n",
    "    - You must look up how astype() works.\n",
    "3. Use % to get the remainder for division by 2.\n",
    "    - You should get array([1, 1, 0, ..., 0, 1]).\n",
    "4. Use the previous result to create a mask that checks if the remainder is zero or not\n",
    "    - You should get array([True, True, False, ..., False, True]).\n",
    "    - Now you have identified the locations of the odd numbers.\n",
    "5. Use the mask and extract the corresponding second elements."
   ]
  },
  {
   "cell_type": "code",
   "execution_count": 10,
   "id": "7ec0265e-b0c5-4711-bf21-df9dd7ff9962",
   "metadata": {},
   "outputs": [],
   "source": [
    "import numpy as np\n",
    "np_array_2d = np.array([[1, \"A\"], [3, \"C\"], [2, \"B\"], [4, \"D\"],\n",
    "                        [5, \"E\"], [7, \"G\"], [6, \"F\"], [8, \"H\"],\n",
    "                        [10, \"J\"], [9, \"I\"]])"
   ]
  },
  {
   "cell_type": "code",
   "execution_count": 16,
   "id": "4da2647f-d1d7-4b89-bcb9-06108849fe1e",
   "metadata": {},
   "outputs": [
    {
     "data": {
      "text/plain": [
       "array(['1', '3', '2', '4', '5', '7', '6', '8', '10', '9'], dtype='<U21')"
      ]
     },
     "execution_count": 16,
     "metadata": {},
     "output_type": "execute_result"
    }
   ],
   "source": [
    "# Subset all first elements\n",
    "np.array(np_array_2d[0::,0])"
   ]
  },
  {
   "cell_type": "code",
   "execution_count": 30,
   "id": "b8393ace-ccfc-42a9-bc37-dd09d4f056a6",
   "metadata": {},
   "outputs": [
    {
     "name": "stdout",
     "output_type": "stream",
     "text": [
      "[ 1  3  2  4  5  7  6  8 10  9]\n"
     ]
    }
   ],
   "source": [
    "# Convert this to integers using astype(int)\n",
    "\n",
    "int_np_array_2d = first_elements_np_array_2d.astype(int)\n",
    "\n",
    "print(int_np_array_2d) #qns: if i don't put print, nth comes out.. why? also why is there no array in front"
   ]
  },
  {
   "cell_type": "code",
   "execution_count": 20,
   "id": "c25ecd89-a545-4675-bc6f-c3ceb48fb45a",
   "metadata": {},
   "outputs": [
    {
     "data": {
      "text/plain": [
       "array([ 1,  3,  2,  4,  5,  7,  6,  8, 10,  9])"
      ]
     },
     "execution_count": 20,
     "metadata": {},
     "output_type": "execute_result"
    }
   ],
   "source": [
    "np.array(np_array_2d[0::,0]).astype(int)"
   ]
  },
  {
   "cell_type": "code",
   "execution_count": 28,
   "id": "f2e15467-1db5-478e-9d8c-9614fcf3a878",
   "metadata": {},
   "outputs": [],
   "source": [
    "# Use % to get the remainder for division by 2.\n",
    "\n",
    "remainder = np.array(str_first_elements_np_array_2d%2)"
   ]
  },
  {
   "cell_type": "code",
   "execution_count": 24,
   "id": "db986784-dc05-48df-b579-d8b1b0e86015",
   "metadata": {},
   "outputs": [
    {
     "ename": "TypeError",
     "evalue": "'builtin_function_or_method' object is not subscriptable",
     "output_type": "error",
     "traceback": [
      "\u001b[0;31m---------------------------------------------------------------------------\u001b[0m",
      "\u001b[0;31mTypeError\u001b[0m                                 Traceback (most recent call last)",
      "Cell \u001b[0;32mIn[24], line 3\u001b[0m\n\u001b[1;32m      1\u001b[0m \u001b[38;5;66;03m# Use the previous result to create a mask that checks if the remainder is zero or not\u001b[39;00m\n\u001b[0;32m----> 3\u001b[0m \u001b[43mnp\u001b[49m\u001b[38;5;241;43m.\u001b[39;49m\u001b[43marray\u001b[49m\u001b[43m[\u001b[49m\u001b[43mstr_first_elements_np_array_2d\u001b[49m\u001b[38;5;241;43m%\u001b[39;49m\u001b[38;5;241;43m2\u001b[39;49m\u001b[43m \u001b[49m\u001b[38;5;241;43m>\u001b[39;49m\u001b[43m \u001b[49m\u001b[38;5;241;43m0\u001b[39;49m\u001b[43m]\u001b[49m\n",
      "\u001b[0;31mTypeError\u001b[0m: 'builtin_function_or_method' object is not subscriptable"
     ]
    }
   ],
   "source": [
    "# Use the previous result to create a mask that checks if the remainder is zero or not\n",
    "\n",
    "np.array[str_first_elements_np_array_2d%2 > 0] #what is gg on here.."
   ]
  },
  {
   "cell_type": "code",
   "execution_count": 27,
   "id": "5586467c-6643-4168-b075-3afcd5df6fd6",
   "metadata": {},
   "outputs": [],
   "source": [
    "mask = remainder > 0 #how to do...."
   ]
  },
  {
   "cell_type": "markdown",
   "id": "303f3d04-3fb1-4115-83d1-70e4ec592613",
   "metadata": {},
   "source": [
    "## Exercise 3"
   ]
  },
  {
   "cell_type": "code",
   "execution_count": null,
   "id": "71ae7765-9855-4b63-acb6-e121009972ab",
   "metadata": {},
   "outputs": [],
   "source": []
  },
  {
   "cell_type": "code",
   "execution_count": null,
   "id": "810e3ce6-964e-439b-bdf6-d986dbed8e90",
   "metadata": {},
   "outputs": [],
   "source": []
  }
 ],
 "metadata": {
  "kernelspec": {
   "display_name": "Python 3 (ipykernel)",
   "language": "python",
   "name": "python3"
  },
  "language_info": {
   "codemirror_mode": {
    "name": "ipython",
    "version": 3
   },
   "file_extension": ".py",
   "mimetype": "text/x-python",
   "name": "python",
   "nbconvert_exporter": "python",
   "pygments_lexer": "ipython3",
   "version": "3.12.2"
  },
  "toc": {
   "base_numbering": 1,
   "nav_menu": {},
   "number_sections": true,
   "sideBar": true,
   "skip_h1_title": false,
   "title_cell": "Table of Contents",
   "title_sidebar": "Contents",
   "toc_cell": false,
   "toc_position": {},
   "toc_section_display": true,
   "toc_window_display": false
  },
  "vscode": {
   "interpreter": {
    "hash": "31f2aee4e71d21fbe5cf8b01ff0e069b9275f58929596ceb00d14d90e3e16cd6"
   }
  }
 },
 "nbformat": 4,
 "nbformat_minor": 5
}
