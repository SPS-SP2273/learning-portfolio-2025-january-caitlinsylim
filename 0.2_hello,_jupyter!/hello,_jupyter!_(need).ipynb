{
 "cells": [
  {
   "attachments": {},
   "cell_type": "markdown",
   "id": "123456",
   "metadata": {},
   "source": [
    "<div style=\"text-align:left;font-size:2em\"><span style=\"font-weight:bolder;font-size:1.25em\">SP2273 | Learning Portfolio</span><br><br><span style=\"font-weight:bold;color:darkred\">Hello, Jupyter! (Need)</span></div>"
   ]
  },
  {
   "attachments": {},
   "cell_type": "markdown",
   "id": "421fc8fe",
   "metadata": {},
   "source": [
    "# 1 Jupyter, who?"
   ]
  },
  {
   "attachments": {},
   "cell_type": "markdown",
   "id": "97d6e207",
   "metadata": {},
   "source": [
    "# 2 Anaconda & Miniconda"
   ]
  },
  {
   "attachments": {},
   "cell_type": "markdown",
   "id": "97f34f79",
   "metadata": {},
   "source": [
    "## 2.1 Download & install Miniconda"
   ]
  },
  {
   "attachments": {},
   "cell_type": "markdown",
   "id": "8ffa63a6",
   "metadata": {},
   "source": [
    "# 3 Hello Command prompt"
   ]
  },
  {
   "attachments": {},
   "cell_type": "markdown",
   "id": "163889e6",
   "metadata": {},
   "source": [
    "## 3.1 What is the command prompt"
   ]
  },
  {
   "attachments": {},
   "cell_type": "markdown",
   "id": "6c63d9b6",
   "metadata": {},
   "source": [
    "## 3.2 Opening the prompt"
   ]
  },
  {
   "attachments": {},
   "cell_type": "markdown",
   "id": "59e7cd64",
   "metadata": {},
   "source": [
    "## 3.3 Navigate using the prompt"
   ]
  },
  {
   "attachments": {},
   "cell_type": "markdown",
   "id": "0a69267b",
   "metadata": {},
   "source": [
    "## 3.4 Using the prompt with conda"
   ]
  },
  {
   "attachments": {},
   "cell_type": "markdown",
   "id": "5aa6c26d",
   "metadata": {},
   "source": [
    "# 4 Installing Jupyter and other stuff"
   ]
  },
  {
   "attachments": {},
   "cell_type": "markdown",
   "id": "78117cb9",
   "metadata": {},
   "source": [
    "## 4.1 Jupyter… the first run"
   ]
  },
  {
   "attachments": {},
   "cell_type": "markdown",
   "id": "9119ec01",
   "metadata": {},
   "source": [
    "## Footnotes"
   ]
  },
  {
   "cell_type": "code",
   "execution_count": 4,
   "id": "03270e8d-94d3-440d-af96-884b6b5bf367",
   "metadata": {},
   "outputs": [
    {
     "data": {
      "text/plain": [
       "float"
      ]
     },
     "execution_count": 4,
     "metadata": {},
     "output_type": "execute_result"
    }
   ],
   "source": [
    "type(6.6)"
   ]
  },
  {
   "cell_type": "code",
   "execution_count": 8,
   "id": "fb209d6b-c41d-449f-81cd-598cca7366a4",
   "metadata": {},
   "outputs": [
    {
     "name": "stdout",
     "output_type": "stream",
     "text": [
      "1 <class 'int'>\n",
      "1 <class 'int'>\n"
     ]
    }
   ],
   "source": [
    "x = 1\n",
    "print(x, type(x))\n",
    "x=float(x), print(x, type(x))"
   ]
  },
  {
   "cell_type": "code",
   "execution_count": 10,
   "id": "19ca6ca2-23f3-41e0-9a22-94d4cdfd71ae",
   "metadata": {},
   "outputs": [
    {
     "data": {
      "text/plain": [
       "2"
      ]
     },
     "execution_count": 10,
     "metadata": {},
     "output_type": "execute_result"
    }
   ],
   "source": [
    "test = [[1,2], [3,4],[5,6],[7,8]]\n",
    "\n",
    "test[0][1]"
   ]
  },
  {
   "cell_type": "code",
   "execution_count": 13,
   "id": "75f2d179-ed19-4862-9ed6-201830d56cb8",
   "metadata": {},
   "outputs": [
    {
     "data": {
      "text/plain": [
       "np.int64(2)"
      ]
     },
     "execution_count": 13,
     "metadata": {},
     "output_type": "execute_result"
    }
   ],
   "source": [
    "import numpy as np\n",
    "test_array = np.array(test)\n",
    "test_array[0,1]"
   ]
  },
  {
   "cell_type": "code",
   "execution_count": 3,
   "id": "129d406d-48c9-494e-b390-4a7f81ad2f4f",
   "metadata": {},
   "outputs": [
    {
     "name": "stdout",
     "output_type": "stream",
     "text": [
      "1\n"
     ]
    }
   ],
   "source": [
    "x = [45, 60, 1, 30, 96, 1, 96, 57, 16, 1,\n",
    "        99, 62, 86, 43, 42, 60, 59, 1, 1, 35,\n",
    "        83, 47, 34, 28, 68, 23, 22, 92, 1, 79,\n",
    "        1, 29, 94, 72, 46, 47, 1, 74, 32, 20,\n",
    "        8, 37, 35, 1, 89, 29, 86, 19, 43, 61]\n",
    "\n",
    "no_of_59 = x.count(59)\n",
    "\n",
    "print(no_of_59)"
   ]
  },
  {
   "cell_type": "code",
   "execution_count": 20,
   "id": "76457159-3859-4118-b3e7-2943176c2f03",
   "metadata": {},
   "outputs": [],
   "source": [
    "points = [1, 4, 2, 9, 7, 8, 9, 3, 1]\n",
    "\n",
    "x = points.count(9)"
   ]
  },
  {
   "cell_type": "code",
   "execution_count": 6,
   "id": "908ef22a-a883-462f-9281-7e31d73176d8",
   "metadata": {},
   "outputs": [
    {
     "name": "stdout",
     "output_type": "stream",
     "text": [
      "1\n"
     ]
    }
   ],
   "source": [
    "import numpy as np \n",
    "\n",
    "numbers=[45, 60, 1, 30, 96, 1, 96, 57, 16, 1,\n",
    "        99, 62, 86, 43, 42, 60, 59, 1, 1, 35,\n",
    "        83, 47, 34, 28, 68, 23, 22, 92, 1, 79,\n",
    "        1, 29, 94, 72, 46, 47, 1, 74, 32, 20,\n",
    "        8, 37, 35, 1, 89, 29, 86, 19, 43, 61] \n",
    "\n",
    "np_numbers = np.array(numbers)\n",
    "number_of_59 = sum((np_numbers == 59))\n",
    "\n",
    "print(number_of_59)"
   ]
  },
  {
   "cell_type": "code",
   "execution_count": 16,
   "id": "92b32c32-3b7a-470e-84ce-64d38562465b",
   "metadata": {},
   "outputs": [],
   "source": [
    "import numpy as np \n",
    "\n",
    "numbers=[45, 60, 1, 30, 96, 1, 96, 57, 16, 1,\n",
    "        99, 62, 86, 43, 42, 60, 59, 1, 1, 35,\n",
    "        83, 47, 34, 28, 68, 23, 22, 92, 1, 79,\n",
    "        1, 29, 94, 72, 46, 47, 1, 74, 32, 20,\n",
    "        8, 37, 35, 1, 89, 29, 86, 19, 43, 61] \n",
    "\n",
    "np_numbers = np.array(numbers)\n",
    "\n",
    "my_mask =np_numbers <= 1 # Asking a question, and answer is True or False only"
   ]
  },
  {
   "cell_type": "code",
   "execution_count": 10,
   "id": "417f7246-833a-4801-a12b-ba3b2620940f",
   "metadata": {},
   "outputs": [
    {
     "data": {
      "text/plain": [
       "array([1, 1, 1, 1, 1, 1, 1, 1, 1])"
      ]
     },
     "execution_count": 10,
     "metadata": {},
     "output_type": "execute_result"
    }
   ],
   "source": [
    "np_numbers[my_mask]    # Shows me answers that are only True "
   ]
  },
  {
   "cell_type": "code",
   "execution_count": 15,
   "id": "0d0a0418-7935-44e2-b9e6-ae9dfc218f54",
   "metadata": {},
   "outputs": [
    {
     "data": {
      "text/plain": [
       "9"
      ]
     },
     "execution_count": 15,
     "metadata": {},
     "output_type": "execute_result"
    }
   ],
   "source": [
    "(np_numbers[my_mask]).shape   # Giving me the number of 1s that appear \n",
    "\n",
    "len(np_numbers[my_mask])"
   ]
  },
  {
   "cell_type": "code",
   "execution_count": 20,
   "id": "a5cdcde1-823b-42c9-852e-d631c979c99a",
   "metadata": {},
   "outputs": [
    {
     "data": {
      "text/plain": [
       "array(['1', '2', '3', '4'], dtype='<U21')"
      ]
     },
     "execution_count": 20,
     "metadata": {},
     "output_type": "execute_result"
    }
   ],
   "source": [
    "import numpy as np\n",
    "x = np.array([1,2,3,4])\n",
    "x.astype(str)"
   ]
  },
  {
   "cell_type": "code",
   "execution_count": 21,
   "id": "efff87da-b7bc-4313-9ea6-39f872708bf3",
   "metadata": {},
   "outputs": [
    {
     "data": {
      "text/plain": [
       "array([1, 2, 3, 4])"
      ]
     },
     "execution_count": 21,
     "metadata": {},
     "output_type": "execute_result"
    }
   ],
   "source": [
    "y = np.array(['1','2','3','4'])\n",
    "y.astype(int)"
   ]
  },
  {
   "cell_type": "code",
   "execution_count": 22,
   "id": "7993da76-e902-4e19-b030-b9c4d8f7bf69",
   "metadata": {},
   "outputs": [],
   "source": [
    "import numpy as np\n",
    "np_array_2d = np.array([[1, \"A\"], [3, \"C\"], [2, \"B\"], [4, \"D\"],\n",
    "                        [5, \"E\"], [7, \"G\"], [6, \"F\"], [8, \"H\"],\n",
    "                        [10, \"J\"], [9, \"I\"]])"
   ]
  },
  {
   "cell_type": "code",
   "execution_count": 27,
   "id": "7e85ec69-a591-4fc5-b111-15518b8f06c8",
   "metadata": {},
   "outputs": [
    {
     "data": {
      "text/plain": [
       "array(['1', '3', '2', '4', '5', '7', '6', '8', '10', '9'], dtype='<U21')"
      ]
     },
     "execution_count": 27,
     "metadata": {},
     "output_type": "execute_result"
    }
   ],
   "source": [
    "x = np_array_2d[:,0]\n",
    "x"
   ]
  },
  {
   "cell_type": "code",
   "execution_count": 31,
   "id": "4c0b413c-3a82-49ad-8326-7751a7745639",
   "metadata": {},
   "outputs": [
    {
     "data": {
      "text/plain": [
       "array([ 1,  3,  2,  4,  5,  7,  6,  8, 10,  9])"
      ]
     },
     "execution_count": 31,
     "metadata": {},
     "output_type": "execute_result"
    }
   ],
   "source": [
    "x_int= x.astype(int)\n",
    "x_int"
   ]
  },
  {
   "cell_type": "code",
   "execution_count": 35,
   "id": "43831f89-6d50-490a-91c0-cd850a69f4a1",
   "metadata": {},
   "outputs": [
    {
     "data": {
      "text/plain": [
       "array([1, 1, 0, 0, 1, 1, 0, 0, 0, 1])"
      ]
     },
     "execution_count": 35,
     "metadata": {},
     "output_type": "execute_result"
    }
   ],
   "source": [
    "remainder = x_int % 2\n",
    "remainder "
   ]
  },
  {
   "cell_type": "code",
   "execution_count": 38,
   "id": "9eb0066d-10bd-4e41-94e0-efb8fd9845e3",
   "metadata": {},
   "outputs": [
    {
     "data": {
      "text/plain": [
       "array([ True,  True, False, False,  True,  True, False, False, False,\n",
       "        True])"
      ]
     },
     "execution_count": 38,
     "metadata": {},
     "output_type": "execute_result"
    }
   ],
   "source": [
    "my_mask = remainder > 0 # Asking question if true or false, returns both\n",
    "my_mask "
   ]
  },
  {
   "cell_type": "code",
   "execution_count": 39,
   "id": "dcd53889-f347-43b3-b45a-3b70cf59572c",
   "metadata": {},
   "outputs": [
    {
     "ename": "IndexError",
     "evalue": "too many indices for array: array is 1-dimensional, but 2 were indexed",
     "output_type": "error",
     "traceback": [
      "\u001b[0;31m---------------------------------------------------------------------------\u001b[0m",
      "\u001b[0;31mIndexError\u001b[0m                                Traceback (most recent call last)",
      "Cell \u001b[0;32mIn[39], line 1\u001b[0m\n\u001b[0;32m----> 1\u001b[0m \u001b[43mmy_mask\u001b[49m\u001b[43m[\u001b[49m\u001b[43m:\u001b[49m\u001b[43m,\u001b[49m\u001b[38;5;241;43m1\u001b[39;49m\u001b[43m]\u001b[49m\n",
      "\u001b[0;31mIndexError\u001b[0m: too many indices for array: array is 1-dimensional, but 2 were indexed"
     ]
    }
   ],
   "source": []
  },
  {
   "cell_type": "code",
   "execution_count": 40,
   "id": "66960630-6f72-4c5e-a212-75dacee1a8f1",
   "metadata": {},
   "outputs": [
    {
     "name": "stderr",
     "output_type": "stream",
     "text": [
      "<>:1: SyntaxWarning: list indices must be integers or slices, not tuple; perhaps you missed a comma?\n",
      "<>:1: SyntaxWarning: list indices must be integers or slices, not tuple; perhaps you missed a comma?\n",
      "/var/folders/q3/4xm0rfy56rl5wc7lh6dwp_6r0000gq/T/ipykernel_10269/2199287440.py:1: SyntaxWarning: list indices must be integers or slices, not tuple; perhaps you missed a comma?\n",
      "  np_array_2d([my_mask][:,1])\n"
     ]
    },
    {
     "ename": "TypeError",
     "evalue": "list indices must be integers or slices, not tuple",
     "output_type": "error",
     "traceback": [
      "\u001b[0;31m---------------------------------------------------------------------------\u001b[0m",
      "\u001b[0;31mTypeError\u001b[0m                                 Traceback (most recent call last)",
      "Cell \u001b[0;32mIn[40], line 1\u001b[0m\n\u001b[0;32m----> 1\u001b[0m np_array_2d(\u001b[43m[\u001b[49m\u001b[43mmy_mask\u001b[49m\u001b[43m]\u001b[49m\u001b[43m[\u001b[49m\u001b[43m:\u001b[49m\u001b[43m,\u001b[49m\u001b[38;5;241;43m1\u001b[39;49m\u001b[43m]\u001b[49m)\n",
      "\u001b[0;31mTypeError\u001b[0m: list indices must be integers or slices, not tuple"
     ]
    }
   ],
   "source": [
    "np_array_2d("
   ]
  }
 ],
 "metadata": {
  "kernelspec": {
   "display_name": "Python 3 (ipykernel)",
   "language": "python",
   "name": "python3"
  },
  "language_info": {
   "codemirror_mode": {
    "name": "ipython",
    "version": 3
   },
   "file_extension": ".py",
   "mimetype": "text/x-python",
   "name": "python",
   "nbconvert_exporter": "python",
   "pygments_lexer": "ipython3",
   "version": "3.12.2"
  },
  "toc": {
   "base_numbering": 1,
   "nav_menu": {},
   "number_sections": true,
   "sideBar": true,
   "skip_h1_title": false,
   "title_cell": "Table of Contents",
   "title_sidebar": "Contents",
   "toc_cell": false,
   "toc_position": {},
   "toc_section_display": true,
   "toc_window_display": false
  },
  "vscode": {
   "interpreter": {
    "hash": "31f2aee4e71d21fbe5cf8b01ff0e069b9275f58929596ceb00d14d90e3e16cd6"
   }
  }
 },
 "nbformat": 4,
 "nbformat_minor": 5
}
