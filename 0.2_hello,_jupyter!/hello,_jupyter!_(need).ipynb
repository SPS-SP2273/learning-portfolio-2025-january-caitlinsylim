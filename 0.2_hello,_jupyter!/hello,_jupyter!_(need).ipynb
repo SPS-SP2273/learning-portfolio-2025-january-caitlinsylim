{
 "cells": [
  {
   "attachments": {},
   "cell_type": "markdown",
   "id": "123456",
   "metadata": {},
   "source": [
    "<div style=\"text-align:left;font-size:2em\"><span style=\"font-weight:bolder;font-size:1.25em\">SP2273 | Learning Portfolio</span><br><br><span style=\"font-weight:bold;color:darkred\">Hello, Jupyter! (Need)</span></div>"
   ]
  },
  {
   "attachments": {},
   "cell_type": "markdown",
   "id": "421fc8fe",
   "metadata": {},
   "source": [
    "# 1 Jupyter, who?"
   ]
  },
  {
   "attachments": {},
   "cell_type": "markdown",
   "id": "97d6e207",
   "metadata": {},
   "source": [
    "# 2 Anaconda & Miniconda"
   ]
  },
  {
   "attachments": {},
   "cell_type": "markdown",
   "id": "97f34f79",
   "metadata": {},
   "source": [
    "## 2.1 Download & install Miniconda"
   ]
  },
  {
   "attachments": {},
   "cell_type": "markdown",
   "id": "8ffa63a6",
   "metadata": {},
   "source": [
    "# 3 Hello Command prompt"
   ]
  },
  {
   "attachments": {},
   "cell_type": "markdown",
   "id": "163889e6",
   "metadata": {},
   "source": [
    "## 3.1 What is the command prompt"
   ]
  },
  {
   "attachments": {},
   "cell_type": "markdown",
   "id": "6c63d9b6",
   "metadata": {},
   "source": [
    "## 3.2 Opening the prompt"
   ]
  },
  {
   "attachments": {},
   "cell_type": "markdown",
   "id": "59e7cd64",
   "metadata": {},
   "source": [
    "## 3.3 Navigate using the prompt"
   ]
  },
  {
   "attachments": {},
   "cell_type": "markdown",
   "id": "0a69267b",
   "metadata": {},
   "source": [
    "## 3.4 Using the prompt with conda"
   ]
  },
  {
   "attachments": {},
   "cell_type": "markdown",
   "id": "5aa6c26d",
   "metadata": {},
   "source": [
    "# 4 Installing Jupyter and other stuff"
   ]
  },
  {
   "attachments": {},
   "cell_type": "markdown",
   "id": "78117cb9",
   "metadata": {},
   "source": [
    "## 4.1 Jupyter… the first run"
   ]
  },
  {
   "attachments": {},
   "cell_type": "markdown",
   "id": "9119ec01",
   "metadata": {},
   "source": [
    "## Footnotes"
   ]
  },
  {
   "cell_type": "code",
   "execution_count": 4,
   "id": "03270e8d-94d3-440d-af96-884b6b5bf367",
   "metadata": {},
   "outputs": [
    {
     "data": {
      "text/plain": [
       "float"
      ]
     },
     "execution_count": 4,
     "metadata": {},
     "output_type": "execute_result"
    }
   ],
   "source": [
    "type(6.6)"
   ]
  },
  {
   "cell_type": "code",
   "execution_count": 8,
   "id": "fb209d6b-c41d-449f-81cd-598cca7366a4",
   "metadata": {},
   "outputs": [
    {
     "name": "stdout",
     "output_type": "stream",
     "text": [
      "1 <class 'int'>\n",
      "1 <class 'int'>\n"
     ]
    }
   ],
   "source": [
    "x = 1\n",
    "print(x, type(x))\n",
    "x=float(x), print(x, type(x))"
   ]
  },
  {
   "cell_type": "code",
   "execution_count": null,
   "id": "19ca6ca2-23f3-41e0-9a22-94d4cdfd71ae",
   "metadata": {},
   "outputs": [],
   "source": []
  },
  {
   "cell_type": "code",
   "execution_count": null,
   "id": "75f2d179-ed19-4862-9ed6-201830d56cb8",
   "metadata": {},
   "outputs": [],
   "source": []
  }
 ],
 "metadata": {
  "kernelspec": {
   "display_name": "Python 3 (ipykernel)",
   "language": "python",
   "name": "python3"
  },
  "language_info": {
   "codemirror_mode": {
    "name": "ipython",
    "version": 3
   },
   "file_extension": ".py",
   "mimetype": "text/x-python",
   "name": "python",
   "nbconvert_exporter": "python",
   "pygments_lexer": "ipython3",
   "version": "3.12.2"
  },
  "toc": {
   "base_numbering": 1,
   "nav_menu": {},
   "number_sections": true,
   "sideBar": true,
   "skip_h1_title": false,
   "title_cell": "Table of Contents",
   "title_sidebar": "Contents",
   "toc_cell": false,
   "toc_position": {},
   "toc_section_display": true,
   "toc_window_display": false
  },
  "vscode": {
   "interpreter": {
    "hash": "31f2aee4e71d21fbe5cf8b01ff0e069b9275f58929596ceb00d14d90e3e16cd6"
   }
  }
 },
 "nbformat": 4,
 "nbformat_minor": 5
}
