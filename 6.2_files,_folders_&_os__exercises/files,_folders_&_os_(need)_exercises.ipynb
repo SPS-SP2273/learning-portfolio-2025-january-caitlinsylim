{
 "cells": [
  {
   "attachments": {},
   "cell_type": "markdown",
   "id": "123456",
   "metadata": {},
   "source": [
    "<div style=\"text-align:left;font-size:2em\"><span style=\"font-weight:bolder;font-size:1.25em\">SP2273 | Learning Portfolio</span><br><br><span style=\"font-weight:bold;color:darkred\">Files, Folders & OS (Need) Exercises</span></div>"
   ]
  },
  {
   "cell_type": "markdown",
   "id": "6e2ce73b-d66b-42c1-9426-4e25921ef4e6",
   "metadata": {},
   "source": [
    "# Second Reattempt (Ignore)"
   ]
  },
  {
   "cell_type": "markdown",
   "id": "9d86663e-7658-41b1-a8fa-f97398ae6f0f",
   "metadata": {},
   "source": [
    "## Task 1"
   ]
  },
  {
   "cell_type": "code",
   "execution_count": 2,
   "id": "e9c1f364-0f4b-48d0-b332-b1f4774ec4ed",
   "metadata": {},
   "outputs": [
    {
     "name": "stdout",
     "output_type": "stream",
     "text": [
      "['oct-08', 'singapore.txt']\n",
      "['oct', '08']\n",
      "10-08-singapore.txt\n"
     ]
    }
   ],
   "source": [
    "dictionary = {\n",
    "'jan': '01', 'feb': '02', 'mar': '03',\n",
    "'apr': '04', 'may': '05', 'jun': '06',\n",
    "'jul': '07', 'aug': '08', 'sep': '09',\n",
    "'oct': '10', 'nov': '11', 'dec': '12'\n",
    "}\n",
    "\n",
    "old_file_name = 'oct-08_singapore.txt'\n",
    "\n",
    "time_country =  old_file_name.split(\"_\") # Split time and country separately \n",
    "\n",
    "print(time_country) # Checking what is output\n",
    "\n",
    "# Split Month & Day separately \n",
    "\n",
    "month_day = time_country[0].split(\"-\")\n",
    "\n",
    "print(month_day) # Checking what is output\n",
    "\n",
    "month = dictionary[month_day[0]]      # Looking in the dictionary, specifically key, which one is oct \n",
    "\n",
    "day = month_day[1]\n",
    "\n",
    "new_file_name = print(f'{month}-{day}-{time_country[1]}')"
   ]
  },
  {
   "cell_type": "markdown",
   "id": "a159fd27-c1d8-4bbd-9aed-be9fdbe83304",
   "metadata": {},
   "source": [
    "## Task 2"
   ]
  },
  {
   "cell_type": "code",
   "execution_count": 3,
   "id": "c3316bdf-ef65-4ef4-85c0-64a198fd303e",
   "metadata": {},
   "outputs": [
    {
     "data": {
      "text/plain": [
       "'10-08-singapore.txt'"
      ]
     },
     "execution_count": 3,
     "metadata": {},
     "output_type": "execute_result"
    }
   ],
   "source": [
    "def rename_my_file(old_file_name): \n",
    "    #  if old_file_name[0].isalpha():\n",
    "        time_country =  old_file_name.split(\"_\")  \n",
    "        month_day = time_country[0].split(\"-\")\n",
    "        month = dictionary[month_day[0]]     \n",
    "        day = month_day[1]\n",
    "        new_file_name = f'{month}-{day}-{time_country[1]}'       # Initially I put print here, but couldn't get the right output \n",
    "        return new_file_name                                  # Because print displays output but doesn't return a value\n",
    "    # else: \n",
    "        raise (f'Error: File is already renamed')\n",
    "                        \n",
    "rename_my_file('oct-08_singapore.txt')"
   ]
  },
  {
   "cell_type": "markdown",
   "id": "57ddab32-2f95-4c0e-9fe7-1830dd288fe1",
   "metadata": {},
   "source": [
    "## Task 3"
   ]
  },
  {
   "cell_type": "code",
   "execution_count": 9,
   "id": "931e28e2-afae-4e69-ab50-ba3225818f52",
   "metadata": {},
   "outputs": [
    {
     "name": "stdout",
     "output_type": "stream",
     "text": [
      "oct-08_singapore.txt ----> 10-08-singapore.txt\n",
      "jul-10_cairo.txt ----> 07-10-cairo.txt\n",
      "may-15_dhaka.txt ----> 05-15-dhaka.txt\n",
      "may-13_cairo.txt ----> 05-13-cairo.txt\n",
      "oct-21_cairo.txt ----> 10-21-cairo.txt\n",
      "jan-10_singapore.txt ----> 01-10-singapore.txt\n",
      "jun-20_tokyo.txt ----> 06-20-tokyo.txt\n",
      "aug-06_jakarta.txt ----> 08-06-jakarta.txt\n",
      "dec-21_karachi.txt ----> 12-21-karachi.txt\n",
      "jan-01_tokyo.txt ----> 01-01-tokyo.txt\n"
     ]
    }
   ],
   "source": [
    "file_list = ['oct-08_singapore.txt', 'jul-10_cairo.txt', 'may-15_dhaka.txt',\n",
    " 'may-13_cairo.txt', 'oct-21_cairo.txt', 'jan-10_singapore.txt',\n",
    " 'jun-20_tokyo.txt', 'aug-06_jakarta.txt', 'dec-21_karachi.txt',\n",
    " 'jan-01_tokyo.txt']\n",
    "\n",
    "for old_file_name in file_list: \n",
    "    new_file_name = rename_my_file(old_file_name)\n",
    "    print(f\"{old_file_name} ----> {new_file_name}\")"
   ]
  },
  {
   "cell_type": "markdown",
   "id": "c57d562f-6a93-4f09-9cb7-8b12bbe095d9",
   "metadata": {},
   "source": [
    "## Task 4"
   ]
  },
  {
   "cell_type": "code",
   "execution_count": 9,
   "id": "1d75c4f2-4f5c-4e44-9074-62167de98329",
   "metadata": {},
   "outputs": [],
   "source": [
    "import os \n",
    "import glob\n",
    "import shutil"
   ]
  },
  {
   "cell_type": "code",
   "execution_count": null,
   "id": "47dfaf59-67af-4026-8785-2db82e4f315b",
   "metadata": {},
   "outputs": [],
   "source": [
    "file_path = os.path.join('second-os-collaboration-exercise-data','*.txt')\n",
    "\n",
    "txt_files = glob.glob(file_path)\n",
    "\n",
    "for file_path in txt_files: \n",
    "    try:\n",
    "        path, old_file_name = os.path.split(file_path)\n",
    "        new_file_name = rename_my_file(old_file_name)\n",
    "        new_file_path = os.path.join('second-os-collaboration-exercise-data',new_file_name)\n",
    "        os.rename(file_path, new_file_path)\n",
    "        print(f'{file_path} ----> {new_file_path}')\n",
    "    except \n",
    "        print(f'{path} already exists; skipping creation.')"
   ]
  },
  {
   "cell_type": "code",
   "execution_count": 12,
   "id": "c9b191d3-d159-414b-9893-28cf791096a8",
   "metadata": {},
   "outputs": [
    {
     "name": "stdout",
     "output_type": "stream",
     "text": [
      "second-os-collaboration-exercise-data already exists; skipping creation.\n",
      "second-os-collaboration-exercise-data already exists; skipping creation.\n"
     ]
    },
    {
     "ename": "KeyError",
     "evalue": "'07'",
     "output_type": "error",
     "traceback": [
      "\u001b[0;31m---------------------------------------------------------------------------\u001b[0m",
      "\u001b[0;31mKeyError\u001b[0m                                  Traceback (most recent call last)",
      "Cell \u001b[0;32mIn[12], line 7\u001b[0m\n\u001b[1;32m      5\u001b[0m \u001b[38;5;28;01mfor\u001b[39;00m file_path \u001b[38;5;129;01min\u001b[39;00m txt_files: \n\u001b[1;32m      6\u001b[0m         path, old_file_name \u001b[38;5;241m=\u001b[39m os\u001b[38;5;241m.\u001b[39mpath\u001b[38;5;241m.\u001b[39msplit(file_path)\n\u001b[0;32m----> 7\u001b[0m         new_file_name \u001b[38;5;241m=\u001b[39m \u001b[43mrename_my_file\u001b[49m\u001b[43m(\u001b[49m\u001b[43mold_file_name\u001b[49m\u001b[43m)\u001b[49m\n\u001b[1;32m      8\u001b[0m         new_file_path \u001b[38;5;241m=\u001b[39m os\u001b[38;5;241m.\u001b[39mpath\u001b[38;5;241m.\u001b[39mjoin(\u001b[38;5;124m'\u001b[39m\u001b[38;5;124msecond-os-collaboration-exercise-data\u001b[39m\u001b[38;5;124m'\u001b[39m,new_file_name)\n\u001b[1;32m     10\u001b[0m         \u001b[38;5;28;01mif\u001b[39;00m os\u001b[38;5;241m.\u001b[39mpath\u001b[38;5;241m.\u001b[39mexists(new_file_path): \n",
      "Cell \u001b[0;32mIn[3], line 5\u001b[0m, in \u001b[0;36mrename_my_file\u001b[0;34m(old_file_name)\u001b[0m\n\u001b[1;32m      3\u001b[0m time_country \u001b[38;5;241m=\u001b[39m  old_file_name\u001b[38;5;241m.\u001b[39msplit(\u001b[38;5;124m\"\u001b[39m\u001b[38;5;124m_\u001b[39m\u001b[38;5;124m\"\u001b[39m)  \n\u001b[1;32m      4\u001b[0m month_day \u001b[38;5;241m=\u001b[39m time_country[\u001b[38;5;241m0\u001b[39m]\u001b[38;5;241m.\u001b[39msplit(\u001b[38;5;124m\"\u001b[39m\u001b[38;5;124m-\u001b[39m\u001b[38;5;124m\"\u001b[39m)\n\u001b[0;32m----> 5\u001b[0m month \u001b[38;5;241m=\u001b[39m \u001b[43mdictionary\u001b[49m\u001b[43m[\u001b[49m\u001b[43mmonth_day\u001b[49m\u001b[43m[\u001b[49m\u001b[38;5;241;43m0\u001b[39;49m\u001b[43m]\u001b[49m\u001b[43m]\u001b[49m     \n\u001b[1;32m      6\u001b[0m day \u001b[38;5;241m=\u001b[39m month_day[\u001b[38;5;241m1\u001b[39m]\n\u001b[1;32m      7\u001b[0m new_file_name \u001b[38;5;241m=\u001b[39m \u001b[38;5;124mf\u001b[39m\u001b[38;5;124m'\u001b[39m\u001b[38;5;132;01m{\u001b[39;00mmonth\u001b[38;5;132;01m}\u001b[39;00m\u001b[38;5;124m-\u001b[39m\u001b[38;5;132;01m{\u001b[39;00mday\u001b[38;5;132;01m}\u001b[39;00m\u001b[38;5;124m-\u001b[39m\u001b[38;5;132;01m{\u001b[39;00mtime_country[\u001b[38;5;241m1\u001b[39m]\u001b[38;5;132;01m}\u001b[39;00m\u001b[38;5;124m'\u001b[39m       \u001b[38;5;66;03m# Initially I put print here, but couldn't get the right output \u001b[39;00m\n",
      "\u001b[0;31mKeyError\u001b[0m: '07'"
     ]
    }
   ],
   "source": [
    "file_path = os.path.join('second-os-collaboration-exercise-data','*.txt')\n",
    "\n",
    "txt_files = glob.glob(file_path)\n",
    "\n",
    "for file_path in txt_files: \n",
    "        path, old_file_name = os.path.split(file_path)\n",
    "        new_file_name = rename_my_file(old_file_name)\n",
    "        new_file_path = os.path.join('second-os-collaboration-exercise-data',new_file_name)\n",
    "    \n",
    "        if os.path.exists(new_file_path): \n",
    "            print(f'{path} already exists; skipping creation.')\n",
    "        \n",
    "        else: \n",
    "            os.mkdir(new_file_path)\n",
    "            print(f'Creating {new_file_path}')"
   ]
  },
  {
   "cell_type": "markdown",
   "id": "de610030-df34-4938-a778-e2905622f897",
   "metadata": {},
   "source": [
    "# First attempt"
   ]
  },
  {
   "cell_type": "markdown",
   "id": "88989076-e98f-430a-86e3-c0c4e9e451f6",
   "metadata": {},
   "source": [
    "## Task 1"
   ]
  },
  {
   "cell_type": "markdown",
   "id": "2a68eab4-7aa9-4ab8-97ca-0833e096caa2",
   "metadata": {},
   "source": [
    "We like to convert the filename to a more useful numerical format. Specifically, we want to convert month-date-city.txt. (i.e. may-10-singapore.txt) to a mm-dd-city.txt (i.e. 05-10-singapore.txt) format.\n",
    "\n",
    "Using the following dictionary (or otherwise), write a snippet of Python code to convert 'oct-08_singapore.txt' to 10-08-singapore.txt."
   ]
  },
  {
   "cell_type": "code",
   "execution_count": 1,
   "id": "88006e9e-4f0c-4f3d-a085-76a3d8100e62",
   "metadata": {},
   "outputs": [],
   "source": [
    "import glob\n",
    "import os \n",
    "import shutil"
   ]
  },
  {
   "cell_type": "code",
   "execution_count": 2,
   "id": "af1b5921-5dc7-4387-a0ae-9067f5146300",
   "metadata": {},
   "outputs": [
    {
     "data": {
      "text/plain": [
       "['../6.2_files,_folders_&_os__exercises/files,_folders_&_os_(need)_exercises.ipynb',\n",
       " '../6.2_files,_folders_&_os__exercises/os-collaboration-exercise-data.zip',\n",
       " '../6.2_files,_folders_&_os__exercises/os-collaboration-exercise-data']"
      ]
     },
     "execution_count": 2,
     "metadata": {},
     "output_type": "execute_result"
    }
   ],
   "source": [
    "glob.glob('../6.2*/*') "
   ]
  },
  {
   "cell_type": "code",
   "execution_count": 3,
   "id": "552d713a-25f3-4f46-b1b4-1b7102ffe34d",
   "metadata": {},
   "outputs": [
    {
     "name": "stdout",
     "output_type": "stream",
     "text": [
      "['oct-08', 'singapore.txt']\n",
      "['oct', '08']\n",
      "10-08-singapore.txt\n"
     ]
    }
   ],
   "source": [
    "dictionary = {\n",
    "'jan': '01', 'feb': '02', 'mar': '03',\n",
    "'apr': '04', 'may': '05', 'jun': '06',\n",
    "'jul': '07', 'aug': '08', 'sep': '09',\n",
    "'oct': '10', 'nov': '11', 'dec': '12'\n",
    "}\n",
    "\n",
    "old_file_name = 'oct-08_singapore.txt'\n",
    "\n",
    "time_country =  old_file_name.split(\"_\") # Split time and country separately \n",
    "\n",
    "print(time_country) # Checking what is output\n",
    "\n",
    "# Split Month & Day separately \n",
    "\n",
    "month_day = time_country[0].split(\"-\")\n",
    "\n",
    "print(month_day) # Checking what is output\n",
    "\n",
    "month = dictionary[month_day[0]]      # Looking in the dictionary, specifically key, which one is oct \n",
    "\n",
    "day = month_day[1]\n",
    "\n",
    "new_file_name = print(f'{month}-{day}-{time_country[1]}')"
   ]
  },
  {
   "cell_type": "markdown",
   "id": "414f8896-e026-42f0-92ec-833bfda077ed",
   "metadata": {},
   "source": [
    "## Task 2"
   ]
  },
  {
   "cell_type": "markdown",
   "id": "c4c67ef2-b3d8-4e6a-979e-82dec32c7baa",
   "metadata": {},
   "source": [
    "Incorporate your previous code into a function named rename_my_file(old_file_name) that accepts the old filename as the argument and returns the new file name."
   ]
  },
  {
   "cell_type": "code",
   "execution_count": 4,
   "id": "feecbf25-471b-418a-8806-8d53c9159054",
   "metadata": {},
   "outputs": [
    {
     "data": {
      "text/plain": [
       "'10-08-singapore.txt'"
      ]
     },
     "execution_count": 4,
     "metadata": {},
     "output_type": "execute_result"
    }
   ],
   "source": [
    "def rename_my_file(old_file_name): \n",
    "    time_country =  old_file_name.split(\"_\")  \n",
    "    month_day = time_country[0].split(\"-\")\n",
    "    month = dictionary[month_day[0]]     \n",
    "    day = month_day[1]\n",
    "    new_file_name = f'{month}-{day}-{time_country[1]}'       # Initially I put print here, but couldn't get the right output \n",
    "    return new_file_name                                     # Because print displays output but doesn't return a value\n",
    "\n",
    "rename_my_file('oct-08_singapore.txt')"
   ]
  },
  {
   "cell_type": "markdown",
   "id": "b50bbef3-5de9-4c52-8db8-0b7266c1897b",
   "metadata": {},
   "source": [
    "## Task 3"
   ]
  },
  {
   "cell_type": "markdown",
   "id": "99664a58-dbfa-4bbb-8a1f-cd3ee4483ed4",
   "metadata": {},
   "source": [
    "Use a for loop to apply the function rename_my_file() to the file list below:\n",
    "\n",
    "['oct-08_singapore.txt', 'jul-10_cairo.txt', 'may-15_dhaka.txt',\n",
    " 'may-13_cairo.txt', 'oct-21_cairo.txt', 'jan-10_singapore.txt',\n",
    " 'jun-20_tokyo.txt', 'aug-06_jakarta.txt', 'dec-21_karachi.txt',\n",
    " 'jan-01_tokyo.txt']\n",
    "\n",
    "Print out your progress in the form old-file-name ----> new-file-name"
   ]
  },
  {
   "cell_type": "code",
   "execution_count": 5,
   "id": "153c0bd2-d0c6-4441-b154-8f00aef37fd7",
   "metadata": {},
   "outputs": [
    {
     "name": "stdout",
     "output_type": "stream",
     "text": [
      "oct-08_singapore.txt ----> 10-08-singapore.txt\n",
      "jul-10_cairo.txt ----> 07-10-cairo.txt\n",
      "may-15_dhaka.txt ----> 05-15-dhaka.txt\n",
      "may-13_cairo.txt ----> 05-13-cairo.txt\n",
      "oct-21_cairo.txt ----> 10-21-cairo.txt\n",
      "jan-10_singapore.txt ----> 01-10-singapore.txt\n",
      "jun-20_tokyo.txt ----> 06-20-tokyo.txt\n",
      "aug-06_jakarta.txt ----> 08-06-jakarta.txt\n",
      "dec-21_karachi.txt ----> 12-21-karachi.txt\n",
      "jan-01_tokyo.txt ----> 01-01-tokyo.txt\n"
     ]
    }
   ],
   "source": [
    "file_list = ['oct-08_singapore.txt', 'jul-10_cairo.txt', 'may-15_dhaka.txt',\n",
    " 'may-13_cairo.txt', 'oct-21_cairo.txt', 'jan-10_singapore.txt',\n",
    " 'jun-20_tokyo.txt', 'aug-06_jakarta.txt', 'dec-21_karachi.txt',\n",
    " 'jan-01_tokyo.txt']\n",
    "\n",
    "for old_file_name in file_list: \n",
    "    new_file_name = rename_my_file(old_file_name)\n",
    "    print(f\"{old_file_name} ----> {new_file_name}\")"
   ]
  },
  {
   "cell_type": "markdown",
   "id": "c587dd49-079c-42b7-b169-1d4dbc7c1dbc",
   "metadata": {},
   "source": [
    "## Task 4"
   ]
  },
  {
   "cell_type": "code",
   "execution_count": 6,
   "id": "969b50ca-0632-4ab7-8e39-ecc20cf6be23",
   "metadata": {},
   "outputs": [
    {
     "ename": "KeyError",
     "evalue": "'09'",
     "output_type": "error",
     "traceback": [
      "\u001b[0;31m---------------------------------------------------------------------------\u001b[0m",
      "\u001b[0;31mKeyError\u001b[0m                                  Traceback (most recent call last)",
      "Cell \u001b[0;32mIn[6], line 7\u001b[0m\n\u001b[1;32m      5\u001b[0m \u001b[38;5;28;01mfor\u001b[39;00m file_path \u001b[38;5;129;01min\u001b[39;00m txt_files:\n\u001b[1;32m      6\u001b[0m     path, old_file_name \u001b[38;5;241m=\u001b[39m os\u001b[38;5;241m.\u001b[39mpath\u001b[38;5;241m.\u001b[39msplit(file_path)\n\u001b[0;32m----> 7\u001b[0m     new_file_name \u001b[38;5;241m=\u001b[39m \u001b[43mrename_my_file\u001b[49m\u001b[43m(\u001b[49m\u001b[43mold_file_name\u001b[49m\u001b[43m)\u001b[49m\n\u001b[1;32m      8\u001b[0m     new_file_path \u001b[38;5;241m=\u001b[39m os\u001b[38;5;241m.\u001b[39mpath\u001b[38;5;241m.\u001b[39mjoin(\u001b[38;5;124m'\u001b[39m\u001b[38;5;124mos-collaboration-exercise-data\u001b[39m\u001b[38;5;124m'\u001b[39m,new_file_name)\n\u001b[1;32m      9\u001b[0m     \u001b[38;5;28;01mif\u001b[39;00m os\u001b[38;5;241m.\u001b[39mpath\u001b[38;5;241m.\u001b[39mexists(new_file_path):\n",
      "Cell \u001b[0;32mIn[4], line 4\u001b[0m, in \u001b[0;36mrename_my_file\u001b[0;34m(old_file_name)\u001b[0m\n\u001b[1;32m      2\u001b[0m time_country \u001b[38;5;241m=\u001b[39m  old_file_name\u001b[38;5;241m.\u001b[39msplit(\u001b[38;5;124m\"\u001b[39m\u001b[38;5;124m_\u001b[39m\u001b[38;5;124m\"\u001b[39m)  \n\u001b[1;32m      3\u001b[0m month_day \u001b[38;5;241m=\u001b[39m time_country[\u001b[38;5;241m0\u001b[39m]\u001b[38;5;241m.\u001b[39msplit(\u001b[38;5;124m\"\u001b[39m\u001b[38;5;124m-\u001b[39m\u001b[38;5;124m\"\u001b[39m)\n\u001b[0;32m----> 4\u001b[0m month \u001b[38;5;241m=\u001b[39m \u001b[43mdictionary\u001b[49m\u001b[43m[\u001b[49m\u001b[43mmonth_day\u001b[49m\u001b[43m[\u001b[49m\u001b[38;5;241;43m0\u001b[39;49m\u001b[43m]\u001b[49m\u001b[43m]\u001b[49m     \n\u001b[1;32m      5\u001b[0m day \u001b[38;5;241m=\u001b[39m month_day[\u001b[38;5;241m1\u001b[39m]\n\u001b[1;32m      6\u001b[0m new_file_name \u001b[38;5;241m=\u001b[39m \u001b[38;5;124mf\u001b[39m\u001b[38;5;124m'\u001b[39m\u001b[38;5;132;01m{\u001b[39;00mmonth\u001b[38;5;132;01m}\u001b[39;00m\u001b[38;5;124m-\u001b[39m\u001b[38;5;132;01m{\u001b[39;00mday\u001b[38;5;132;01m}\u001b[39;00m\u001b[38;5;124m-\u001b[39m\u001b[38;5;132;01m{\u001b[39;00mtime_country[\u001b[38;5;241m1\u001b[39m]\u001b[38;5;132;01m}\u001b[39;00m\u001b[38;5;124m'\u001b[39m       \u001b[38;5;66;03m# Initially I put print here, but couldn't get the right output \u001b[39;00m\n",
      "\u001b[0;31mKeyError\u001b[0m: '09'"
     ]
    }
   ],
   "source": [
    "file_path = os.path.join('os-collaboration-exercise-data','*.txt')\n",
    "\n",
    "txt_files = glob.glob(file_path)\n",
    "\n",
    "for file_path in txt_files:\n",
    "    path, old_file_name = os.path.split(file_path)\n",
    "    new_file_name = rename_my_file(old_file_name)\n",
    "    new_file_path = os.path.join('os-collaboration-exercise-data',new_file_name)\n",
    "    if os.path.exists(new_file_path):\n",
    "        print(f'{path} already exists; skipping creation.')\n",
    "    else:\n",
    "        os.mkdir(new_file_path)\n",
    "        print(f'{file_path} ----> {new_file_path}')"
   ]
  },
  {
   "cell_type": "code",
   "execution_count": null,
   "id": "e4a4730d-431f-48ed-9bcd-d1b83be7e1e3",
   "metadata": {},
   "outputs": [],
   "source": [
    "file_path = os.path.join('os-collaboration-exercise-data','*.txt')\n",
    "\n",
    "txt_files = glob.glob(file_path)\n",
    "\n",
    "for file_path in txt_files: \n",
    "    try:\n",
    "        path, old_file_name = os.path.split(file_path)\n",
    "        new_file_name = rename_my_file(old_file_name)\n",
    "        new_file_path = os.path.join('os-collaboration-exercise-data',new_file_name)\n",
    "        os.rename(file_path, new_file_path)\n",
    "        print(f'{file_path} ----> {new_file_path}')\n",
    "    except FileExistsError:\n",
    "        print(f'{path} already exists; skipping creation.')"
   ]
  },
  {
   "cell_type": "markdown",
   "id": "964dd790-e91b-44ea-ad21-bfcb6e2367d3",
   "metadata": {},
   "source": [
    "## Task 5"
   ]
  },
  {
   "cell_type": "code",
   "execution_count": null,
   "id": "ef6daadd-f82c-4d04-a943-cc9c13c7fbc2",
   "metadata": {},
   "outputs": [],
   "source": [
    "for city in ['Cairo', 'Dhaka', 'Jakarta', 'Karachi', 'Manila',\n",
    " 'Melbourne', 'Osaka', 'Shanghai', 'Singapore', 'Tokyo']:\n",
    "    path = os.path.join('os-collaboration-exercise-data', city)\n",
    "    if os.path.exists(path):\n",
    "        print(f'{path} already exists; skipping creation.')\n",
    "    else:\n",
    "        os.mkdir(path)\n",
    "        print(f'Creating {path}')"
   ]
  },
  {
   "cell_type": "markdown",
   "id": "a6262b8b-1937-4160-87f4-b82024d19257",
   "metadata": {},
   "source": [
    "## Task 6"
   ]
  },
  {
   "cell_type": "markdown",
   "id": "8268e446-cb24-4ead-8cf7-4de9f5cf2963",
   "metadata": {},
   "source": [
    "Use glob to list all the files from Cairo."
   ]
  },
  {
   "cell_type": "code",
   "execution_count": null,
   "id": "0ab03b23-e423-473a-9e4f-738ac6c3ddc8",
   "metadata": {},
   "outputs": [],
   "source": [
    "glob.glob('os-collaboration-exercise-data/*cairo.txt')"
   ]
  },
  {
   "cell_type": "markdown",
   "id": "7fdce31d-0f3e-4127-bd7c-b5c4f2b75b1e",
   "metadata": {},
   "source": [
    "Now use a for loop and shutil.copy() to copy all the files related to Cairo to the corresponding folder you created."
   ]
  },
  {
   "cell_type": "code",
   "execution_count": null,
   "id": "8e61fb92-58b5-4cd1-bdf6-ae6d6f82a2bb",
   "metadata": {},
   "outputs": [],
   "source": [
    "joining_paths = os.path.join('os-collaboration-exercise-data','*cairo.txt')\n",
    "cairo_files = glob.glob(joining_paths)\n",
    "\n",
    "\n",
    "for cairo_file in cairo_files: \n",
    "    path_to_destination = os.path.join('os-collaboration-exercise-data', 'Cairo')\n",
    "    shutil.copy(cairo_file, path_to_destination)\n",
    "    print(f'Copied file to {path_to_destination}')"
   ]
  },
  {
   "cell_type": "markdown",
   "id": "37fc9303-68e0-456c-bd58-ab79da34dadd",
   "metadata": {},
   "source": [
    "## Task 7"
   ]
  },
  {
   "cell_type": "code",
   "execution_count": null,
   "id": "f968fd84-cdc8-4063-83d3-60dc5881a674",
   "metadata": {},
   "outputs": [],
   "source": [
    "city_list = ['Cairo', 'Dhaka', 'Jakarta', 'Karachi', 'Manila',\n",
    " 'Melbourne', 'Osaka', 'Shanghai', 'Singapore', 'Tokyo']\n",
    "\n",
    "for city in city_list: \n",
    "    city_files = glob.glob(os.path.join('os-collaboration-exercise-data', f'*{city.lower()}.txt'))\n",
    "    path_to_all_new_destination = os.path.join('os-collaboration-exercise-data', city)\n",
    "    existing_files = glob.glob(os.path.join('os-collaboration-exercise-data', city, f'*{city.lower()}.txt'))\n",
    "    for file in city_files:\n",
    "        if not existing_files:\n",
    "            print(f'{file} has been moved to {path_to_all_new_destination}')\n",
    "            shutil.move(file, path_to_all_new_destination)\n",
    "        else: \n",
    "            print('Exists')"
   ]
  }
 ],
 "metadata": {
  "kernelspec": {
   "display_name": "Python 3 (ipykernel)",
   "language": "python",
   "name": "python3"
  },
  "language_info": {
   "codemirror_mode": {
    "name": "ipython",
    "version": 3
   },
   "file_extension": ".py",
   "mimetype": "text/x-python",
   "name": "python",
   "nbconvert_exporter": "python",
   "pygments_lexer": "ipython3",
   "version": "3.12.2"
  },
  "toc": {
   "base_numbering": 1,
   "nav_menu": {},
   "number_sections": true,
   "sideBar": true,
   "skip_h1_title": false,
   "title_cell": "Table of Contents",
   "title_sidebar": "Contents",
   "toc_cell": false,
   "toc_position": {},
   "toc_section_display": true,
   "toc_window_display": false
  },
  "vscode": {
   "interpreter": {
    "hash": "31f2aee4e71d21fbe5cf8b01ff0e069b9275f58929596ceb00d14d90e3e16cd6"
   }
  }
 },
 "nbformat": 4,
 "nbformat_minor": 5
}
