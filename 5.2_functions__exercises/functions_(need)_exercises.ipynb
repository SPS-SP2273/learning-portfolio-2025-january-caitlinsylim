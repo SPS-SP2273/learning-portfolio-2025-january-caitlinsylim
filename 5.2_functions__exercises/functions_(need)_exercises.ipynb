{
 "cells": [
  {
   "attachments": {},
   "cell_type": "markdown",
   "id": "123456",
   "metadata": {},
   "source": [
    "<div style=\"text-align:left;font-size:2em\"><span style=\"font-weight:bolder;font-size:1.25em\">SP2273 | Learning Portfolio</span><br><br><span style=\"font-weight:bold;color:darkred\">Functions (Need) Exercises</span></div>"
   ]
  },
  {
   "cell_type": "markdown",
   "id": "4baa3eec-05a1-4a39-a506-06bd53ae9446",
   "metadata": {},
   "source": [
    "## Exercise 2 Reattempt (Ignore)"
   ]
  },
  {
   "cell_type": "code",
   "execution_count": 29,
   "id": "28c7e4e8-83ac-45da-8c65-cfef1d54fe0b",
   "metadata": {},
   "outputs": [
    {
     "name": "stdout",
     "output_type": "stream",
     "text": [
      "Obese\n"
     ]
    },
    {
     "data": {
      "text/plain": [
       "43.7044745057232"
      ]
     },
     "execution_count": 29,
     "metadata": {},
     "output_type": "execute_result"
    }
   ],
   "source": [
    "def BMI(weight,height):\n",
    "    BMI = weight / (height ** 2)\n",
    "    if BMI <= 18.5:\n",
    "        print('Underweight')\n",
    "    elif 18.5 <= BMI <= 24.9:\n",
    "        print('Normal Weight')\n",
    "    elif 25 <= BMI <= 29.9:\n",
    "        print('Overweight')\n",
    "    else: \n",
    "        print('Obese')\n",
    "    return(BMI)\n",
    "\n",
    "BMI(105,1.55)"
   ]
  },
  {
   "cell_type": "markdown",
   "id": "0f8ab9de-b3a9-4523-8fb0-660c2009dc8b",
   "metadata": {},
   "source": [
    "## Exercise 3 Reattempt (Ignore)"
   ]
  },
  {
   "cell_type": "code",
   "execution_count": 38,
   "id": "09012a57-1214-4041-a572-8b400e49fe66",
   "metadata": {},
   "outputs": [
    {
     "data": {
      "text/plain": [
       "265252859812191058636308480000000"
      ]
     },
     "execution_count": 38,
     "metadata": {},
     "output_type": "execute_result"
    }
   ],
   "source": [
    "def fac(n): \n",
    "    if n < 0: \n",
    "        print('Error')\n",
    "    else:\n",
    "        result = 1        # initialise result \n",
    "        while n > 0: \n",
    "            result *= n     # multiply result by n\n",
    "            n -= 1         # decrease n \n",
    "        return result       # return computed factorial \n",
    " \n",
    "\n",
    "fac(30)"
   ]
  },
  {
   "cell_type": "markdown",
   "id": "bb3ddadd-d531-4042-8529-3ebc9deb89eb",
   "metadata": {},
   "source": [
    "## Exercise 1"
   ]
  },
  {
   "cell_type": "markdown",
   "id": "393167b0-b160-449c-98c2-7fc79dfcc90f",
   "metadata": {},
   "source": [
    "The following code works as expected despite not having an else statement. Please use a Markdown cell to explain why?"
   ]
  },
  {
   "cell_type": "code",
   "execution_count": 6,
   "id": "245b433f-5d8b-482c-836f-e0f7d5b871a0",
   "metadata": {},
   "outputs": [],
   "source": [
    "def greeting(name):\n",
    "    if name == 'Batman':\n",
    "        return 'Hello Batman! So, nice to meet you!'\n",
    "    return f'Hello {name}!'"
   ]
  },
  {
   "cell_type": "code",
   "execution_count": 7,
   "id": "fc651a16-0da8-48bd-9a81-8868733f4a70",
   "metadata": {},
   "outputs": [
    {
     "data": {
      "text/plain": [
       "'Hello Super Man!'"
      ]
     },
     "execution_count": 7,
     "metadata": {},
     "output_type": "execute_result"
    }
   ],
   "source": [
    "greeting(\"Super Man\")"
   ]
  },
  {
   "cell_type": "markdown",
   "id": "101cb620-c8a2-4f4e-9df2-d01404b1183c",
   "metadata": {},
   "source": [
    "Because there is 'return'. Return is a keyword to get an output from the \"if\" function. Therefore, the return acts like 'else' and there will be an output\n",
    "\n",
    "Mentor's comment: \"Return\" indicates output of the function. Therefore, when \"return\" is run in the function, the output is produced and the function knows that it has done its job, so it's exited!"
   ]
  },
  {
   "cell_type": "markdown",
   "id": "835fba3f-a842-46b2-929a-43896fec5f96",
   "metadata": {},
   "source": [
    "## Exercise 2"
   ]
  },
  {
   "cell_type": "markdown",
   "id": "b18d6717-8676-48a0-8164-29eb2f7bf3ce",
   "metadata": {},
   "source": [
    "Write a Python function named calculate_bmi."
   ]
  },
  {
   "cell_type": "code",
   "execution_count": 48,
   "id": "c7c3c480-9ed6-49e6-993d-04abd62a5582",
   "metadata": {},
   "outputs": [
    {
     "name": "stdin",
     "output_type": "stream",
     "text": [
      "What is your weight in kg? 72\n",
      "What is your height in m? 1.55\n"
     ]
    },
    {
     "name": "stdout",
     "output_type": "stream",
     "text": [
      "29.968782518210194\n",
      "Overweight\n"
     ]
    }
   ],
   "source": [
    "weight = float(input(\"What is your weight in kg?\"))\n",
    "\n",
    "height = float(input(\"What is your height in m?\"))\n",
    "\n",
    "BMI = weight / (height ** 2) \n",
    "\n",
    "print(BMI) \n",
    "\n",
    "if BMI < 18.5:\n",
    "    print('Underweight')\n",
    "elif 18.5 <= BMI < 25: \n",
    "    print('Normal weight')\n",
    "elif 25 <= BMI < 30:\n",
    "    print('Overweight')\n",
    "else:\n",
    "    print('Obese')"
   ]
  },
  {
   "cell_type": "markdown",
   "id": "8f4931e8-4126-4231-aabb-1191fe701cef",
   "metadata": {},
   "source": [
    "thought process:\n",
    "> let user input weight and height \n",
    "> compute BMI using formula \n",
    "> printing BMI category: \n",
    ">> if BMI ==... "
   ]
  },
  {
   "cell_type": "markdown",
   "id": "08e1cd99-68a6-4305-8727-993153b7385e",
   "metadata": {},
   "source": [
    "## Exercise 3"
   ]
  },
  {
   "cell_type": "markdown",
   "id": "661b1b7a-0a24-46e8-89d2-5775ab589af1",
   "metadata": {},
   "source": [
    "Write a function that accepts an integer n and returns its factorial. Ensure that your function gracefully handles negative numbers."
   ]
  },
  {
   "cell_type": "markdown",
   "id": "daadc6a7-21d5-4231-9839-93d2f370094a",
   "metadata": {},
   "source": [
    "thought process: \n",
    "> if... n > 0, print...\n",
    "> else print('Error') "
   ]
  },
  {
   "cell_type": "code",
   "execution_count": 46,
   "id": "cc80961f-cfe2-48a8-9b2f-8701683092d0",
   "metadata": {},
   "outputs": [
    {
     "name": "stdin",
     "output_type": "stream",
     "text": [
      "What number? -5\n"
     ]
    },
    {
     "name": "stdout",
     "output_type": "stream",
     "text": [
      "Error\n"
     ]
    }
   ],
   "source": [
    "import math\n",
    "\n",
    "n = int(input(\"What number?\"))\n",
    "\n",
    "if n >= 0:\n",
    "    factorial_n = math.factorial(n)\n",
    "    print(factorial_n)\n",
    "else: \n",
    "    print('Error')"
   ]
  },
  {
   "cell_type": "code",
   "execution_count": 33,
   "id": "c32c099f-0872-4bfa-b99a-afaf8325539e",
   "metadata": {},
   "outputs": [
    {
     "data": {
      "text/plain": [
       "120"
      ]
     },
     "execution_count": 33,
     "metadata": {},
     "output_type": "execute_result"
    }
   ],
   "source": [
    "# IGNORE - getting factorial: \n",
    "\n",
    "import math\n",
    "math.factorial(5)"
   ]
  },
  {
   "cell_type": "code",
   "execution_count": 61,
   "id": "00b65125-dd18-4aa0-9442-d48598a2e8e3",
   "metadata": {},
   "outputs": [],
   "source": [
    "# IGNORE def factorial(n): \n",
    "    if n < 0:\n",
    "        return \n",
    "    elif n >= 0: \n",
    "        print('Error')\n",
    "\n",
    "factorial(-1)"
   ]
  },
  {
   "cell_type": "code",
   "execution_count": 40,
   "id": "d02c527f-cfad-4d77-bbfe-f2b62242701e",
   "metadata": {},
   "outputs": [],
   "source": [
    "# IGNORE def factorial(n):\n",
    "    fact = 1\n",
    "    for num in range(2, n + 1):\n",
    "        fact *= num\n",
    "    return fact"
   ]
  },
  {
   "cell_type": "code",
   "execution_count": 57,
   "id": "8b02978f-52c3-4acf-a011-729acaf6efbc",
   "metadata": {},
   "outputs": [
    {
     "data": {
      "text/plain": [
       "3"
      ]
     },
     "execution_count": 57,
     "metadata": {},
     "output_type": "execute_result"
    }
   ],
   "source": [
    "# IGNORE def add(x,y):\n",
    "    return x + y\n",
    "\n",
    "add(1,2)"
   ]
  }
 ],
 "metadata": {
  "kernelspec": {
   "display_name": "Python 3 (ipykernel)",
   "language": "python",
   "name": "python3"
  },
  "language_info": {
   "codemirror_mode": {
    "name": "ipython",
    "version": 3
   },
   "file_extension": ".py",
   "mimetype": "text/x-python",
   "name": "python",
   "nbconvert_exporter": "python",
   "pygments_lexer": "ipython3",
   "version": "3.12.2"
  },
  "toc": {
   "base_numbering": 1,
   "nav_menu": {},
   "number_sections": true,
   "sideBar": true,
   "skip_h1_title": false,
   "title_cell": "Table of Contents",
   "title_sidebar": "Contents",
   "toc_cell": false,
   "toc_position": {},
   "toc_section_display": true,
   "toc_window_display": false
  },
  "vscode": {
   "interpreter": {
    "hash": "31f2aee4e71d21fbe5cf8b01ff0e069b9275f58929596ceb00d14d90e3e16cd6"
   }
  }
 },
 "nbformat": 4,
 "nbformat_minor": 5
}
