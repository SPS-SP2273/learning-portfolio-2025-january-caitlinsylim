{
 "cells": [
  {
   "attachments": {},
   "cell_type": "markdown",
   "id": "123456",
   "metadata": {},
   "source": [
    "<div style=\"text-align:left;font-size:2em\"><span style=\"font-weight:bolder;font-size:1.25em\">SP2273 | Learning Portfolio</span><br><br><span style=\"font-weight:bold;color:darkred\">Functions (Need) Exercises</span></div>"
   ]
  },
  {
   "cell_type": "markdown",
   "id": "bb3ddadd-d531-4042-8529-3ebc9deb89eb",
   "metadata": {},
   "source": [
    "## Exercise 1"
   ]
  },
  {
   "cell_type": "markdown",
   "id": "393167b0-b160-449c-98c2-7fc79dfcc90f",
   "metadata": {},
   "source": [
    "The following code works as expected despite not having an else statement. Please use a Markdown cell to explain why?"
   ]
  },
  {
   "cell_type": "code",
   "execution_count": 6,
   "id": "245b433f-5d8b-482c-836f-e0f7d5b871a0",
   "metadata": {},
   "outputs": [],
   "source": [
    "def greeting(name):\n",
    "    if name == 'Batman':\n",
    "        return 'Hello Batman! So, nice to meet you!'\n",
    "    return f'Hello {name}!'"
   ]
  },
  {
   "cell_type": "code",
   "execution_count": 7,
   "id": "fc651a16-0da8-48bd-9a81-8868733f4a70",
   "metadata": {},
   "outputs": [
    {
     "data": {
      "text/plain": [
       "'Hello Super Man!'"
      ]
     },
     "execution_count": 7,
     "metadata": {},
     "output_type": "execute_result"
    }
   ],
   "source": [
    "greeting(\"Super Man\")"
   ]
  },
  {
   "cell_type": "markdown",
   "id": "101cb620-c8a2-4f4e-9df2-d01404b1183c",
   "metadata": {},
   "source": [
    "Because there is 'return'. Return is a keyword to get an output from the \"if\" function. Therefore, the return acts like 'else' and there will be an output "
   ]
  },
  {
   "cell_type": "markdown",
   "id": "835fba3f-a842-46b2-929a-43896fec5f96",
   "metadata": {},
   "source": [
    "## Exercise 2"
   ]
  },
  {
   "cell_type": "markdown",
   "id": "b18d6717-8676-48a0-8164-29eb2f7bf3ce",
   "metadata": {},
   "source": [
    "Write a Python function named calculate_bmi."
   ]
  },
  {
   "cell_type": "code",
   "execution_count": 29,
   "id": "c7c3c480-9ed6-49e6-993d-04abd62a5582",
   "metadata": {},
   "outputs": [
    {
     "name": "stdin",
     "output_type": "stream",
     "text": [
      "What is your weight in kg? 45\n",
      "What is your height in m? 1.55\n"
     ]
    },
    {
     "name": "stdout",
     "output_type": "stream",
     "text": [
      "18.730489073881373\n",
      "Normal weight\n"
     ]
    }
   ],
   "source": [
    "weight = float(input(\"What is your weight in kg?\"))\n",
    "\n",
    "height = float(input(\"What is your height in m?\"))\n",
    "\n",
    "BMI = weight / (height ** 2) \n",
    "\n",
    "print(BMI) \n",
    "\n",
    "if BMI <= 18.5:\n",
    "    print('Underweight')\n",
    "elif 18.5 <= BMI <= 24.9: \n",
    "    print('Normal weight')\n",
    "elif 25 <= BMI <= 29.9:\n",
    "    print('Overweight')\n",
    "else:\n",
    "    print('Obese')"
   ]
  },
  {
   "cell_type": "markdown",
   "id": "8f4931e8-4126-4231-aabb-1191fe701cef",
   "metadata": {},
   "source": [
    "thought process:\n",
    "> let user input weight and height \n",
    "> compute BMI using formula \n",
    "> printing BMI category: \n",
    ">> if BMI ==... "
   ]
  },
  {
   "cell_type": "markdown",
   "id": "08e1cd99-68a6-4305-8727-993153b7385e",
   "metadata": {},
   "source": [
    "## Exercise 3"
   ]
  },
  {
   "cell_type": "markdown",
   "id": "661b1b7a-0a24-46e8-89d2-5775ab589af1",
   "metadata": {},
   "source": [
    "Write a function that accepts an integer n and returns its factorial. Ensure that your function gracefully handles negative numbers."
   ]
  },
  {
   "cell_type": "markdown",
   "id": "daadc6a7-21d5-4231-9839-93d2f370094a",
   "metadata": {},
   "source": [
    "thought process: \n",
    "> if... n > 0, print...\n",
    "> else print('Error') "
   ]
  },
  {
   "cell_type": "code",
   "execution_count": 46,
   "id": "cc80961f-cfe2-48a8-9b2f-8701683092d0",
   "metadata": {},
   "outputs": [
    {
     "name": "stdin",
     "output_type": "stream",
     "text": [
      "What number? -5\n"
     ]
    },
    {
     "name": "stdout",
     "output_type": "stream",
     "text": [
      "Error\n"
     ]
    }
   ],
   "source": [
    "import math\n",
    "\n",
    "n = int(input(\"What number?\"))\n",
    "\n",
    "if n >= 0:\n",
    "    factorial_n = math.factorial(n)\n",
    "    print(factorial_n)\n",
    "else: \n",
    "    print('Error')"
   ]
  },
  {
   "cell_type": "code",
   "execution_count": 33,
   "id": "c32c099f-0872-4bfa-b99a-afaf8325539e",
   "metadata": {},
   "outputs": [
    {
     "data": {
      "text/plain": [
       "120"
      ]
     },
     "execution_count": 33,
     "metadata": {},
     "output_type": "execute_result"
    }
   ],
   "source": [
    "#getting factorial: \n",
    "\n",
    "import math\n",
    "math.factorial(5)"
   ]
  },
  {
   "cell_type": "code",
   "execution_count": 61,
   "id": "00b65125-dd18-4aa0-9442-d48598a2e8e3",
   "metadata": {},
   "outputs": [],
   "source": [
    "def factorial(n): \n",
    "    if n < 0:\n",
    "        return \n",
    "    elif n >= 0: \n",
    "        print('Error')\n",
    "\n",
    "factorial(-1)"
   ]
  },
  {
   "cell_type": "code",
   "execution_count": null,
   "id": "19c8f14f-01d5-4606-9f96-cbc39dcf8235",
   "metadata": {},
   "outputs": [],
   "source": []
  },
  {
   "cell_type": "code",
   "execution_count": 40,
   "id": "d02c527f-cfad-4d77-bbfe-f2b62242701e",
   "metadata": {},
   "outputs": [],
   "source": [
    "def factorial(n):\n",
    "    fact = 1\n",
    "    for num in range(2, n + 1):\n",
    "        fact *= num\n",
    "    return fact"
   ]
  },
  {
   "cell_type": "code",
   "execution_count": 57,
   "id": "8b02978f-52c3-4acf-a011-729acaf6efbc",
   "metadata": {},
   "outputs": [
    {
     "data": {
      "text/plain": [
       "3"
      ]
     },
     "execution_count": 57,
     "metadata": {},
     "output_type": "execute_result"
    }
   ],
   "source": [
    "def add(x,y):\n",
    "    return x + y\n",
    "\n",
    "add(1,2)"
   ]
  },
  {
   "cell_type": "code",
   "execution_count": null,
   "id": "57531bb4-5b14-4bec-ab38-f87b93f0d3da",
   "metadata": {},
   "outputs": [],
   "source": []
  }
 ],
 "metadata": {
  "kernelspec": {
   "display_name": "Python 3 (ipykernel)",
   "language": "python",
   "name": "python3"
  },
  "language_info": {
   "codemirror_mode": {
    "name": "ipython",
    "version": 3
   },
   "file_extension": ".py",
   "mimetype": "text/x-python",
   "name": "python",
   "nbconvert_exporter": "python",
   "pygments_lexer": "ipython3",
   "version": "3.12.2"
  },
  "toc": {
   "base_numbering": 1,
   "nav_menu": {},
   "number_sections": true,
   "sideBar": true,
   "skip_h1_title": false,
   "title_cell": "Table of Contents",
   "title_sidebar": "Contents",
   "toc_cell": false,
   "toc_position": {},
   "toc_section_display": true,
   "toc_window_display": false
  },
  "vscode": {
   "interpreter": {
    "hash": "31f2aee4e71d21fbe5cf8b01ff0e069b9275f58929596ceb00d14d90e3e16cd6"
   }
  }
 },
 "nbformat": 4,
 "nbformat_minor": 5
}
