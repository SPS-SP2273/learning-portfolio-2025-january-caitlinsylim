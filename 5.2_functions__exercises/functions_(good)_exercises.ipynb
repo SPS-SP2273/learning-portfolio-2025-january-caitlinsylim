{
 "cells": [
  {
   "attachments": {},
   "cell_type": "markdown",
   "id": "123456",
   "metadata": {},
   "source": [
    "<div style=\"text-align:left;font-size:2em\"><span style=\"font-weight:bolder;font-size:1.25em\">SP2273 | Learning Portfolio</span><br><br><span style=\"font-weight:bold;color:darkred\">Functions (Good) Exercises</span></div>"
   ]
  },
  {
   "cell_type": "markdown",
   "id": "c56839f6-2109-42ed-b12e-f150f3b8a530",
   "metadata": {},
   "source": [
    "## Exercise 1 (Celcius to Fahrenheit or Kelvin)"
   ]
  },
  {
   "cell_type": "code",
   "execution_count": 77,
   "id": "72153473-2c28-4b42-b57e-a7bcfce38205",
   "metadata": {},
   "outputs": [
    {
     "data": {
      "text/plain": [
       "59.0"
      ]
     },
     "execution_count": 77,
     "metadata": {},
     "output_type": "execute_result"
    }
   ],
   "source": [
    "def convert_celsius_to_F(temperature_celsius):            # 2 arguments \n",
    "    return((temperature_celsius * 1.8)+32)\n",
    "\n",
    "convert_celsius_to_F(15)"
   ]
  },
  {
   "cell_type": "code",
   "execution_count": 78,
   "id": "1a107524-98c4-489b-ae09-e8557b8e7716",
   "metadata": {},
   "outputs": [
    {
     "data": {
      "text/plain": [
       "288.15"
      ]
     },
     "execution_count": 78,
     "metadata": {},
     "output_type": "execute_result"
    }
   ],
   "source": [
    "def convert_celsius_to_K(temperature_celsius):            # 2 arguments \n",
    "    return(temperature_celsius + 273.15)\n",
    "\n",
    "convert_celsius_to_K(15)"
   ]
  },
  {
   "cell_type": "code",
   "execution_count": 79,
   "id": "5526efe8-f0e4-4bc9-9040-c380abc64309",
   "metadata": {},
   "outputs": [
    {
     "data": {
      "text/plain": [
       "32.0"
      ]
     },
     "execution_count": 79,
     "metadata": {},
     "output_type": "execute_result"
    }
   ],
   "source": [
    "def convert_celsius(temperature_celsius, target_scale = 'Fahrenheit'):\n",
    "    if target_scale == 'Fahrenheit': \n",
    "        return((temperature_celsius * 1.8)+32)\n",
    "\n",
    "    elif target_scale == 'Kelvin': \n",
    "        return(temperature_celsius + 273.15)\n",
    "    else: \n",
    "        return('Error: Temperature scale is invalid')\n",
    "\n",
    "convert_celsius(0)"
   ]
  },
  {
   "cell_type": "code",
   "execution_count": 80,
   "id": "7d8b12ec-cd45-4b9f-a498-a8ded542935e",
   "metadata": {},
   "outputs": [
    {
     "data": {
      "text/plain": [
       "288.15"
      ]
     },
     "execution_count": 80,
     "metadata": {},
     "output_type": "execute_result"
    }
   ],
   "source": [
    "def convert_celsius(temperature_celsius, target_scale = 'Fahrenheit'):\n",
    "    if target_scale == 'Kelvin': \n",
    "        return(temperature_celsius + 273.15)\n",
    "    else: \n",
    "        return((temperature_celsius * 1.8)+32)\n",
    "\n",
    "convert_celsius(15, 'Kelvin')"
   ]
  },
  {
   "cell_type": "markdown",
   "id": "cc1bb419-5b61-49c9-8a10-9eb480669d5a",
   "metadata": {},
   "source": [
    "## Exercise 2 (Farenheit to Celsius or Kelvin)"
   ]
  },
  {
   "cell_type": "code",
   "execution_count": 66,
   "id": "4bf440ab-3822-4485-981d-4be0c7fb046b",
   "metadata": {},
   "outputs": [
    {
     "data": {
      "text/plain": [
       "'Error: Temperature scale is invalid'"
      ]
     },
     "execution_count": 66,
     "metadata": {},
     "output_type": "execute_result"
    }
   ],
   "source": [
    "def convert_fahrenheit(temperature_fahrenheit, target_scale = 'Celsius'):\n",
    "    if target_scale == 'Kelvin': \n",
    "        return((temperature_fahrenheit - 32) *(5/9) + 273.15)\n",
    "    elif target_scale == 'Celsius': \n",
    "        return((temperature_fahrenheit - 32) * (5/9))\n",
    "    else: \n",
    "        return('Error: Temperature scale is invalid')\n",
    "\n",
    "convert_farenheit(30, 'x')"
   ]
  },
  {
   "cell_type": "markdown",
   "id": "8db221c7-5e84-4ce0-a890-1d7d5b3ab056",
   "metadata": {},
   "source": [
    "## Exercise 3 (General Temp Conversion)"
   ]
  },
  {
   "cell_type": "markdown",
   "id": "5445bddc-2137-4aa4-b37d-262823a9b1f9",
   "metadata": {},
   "source": [
    "#### Using Another Function"
   ]
  },
  {
   "cell_type": "code",
   "execution_count": 92,
   "id": "76ec4fbe-a7fa-444d-ae2f-6fa7204254a2",
   "metadata": {},
   "outputs": [
    {
     "data": {
      "text/plain": [
       "50.0"
      ]
     },
     "execution_count": 92,
     "metadata": {},
     "output_type": "execute_result"
    }
   ],
   "source": [
    "def convert_kelvin(temperature_kelvin, target_scale = 'Celsius'):\n",
    "    if target_scale == 'Fahrenheit':\n",
    "        return((temperature_kelvin - 273.15)*1.8 + 32)\n",
    "    elif target_scale == 'Celsius':\n",
    "        return(temperature_kelvin - 273.15)\n",
    "    else: \n",
    "        return('Error: Temperature scale is invalid')\n",
    "\n",
    "def convert_celsius(temperature_celsius, target_scale = 'Fahrenheit'):\n",
    "    if target_scale == 'Kelvin': \n",
    "        return(temperature_celsius + 273.15)\n",
    "    elif target_scale == 'Fahrenheit': \n",
    "        return((temperature_celsius * 1.8)+32)\n",
    "    else: \n",
    "        return('Error: Temperature scale is invalid')\n",
    "\n",
    "def convert_fahrenheit(temperature_fahrenheit, target_scale = 'Celsius'):\n",
    "    if target_scale == 'Kelvin': \n",
    "        return((temperature_fahrenheit - 32) *(5/9) + 273.15)\n",
    "    elif target_scale == 'Celsius': \n",
    "        return((temperature_fahrenheit - 32) * (5/9))\n",
    "    else: \n",
    "        return('Error: Temperature scale is invalid')\n",
    "\n",
    "def convert_temperature(temperature, source_scale, target_scale):\n",
    "    if source_scale == 'Kelvin': \n",
    "        return convert_kelvin(temperature, target_scale)        # Initially I put temperature_kelvin instead of temp, same for all other scales\n",
    "    elif source_scale == 'Celsius':\n",
    "        return convert_celsius(temperature, target_scale)     # Error becos inside this \"def\" there is no temperature_kelvin, only temperature\n",
    "    elif source_scale == 'Fahrenheit': \n",
    "        return convert_fahrenheit(temperature, target_scale)   # Initially I put target_scale = 'Celsius' etc but got wrong ans. Bcos (see markdown cell below)\n",
    "    else: \n",
    "        return('Error: Source scale or target scale invalid')\n",
    "\n",
    "\n",
    "convert_temperature(10, 'Celsius', 'Fahrenheit')"
   ]
  },
  {
   "cell_type": "markdown",
   "id": "f23657d5-de6d-4a26-8eaf-a9a865683bc0",
   "metadata": {},
   "source": [
    "Thought process:\n",
    "When I put this line convert_temperature(10, 'Kelvin', 'Fahrenheit')\n",
    "- Look @ convert_temperature def --> temperature is 10, and source_scale is Kelvin\n",
    "- So it goes into first \"if\"\n",
    "- Because there is convert_kelvin inside --> go to convert_kelvin def (first chunk)\n",
    "- The temperature is 10, and target_scale = 'F' --> so it goes into first \"if\"\n",
    "\n",
    "target_scale is already set to a value in my convert_temperature(10, 'Celsius', 'Fahrenheit')? -> that's why it will go into the convert_celsius function & go to elif target_scale == 'Fahrenheit'. so I shouldn't put target_scale = 'Celsius' in my main function because target_scale can assume any value"
   ]
  },
  {
   "cell_type": "markdown",
   "id": "b2a400b0-64da-450c-90ef-cfb69d061ff4",
   "metadata": {},
   "source": [
    "#### Using If loop"
   ]
  },
  {
   "cell_type": "code",
   "execution_count": 40,
   "id": "5edbe8f4-66be-4394-82ae-30e9936d55f5",
   "metadata": {},
   "outputs": [
    {
     "data": {
      "text/plain": [
       "255.3722222222222"
      ]
     },
     "execution_count": 40,
     "metadata": {},
     "output_type": "execute_result"
    }
   ],
   "source": [
    "def convert_temperature(temperature, source_scale, target_scale):\n",
    "    if source_scale == 'Celsius' and target_scale == 'Kelvin':         # '&' is for integer & boolean, not on strings. for string use AND\n",
    "        return(temperature + 273.15)\n",
    "    elif source_scale == 'Celsius' and target_scale == 'Farenheit': \n",
    "        return((temperature * 1.8)+32)\n",
    "    elif source_scale == 'Kelvin' and target_scale == 'Farenheit':\n",
    "        return((temperature - 273.15)*1.8 + 32)\n",
    "    elif source_scale == 'Kelvin' and target_scale == 'Celsius':\n",
    "        return(temperature - 273.15)\n",
    "    elif source_scale == 'Farenheit' and target_scale == 'Celsius':\n",
    "        return((temperature - 32) * (5/9))   \n",
    " \n",
    "    return((temperature - 32) * (5/9) + 273.15)\n",
    "\n",
    "convert_temperature(0, 'Farenheit', 'Kelvin')"
   ]
  },
  {
   "cell_type": "markdown",
   "id": "4e61336c-4b20-4928-826d-6b5bc99f757c",
   "metadata": {},
   "source": [
    "#### Attempt using While Loop"
   ]
  },
  {
   "cell_type": "code",
   "execution_count": 46,
   "id": "cfd75ff1-3866-4b3b-87bd-8481e64b0e29",
   "metadata": {},
   "outputs": [
    {
     "data": {
      "text/plain": [
       "255.3722222222222"
      ]
     },
     "execution_count": 46,
     "metadata": {},
     "output_type": "execute_result"
    }
   ],
   "source": [
    "def convert_temperature(temperature, source_scale, target_scale):\n",
    "    while source_scale == 'Celsius':\n",
    "        if target_scale == 'Kelvin':         \n",
    "            return(temperature + 273.15)\n",
    "        return((temperature * 1.8)+32)    # celsius to F \n",
    "    while source_scale == 'Kelvin':\n",
    "        if target_scale == 'Celsius': \n",
    "            return(temperature - 273.15)\n",
    "        return((temperature - 273.15)*1.8 + 32)\n",
    "    while source_scale == 'Farenheit': \n",
    "        if target_scale == 'Celsius': \n",
    "            return((temperature - 32) * (5/9))\n",
    "        else: \n",
    "            return((temperature - 32) * (5/9) + 273.15)      # can remove else and align to left like above -> same result bcos it auto assumes\n",
    "\n",
    "convert_temperature(0, 'Farenheit', 'Kelvin')"
   ]
  },
  {
   "cell_type": "markdown",
   "id": "3a8a1ac3-a717-4ecb-a55e-ec20d0f87c36",
   "metadata": {},
   "source": [
    "### Food for Thought (IGNORE)"
   ]
  },
  {
   "cell_type": "code",
   "execution_count": 1,
   "id": "1a947b19-d862-46f6-b67d-a56cc060c176",
   "metadata": {},
   "outputs": [],
   "source": [
    "def giveno_v1(n):\n",
    "    return n\n",
    "\n",
    "def giveno_v2(n):\n",
    "    print(n)"
   ]
  },
  {
   "cell_type": "code",
   "execution_count": 2,
   "id": "1cff5cf5-4adb-4802-8cf2-7b5f357a447e",
   "metadata": {},
   "outputs": [
    {
     "data": {
      "text/plain": [
       "int"
      ]
     },
     "execution_count": 2,
     "metadata": {},
     "output_type": "execute_result"
    }
   ],
   "source": [
    "type(1)"
   ]
  },
  {
   "cell_type": "code",
   "execution_count": 4,
   "id": "fb5851f8-40c9-4423-b099-addb22f37db6",
   "metadata": {},
   "outputs": [
    {
     "data": {
      "text/plain": [
       "builtin_function_or_method"
      ]
     },
     "execution_count": 4,
     "metadata": {},
     "output_type": "execute_result"
    }
   ],
   "source": [
    "type(print)"
   ]
  },
  {
   "cell_type": "code",
   "execution_count": 7,
   "id": "92dfeea3-a198-4bad-8fb6-95158dffe2fd",
   "metadata": {},
   "outputs": [
    {
     "data": {
      "text/plain": [
       "function"
      ]
     },
     "execution_count": 7,
     "metadata": {},
     "output_type": "execute_result"
    }
   ],
   "source": [
    "type(giveno_v1)"
   ]
  },
  {
   "cell_type": "code",
   "execution_count": 9,
   "id": "dc0e9597-2b48-4b69-a174-7ecade0d688e",
   "metadata": {},
   "outputs": [
    {
     "name": "stdout",
     "output_type": "stream",
     "text": [
      "1\n"
     ]
    }
   ],
   "source": [
    "# function do something\n",
    "# print is a function\n",
    "\n",
    "print(1)"
   ]
  },
  {
   "cell_type": "code",
   "execution_count": 13,
   "id": "b8c20dbe-abe5-45b6-bccf-920b00444086",
   "metadata": {},
   "outputs": [
    {
     "name": "stdout",
     "output_type": "stream",
     "text": [
      "1\n"
     ]
    }
   ],
   "source": [
    "print(giveno_v1(1))"
   ]
  },
  {
   "cell_type": "code",
   "execution_count": 14,
   "id": "acab2f3f-ecfb-4dd9-933d-b883ff1c04ac",
   "metadata": {},
   "outputs": [
    {
     "name": "stdout",
     "output_type": "stream",
     "text": [
      "2\n",
      "None\n"
     ]
    }
   ],
   "source": [
    "print(giveno_v2(2))"
   ]
  }
 ],
 "metadata": {
  "kernelspec": {
   "display_name": "Python 3 (ipykernel)",
   "language": "python",
   "name": "python3"
  },
  "language_info": {
   "codemirror_mode": {
    "name": "ipython",
    "version": 3
   },
   "file_extension": ".py",
   "mimetype": "text/x-python",
   "name": "python",
   "nbconvert_exporter": "python",
   "pygments_lexer": "ipython3",
   "version": "3.12.2"
  },
  "toc": {
   "base_numbering": 1,
   "nav_menu": {},
   "number_sections": true,
   "sideBar": true,
   "skip_h1_title": false,
   "title_cell": "Table of Contents",
   "title_sidebar": "Contents",
   "toc_cell": false,
   "toc_position": {},
   "toc_section_display": true,
   "toc_window_display": false
  },
  "vscode": {
   "interpreter": {
    "hash": "31f2aee4e71d21fbe5cf8b01ff0e069b9275f58929596ceb00d14d90e3e16cd6"
   }
  }
 },
 "nbformat": 4,
 "nbformat_minor": 5
}
