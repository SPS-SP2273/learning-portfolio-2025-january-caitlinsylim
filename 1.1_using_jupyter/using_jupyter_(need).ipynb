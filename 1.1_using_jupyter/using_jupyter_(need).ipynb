{
 "cells": [
  {
   "cell_type": "markdown",
   "id": "123456",
   "metadata": {},
   "source": [
    "<div style=\"text-align:left;font-size:2em\"><span style=\"font-weight:bolder;font-size:1.25em\">SP2273 | Learning Portfolio</span><br><br><span style=\"font-weight:bold;color:darkred\">Using Jupyter (Need)</span></div>"
   ]
  },
  {
   "cell_type": "code",
   "execution_count": 1,
   "id": "6a4ce8bf",
   "metadata": {},
   "outputs": [
    {
     "name": "stdout",
     "output_type": "stream",
     "text": [
      "hello world\n"
     ]
    }
   ],
   "source": [
    "print('hello world')"
   ]
  },
  {
   "cell_type": "markdown",
   "id": "2607bb13",
   "metadata": {},
   "source": [
    "# What to expect in this chapter"
   ]
  },
  {
   "cell_type": "markdown",
   "id": "0c7eb281",
   "metadata": {},
   "source": [
    "# 1 Getting ready"
   ]
  },
  {
   "cell_type": "markdown",
   "id": "b953a271",
   "metadata": {},
   "source": [
    "# 2 Getting started with Jupyter"
   ]
  },
  {
   "cell_type": "markdown",
   "id": "b80a1337",
   "metadata": {},
   "source": [
    "## 2.1 It is all about running cells"
   ]
  },
  {
   "cell_type": "markdown",
   "id": "1540e6b0",
   "metadata": {},
   "source": [
    "## 2.2 A traditional start"
   ]
  },
  {
   "cell_type": "markdown",
   "id": "f8ef04cd",
   "metadata": {},
   "source": [
    "# 3 All about Markdown"
   ]
  },
  {
   "cell_type": "markdown",
   "id": "d7456f11",
   "metadata": {},
   "source": [
    "## 3.1 Rendering Markdown cells"
   ]
  },
  {
   "cell_type": "markdown",
   "id": "da288236-a7f4-44f8-9fc9-1850888b0c11",
   "metadata": {},
   "source": [
    "The ships hung in the sky in much the same way that bricks don’t."
   ]
  },
  {
   "cell_type": "markdown",
   "id": "724fbc95-16d6-4ce3-82be-c00ca9755139",
   "metadata": {},
   "source": [
    "The ships *hung in the sky* in much the same way that **bricks don’t.**<sup>1</sup><sub>QUOTE</sub>"
   ]
  },
  {
   "cell_type": "markdown",
   "id": "08155092",
   "metadata": {},
   "source": [
    "## 3.2 Some basic syntax"
   ]
  },
  {
   "cell_type": "markdown",
   "id": "762fd560",
   "metadata": {},
   "source": [
    "## 3.3 Headings"
   ]
  },
  {
   "cell_type": "markdown",
   "id": "487e7685",
   "metadata": {},
   "source": [
    "## 3.4 Displaying Code"
   ]
  },
  {
   "cell_type": "markdown",
   "id": "fa26a037",
   "metadata": {},
   "source": [
    "## 3.5 Links"
   ]
  },
  {
   "cell_type": "markdown",
   "id": "a19e6819-68d0-49ae-94bd-aa219d3a860b",
   "metadata": {},
   "source": [
    "This is a link to [NUS](https://www.nus.edu.sg/)"
   ]
  },
  {
   "cell_type": "markdown",
   "id": "022f63c7",
   "metadata": {},
   "source": [
    "## 3.6 Images"
   ]
  },
  {
   "cell_type": "markdown",
   "id": "9c7b1079-091b-4232-8783-641d44c3e170",
   "metadata": {},
   "source": [
    "![](https://luminus.nus.edu.sg/v2/api/bank/Public/bAlUOxaTBkSfRF4E26spmA/sp2273_logo.png)"
   ]
  },
  {
   "cell_type": "markdown",
   "id": "b85bffdd",
   "metadata": {},
   "source": [
    "## 3.7 Tables"
   ]
  },
  {
   "cell_type": "markdown",
   "id": "34649057-514a-4445-bf54-9bacd7be399d",
   "metadata": {},
   "source": [
    "A|B|C|\n",
    "---|---|---|"
   ]
  },
  {
   "cell_type": "markdown",
   "id": "9cab1105-7acc-4237-ae3f-6d812336f19a",
   "metadata": {},
   "source": [
    "You can find table template online"
   ]
  },
  {
   "cell_type": "markdown",
   "id": "02b0be14",
   "metadata": {},
   "source": [
    "## 3.8 Lists"
   ]
  },
  {
   "cell_type": "markdown",
   "id": "d3e14c80-e30c-45ef-a415-f4937661a9f7",
   "metadata": {},
   "source": [
    "- Chee Onn\n",
    "- Bijaya \n",
    "- Cham"
   ]
  },
  {
   "cell_type": "markdown",
   "id": "120beb7e-2cd3-484a-b067-94eb89e57e1a",
   "metadata": {},
   "source": [
    "1. Chee Onn\n",
    "    1. hi\n",
    "    2. bye\n",
    "    3. no\n",
    "- Bijaya \n",
    "- Cham"
   ]
  },
  {
   "cell_type": "markdown",
   "id": "08612569",
   "metadata": {},
   "source": [
    "## 3.9 Equations"
   ]
  },
  {
   "cell_type": "markdown",
   "id": "aa98f481-65f9-494c-a0bd-0adc52015d2d",
   "metadata": {},
   "source": [
    "$$\\int f(x) dx$$"
   ]
  },
  {
   "cell_type": "markdown",
   "id": "ef84d16d-9dc2-4bbf-b09b-db9bf8dc5b69",
   "metadata": {},
   "source": [
    "This is an incline math example $\\sqrt{b^2-4ac}$"
   ]
  },
  {
   "cell_type": "markdown",
   "id": "27f3d8c3-6dce-4e2f-80d9-561a748749b5",
   "metadata": {},
   "source": [
    "This is an incline math example $$\\sqrt{b^2-4ac}$$"
   ]
  },
  {
   "cell_type": "markdown",
   "id": "44e86134",
   "metadata": {},
   "source": [
    "## Footnotes"
   ]
  }
 ],
 "metadata": {
  "kernelspec": {
   "display_name": "Python 3 (ipykernel)",
   "language": "python",
   "name": "python3"
  },
  "language_info": {
   "codemirror_mode": {
    "name": "ipython",
    "version": 3
   },
   "file_extension": ".py",
   "mimetype": "text/x-python",
   "name": "python",
   "nbconvert_exporter": "python",
   "pygments_lexer": "ipython3",
   "version": "3.12.2"
  },
  "toc": {
   "base_numbering": 1,
   "nav_menu": {},
   "number_sections": true,
   "sideBar": true,
   "skip_h1_title": false,
   "title_cell": "Table of Contents",
   "title_sidebar": "Contents",
   "toc_cell": false,
   "toc_position": {},
   "toc_section_display": true,
   "toc_window_display": false
  },
  "vscode": {
   "interpreter": {
    "hash": "31f2aee4e71d21fbe5cf8b01ff0e069b9275f58929596ceb00d14d90e3e16cd6"
   }
  }
 },
 "nbformat": 4,
 "nbformat_minor": 5
}
