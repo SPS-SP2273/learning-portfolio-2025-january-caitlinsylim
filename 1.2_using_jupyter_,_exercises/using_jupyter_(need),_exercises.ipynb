{
 "cells": [
  {
   "attachments": {},
   "cell_type": "markdown",
   "id": "123456",
   "metadata": {},
   "source": [
    "<div style=\"text-align:left;font-size:2em\"><span style=\"font-weight:bolder;font-size:1.25em\">SP2273 | Learning Portfolio</span><br><br><span style=\"font-weight:bold;color:darkred\">Using Jupyter (Need), Exercises</span></div>"
   ]
  },
  {
   "attachments": {},
   "cell_type": "markdown",
   "id": "980099c3",
   "metadata": {},
   "source": [
    "## 1 Quadratic Equations"
   ]
  },
  {
   "attachments": {},
   "cell_type": "markdown",
   "id": "219e175b",
   "metadata": {},
   "source": [
    "### Introduction"
   ]
  },
  {
   "cell_type": "code",
   "execution_count": 6,
   "id": "00e66f39",
   "metadata": {},
   "outputs": [],
   "source": [
    "\n",
    "# Notes\n",
    "# Just need to copy the whole link over\n"
   ]
  },
  {
   "cell_type": "markdown",
   "id": "4377e8d6-48fe-4f92-b43a-3bc5d4c805f2",
   "metadata": {},
   "source": [
    "![](https://upload.wikimedia.org/wikipedia/commons/thumb/f/f8/Polynomialdeg2.svg/1920px-Polynomialdeg2.svg.png)"
   ]
  },
  {
   "cell_type": "markdown",
   "id": "236fcde2-ca82-4707-ae94-2ddace8610a7",
   "metadata": {},
   "source": [
    "*(Image from the [Wikipedia page on Quadratic equations](https://en.wikipedia.org/wiki/Quadratic_equation))*"
   ]
  },
  {
   "cell_type": "markdown",
   "id": "0d9bd659-da1f-4530-8709-28b5bd8de684",
   "metadata": {},
   "source": [
    "The general form of a quadratic equation is:\n",
    "\n",
    "$$ax^2 + bx + c = 0$$\n"
   ]
  },
  {
   "attachments": {},
   "cell_type": "markdown",
   "id": "0d62593b",
   "metadata": {},
   "source": [
    "### Solutions"
   ]
  },
  {
   "cell_type": "code",
   "execution_count": 2,
   "id": "b4bd1b72",
   "metadata": {},
   "outputs": [],
   "source": [
    "\n",
    "# Notes\n",
    "# if you want the formula to be on its own (have spacing) then put $$, if not just put $ \n"
   ]
  },
  {
   "cell_type": "markdown",
   "id": "59d2a123-47bb-4ee7-af09-d15ed4da0651",
   "metadata": {},
   "source": [
    "Provided $a \\ne 0$\n",
    ", we can use an elementary algebraic method called [completing the square](https://en.wikipedia.org/wiki/Completing_the_square) to show that a quadratic equation has the following solution:\n",
    "\n",
    "$$x = \\dfrac{-b\\pm\\sqrt{b^2-4ac}}{2a}$$"
   ]
  },
  {
   "attachments": {},
   "cell_type": "markdown",
   "id": "0475d394",
   "metadata": {},
   "source": [
    "### Discriminant"
   ]
  },
  {
   "cell_type": "code",
   "execution_count": 8,
   "id": "93024fd7",
   "metadata": {},
   "outputs": [],
   "source": [
    "\n",
    "# Notes\n",
    "# Qns: why is my 'roots' header right aligned? idk how to centre it like discriminant "
   ]
  },
  {
   "cell_type": "markdown",
   "id": "42e68cb8-452b-4bd3-a0e8-84a2c88b829e",
   "metadata": {},
   "source": [
    "The quantity $\\Delta = b^2 -4ac$\n",
    "is called the **discriminant** of the equation and decides the nature of its solutions. The table below shows the various possibilities."
   ]
  },
  {
   "cell_type": "markdown",
   "id": "b9fd67ae-5c43-44d0-9b39-db69e5bd2dd8",
   "metadata": {},
   "source": [
    "| Discriminant|Roots  |    \n",
    "| :--- | ---: |\n",
    "|  $\\Delta = b^2 -4ac = 0$ |  A single solution of $-b/(2a)$  |  \n",
    "|  $\\Delta = b^2 -4ac > 0$  |  Two distinct solutions  |   \n",
    "|  $\\Delta = b^2 -4ac < 0$   |  No real solutions; both are complex. |"
   ]
  },
  {
   "cell_type": "markdown",
   "id": "659d525a-1a10-46b2-95f2-9e48588d83b2",
   "metadata": {},
   "source": [
    "## 2 In Your Own Words"
   ]
  },
  {
   "cell_type": "markdown",
   "id": "405fffd4-be13-4f67-b057-f823eea42a01",
   "metadata": {},
   "source": [
    "### 1. What is a git repository?"
   ]
  },
  {
   "cell_type": "markdown",
   "id": "3969dc6e-c6ff-4ba0-a295-2731997f5657",
   "metadata": {},
   "source": [
    "We can save our codes and files on a cloud so that we can access it anytime"
   ]
  },
  {
   "cell_type": "markdown",
   "id": "37e5e921-3c68-43ab-b63f-ed0ea65cf31e",
   "metadata": {},
   "source": [
    "### 2. Git keeps track of ____BLANK____ in the files in our repository."
   ]
  },
  {
   "cell_type": "markdown",
   "id": "b851416e-6d5d-4d32-bcf2-b78119dc4507",
   "metadata": {},
   "source": [
    "changes"
   ]
  },
  {
   "cell_type": "markdown",
   "id": "b505d85f-4f45-4093-9b7e-3036f5a3d73b",
   "metadata": {},
   "source": [
    "### 3. What is a commit?"
   ]
  },
  {
   "cell_type": "markdown",
   "id": "f2b564ba-89c6-4435-a400-d0a6923f95b5",
   "metadata": {},
   "source": [
    "It means updating and saving the changes onto our main file in the cloud"
   ]
  },
  {
   "cell_type": "markdown",
   "id": "2df30299-2836-4083-829d-30cbcd4fc968",
   "metadata": {},
   "source": [
    "### 4. What is a push?"
   ]
  },
  {
   "cell_type": "markdown",
   "id": "1d327684-24ef-45e3-a4c1-1d85a6a4cdd9",
   "metadata": {},
   "source": [
    "To move the changes from local to cloud"
   ]
  },
  {
   "cell_type": "markdown",
   "id": "c5743229-592a-4db4-b82b-af066f60e34f",
   "metadata": {},
   "source": [
    "### 5. What is a pull?"
   ]
  },
  {
   "cell_type": "markdown",
   "id": "e33570fb-b03c-4b64-a470-1dbe152826e0",
   "metadata": {},
   "source": [
    "To move changes from cloud to local"
   ]
  },
  {
   "cell_type": "markdown",
   "id": "5af286f7-9820-48fd-a237-ad728a4cdbd6",
   "metadata": {},
   "source": [
    "### 6. What is the difference between GitHub and GitHub Desktop? "
   ]
  },
  {
   "cell_type": "markdown",
   "id": "8ba2f535-7acb-4b50-93de-95ff4062898a",
   "metadata": {},
   "source": [
    "Github desktop is accessed through my own laptop, but github is seen from web browser?"
   ]
  },
  {
   "cell_type": "markdown",
   "id": "e3df35e5-0f48-4ae3-81b7-a886bc0431df",
   "metadata": {},
   "source": [
    "## 3 A Matter of Statistics"
   ]
  },
  {
   "cell_type": "markdown",
   "id": "03196963-374c-4bb3-bd53-b750fee7088c",
   "metadata": {},
   "source": [
    "$\\mu$ = $\\dfrac{1}{n}$ $\\sum_{i=1}^{n} x_i$\n",
    "\n",
    "$\\sigma$ = $\\sqrt{ \\dfrac{1}{n} \\sum_{i=1}^{n} (x_i - \\mu)^2 }$\n",
    "\n",
    "$r$ = $\\dfrac{\\sum_{i=1}^{n} (x_i - \\mu_X)(y_i - \\mu_Y)}{\\sqrt{\\sum_{i=1}^n(x_i - \\mu_X)^2 {\\sum_{i=1}^n(y_i - \\mu_Y)^2}}}$"
   ]
  },
  {
   "cell_type": "code",
   "execution_count": null,
   "id": "797e91c3-b97c-4c35-9c24-6162e809c4ab",
   "metadata": {},
   "outputs": [],
   "source": []
  }
 ],
 "metadata": {
  "kernelspec": {
   "display_name": "Python 3 (ipykernel)",
   "language": "python",
   "name": "python3"
  },
  "language_info": {
   "codemirror_mode": {
    "name": "ipython",
    "version": 3
   },
   "file_extension": ".py",
   "mimetype": "text/x-python",
   "name": "python",
   "nbconvert_exporter": "python",
   "pygments_lexer": "ipython3",
   "version": "3.12.2"
  },
  "toc": {
   "base_numbering": 1,
   "nav_menu": {},
   "number_sections": true,
   "sideBar": true,
   "skip_h1_title": false,
   "title_cell": "Table of Contents",
   "title_sidebar": "Contents",
   "toc_cell": false,
   "toc_position": {},
   "toc_section_display": true,
   "toc_window_display": false
  },
  "vscode": {
   "interpreter": {
    "hash": "31f2aee4e71d21fbe5cf8b01ff0e069b9275f58929596ceb00d14d90e3e16cd6"
   }
  }
 },
 "nbformat": 4,
 "nbformat_minor": 5
}
