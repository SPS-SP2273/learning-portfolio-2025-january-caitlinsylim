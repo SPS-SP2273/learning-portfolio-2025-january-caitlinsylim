{
 "cells": [
  {
   "attachments": {},
   "cell_type": "markdown",
   "id": "123456",
   "metadata": {},
   "source": [
    "<div style=\"text-align:left;font-size:2em\"><span style=\"font-weight:bolder;font-size:1.25em\">SP2273 | Learning Portfolio</span><br><br><span style=\"font-weight:bold;color:darkred\">Loops (Good)</span></div>"
   ]
  },
  {
   "attachments": {},
   "cell_type": "markdown",
   "id": "3769cab7",
   "metadata": {},
   "source": [
    "# What to expect in this chapter"
   ]
  },
  {
   "attachments": {},
   "cell_type": "markdown",
   "id": "13de1b9a",
   "metadata": {},
   "source": [
    "# 1 Interrupting the flow"
   ]
  },
  {
   "cell_type": "code",
   "execution_count": 2,
   "id": "c3aafbf5-9d56-4001-9fd8-acc1287a9e31",
   "metadata": {},
   "outputs": [],
   "source": [
    "names = [\"Jolene\", \"Joelle\", \"bobby\", \"Yuen Xuan\", \"Wei Jie\", \"Jun Hean\", \"Ming Rong\", \"Kendra\", \"Vanessa\", \"Joey\", \"Caitlin\", \"Ryan\"]\n",
    "majors = [\"Chem\", \"Pharmacy\", \"Pharmacy\", \"Life Sciences\", \"Pharmacy\", \"Pharmacy\", \"Life Science\", \"Life Science\", \"Pharmacy\", \"Pharmacy\", \"Business and Psychology\", \"Biz Real Estate\"]\n",
    "years = [\"1st year\", \"4th year\", \"4th year\", \"1st year\", \"4th year\", \"4th year\", \"1st year\", \"2nd year\", \"4th year\", \"4th year\", \"4th year\", \"4th year\"]"
   ]
  },
  {
   "cell_type": "code",
   "execution_count": 7,
   "id": "2a184531-8c01-4d97-9560-b728cef3b805",
   "metadata": {},
   "outputs": [
    {
     "name": "stdout",
     "output_type": "stream",
     "text": [
      "1: Name: Jolene    , Major:Chemistry                     , Year: 1st year  \n"
     ]
    }
   ],
   "source": [
    "for index, name in enumerate(names):\n",
    "    major = majors[index]\n",
    "    if major == 'Chem': \n",
    "        major = 'Chemistry'\n",
    "        \n",
    "    year = years[index]\n",
    "    if year == \"1st year\":\n",
    "        print(f'{index+1}: Name: {name:<10}, Major:{major:<30}, Year: {year:<10}')\n",
    "        break\n",
    "      \n",
    "    else: \n",
    "        continue\n",
    "        print('Not a first year')"
   ]
  },
  {
   "cell_type": "markdown",
   "id": "d3ae7a3f-50dd-4e1a-aedf-f58fc3968b09",
   "metadata": {},
   "source": [
    "It breaks the moment you print 1st year once"
   ]
  },
  {
   "cell_type": "code",
   "execution_count": 9,
   "id": "935abdfe-e377-44d8-97c1-6ffe57d03302",
   "metadata": {},
   "outputs": [
    {
     "name": "stdout",
     "output_type": "stream",
     "text": [
      "I am here\n"
     ]
    }
   ],
   "source": [
    "for index, name in enumerate(names):\n",
    "    major = majors[index]\n",
    "    if major == 'Chem': \n",
    "        major = 'Chemistry'\n",
    "\n",
    "    if major == 'Chemistry':\n",
    "        print('I am here')\n",
    "        break\n",
    "        \n",
    "    year = years[index]\n",
    "    if year == \"1st year\":\n",
    "        print(f'{index+1}: Name: {name:<10}, Major:{major:<30}, Year: {year:<10}')\n",
    "   \n",
    "    else: \n",
    "        continue\n",
    "        print('Not a first year')"
   ]
  },
  {
   "cell_type": "markdown",
   "id": "a8d2b4dd-7412-4755-b2ea-8bd326d1d563",
   "metadata": {},
   "source": [
    "for and if are used together most of the time"
   ]
  },
  {
   "cell_type": "markdown",
   "id": "e74fda12-600c-4019-ab90-436b80c55933",
   "metadata": {},
   "source": [
    "## What if I want to replace? "
   ]
  },
  {
   "cell_type": "markdown",
   "id": "940f2cc1-d128-4ee8-a485-3eb02cb0ef51",
   "metadata": {},
   "source": [
    "### Making All Upper Case"
   ]
  },
  {
   "cell_type": "code",
   "execution_count": 11,
   "id": "0e07780e-40af-4dcc-9cae-2ee498ca791c",
   "metadata": {},
   "outputs": [
    {
     "name": "stdout",
     "output_type": "stream",
     "text": [
      "JOLENE\n",
      "JOELLE\n",
      "BOBBY\n",
      "YUEN XUAN\n",
      "WEI JIE\n",
      "JUN HEAN\n",
      "MING RONG\n",
      "KENDRA\n",
      "VANESSA\n",
      "JOEY\n",
      "CAITLIN\n",
      "RYAN\n"
     ]
    }
   ],
   "source": [
    "for name in names:\n",
    "    print(name.upper())"
   ]
  },
  {
   "cell_type": "markdown",
   "id": "7ab352f0-e9ae-4da9-8f77-8ee89117129b",
   "metadata": {},
   "source": [
    "Making upper case into a list, append"
   ]
  },
  {
   "cell_type": "code",
   "execution_count": 17,
   "id": "a229a4e8-b803-4d4a-a646-c367f3d17776",
   "metadata": {},
   "outputs": [
    {
     "data": {
      "text/plain": [
       "['JOLENE',\n",
       " 'JOELLE',\n",
       " 'BOBBY',\n",
       " 'YUEN XUAN',\n",
       " 'WEI JIE',\n",
       " 'JUN HEAN',\n",
       " 'MING RONG',\n",
       " 'KENDRA',\n",
       " 'VANESSA',\n",
       " 'JOEY',\n",
       " 'CAITLIN',\n",
       " 'RYAN']"
      ]
     },
     "execution_count": 17,
     "metadata": {},
     "output_type": "execute_result"
    }
   ],
   "source": [
    "names_upper = []\n",
    "\n",
    "for name in names:\n",
    "    names_upper.append(name.upper())\n",
    "\n",
    "names_upper"
   ]
  },
  {
   "cell_type": "code",
   "execution_count": 30,
   "id": "a5d8d57d-b9b4-4ce2-b050-021222a6c233",
   "metadata": {},
   "outputs": [],
   "source": [
    "majors = [\"Chem\", \"Pharmacy\", \"Pharmacy\", \"Life Sciences\", \"Pharmacy\", \"Pharmacy\", \"Life Science\", \"Life Science\", \"Pharmacy\", \"Pharmacy\", \"Business and Psychology\", \"Biz Real Estate\"]\n",
    "\n",
    "majors_cleaned = []\n",
    "\n",
    "for major in majors: \n",
    "    if major == 'Chem':\n",
    "        majors_cleaned.append('Chemistry')\n",
    "    elif major == 'Life Science':\n",
    "        majors_cleaned.append('Life Sciences')\n",
    "    elif major == 'Biz Real Estate':\n",
    "        majors_cleaned.append('Business Real Estate')\n",
    "    else: \n",
    "        majors_cleaned.append(major)"
   ]
  },
  {
   "cell_type": "code",
   "execution_count": 31,
   "id": "7ae02188-1215-4292-982a-0ee5c5251fdc",
   "metadata": {},
   "outputs": [
    {
     "data": {
      "text/plain": [
       "['Chemistry',\n",
       " 'Pharmacy',\n",
       " 'Pharmacy',\n",
       " 'Life Sciences',\n",
       " 'Pharmacy',\n",
       " 'Pharmacy',\n",
       " 'Life Sciences',\n",
       " 'Life Sciences',\n",
       " 'Pharmacy',\n",
       " 'Pharmacy',\n",
       " 'Business and Psychology',\n",
       " 'Business Real Estate']"
      ]
     },
     "execution_count": 31,
     "metadata": {},
     "output_type": "execute_result"
    }
   ],
   "source": [
    "majors_cleaned"
   ]
  },
  {
   "cell_type": "markdown",
   "id": "286f5f74-9979-4356-8ef6-70b9ba3aad34",
   "metadata": {},
   "source": [
    "But this is so troublesome... So we can loop it via dictionary: see below"
   ]
  },
  {
   "cell_type": "code",
   "execution_count": 32,
   "id": "0f110d80-6ba0-422b-9b99-018b29098502",
   "metadata": {},
   "outputs": [],
   "source": [
    "replace_info = {\n",
    "    'Chem': 'Chemistry',\n",
    "    'Life Science': 'Life Sciences',\n",
    "    'Biz Real Estate': 'Business Real Estate'\n",
    "}"
   ]
  },
  {
   "cell_type": "code",
   "execution_count": 33,
   "id": "39389a41-0979-4d62-b60a-08404e2b7cb7",
   "metadata": {},
   "outputs": [
    {
     "data": {
      "text/plain": [
       "{'Chem': 'Chemistry',\n",
       " 'Life Science': 'Life Sciences',\n",
       " 'Biz Real Estate': 'Business Real Estate'}"
      ]
     },
     "execution_count": 33,
     "metadata": {},
     "output_type": "execute_result"
    }
   ],
   "source": [
    "replace_info"
   ]
  },
  {
   "cell_type": "code",
   "execution_count": 34,
   "id": "a6b2071e-6aeb-4ed0-842d-3693af062ead",
   "metadata": {},
   "outputs": [
    {
     "ename": "ValueError",
     "evalue": "too many values to unpack (expected 2)",
     "output_type": "error",
     "traceback": [
      "\u001b[0;31m---------------------------------------------------------------------------\u001b[0m",
      "\u001b[0;31mValueError\u001b[0m                                Traceback (most recent call last)",
      "Cell \u001b[0;32mIn[34], line 1\u001b[0m\n\u001b[0;32m----> 1\u001b[0m \u001b[38;5;28;01mfor\u001b[39;00m key, value \u001b[38;5;129;01min\u001b[39;00m replace_info:\n\u001b[1;32m      2\u001b[0m     \u001b[38;5;28mprint\u001b[39m(key, value)\n",
      "\u001b[0;31mValueError\u001b[0m: too many values to unpack (expected 2)"
     ]
    }
   ],
   "source": [
    "for key, value in replace_info:\n",
    "    print(key, value)"
   ]
  },
  {
   "cell_type": "markdown",
   "id": "10d2843a-9566-4775-82f7-01c2ea87e367",
   "metadata": {},
   "source": [
    "We need to use items, see below"
   ]
  },
  {
   "cell_type": "code",
   "execution_count": 35,
   "id": "008167fe-119c-432d-b178-ff65152ee376",
   "metadata": {},
   "outputs": [
    {
     "name": "stdout",
     "output_type": "stream",
     "text": [
      "Chem Chemistry\n",
      "Life Science Life Sciences\n",
      "Biz Real Estate Business Real Estate\n"
     ]
    }
   ],
   "source": [
    "for old_major, new_major in replace_info.items():\n",
    "    print(old_major, new_major)"
   ]
  },
  {
   "cell_type": "code",
   "execution_count": null,
   "id": "ba63cb76-70b1-4933-80a5-44f5a9f4714b",
   "metadata": {},
   "outputs": [],
   "source": [
    "majors = [\"Chem\", \"Pharmacy\", \"Pharmacy\", \"Life Sciences\", \"Pharmacy\", \"Pharmacy\", \"Life Science\", \"Life Science\", \"Pharmacy\", \"Pharmacy\", \"Business and Psychology\", \"Biz Real Estate\"]\n",
    "\n",
    "majors_cleaned = []\n",
    "\n",
    "for major in majors: \n",
    "    new_major = major.replace\n",
    "        majors_cleaned.append(major)"
   ]
  },
  {
   "cell_type": "markdown",
   "id": "b1fdaf20-3498-44cd-b054-64e84de599d4",
   "metadata": {},
   "source": [
    "Logic of replace"
   ]
  },
  {
   "cell_type": "code",
   "execution_count": 37,
   "id": "333193a9-077a-4cfb-9c03-e6a3f6fda607",
   "metadata": {},
   "outputs": [
    {
     "data": {
      "text/plain": [
       "'CCCC'"
      ]
     },
     "execution_count": 37,
     "metadata": {},
     "output_type": "execute_result"
    }
   ],
   "source": [
    "'Chem'.replace('Chem','CCCC')"
   ]
  },
  {
   "cell_type": "code",
   "execution_count": 38,
   "id": "9dcc23d2-f024-4ffc-b3fa-39d41acd18d4",
   "metadata": {},
   "outputs": [
    {
     "name": "stdout",
     "output_type": "stream",
     "text": [
      "Chemistry\n",
      "Chemistry\n",
      "Chemistry\n"
     ]
    }
   ],
   "source": [
    "major = 'Chem'\n",
    "\n",
    "for old_major, new_major in replace_info.items():\n",
    "    major = major.replace(old_major, new_major)\n",
    "    print(major)"
   ]
  },
  {
   "cell_type": "markdown",
   "id": "d91c9d2d-2b71-481f-a58e-3f1ce69195b9",
   "metadata": {},
   "source": [
    "Creating my own function"
   ]
  },
  {
   "cell_type": "code",
   "execution_count": 45,
   "id": "9834e65d-20ed-40b4-b0c2-f4bfe6e669f6",
   "metadata": {},
   "outputs": [],
   "source": [
    "def clean_majors(major): \n",
    "    replace_info = {'Chem': 'Chemistry',\n",
    "        'Life Science': 'Life Sciences',\n",
    "        'Biz Real Estate': 'Business Real Estate'}\n",
    "    for old_major, new_major in replace_info.items():\n",
    "        major = major.replace(old_major, new_major)\n",
    "        \n",
    "    return major"
   ]
  },
  {
   "cell_type": "code",
   "execution_count": 46,
   "id": "1d2ad26e-00a7-4892-af96-d89d2e6f2d5c",
   "metadata": {},
   "outputs": [
    {
     "data": {
      "text/plain": [
       "'Physics'"
      ]
     },
     "execution_count": 46,
     "metadata": {},
     "output_type": "execute_result"
    }
   ],
   "source": [
    "clean_majors('Physics')"
   ]
  },
  {
   "cell_type": "code",
   "execution_count": null,
   "id": "4855f277-5dfb-4249-a726-83264ff35fa1",
   "metadata": {},
   "outputs": [],
   "source": [
    "majors = [\"Chem\", \"Pharmacy\", \"Pharmacy\", \"Life Sciences\", \"Pharmacy\", \"Pharmacy\", \"Life Science\", \"Life Science\", \"Pharmacy\", \"Pharmacy\", \"Business and Psychology\", \"Biz Real Estate\"]"
   ]
  },
  {
   "cell_type": "code",
   "execution_count": 51,
   "id": "f3eaf944-f957-4083-ada8-ed761a04aa59",
   "metadata": {},
   "outputs": [
    {
     "data": {
      "text/plain": [
       "['Chemistry',\n",
       " 'Pharmacy',\n",
       " 'Pharmacy',\n",
       " 'Life Sciencess',\n",
       " 'Pharmacy',\n",
       " 'Pharmacy',\n",
       " 'Life Sciences',\n",
       " 'Life Sciences',\n",
       " 'Pharmacy',\n",
       " 'Pharmacy',\n",
       " 'Business and Psychology',\n",
       " 'Business Real Estate']"
      ]
     },
     "execution_count": 51,
     "metadata": {},
     "output_type": "execute_result"
    }
   ],
   "source": [
    "majors_cleaned = []\n",
    "\n",
    "for major in majors: \n",
    "    cleaned_major = clean_majors(major)\n",
    "    majors_cleaned.append(cleaned_major)\n",
    "\n",
    "    # print(f\"Cleaned {major}--> {cleaned_major}\")\n",
    "\n",
    "majors_cleaned"
   ]
  },
  {
   "attachments": {},
   "cell_type": "markdown",
   "id": "f4aaced5",
   "metadata": {},
   "source": [
    "# 2 List comprehension!"
   ]
  },
  {
   "cell_type": "markdown",
   "id": "67e30293-1a9d-4d93-af34-03906f91d61b",
   "metadata": {},
   "source": [
    "If you are doing list of a list, do list comprehension"
   ]
  },
  {
   "cell_type": "code",
   "execution_count": 52,
   "id": "56372089-8c68-4edb-940e-b9a37988b9f0",
   "metadata": {},
   "outputs": [
    {
     "data": {
      "text/plain": [
       "['Chemistry',\n",
       " 'Pharmacy',\n",
       " 'Pharmacy',\n",
       " 'Life Sciencess',\n",
       " 'Pharmacy',\n",
       " 'Pharmacy',\n",
       " 'Life Sciences',\n",
       " 'Life Sciences',\n",
       " 'Pharmacy',\n",
       " 'Pharmacy',\n",
       " 'Business and Psychology',\n",
       " 'Business Real Estate']"
      ]
     },
     "execution_count": 52,
     "metadata": {},
     "output_type": "execute_result"
    }
   ],
   "source": [
    "# for major in majors: \n",
    "    # cleaned_major = clean_majors(major)\n",
    "    # majors_cleaned.append(cleaned_major) is the same as\n",
    "\n",
    "[clean_majors(major) for major in majors]"
   ]
  },
  {
   "attachments": {},
   "cell_type": "markdown",
   "id": "5e921e91",
   "metadata": {},
   "source": [
    "## 2.2 List comprehension with conditions"
   ]
  },
  {
   "cell_type": "code",
   "execution_count": 53,
   "id": "5ea33d2e-23ca-4e60-935e-13a95b71cce3",
   "metadata": {},
   "outputs": [
    {
     "data": {
      "text/plain": [
       "['Pharmacy', 'Pharmacy', 'Pharmacy', 'Pharmacy', 'Pharmacy', 'Pharmacy']"
      ]
     },
     "execution_count": 53,
     "metadata": {},
     "output_type": "execute_result"
    }
   ],
   "source": [
    "[clean_majors(major) for major in majors if major == 'Pharmacy']"
   ]
  },
  {
   "attachments": {},
   "cell_type": "markdown",
   "id": "2d443f11",
   "metadata": {},
   "source": [
    "# 3 Other useful stuff"
   ]
  },
  {
   "attachments": {},
   "cell_type": "markdown",
   "id": "966488f5",
   "metadata": {},
   "source": [
    "## 3.1 for with unpacking"
   ]
  },
  {
   "attachments": {},
   "cell_type": "markdown",
   "id": "7d16403c",
   "metadata": {},
   "source": [
    "## 3.2 for with zip()"
   ]
  },
  {
   "attachments": {},
   "cell_type": "markdown",
   "id": "2bce3e33",
   "metadata": {
    "jp-MarkdownHeadingCollapsed": true
   },
   "source": [
    "## 3.3 for with dictionaries"
   ]
  },
  {
   "cell_type": "code",
   "execution_count": 63,
   "id": "78f52195-96c8-443d-9d77-41bac2932dd3",
   "metadata": {},
   "outputs": [
    {
     "name": "stdout",
     "output_type": "stream",
     "text": [
      "Chem\n",
      "Life Science\n",
      "Biz Real Estate\n"
     ]
    }
   ],
   "source": [
    "replace_info = {\n",
    "    'Chem': 'Chemistry',\n",
    "    'Life Science': 'Life Sciences',\n",
    "    'Biz Real Estate': 'Business Real Estate'\n",
    "}\n",
    "\n",
    "for old_text in replace_info:            # by default it gives u the keys only\n",
    "    print(old_text)"
   ]
  },
  {
   "cell_type": "code",
   "execution_count": 71,
   "id": "be5088ae-e7b0-4590-a7f7-00e972c355f3",
   "metadata": {},
   "outputs": [
    {
     "name": "stdout",
     "output_type": "stream",
     "text": [
      "Chemistry\n",
      "Life Sciences\n",
      "Business Real Estate\n",
      "\n",
      "\n",
      "Chem\n",
      "Life Science\n",
      "Biz Real Estate\n",
      "\n",
      "\n",
      "('Chem', 'Chemistry')\n",
      "('Life Science', 'Life Sciences')\n",
      "('Biz Real Estate', 'Business Real Estate')\n"
     ]
    }
   ],
   "source": [
    "for old_text in replace_info.values():           \n",
    "    print(old_text)\n",
    "\n",
    "print('\\n')\n",
    "\n",
    "for old_text in replace_info.keys():           \n",
    "    print(old_text)\n",
    "\n",
    "print('\\n')\n",
    "\n",
    "for old_text in replace_info.items():     # it is now a tuple      \n",
    "    print(old_text)"
   ]
  },
  {
   "cell_type": "code",
   "execution_count": 72,
   "id": "85d9abbb-024f-4c92-83d5-7252921c0d26",
   "metadata": {},
   "outputs": [
    {
     "name": "stdout",
     "output_type": "stream",
     "text": [
      "Chem Chemistry\n",
      "Life Science Life Sciences\n",
      "Biz Real Estate Business Real Estate\n"
     ]
    }
   ],
   "source": [
    "for old_text in replace_info.items():     # it is now a tuple, and i can do indexing      \n",
    "    print(old_text[0], old_text[1])"
   ]
  },
  {
   "attachments": {},
   "cell_type": "markdown",
   "id": "8b0f87cd",
   "metadata": {},
   "source": [
    "## Footnotes"
   ]
  }
 ],
 "metadata": {
  "kernelspec": {
   "display_name": "Python 3 (ipykernel)",
   "language": "python",
   "name": "python3"
  },
  "language_info": {
   "codemirror_mode": {
    "name": "ipython",
    "version": 3
   },
   "file_extension": ".py",
   "mimetype": "text/x-python",
   "name": "python",
   "nbconvert_exporter": "python",
   "pygments_lexer": "ipython3",
   "version": "3.12.2"
  },
  "toc": {
   "base_numbering": 1,
   "nav_menu": {},
   "number_sections": true,
   "sideBar": true,
   "skip_h1_title": false,
   "title_cell": "Table of Contents",
   "title_sidebar": "Contents",
   "toc_cell": false,
   "toc_position": {},
   "toc_section_display": true,
   "toc_window_display": false
  },
  "vscode": {
   "interpreter": {
    "hash": "31f2aee4e71d21fbe5cf8b01ff0e069b9275f58929596ceb00d14d90e3e16cd6"
   }
  }
 },
 "nbformat": 4,
 "nbformat_minor": 5
}
