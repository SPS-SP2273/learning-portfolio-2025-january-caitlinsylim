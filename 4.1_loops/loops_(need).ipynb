{
 "cells": [
  {
   "attachments": {},
   "cell_type": "markdown",
   "id": "123456",
   "metadata": {},
   "source": [
    "<div style=\"text-align:left;font-size:2em\"><span style=\"font-weight:bolder;font-size:1.25em\">SP2273 | Learning Portfolio</span><br><br><span style=\"font-weight:bold;color:darkred\">Loops (Need)</span></div>"
   ]
  },
  {
   "attachments": {},
   "cell_type": "markdown",
   "id": "e85d7598",
   "metadata": {},
   "source": [
    "# What to expect in this chapter"
   ]
  },
  {
   "attachments": {},
   "cell_type": "markdown",
   "id": "4da2eb7e",
   "metadata": {},
   "source": [
    "# 1 The for iterator"
   ]
  },
  {
   "cell_type": "code",
   "execution_count": 6,
   "id": "2251f305-2b99-4f2b-bedb-2057dc0d18f1",
   "metadata": {},
   "outputs": [
    {
     "name": "stdout",
     "output_type": "stream",
     "text": [
      "0\n",
      "1\n",
      "2\n",
      "3\n",
      "4\n"
     ]
    }
   ],
   "source": [
    "for index in range (5): \n",
    "    print(index)"
   ]
  },
  {
   "cell_type": "code",
   "execution_count": 7,
   "id": "e064b3bb-4223-4610-ad14-7a1ebadec433",
   "metadata": {},
   "outputs": [],
   "source": [
    "names = [\"Jolene\", \"Joelle\", \"bobby\", \"Yuen Xuan\", \"Wei Jie\", \"Jun Hean\", \"Ming Rong\", \"Kendra\", \"Vanessa\", \"Joey\", \"Caitlin\", \"Ryan\"] \n",
    "\n",
    "majors = [\"Chem\", \"Pharm\", \"Pharm\", \"Life Science\", \"Pharm\", \"Pharm\", \"Life Science\", \"Life Science\", \"Pharm\", \"Pharm\", \"BnP\", \"Biz\"]\n",
    "\n",
    "years = [\"1st year\", \"4th year\", \"1st year\", \"1st year\", \"1st year\", \"1st year\", \"1st year\", \"4th year\", \"4th year\", \"4th year\", \"4th year\", \"4th year\"]"
   ]
  },
  {
   "cell_type": "code",
   "execution_count": 8,
   "id": "7f992fbd-7c4c-4169-aac7-e92a73b749ab",
   "metadata": {},
   "outputs": [
    {
     "name": "stdout",
     "output_type": "stream",
     "text": [
      "Name: Jolene    , Major: Chem      , Years: 1st year  \n",
      "Name: Joelle    , Major: Pharm     , Years: 4th year  \n",
      "Name: bobby     , Major: Pharm     , Years: 1st year  \n",
      "Name: Yuen Xuan , Major: Life Science, Years: 1st year  \n",
      "Name: Wei Jie   , Major: Pharm     , Years: 1st year  \n"
     ]
    }
   ],
   "source": [
    "for index in range (5): \n",
    "    print(f'Name: {names[index]:<10}, Major: {majors[index]:<10}, Years: {years[index]:<10}')"
   ]
  },
  {
   "cell_type": "code",
   "execution_count": 9,
   "id": "f4d19dae-5785-4275-a8a9-5995c5f6111f",
   "metadata": {},
   "outputs": [
    {
     "name": "stdout",
     "output_type": "stream",
     "text": [
      "Name: Jolene    , Major: Chem                                              , Years: 1st year  \n",
      "Name: Joelle    , Major: Pharm                                             , Years: 4th year  \n",
      "Name: bobby     , Major: Pharm                                             , Years: 1st year  \n",
      "Name: Yuen Xuan , Major: Life Science                                      , Years: 1st year  \n",
      "Name: Wei Jie   , Major: Pharm                                             , Years: 1st year  \n",
      "Name: Jun Hean  , Major: Pharm                                             , Years: 1st year  \n",
      "Name: Ming Rong , Major: Life Science                                      , Years: 1st year  \n",
      "Name: Kendra    , Major: Life Science                                      , Years: 4th year  \n",
      "Name: Vanessa   , Major: Pharm                                             , Years: 4th year  \n",
      "Name: Joey      , Major: Pharm                                             , Years: 4th year  \n",
      "Name: Caitlin   , Major: BnP                                               , Years: 4th year  \n",
      "Name: Ryan      , Major: Biz                                               , Years: 4th year  \n"
     ]
    }
   ],
   "source": [
    "for index in range (len(names)): #to print everything out, use len\n",
    "    print(f'Name: {names[index]:<10}, Major: {majors[index]:<50}, Years: {years[index]:<10}') #50 refers to the space it takes"
   ]
  },
  {
   "cell_type": "code",
   "execution_count": 10,
   "id": "aeb2ff95-e8a6-42d6-b8a3-09e51db70746",
   "metadata": {},
   "outputs": [
    {
     "name": "stdout",
     "output_type": "stream",
     "text": [
      "Name: Jolene    , Major:                        Chem                       , Years: 1st year  \n",
      "Name: Joelle    , Major:                       Pharm                       , Years: 4th year  \n",
      "Name: bobby     , Major:                       Pharm                       , Years: 1st year  \n",
      "Name: Yuen Xuan , Major:                    Life Science                   , Years: 1st year  \n",
      "Name: Wei Jie   , Major:                       Pharm                       , Years: 1st year  \n",
      "Name: Jun Hean  , Major:                       Pharm                       , Years: 1st year  \n",
      "Name: Ming Rong , Major:                    Life Science                   , Years: 1st year  \n",
      "Name: Kendra    , Major:                    Life Science                   , Years: 4th year  \n",
      "Name: Vanessa   , Major:                       Pharm                       , Years: 4th year  \n",
      "Name: Joey      , Major:                       Pharm                       , Years: 4th year  \n",
      "Name: Caitlin   , Major:                        BnP                        , Years: 4th year  \n",
      "Name: Ryan      , Major:                        Biz                        , Years: 4th year  \n"
     ]
    }
   ],
   "source": [
    "for index in range (len(names)): #to print everything out, use len\n",
    "    print(f'Name: {names[index]:<10}, Major: {majors[index]:^50}, Years: {years[index]:<10}') #justify using ^"
   ]
  },
  {
   "cell_type": "code",
   "execution_count": 11,
   "id": "12e9ee0d-7368-4ef5-8230-ea477b01a012",
   "metadata": {},
   "outputs": [
    {
     "ename": "ValueError",
     "evalue": "too many values to unpack (expected 2)",
     "output_type": "error",
     "traceback": [
      "\u001b[0;31m---------------------------------------------------------------------------\u001b[0m",
      "\u001b[0;31mValueError\u001b[0m                                Traceback (most recent call last)",
      "Cell \u001b[0;32mIn[11], line 1\u001b[0m\n\u001b[0;32m----> 1\u001b[0m \u001b[38;5;28;01mfor\u001b[39;00m name, major \u001b[38;5;129;01min\u001b[39;00m names, majors: \n\u001b[1;32m      2\u001b[0m     \u001b[38;5;28mprint\u001b[39m(name, major)\n",
      "\u001b[0;31mValueError\u001b[0m: too many values to unpack (expected 2)"
     ]
    }
   ],
   "source": [
    "for name, major in names, majors: \n",
    "    print(name, major)"
   ]
  },
  {
   "cell_type": "markdown",
   "id": "cc2719fe-da2c-4969-8900-4ad0c3514296",
   "metadata": {},
   "source": [
    "Need to use Zip if you want the 2 lists to come out"
   ]
  },
  {
   "cell_type": "code",
   "execution_count": null,
   "id": "799c3550-6ccd-43f4-9ad4-4f3081094d42",
   "metadata": {},
   "outputs": [],
   "source": [
    "for name, major in zip(names, majors): \n",
    "    print(name, major)\n",
    "\n",
    "for name, major, year in zip(names, majors, years): \n",
    "    print(name, major, year)"
   ]
  },
  {
   "cell_type": "code",
   "execution_count": null,
   "id": "6e56e087-7f7a-4235-b437-07d1412c078f",
   "metadata": {},
   "outputs": [],
   "source": [
    "index = 0\n",
    "for name in names:\n",
    "    print(f'{index+1}: Name: {name: <10}, Major: {majors[index]:<30}, Years: {years[index]:<10}')\n",
    "    index +=1"
   ]
  },
  {
   "attachments": {},
   "cell_type": "markdown",
   "id": "e8fabc5d",
   "metadata": {},
   "source": [
    "## 1.2 for with enumerate"
   ]
  },
  {
   "cell_type": "code",
   "execution_count": null,
   "id": "94dfa754-6f9e-4cf2-abea-a46b63bd7bf0",
   "metadata": {},
   "outputs": [],
   "source": [
    "for index, name in enumerate(names):\n",
    "    print(f'{index+1}: Name: {name: <10}, Major: {majors[index]:<30}, Years: {years[index]:<10}')"
   ]
  },
  {
   "cell_type": "code",
   "execution_count": null,
   "id": "a29a545d-910c-4122-9601-36fbe3d528c1",
   "metadata": {},
   "outputs": [],
   "source": [
    "for index, name in enumerate(names):\n",
    "    year = years[index] \n",
    "    year = year[-1]\n",
    "    print(f'{index+1}: Name: {name: <10}, Major: {majors[index]:<30}, Years: {year:<10}')"
   ]
  },
  {
   "cell_type": "markdown",
   "id": "cfbc5d8a-ceec-4541-bd0e-5a8aa21b2333",
   "metadata": {},
   "source": [
    "To show people in the first year only"
   ]
  },
  {
   "cell_type": "code",
   "execution_count": null,
   "id": "08def34c-ece4-4cef-87c1-d4b257613848",
   "metadata": {},
   "outputs": [],
   "source": [
    "for index, name in enumerate(names):\n",
    "    year = years[index] \n",
    "    if year == '1st year':\n",
    "        print(f'{index+1}: Name: {name: <10}, Major: {majors[index]:<30}, Years: {year:<10}')\n",
    "    # else: \n",
    "    #     print('Not a first year')"
   ]
  },
  {
   "cell_type": "code",
   "execution_count": null,
   "id": "50aa02d6-60ec-40d1-bbda-dc9b6d6bfa14",
   "metadata": {},
   "outputs": [],
   "source": [
    "for index, name in enumerate(names): \n",
    "    major = majors[index]\n",
    "    if major == 'Chem':\n",
    "        major = 'Chemistry'\n",
    "\n",
    "    year = years[index]\n",
    "    print(f'{index+1}: Name: {name: <10}, Major: {major:<30}, Years: {year:<10}')\n",
    "    # else: \n",
    "    #     print('Not a first year')"
   ]
  },
  {
   "cell_type": "code",
   "execution_count": 12,
   "id": "d62e9fe6-624f-49ad-8dfb-7620b8aff01f",
   "metadata": {},
   "outputs": [
    {
     "name": "stdout",
     "output_type": "stream",
     "text": [
      "1: Name: Jolene    , Major: Chemistry                     , Years: 1st year  \n",
      "3: Name: bobby     , Major: Pharm                         , Years: 1st year  \n",
      "4: Name: Yuen Xuan , Major: Life Science                  , Years: 1st year  \n",
      "5: Name: Wei Jie   , Major: Pharm                         , Years: 1st year  \n",
      "6: Name: Jun Hean  , Major: Pharm                         , Years: 1st year  \n",
      "7: Name: Ming Rong , Major: Life Science                  , Years: 1st year  \n"
     ]
    }
   ],
   "source": [
    "for index, name in enumerate(names): \n",
    "    major = majors[index]\n",
    "    if major == 'Chem':\n",
    "        major = 'Chemistry'\n",
    "\n",
    "    year = years[index]\n",
    "    if year == '1st year': \n",
    "        print(f'{index+1}: Name: {name: <10}, Major: {major:<30}, Years: {year:<10}')\n",
    "    else: \n",
    "        continue\n",
    "        print('Not a first year')"
   ]
  },
  {
   "cell_type": "code",
   "execution_count": 13,
   "id": "d36e96b6-633e-4d14-94ce-9c2880b800b0",
   "metadata": {},
   "outputs": [
    {
     "name": "stdout",
     "output_type": "stream",
     "text": [
      "I am here\n"
     ]
    }
   ],
   "source": [
    "for index, name in enumerate(names): \n",
    "    major = majors[index]\n",
    "    if major == 'Chem':\n",
    "        major = 'Chemistry'\n",
    "\n",
    "    if major == 'Chemistry': \n",
    "        print('I am here') \n",
    "        break\n",
    "\n",
    "    year = years[index]\n",
    "    if year == '1st year': \n",
    "        print(f'{index+1}: Name: {name: <10}, Major: {major:<30}, Years: {year:<10}')\n",
    "    else: \n",
    "        continue\n",
    "        print('Not a first year')"
   ]
  },
  {
   "cell_type": "markdown",
   "id": "83e9fa53-041d-4310-8dfb-9cabc3bdb7a0",
   "metadata": {},
   "source": [
    "### Improving formatting"
   ]
  },
  {
   "cell_type": "code",
   "execution_count": 17,
   "id": "94261192-4a4d-4583-a9d3-f00fd73b6df9",
   "metadata": {},
   "outputs": [],
   "source": [
    "names_upper = list()\n",
    "for name in names: \n",
    "    names_upper.append(name.upper())\n",
    "    #print(name. upper())"
   ]
  },
  {
   "cell_type": "code",
   "execution_count": 18,
   "id": "9e05e74b-d3e8-40b2-a308-ef0dd7d36972",
   "metadata": {},
   "outputs": [
    {
     "data": {
      "text/plain": [
       "['JOLENE',\n",
       " 'JOELLE',\n",
       " 'BOBBY',\n",
       " 'YUEN XUAN',\n",
       " 'WEI JIE',\n",
       " 'JUN HEAN',\n",
       " 'MING RONG',\n",
       " 'KENDRA',\n",
       " 'VANESSA',\n",
       " 'JOEY',\n",
       " 'CAITLIN',\n",
       " 'RYAN']"
      ]
     },
     "execution_count": 18,
     "metadata": {},
     "output_type": "execute_result"
    }
   ],
   "source": [
    "names_upper"
   ]
  },
  {
   "cell_type": "code",
   "execution_count": 25,
   "id": "abd95e97-9a10-4cd3-b9c9-3b1488e7110c",
   "metadata": {},
   "outputs": [],
   "source": [
    "majors = [\"Chem\", \"Pharmacy\", \"Pharm\", \"Life Sciences\", \"Pharm\", \"Pharm\", \"Life Science\", \"Life Science\", \"Pharm\", \"Pharm\", \"BnP\", \"Biz\"]\n",
    "\n",
    "majors_cleaned = []\n",
    "\n",
    "for major in majors:\n",
    "    if major == \"Life Science\":               #checking \n",
    "      majors_cleaned.append('Life Sciences')\n",
    "    elif major == 'Chem': \n",
    "        majors_cleaned.append('Chemistry')\n",
    "    else:\n",
    "        majors_cleaned.append(major)"
   ]
  },
  {
   "cell_type": "code",
   "execution_count": 26,
   "id": "0d0d3f9c-ab1d-4be2-a9a9-27733c76d96b",
   "metadata": {},
   "outputs": [
    {
     "data": {
      "text/plain": [
       "['Chemistry',\n",
       " 'Pharmacy',\n",
       " 'Pharm',\n",
       " 'Life Sciences',\n",
       " 'Pharm',\n",
       " 'Pharm',\n",
       " 'Life Sciences',\n",
       " 'Life Sciences',\n",
       " 'Pharm',\n",
       " 'Pharm',\n",
       " 'BnP',\n",
       " 'Biz']"
      ]
     },
     "execution_count": 26,
     "metadata": {},
     "output_type": "execute_result"
    }
   ],
   "source": [
    "majors_cleaned"
   ]
  },
  {
   "cell_type": "code",
   "execution_count": 27,
   "id": "9f119b9b-1766-4bc9-8562-6878b2ebe635",
   "metadata": {},
   "outputs": [],
   "source": [
    "majors = [\"Chem\", \"Pharmacy\", \"Pharm\", \"Life Sciences\", \"Pharm\", \"Pharm\", \"Life Science\", \"Life Science\", \"Pharm\", \"Pharm\", \"BnP\", \"Biz\"]\n",
    "\n",
    "majors_cleaned = []\n",
    "\n",
    "for major in majors:\n",
    "    if major == \"Life Science\":               #checking \n",
    "      majors_cleaned.append('Life Sciences')\n",
    "    elif major == 'Chem': \n",
    "        majors_cleaned.append('Chemistry')\n",
    "    else:\n",
    "        majors_cleaned.append(major)"
   ]
  },
  {
   "cell_type": "code",
   "execution_count": 29,
   "id": "fd498e78-db2f-49e8-9a38-6d094f95f028",
   "metadata": {},
   "outputs": [
    {
     "data": {
      "text/plain": [
       "{'Chem': 'Chemistry', 'Pharmacy': 'Pharmacy', 'BnP': 'Business and Psychology'}"
      ]
     },
     "execution_count": 29,
     "metadata": {},
     "output_type": "execute_result"
    }
   ],
   "source": [
    "# Dictionary -> replace_info makes the key the old value, then have new value...??\n",
    "replace_info = {\n",
    "    'Chem': 'Chemistry',\n",
    "    'Pharmacy': 'Pharmacy', \n",
    "    'BnP': 'Business and Psychology'}\n",
    "\n",
    "replace_info"
   ]
  },
  {
   "cell_type": "code",
   "execution_count": 32,
   "id": "1046505e-3e6a-4f08-b079-675d7eecf45b",
   "metadata": {},
   "outputs": [
    {
     "name": "stdout",
     "output_type": "stream",
     "text": [
      "Chem Chemistry\n",
      "Pharmacy Pharmacy\n",
      "BnP Business and Psychology\n"
     ]
    }
   ],
   "source": [
    "for old_major, new_major in replace_info.items(): # shows key and value \n",
    "    print(old_major, new_major)"
   ]
  },
  {
   "cell_type": "code",
   "execution_count": 33,
   "id": "eb21ff02-aaaa-46db-b6a3-2d12396efcb7",
   "metadata": {},
   "outputs": [
    {
     "data": {
      "text/plain": [
       "'CCCC'"
      ]
     },
     "execution_count": 33,
     "metadata": {},
     "output_type": "execute_result"
    }
   ],
   "source": [
    "'Chem'.replace('Chem', 'CCCC')"
   ]
  },
  {
   "cell_type": "code",
   "execution_count": 34,
   "id": "13e7eb0f-024b-46cd-ba61-15915b9430c1",
   "metadata": {},
   "outputs": [],
   "source": [
    "def clean_majors(major): \n",
    "    replace_info = {'Chem': 'Chemistry',\n",
    "    'Pharmacy': 'Pharmacy', \n",
    "    'BnP': 'Business and Psychology'}\n",
    "\n",
    "    for old_major, new_major in replace_info.items(): \n",
    "        major = major.replace(old_major, new_major)\n",
    "\n",
    "    return major"
   ]
  },
  {
   "cell_type": "code",
   "execution_count": null,
   "id": "b926d6fe-b73c-4990-8c4c-aef4af4f74ec",
   "metadata": {},
   "outputs": [],
   "source": [
    "clean_majors"
   ]
  },
  {
   "cell_type": "code",
   "execution_count": null,
   "id": "05046f81-56a4-4bf0-b997-b3e59aed057d",
   "metadata": {},
   "outputs": [],
   "source": []
  },
  {
   "attachments": {},
   "cell_type": "markdown",
   "id": "5c7656ed",
   "metadata": {},
   "source": [
    "# 2 while"
   ]
  },
  {
   "cell_type": "code",
   "execution_count": null,
   "id": "92abcfc0-ef1e-4009-8f60-a2053cacb64c",
   "metadata": {},
   "outputs": [],
   "source": [
    "x = 10 \n",
    "\n",
    "while x >= 0: \n",
    "    print(x)\n",
    "    x -= 1"
   ]
  },
  {
   "cell_type": "code",
   "execution_count": null,
   "id": "9d14249b-12bd-46f7-bb9e-50ad2853f5bb",
   "metadata": {},
   "outputs": [],
   "source": []
  },
  {
   "cell_type": "code",
   "execution_count": null,
   "id": "aa958809-8d75-46c0-9fba-865da7b5994a",
   "metadata": {},
   "outputs": [],
   "source": []
  },
  {
   "cell_type": "code",
   "execution_count": null,
   "id": "aaa2b914-bc5b-4a61-8d54-fee3c89f182d",
   "metadata": {},
   "outputs": [],
   "source": []
  },
  {
   "cell_type": "code",
   "execution_count": null,
   "id": "fb90d92d-0e56-47e1-9bf4-958842edf167",
   "metadata": {},
   "outputs": [],
   "source": []
  },
  {
   "cell_type": "code",
   "execution_count": null,
   "id": "7351ee0d-e8dd-4324-8d1d-2629407000f5",
   "metadata": {},
   "outputs": [],
   "source": []
  },
  {
   "cell_type": "code",
   "execution_count": null,
   "id": "514aaa49-bd11-4405-b21c-b5729b36fe71",
   "metadata": {},
   "outputs": [],
   "source": []
  }
 ],
 "metadata": {
  "kernelspec": {
   "display_name": "Python 3 (ipykernel)",
   "language": "python",
   "name": "python3"
  },
  "language_info": {
   "codemirror_mode": {
    "name": "ipython",
    "version": 3
   },
   "file_extension": ".py",
   "mimetype": "text/x-python",
   "name": "python",
   "nbconvert_exporter": "python",
   "pygments_lexer": "ipython3",
   "version": "3.12.2"
  },
  "toc": {
   "base_numbering": 1,
   "nav_menu": {},
   "number_sections": true,
   "sideBar": true,
   "skip_h1_title": false,
   "title_cell": "Table of Contents",
   "title_sidebar": "Contents",
   "toc_cell": false,
   "toc_position": {},
   "toc_section_display": true,
   "toc_window_display": false
  },
  "vscode": {
   "interpreter": {
    "hash": "31f2aee4e71d21fbe5cf8b01ff0e069b9275f58929596ceb00d14d90e3e16cd6"
   }
  }
 },
 "nbformat": 4,
 "nbformat_minor": 5
}
