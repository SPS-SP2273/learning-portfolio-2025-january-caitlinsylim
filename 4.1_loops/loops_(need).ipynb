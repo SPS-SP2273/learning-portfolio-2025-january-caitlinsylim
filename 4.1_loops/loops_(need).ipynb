{
 "cells": [
  {
   "attachments": {},
   "cell_type": "markdown",
   "id": "123456",
   "metadata": {},
   "source": [
    "<div style=\"text-align:left;font-size:2em\"><span style=\"font-weight:bolder;font-size:1.25em\">SP2273 | Learning Portfolio</span><br><br><span style=\"font-weight:bold;color:darkred\">Loops (Need)</span></div>"
   ]
  },
  {
   "attachments": {},
   "cell_type": "markdown",
   "id": "e85d7598",
   "metadata": {},
   "source": [
    "# What to expect in this chapter"
   ]
  },
  {
   "cell_type": "markdown",
   "id": "2ceea034-70f5-415c-b20f-a404b672bddb",
   "metadata": {},
   "source": [
    "## REWRITING NOTES"
   ]
  },
  {
   "attachments": {},
   "cell_type": "markdown",
   "id": "4da2eb7e",
   "metadata": {},
   "source": [
    "# 1 The for iterator"
   ]
  },
  {
   "cell_type": "code",
   "execution_count": 4,
   "id": "aa958809-8d75-46c0-9fba-865da7b5994a",
   "metadata": {},
   "outputs": [],
   "source": [
    "names = [\"Jolene\", \"Joelle\", \"bobby\", \"Yuen Xuan\", \"Wei Jie\", \"Jun Hean\", \"Ming Rong\", \"Kendra\", \"Vanessa\", \"Joey\", \"Caitlin\", \"Ryan\"]\n",
    "majors = [\"Chem\", \"Pharmacy\", \"Pharmacy\", \"Life Sciences\", \"Pharmacy\", \"Pharmacy\", \"Life Science\", \"Life Science\", \"Pharmacy\", \"Pharmacy\", \"Business and Psychology\", \"Biz Real Estate\"]\n",
    "years = [\"1st year\", \"4th year\", \"4th year\", \"1st year\", \"4th year\", \"4th year\", \"1st year\", \"2nd year\", \"4th year\", \"4th year\", \"4th year\", \"4th year\"]"
   ]
  },
  {
   "cell_type": "code",
   "execution_count": 58,
   "id": "94608178-ba34-45a9-a71f-8657180e29a7",
   "metadata": {},
   "outputs": [
    {
     "data": {
      "text/plain": [
       "('Caitlin', 'Business and Psychology', '4th year')"
      ]
     },
     "execution_count": 58,
     "metadata": {},
     "output_type": "execute_result"
    }
   ],
   "source": [
    "index = 10\n",
    "names[index], majors[index], years[index]      #corresponding to the same person"
   ]
  },
  {
   "cell_type": "markdown",
   "id": "632b8ac8-148e-41c6-88c6-467eb89c6746",
   "metadata": {},
   "source": [
    "Beautifying it using fstring:"
   ]
  },
  {
   "cell_type": "code",
   "execution_count": 59,
   "id": "71e6915a-596b-4181-a44e-d481601af6ba",
   "metadata": {},
   "outputs": [
    {
     "name": "stdout",
     "output_type": "stream",
     "text": [
      "Name: Wei Jie, Major: Pharmacy, Year: 4th year\n"
     ]
    }
   ],
   "source": [
    "index = 4\n",
    "print(f'Name: {names[index]}, Major: {majors[index]}, Year: {years[index]}') "
   ]
  },
  {
   "cell_type": "markdown",
   "id": "2f13740c-6d9e-4fdd-bd8d-faba30bb5e67",
   "metadata": {},
   "source": [
    "Printing multiple students manually:"
   ]
  },
  {
   "cell_type": "code",
   "execution_count": 60,
   "id": "be5ad832-ab8e-4c0f-a63f-0c8aba93a3e3",
   "metadata": {},
   "outputs": [
    {
     "name": "stdout",
     "output_type": "stream",
     "text": [
      "Name: Joelle, Major: Pharmacy, Year: 4th year\n",
      "Name: bobby, Major: Pharmacy, Year: 4th year\n",
      "Name: Yuen Xuan, Major: Life Sciences, Year: 1st year\n"
     ]
    }
   ],
   "source": [
    "index = 1\n",
    "print(f'Name: {names[index]}, Major: {majors[index]}, Year: {years[index]}') \n",
    "index = 2\n",
    "print(f'Name: {names[index]}, Major: {majors[index]}, Year: {years[index]}') \n",
    "index = 3\n",
    "print(f'Name: {names[index]}, Major: {majors[index]}, Year: {years[index]}') "
   ]
  },
  {
   "cell_type": "markdown",
   "id": "9ff478d2-771b-4386-9db1-e53d74841f38",
   "metadata": {},
   "source": [
    "For few ppl it's easy, but if a lot of ppl it's difficult -> the action is repeated, so we can use loops"
   ]
  },
  {
   "cell_type": "markdown",
   "id": "d078edef-5af8-4a09-bb79-c7c3107d9c39",
   "metadata": {},
   "source": [
    "### 3 ways to do loops:"
   ]
  },
  {
   "cell_type": "markdown",
   "id": "b9aedc5c-ff76-4c69-9d40-99b3838a387b",
   "metadata": {},
   "source": [
    "#### 1st way using range(number)"
   ]
  },
  {
   "cell_type": "code",
   "execution_count": 61,
   "id": "74e05247-9f24-41d3-9bc2-c047e96716bb",
   "metadata": {},
   "outputs": [
    {
     "name": "stdout",
     "output_type": "stream",
     "text": [
      "0\n",
      "1\n",
      "2\n",
      "3\n",
      "4\n"
     ]
    }
   ],
   "source": [
    "for i in range(5):       # range creates a list for you starting frm 0 \n",
    "    print(i)             # here you are printing it out"
   ]
  },
  {
   "cell_type": "code",
   "execution_count": 62,
   "id": "ac65a8d5-ebb9-4b14-b82b-0166aef3a0d9",
   "metadata": {},
   "outputs": [
    {
     "name": "stdout",
     "output_type": "stream",
     "text": [
      "Name: Jolene         , Major: Chem           , Year: 1st year       \n",
      "Name: Joelle         , Major: Pharmacy       , Year: 4th year       \n",
      "Name: bobby          , Major: Pharmacy       , Year: 4th year       \n",
      "Name: Yuen Xuan      , Major: Life Sciences  , Year: 1st year       \n",
      "Name: Wei Jie        , Major: Pharmacy       , Year: 4th year       \n",
      "Name: Jun Hean       , Major: Pharmacy       , Year: 4th year       \n",
      "Name: Ming Rong      , Major: Life Science   , Year: 1st year       \n",
      "Name: Kendra         , Major: Life Science   , Year: 2nd year       \n",
      "Name: Vanessa        , Major: Pharmacy       , Year: 4th year       \n",
      "Name: Joey           , Major: Pharmacy       , Year: 4th year       \n",
      "Name: Caitlin        , Major: Business and Psychology, Year: 4th year       \n",
      "Name: Ryan           , Major: Biz Real Estate, Year: 4th year       \n"
     ]
    }
   ],
   "source": [
    "for index in range(12): \n",
    "    print(f'Name: {names[index]:<15}, Major: {majors[index]:<15}, Year: {years[index]:<15}')   # beautify by justifying info "
   ]
  },
  {
   "cell_type": "markdown",
   "id": "df014f57-2f67-40c8-a205-bc37a28464b5",
   "metadata": {},
   "source": [
    "#### 2nd way using range(len(subject))"
   ]
  },
  {
   "cell_type": "markdown",
   "id": "748da169-5de2-4b49-b6d3-0d01f343d368",
   "metadata": {},
   "source": [
    "If we use range(12) or any number inside, we need to know how many people in this entire list. What if we don't know? \n",
    "- Use range(len()) -> total no. of elements inside the list\n",
    "- If we remove bobby from the list, len() automatically updates it so we don't have issues"
   ]
  },
  {
   "cell_type": "code",
   "execution_count": 71,
   "id": "cff70207-3dd3-41a6-9a0e-a12d740bdb29",
   "metadata": {},
   "outputs": [
    {
     "name": "stdout",
     "output_type": "stream",
     "text": [
      "Name: Jolene         , Major: Chem           , Year: 1st year       \n",
      "Name: Joelle         , Major: Pharmacy       , Year: 4th year       \n",
      "Name: bobby          , Major: Pharmacy       , Year: 4th year       \n",
      "Name: Yuen Xuan      , Major: Life Sciences  , Year: 1st year       \n",
      "Name: Wei Jie        , Major: Pharmacy       , Year: 4th year       \n",
      "Name: Jun Hean       , Major: Pharmacy       , Year: 4th year       \n",
      "Name: Ming Rong      , Major: Life Science   , Year: 1st year       \n",
      "Name: Kendra         , Major: Life Science   , Year: 2nd year       \n",
      "Name: Vanessa        , Major: Pharmacy       , Year: 4th year       \n",
      "Name: Joey           , Major: Pharmacy       , Year: 4th year       \n",
      "Name: Caitlin        , Major: Business and Psychology, Year: 4th year       \n",
      "Name: Ryan           , Major: Biz Real Estate, Year: 4th year       \n"
     ]
    }
   ],
   "source": [
    "for index in range(len(names)): \n",
    "    print(f'Name: {names[index]:<15}, Major: {majors[index]:<15}, Year: {years[index]:<15}')       "
   ]
  },
  {
   "cell_type": "code",
   "execution_count": 72,
   "id": "a3ebdee4-d070-411a-8338-ddd475495ff2",
   "metadata": {},
   "outputs": [
    {
     "name": "stdout",
     "output_type": "stream",
     "text": [
      "Jolene\n",
      "Joelle\n",
      "bobby\n",
      "Yuen Xuan\n",
      "Wei Jie\n",
      "Jun Hean\n",
      "Ming Rong\n",
      "Kendra\n",
      "Vanessa\n",
      "Joey\n",
      "Caitlin\n",
      "Ryan\n"
     ]
    }
   ],
   "source": [
    "for whatever in names:         # whatever is just a placeholder, you can use anything \n",
    "    print(whatever)"
   ]
  },
  {
   "cell_type": "markdown",
   "id": "8e150382-74fd-426f-be2e-1fc88ae1c483",
   "metadata": {},
   "source": [
    "#### What if you want to unpack more than 1 list concurrently? Use ZIP"
   ]
  },
  {
   "cell_type": "code",
   "execution_count": 73,
   "id": "aaa2b914-bc5b-4a61-8d54-fee3c89f182d",
   "metadata": {},
   "outputs": [
    {
     "ename": "ValueError",
     "evalue": "too many values to unpack (expected 2)",
     "output_type": "error",
     "traceback": [
      "\u001b[0;31m---------------------------------------------------------------------------\u001b[0m",
      "\u001b[0;31mValueError\u001b[0m                                Traceback (most recent call last)",
      "Cell \u001b[0;32mIn[73], line 1\u001b[0m\n\u001b[0;32m----> 1\u001b[0m \u001b[38;5;28;01mfor\u001b[39;00m name, major \u001b[38;5;129;01min\u001b[39;00m names,majors:              \u001b[38;5;66;03m# list cannot unpack 2 bcos syntax doesn't allow it, so we use zip\u001b[39;00m\n\u001b[1;32m      2\u001b[0m     \u001b[38;5;28mprint\u001b[39m(name, major)\n",
      "\u001b[0;31mValueError\u001b[0m: too many values to unpack (expected 2)"
     ]
    }
   ],
   "source": [
    "for name, major in names,majors:              # list cannot unpack 2 bcos syntax doesn't allow it, so we use zip\n",
    "    print(name, major)"
   ]
  },
  {
   "cell_type": "code",
   "execution_count": 74,
   "id": "fb90d92d-0e56-47e1-9bf4-958842edf167",
   "metadata": {},
   "outputs": [
    {
     "name": "stdout",
     "output_type": "stream",
     "text": [
      "Jolene Chem 1st year\n",
      "Joelle Pharmacy 4th year\n",
      "bobby Pharmacy 4th year\n",
      "Yuen Xuan Life Sciences 1st year\n",
      "Wei Jie Pharmacy 4th year\n",
      "Jun Hean Pharmacy 4th year\n",
      "Ming Rong Life Science 1st year\n",
      "Kendra Life Science 2nd year\n",
      "Vanessa Pharmacy 4th year\n",
      "Joey Pharmacy 4th year\n",
      "Caitlin Business and Psychology 4th year\n",
      "Ryan Biz Real Estate 4th year\n"
     ]
    }
   ],
   "source": [
    "for name, major, year in zip(names,majors,years):              # list cannot unpack 2 bcos syntax doesn't allow it, so we use zip\n",
    "    print(name, major, year)"
   ]
  },
  {
   "attachments": {},
   "cell_type": "markdown",
   "id": "e8fabc5d",
   "metadata": {},
   "source": [
    "## 1.2 for with enumerate"
   ]
  },
  {
   "cell_type": "code",
   "execution_count": 75,
   "id": "7351ee0d-e8dd-4324-8d1d-2629407000f5",
   "metadata": {},
   "outputs": [
    {
     "name": "stdout",
     "output_type": "stream",
     "text": [
      "Name: Ryan           , Major: Biz Real Estate, Year: 4th year       \n",
      "Name: Ryan           , Major: Biz Real Estate, Year: 4th year       \n",
      "Name: Ryan           , Major: Biz Real Estate, Year: 4th year       \n",
      "Name: Ryan           , Major: Biz Real Estate, Year: 4th year       \n",
      "Name: Ryan           , Major: Biz Real Estate, Year: 4th year       \n",
      "Name: Ryan           , Major: Biz Real Estate, Year: 4th year       \n",
      "Name: Ryan           , Major: Biz Real Estate, Year: 4th year       \n",
      "Name: Ryan           , Major: Biz Real Estate, Year: 4th year       \n",
      "Name: Ryan           , Major: Biz Real Estate, Year: 4th year       \n",
      "Name: Ryan           , Major: Biz Real Estate, Year: 4th year       \n",
      "Name: Ryan           , Major: Biz Real Estate, Year: 4th year       \n",
      "Name: Ryan           , Major: Biz Real Estate, Year: 4th year       \n"
     ]
    }
   ],
   "source": [
    "for name in names: \n",
    "    print(f'Name: {names[index]:<15}, Major: {majors[index]:<15}, Year: {years[index]:<15}')  "
   ]
  },
  {
   "cell_type": "markdown",
   "id": "8e5dc0bb-41ff-4c38-a934-3254e836bdca",
   "metadata": {},
   "source": [
    "It's not working!"
   ]
  },
  {
   "cell_type": "code",
   "execution_count": 76,
   "id": "8050bea0-6d6f-4f86-8b01-f1716303f21c",
   "metadata": {},
   "outputs": [
    {
     "name": "stdout",
     "output_type": "stream",
     "text": [
      "Name: Jolene         , Major: Chem           , Year: 1st year       \n",
      "Name: Joelle         , Major: Pharmacy       , Year: 4th year       \n",
      "Name: bobby          , Major: Pharmacy       , Year: 4th year       \n",
      "Name: Yuen Xuan      , Major: Life Sciences  , Year: 1st year       \n",
      "Name: Wei Jie        , Major: Pharmacy       , Year: 4th year       \n",
      "Name: Jun Hean       , Major: Pharmacy       , Year: 4th year       \n",
      "Name: Ming Rong      , Major: Life Science   , Year: 1st year       \n",
      "Name: Kendra         , Major: Life Science   , Year: 2nd year       \n",
      "Name: Vanessa        , Major: Pharmacy       , Year: 4th year       \n",
      "Name: Joey           , Major: Pharmacy       , Year: 4th year       \n",
      "Name: Caitlin        , Major: Business and Psychology, Year: 4th year       \n",
      "Name: Ryan           , Major: Biz Real Estate, Year: 4th year       \n"
     ]
    }
   ],
   "source": [
    "index = 0 \n",
    "for name in names: \n",
    "    print(f'Name: {names[index]:<15}, Major: {majors[index]:<15}, Year: {years[index]:<15}')  \n",
    "    index +=1"
   ]
  },
  {
   "cell_type": "markdown",
   "id": "0f2858a8-e3cc-49e0-91ea-c6043822ee26",
   "metadata": {},
   "source": [
    "It works now. We use the for loop to go thru the names. Then take index to add it by 1. That helps to increase it and print it correctly"
   ]
  },
  {
   "cell_type": "markdown",
   "id": "deda2748-1b03-4aca-bfb4-26b5ed513eae",
   "metadata": {},
   "source": [
    "What if I want to count my list?"
   ]
  },
  {
   "cell_type": "code",
   "execution_count": 79,
   "id": "b1f633d2-7010-4603-9549-299fd90534b7",
   "metadata": {},
   "outputs": [
    {
     "name": "stdout",
     "output_type": "stream",
     "text": [
      "1: Name: Jolene         , Major: Chem           , Year: 1st year       \n",
      "2: Name: Joelle         , Major: Pharmacy       , Year: 4th year       \n",
      "3: Name: bobby          , Major: Pharmacy       , Year: 4th year       \n",
      "4: Name: Yuen Xuan      , Major: Life Sciences  , Year: 1st year       \n",
      "5: Name: Wei Jie        , Major: Pharmacy       , Year: 4th year       \n",
      "6: Name: Jun Hean       , Major: Pharmacy       , Year: 4th year       \n",
      "7: Name: Ming Rong      , Major: Life Science   , Year: 1st year       \n",
      "8: Name: Kendra         , Major: Life Science   , Year: 2nd year       \n",
      "9: Name: Vanessa        , Major: Pharmacy       , Year: 4th year       \n",
      "10: Name: Joey           , Major: Pharmacy       , Year: 4th year       \n",
      "11: Name: Caitlin        , Major: Business and Psychology, Year: 4th year       \n",
      "12: Name: Ryan           , Major: Biz Real Estate, Year: 4th year       \n"
     ]
    }
   ],
   "source": [
    "index = 0\n",
    "for name in names: \n",
    "    print(f'{index+1}: Name: {names[index]:<15}, Major: {majors[index]:<15}, Year: {years[index]:<15}')\n",
    "    index +=1"
   ]
  },
  {
   "cell_type": "markdown",
   "id": "cb4c3808-9d25-43e9-bf91-b3424935cf00",
   "metadata": {},
   "source": [
    "index+1 because default starts at 0"
   ]
  },
  {
   "cell_type": "markdown",
   "id": "30455171-f42b-4fe3-a66a-9c536ff2c941",
   "metadata": {},
   "source": [
    "I can also use enumerate!"
   ]
  },
  {
   "cell_type": "code",
   "execution_count": 82,
   "id": "f97b12e7-9113-4e13-bf7f-8d5bb95af91e",
   "metadata": {},
   "outputs": [
    {
     "name": "stdout",
     "output_type": "stream",
     "text": [
      "1: Name: Jolene    , Major:Chem                          , Year: 1st year  \n",
      "2: Name: Joelle    , Major:Pharmacy                      , Year: 4th year  \n",
      "3: Name: bobby     , Major:Pharmacy                      , Year: 4th year  \n",
      "4: Name: Yuen Xuan , Major:Life Sciences                 , Year: 1st year  \n",
      "5: Name: Wei Jie   , Major:Pharmacy                      , Year: 4th year  \n",
      "6: Name: Jun Hean  , Major:Pharmacy                      , Year: 4th year  \n",
      "7: Name: Ming Rong , Major:Life Science                  , Year: 1st year  \n",
      "8: Name: Kendra    , Major:Life Science                  , Year: 2nd year  \n",
      "9: Name: Vanessa   , Major:Pharmacy                      , Year: 4th year  \n",
      "10: Name: Joey      , Major:Pharmacy                      , Year: 4th year  \n",
      "11: Name: Caitlin   , Major:Business and Psychology       , Year: 4th year  \n",
      "12: Name: Ryan      , Major:Biz Real Estate               , Year: 4th year  \n"
     ]
    }
   ],
   "source": [
    "# index = 0 \n",
    "for index,name in enumerate(names):\n",
    "    print(f'{index+1}: Name: {name:<10}, Major:{majors[index]:<30}, Year: {years[index]:<10}')\n",
    "    # index += 1"
   ]
  },
  {
   "cell_type": "markdown",
   "id": "255f3164-3cd8-407f-84b9-f1848053eac1",
   "metadata": {},
   "source": [
    "Enumerate gives the NAME and COUNT (count starts at 0, that's why need to +1)"
   ]
  },
  {
   "cell_type": "code",
   "execution_count": 83,
   "id": "ff002b0f-d97f-4430-b1f4-30b023ba8eb7",
   "metadata": {},
   "outputs": [
    {
     "name": "stdout",
     "output_type": "stream",
     "text": [
      "11: Name: Jolene    , Major:Business and Psychology       , Year: 4th year  \n",
      "12: Name: Joelle    , Major:Biz Real Estate               , Year: 4th year  \n"
     ]
    },
    {
     "ename": "IndexError",
     "evalue": "list index out of range",
     "output_type": "error",
     "traceback": [
      "\u001b[0;31m---------------------------------------------------------------------------\u001b[0m",
      "\u001b[0;31mIndexError\u001b[0m                                Traceback (most recent call last)",
      "Cell \u001b[0;32mIn[83], line 3\u001b[0m\n\u001b[1;32m      1\u001b[0m \u001b[38;5;66;03m# index = 0 \u001b[39;00m\n\u001b[1;32m      2\u001b[0m \u001b[38;5;28;01mfor\u001b[39;00m index,name \u001b[38;5;129;01min\u001b[39;00m \u001b[38;5;28menumerate\u001b[39m(names, start\u001b[38;5;241m=\u001b[39m\u001b[38;5;241m10\u001b[39m):\n\u001b[0;32m----> 3\u001b[0m     \u001b[38;5;28mprint\u001b[39m(\u001b[38;5;124mf\u001b[39m\u001b[38;5;124m'\u001b[39m\u001b[38;5;132;01m{\u001b[39;00mindex\u001b[38;5;241m+\u001b[39m\u001b[38;5;241m1\u001b[39m\u001b[38;5;132;01m}\u001b[39;00m\u001b[38;5;124m: Name: \u001b[39m\u001b[38;5;132;01m{\u001b[39;00mname\u001b[38;5;132;01m:\u001b[39;00m\u001b[38;5;124m<10\u001b[39m\u001b[38;5;132;01m}\u001b[39;00m\u001b[38;5;124m, Major:\u001b[39m\u001b[38;5;132;01m{\u001b[39;00m\u001b[43mmajors\u001b[49m\u001b[43m[\u001b[49m\u001b[43mindex\u001b[49m\u001b[43m]\u001b[49m\u001b[38;5;132;01m:\u001b[39;00m\u001b[38;5;124m<30\u001b[39m\u001b[38;5;132;01m}\u001b[39;00m\u001b[38;5;124m, Year: \u001b[39m\u001b[38;5;132;01m{\u001b[39;00myears[index]\u001b[38;5;132;01m:\u001b[39;00m\u001b[38;5;124m<10\u001b[39m\u001b[38;5;132;01m}\u001b[39;00m\u001b[38;5;124m'\u001b[39m)\n\u001b[1;32m      4\u001b[0m     \u001b[38;5;66;03m# index += 1\u001b[39;00m\n",
      "\u001b[0;31mIndexError\u001b[0m: list index out of range"
     ]
    }
   ],
   "source": [
    "# index = 0 \n",
    "for index,name in enumerate(names, start=10):\n",
    "    print(f'{index+1}: Name: {name:<10}, Major:{majors[index]:<30}, Year: {years[index]:<10}')\n",
    "    # index += 1"
   ]
  },
  {
   "cell_type": "markdown",
   "id": "611c96ca-5bff-4eef-8ada-c1af5403672b",
   "metadata": {},
   "source": [
    "This doesn't work because indexing is broken"
   ]
  },
  {
   "cell_type": "code",
   "execution_count": 95,
   "id": "886ea010-7a17-44cb-8fec-6e632055c839",
   "metadata": {},
   "outputs": [
    {
     "name": "stdout",
     "output_type": "stream",
     "text": [
      "1: Name: Jolene    , Major:Chem                          , Year: 1s        \n",
      "2: Name: Joelle    , Major:Pharmacy                      , Year: 4t        \n",
      "3: Name: bobby     , Major:Pharmacy                      , Year: 4t        \n",
      "4: Name: Yuen Xuan , Major:Life Sciences                 , Year: 1s        \n",
      "5: Name: Wei Jie   , Major:Pharmacy                      , Year: 4t        \n",
      "6: Name: Jun Hean  , Major:Pharmacy                      , Year: 4t        \n",
      "7: Name: Ming Rong , Major:Life Science                  , Year: 1s        \n",
      "8: Name: Kendra    , Major:Life Science                  , Year: 2n        \n",
      "9: Name: Vanessa   , Major:Pharmacy                      , Year: 4t        \n",
      "10: Name: Joey      , Major:Pharmacy                      , Year: 4t        \n",
      "11: Name: Caitlin   , Major:Business and Psychology       , Year: 4t        \n",
      "12: Name: Ryan      , Major:Biz Real Estate               , Year: 4t        \n"
     ]
    }
   ],
   "source": [
    "for index, name in enumerate(names):\n",
    "    year = years[index]\n",
    "    year = year[0:2]\n",
    "    \n",
    "    print(f'{index+1}: Name: {name:<10}, Major:{majors[index]:<30}, Year: {year:<10}')"
   ]
  },
  {
   "cell_type": "markdown",
   "id": "b079544d-c110-4296-b6dc-154ab75bced8",
   "metadata": {},
   "source": [
    "What if I only want to show people in the first year?"
   ]
  },
  {
   "cell_type": "code",
   "execution_count": 7,
   "id": "1b2b400b-d658-40d3-9c48-bf5e2e5d211b",
   "metadata": {},
   "outputs": [
    {
     "name": "stdout",
     "output_type": "stream",
     "text": [
      "1: Name: Jolene    , Major:Chem                          , Year: 1st year  \n",
      "4: Name: Yuen Xuan , Major:Life Sciences                 , Year: 1st year  \n",
      "7: Name: Ming Rong , Major:Life Science                  , Year: 1st year  \n"
     ]
    }
   ],
   "source": [
    "for index, name in enumerate(names): \n",
    "    year = years[index]\n",
    "    if year == \"1st year\":\n",
    "        print(f'{index+1}: Name: {name:<10}, Major:{majors[index]:<30}, Year: {year:<10}')\n",
    "    # else: \n",
    "        # print('Not a first year')"
   ]
  },
  {
   "cell_type": "markdown",
   "id": "eebfdc9d-6b46-4c33-8910-a0f9e350bb61",
   "metadata": {},
   "source": [
    "What if I want it to be consistent naming? Now it's science and sciences"
   ]
  },
  {
   "cell_type": "code",
   "execution_count": 9,
   "id": "d7c11fff-d67e-476f-a425-13d6a2703f57",
   "metadata": {},
   "outputs": [
    {
     "name": "stdout",
     "output_type": "stream",
     "text": [
      "1: Name: Jolene    , Major:Chemistry                     , Year: 1st year  \n",
      "4: Name: Yuen Xuan , Major:Life Science                  , Year: 1st year  \n",
      "7: Name: Ming Rong , Major:Life Science                  , Year: 1st year  \n"
     ]
    }
   ],
   "source": [
    "for index, name in enumerate(names):\n",
    "    if majors[index] == 'Life Sciences': \n",
    "        major = 'Life Science'\n",
    "        \n",
    "    year = years[index]\n",
    "    if year == \"1st year\":\n",
    "        print(f'{index+1}: Name: {name:<10}, Major:{major:<30}, Year: {year:<10}')\n",
    "    # else: \n",
    "        # print('Not a first year')"
   ]
  },
  {
   "attachments": {},
   "cell_type": "markdown",
   "id": "5c7656ed",
   "metadata": {},
   "source": [
    "# 2 while"
   ]
  },
  {
   "cell_type": "code",
   "execution_count": 2,
   "id": "790f11c8-5952-4ec8-866f-f9b4d66f6717",
   "metadata": {},
   "outputs": [
    {
     "name": "stdout",
     "output_type": "stream",
     "text": [
      "10\n",
      "9\n",
      "8\n",
      "7\n",
      "6\n",
      "5\n",
      "4\n",
      "3\n",
      "2\n",
      "1\n",
      "0\n"
     ]
    }
   ],
   "source": [
    "x = 10\n",
    "\n",
    "while x >= 0: \n",
    "    print(x)\n",
    "    x -= 1"
   ]
  },
  {
   "cell_type": "code",
   "execution_count": null,
   "id": "f738c216-775a-4af6-a54d-77010bcc20ff",
   "metadata": {},
   "outputs": [],
   "source": []
  },
  {
   "cell_type": "code",
   "execution_count": null,
   "id": "233f90ef-071f-48c8-b2e6-613dc8d93cb3",
   "metadata": {},
   "outputs": [],
   "source": []
  },
  {
   "cell_type": "code",
   "execution_count": null,
   "id": "6cf15904-82c1-4cbb-a73f-a7b7430d242c",
   "metadata": {},
   "outputs": [],
   "source": []
  }
 ],
 "metadata": {
  "kernelspec": {
   "display_name": "Python 3 (ipykernel)",
   "language": "python",
   "name": "python3"
  },
  "language_info": {
   "codemirror_mode": {
    "name": "ipython",
    "version": 3
   },
   "file_extension": ".py",
   "mimetype": "text/x-python",
   "name": "python",
   "nbconvert_exporter": "python",
   "pygments_lexer": "ipython3",
   "version": "3.12.2"
  },
  "toc": {
   "base_numbering": 1,
   "nav_menu": {},
   "number_sections": true,
   "sideBar": true,
   "skip_h1_title": false,
   "title_cell": "Table of Contents",
   "title_sidebar": "Contents",
   "toc_cell": false,
   "toc_position": {},
   "toc_section_display": true,
   "toc_window_display": false
  },
  "vscode": {
   "interpreter": {
    "hash": "31f2aee4e71d21fbe5cf8b01ff0e069b9275f58929596ceb00d14d90e3e16cd6"
   }
  }
 },
 "nbformat": 4,
 "nbformat_minor": 5
}
