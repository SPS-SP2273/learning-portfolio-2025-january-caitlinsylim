{
 "cells": [
  {
   "attachments": {},
   "cell_type": "markdown",
   "id": "123456",
   "metadata": {},
   "source": [
    "<div style=\"text-align:left;font-size:2em\"><span style=\"font-weight:bolder;font-size:1.25em\">SP2273 | Learning Portfolio</span><br><br><span style=\"font-weight:bold;color:darkred\">Loops (Need) Exercises</span></div>"
   ]
  },
  {
   "cell_type": "markdown",
   "id": "d6e7779b-898d-4aef-b604-4cf43de91f4b",
   "metadata": {},
   "source": [
    "## Exercise 1 \n",
    "\n",
    "Qns: You are provided with the following list of temperatures in Celsius. Write a quick Python snippet that converts each temperature to Fahrenheit and prints both temperatures as a Celsius, Fahrenheit pair."
   ]
  },
  {
   "cell_type": "code",
   "execution_count": 18,
   "id": "4a580812-dc13-4afe-8d61-8a4c687ff472",
   "metadata": {},
   "outputs": [
    {
     "name": "stdout",
     "output_type": "stream",
     "text": [
      "32.0\n",
      "41.0\n",
      "50.0\n",
      "59.0\n",
      "68.0\n",
      "77.0\n",
      "86.0\n",
      "95.0\n",
      "104.0\n",
      "113.0\n",
      "122.0\n"
     ]
    }
   ],
   "source": [
    "temperatures_celsius = [\n",
    "    0, 5, 10, 15, 20, 25,\n",
    "    30, 35, 40, 45, 50\n",
    "]\n",
    "\n",
    "for temperature in temperatures_celsius: \n",
    "    temperature *= 1.8\n",
    "    temperature += 32\n",
    "    print (temperature)"
   ]
  },
  {
   "cell_type": "markdown",
   "id": "ac587572-6e7c-43d6-a866-1a805581491b",
   "metadata": {},
   "source": [
    "## Exercise 2"
   ]
  },
  {
   "cell_type": "code",
   "execution_count": 38,
   "id": "f429a13d-5397-44fc-a49e-b3c69416dc84",
   "metadata": {},
   "outputs": [
    {
     "name": "stdout",
     "output_type": "stream",
     "text": [
      "A1\tA2\tA3\tB1\tB2\tB3\tD1\tD2\tD3\t"
     ]
    }
   ],
   "source": [
    "for letter in ['A', 'B', \"D\"]:\n",
    "    for number in [1, 2, 3]:\n",
    "        print(f'{letter}{number}', end='\\t')\n",
    "    print('\\n')"
   ]
  },
  {
   "cell_type": "code",
   "execution_count": 37,
   "id": "f564b035-1d77-4892-ae5e-49c01420ff46",
   "metadata": {},
   "outputs": [
    {
     "name": "stdout",
     "output_type": "stream",
     "text": [
      "10\t12\t16\t112\t120\t130\t\n",
      "\n",
      "20\t22\t26\t212\t220\t230\t\n",
      "\n",
      "30\t32\t36\t312\t320\t330\t\n",
      "\n",
      "40\t42\t46\t412\t420\t430\t\n",
      "\n",
      "50\t52\t56\t512\t520\t530\t\n",
      "\n"
     ]
    }
   ],
   "source": [
    "for row in ['1', '2', '3', '4', '5']: \n",
    "    for number in [0, 1, 2, 3, 4, 5]: \n",
    "        number *= (number+1)\n",
    "        print(f'{row}{number}', end='\\t')\n",
    "    print('\\n')"
   ]
  },
  {
   "cell_type": "code",
   "execution_count": null,
   "id": "18a4d192-7bda-4f6f-93af-99f8c5cfa1e7",
   "metadata": {},
   "outputs": [],
   "source": []
  }
 ],
 "metadata": {
  "kernelspec": {
   "display_name": "Python 3 (ipykernel)",
   "language": "python",
   "name": "python3"
  },
  "language_info": {
   "codemirror_mode": {
    "name": "ipython",
    "version": 3
   },
   "file_extension": ".py",
   "mimetype": "text/x-python",
   "name": "python",
   "nbconvert_exporter": "python",
   "pygments_lexer": "ipython3",
   "version": "3.12.2"
  },
  "toc": {
   "base_numbering": 1,
   "nav_menu": {},
   "number_sections": true,
   "sideBar": true,
   "skip_h1_title": false,
   "title_cell": "Table of Contents",
   "title_sidebar": "Contents",
   "toc_cell": false,
   "toc_position": {},
   "toc_section_display": true,
   "toc_window_display": false
  },
  "vscode": {
   "interpreter": {
    "hash": "31f2aee4e71d21fbe5cf8b01ff0e069b9275f58929596ceb00d14d90e3e16cd6"
   }
  }
 },
 "nbformat": 4,
 "nbformat_minor": 5
}
