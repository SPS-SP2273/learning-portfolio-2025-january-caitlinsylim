{
 "cells": [
  {
   "attachments": {},
   "cell_type": "markdown",
   "id": "123456",
   "metadata": {},
   "source": [
    "<div style=\"text-align:left;font-size:2em\"><span style=\"font-weight:bolder;font-size:1.25em\">SP2273 | Learning Portfolio</span><br><br><span style=\"font-weight:bold;color:darkred\">Loops (Need) Exercises</span></div>"
   ]
  },
  {
   "cell_type": "markdown",
   "id": "d6e7779b-898d-4aef-b604-4cf43de91f4b",
   "metadata": {},
   "source": [
    "## Exercise 1 \n",
    "\n",
    "Qns: You are provided with the following list of temperatures in Celsius. Write a quick Python snippet that converts each temperature to Fahrenheit and prints both temperatures as a Celsius, Fahrenheit pair."
   ]
  },
  {
   "cell_type": "code",
   "execution_count": 71,
   "id": "4a580812-dc13-4afe-8d61-8a4c687ff472",
   "metadata": {},
   "outputs": [
    {
     "name": "stdout",
     "output_type": "stream",
     "text": [
      "0 celcius = 32.0 fahrenheit\n",
      "5 celcius = 41.0 fahrenheit\n",
      "10 celcius = 50.0 fahrenheit\n",
      "15 celcius = 59.0 fahrenheit\n",
      "20 celcius = 68.0 fahrenheit\n",
      "25 celcius = 77.0 fahrenheit\n",
      "30 celcius = 86.0 fahrenheit\n",
      "35 celcius = 95.0 fahrenheit\n",
      "40 celcius = 104.0 fahrenheit\n",
      "45 celcius = 113.0 fahrenheit\n",
      "50 celcius = 122.0 fahrenheit\n"
     ]
    }
   ],
   "source": [
    "temperatures_celsius = [\n",
    "    0, 5, 10, 15, 20, 25,\n",
    "    30, 35, 40, 45, 50\n",
    "]\n",
    "\n",
    "for temperature in temperatures_celsius: \n",
    "    temperature_F = temperature * 1.8 + 32 \n",
    "    print (f'{temperature} celcius = {temperature_F} fahrenheit')"
   ]
  },
  {
   "cell_type": "markdown",
   "id": "ac587572-6e7c-43d6-a866-1a805581491b",
   "metadata": {},
   "source": [
    "## Exercise 2"
   ]
  },
  {
   "cell_type": "code",
   "execution_count": 72,
   "id": "f429a13d-5397-44fc-a49e-b3c69416dc84",
   "metadata": {},
   "outputs": [
    {
     "name": "stdout",
     "output_type": "stream",
     "text": [
      "A1\tA2\tA3\t\n",
      "\n",
      "B1\tB2\tB3\t\n",
      "\n",
      "D1\tD2\tD3\t\n",
      "\n"
     ]
    }
   ],
   "source": [
    "for letter in ['A', 'B', \"D\"]:\n",
    "    for number in [1, 2, 3]:\n",
    "        print(f'{letter}{number}', end='\\t')\n",
    "    print('\\n')"
   ]
  },
  {
   "cell_type": "code",
   "execution_count": 73,
   "id": "f564b035-1d77-4892-ae5e-49c01420ff46",
   "metadata": {},
   "outputs": [
    {
     "name": "stdout",
     "output_type": "stream",
     "text": [
      "1: 1\t 2\t 3\t 4\t 5\t\n",
      "\n",
      "2: 2\t 4\t 6\t 8\t10\t\n",
      "\n",
      "3: 3\t 6\t 9\t12\t15\t\n",
      "\n",
      "4: 4\t 8\t12\t16\t20\t\n",
      "\n",
      "5: 5\t10\t15\t20\t25\t\n",
      "\n"
     ]
    }
   ],
   "source": [
    "for row in ['1', '2', '3', '4', '5']: \n",
    "    print(f\"{row}:\", end=\"\")\n",
    "    for number in [1, 2, 3, 4, 5]: \n",
    "        multiples = int(row) * number\n",
    "        print(f'{multiples:2}', end='\\t')\n",
    "    print('\\n')"
   ]
  },
  {
   "cell_type": "markdown",
   "id": "322eb5c7-13f7-42ef-b4c8-321aaa46fbfe",
   "metadata": {},
   "source": [
    "## Exercise 3"
   ]
  },
  {
   "cell_type": "code",
   "execution_count": 97,
   "id": "88474496-06ee-42b8-baaa-9362f67b8281",
   "metadata": {},
   "outputs": [
    {
     "name": "stdout",
     "output_type": "stream",
     "text": [
      "experiment 1 : No. of Heads = 3\n",
      "experiment 2 : No. of Heads = 5\n",
      "experiment 3 : No. of Heads = 5\n",
      "experiment 4 : No. of Heads = 7\n",
      "experiment 5 : No. of Heads = 4\n",
      "experiment 6 : No. of Heads = 5\n",
      "experiment 7 : No. of Heads = 3\n",
      "experiment 8 : No. of Heads = 2\n",
      "experiment 9 : No. of Heads = 5\n",
      "experiment 10 : No. of Heads = 4\n"
     ]
    }
   ],
   "source": [
    "import numpy as np \n",
    "\n",
    "for i in range (1,11): \n",
    "    experiment = np.random.rand(10)\n",
    "    head = 0\n",
    "    for number in experiment: \n",
    "        if number > 0.5:\n",
    "            head +=1 \n",
    "    print(f\"experiment {i} : No. of Heads = {head}\")"
   ]
  },
  {
   "cell_type": "code",
   "execution_count": null,
   "id": "2ea58c0b-0242-46f6-b170-8c21faf7959b",
   "metadata": {},
   "outputs": [],
   "source": []
  }
 ],
 "metadata": {
  "kernelspec": {
   "display_name": "Python 3 (ipykernel)",
   "language": "python",
   "name": "python3"
  },
  "language_info": {
   "codemirror_mode": {
    "name": "ipython",
    "version": 3
   },
   "file_extension": ".py",
   "mimetype": "text/x-python",
   "name": "python",
   "nbconvert_exporter": "python",
   "pygments_lexer": "ipython3",
   "version": "3.12.2"
  },
  "toc": {
   "base_numbering": 1,
   "nav_menu": {},
   "number_sections": true,
   "sideBar": true,
   "skip_h1_title": false,
   "title_cell": "Table of Contents",
   "title_sidebar": "Contents",
   "toc_cell": false,
   "toc_position": {},
   "toc_section_display": true,
   "toc_window_display": false
  },
  "vscode": {
   "interpreter": {
    "hash": "31f2aee4e71d21fbe5cf8b01ff0e069b9275f58929596ceb00d14d90e3e16cd6"
   }
  }
 },
 "nbformat": 4,
 "nbformat_minor": 5
}
