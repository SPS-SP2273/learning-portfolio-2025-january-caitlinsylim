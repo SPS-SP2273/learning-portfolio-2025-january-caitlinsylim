{
 "cells": [
  {
   "attachments": {},
   "cell_type": "markdown",
   "id": "123456",
   "metadata": {},
   "source": [
    "<div style=\"text-align:left;font-size:2em\"><span style=\"font-weight:bolder;font-size:1.25em\">SP2273 | Learning Portfolio</span><br><br><span style=\"font-weight:bold;color:darkred\">Loops (Need) Exercises</span></div>"
   ]
  },
  {
   "cell_type": "markdown",
   "id": "250adfba-ce31-4f23-9498-488a50e2365a",
   "metadata": {},
   "source": [
    "## Exercise 1 Reattempt (Ignore)"
   ]
  },
  {
   "cell_type": "code",
   "execution_count": 18,
   "id": "90f6e325-b8c8-4cc0-bd2d-a18711ef2d45",
   "metadata": {},
   "outputs": [],
   "source": [
    "temperatures_celsius = [\n",
    "    0, 5, 10, 15, 20, 25,\n",
    "    30, 35, 40, 45, 50\n",
    "]"
   ]
  },
  {
   "cell_type": "code",
   "execution_count": 25,
   "id": "546beb86-a219-40c5-9164-4885eb6b3e6e",
   "metadata": {},
   "outputs": [
    {
     "name": "stdout",
     "output_type": "stream",
     "text": [
      "temp in celcius: 0 = temp in farenheit: 32.0\n",
      "temp in celcius: 5 = temp in farenheit: 41.0\n",
      "temp in celcius: 10 = temp in farenheit: 50.0\n",
      "temp in celcius: 15 = temp in farenheit: 59.0\n",
      "temp in celcius: 20 = temp in farenheit: 68.0\n",
      "temp in celcius: 25 = temp in farenheit: 77.0\n",
      "temp in celcius: 30 = temp in farenheit: 86.0\n",
      "temp in celcius: 35 = temp in farenheit: 95.0\n",
      "temp in celcius: 40 = temp in farenheit: 104.0\n",
      "temp in celcius: 45 = temp in farenheit: 113.0\n",
      "temp in celcius: 50 = temp in farenheit: 122.0\n"
     ]
    }
   ],
   "source": [
    "for tempc in temperatures_celsius:\n",
    "    tempf = tempc * 1.8 + 32\n",
    "    print(f'temp in celcius: {tempc} = temp in farenheit: {tempf}')"
   ]
  },
  {
   "cell_type": "markdown",
   "id": "4f6fd9f9-7a29-4c3e-ba30-347510306ad0",
   "metadata": {},
   "source": [
    "## Exercise 2 Reattempt (Ignore)"
   ]
  },
  {
   "cell_type": "code",
   "execution_count": 6,
   "id": "63d3556c-bca2-4f41-b397-20413db7e1e4",
   "metadata": {},
   "outputs": [
    {
     "name": "stdout",
     "output_type": "stream",
     "text": [
      "A1\tA2\tA3\t\n",
      "\n",
      "B1\tB2\tB3\t\n",
      "\n",
      "C1\tC2\tC3\t\n",
      "\n"
     ]
    }
   ],
   "source": [
    "for letter in ['A', 'B', 'C']:\n",
    "    for number in [1, 2, 3]:\n",
    "        print(f'{letter}{number}', end='\\t')\n",
    "    print('\\n')"
   ]
  },
  {
   "cell_type": "code",
   "execution_count": 44,
   "id": "98a8ac33-8b70-45a9-a7ab-933dfebfe0d8",
   "metadata": {},
   "outputs": [
    {
     "name": "stdout",
     "output_type": "stream",
     "text": [
      "1:\t1\t2\t3\t4\t5\t\n",
      "\n",
      "2:\t2\t4\t6\t8\t10\t\n",
      "\n",
      "3:\t3\t6\t9\t12\t15\t\n",
      "\n",
      "4:\t4\t8\t12\t16\t20\t\n",
      "\n",
      "5:\t5\t10\t15\t20\t25\t\n",
      "\n"
     ]
    }
   ],
   "source": [
    "for orig in [1, 2, 3, 4, 5]:\n",
    "    print(f'{orig}:', end='\\t')\n",
    "    for number in [1, 2, 3, 4, 5]:\n",
    "        multiple = orig * number\n",
    "        print(f'{multiple}', end='\\t')\n",
    "    print('\\n')"
   ]
  },
  {
   "cell_type": "markdown",
   "id": "59c536a6-efd6-4f4a-a542-7fa0026eed34",
   "metadata": {},
   "source": [
    "### Exercise 3 Reattempt (ignore)"
   ]
  },
  {
   "cell_type": "code",
   "execution_count": 56,
   "id": "0b355d4a-7fb7-4064-9624-dd4129ddb44f",
   "metadata": {},
   "outputs": [
    {
     "data": {
      "text/plain": [
       "array([0.96548716, 0.2667515 , 0.56903349, 0.30438385, 0.27189934,\n",
       "       0.1433345 , 0.46386377, 0.29223364, 0.23937823, 0.28181567])"
      ]
     },
     "execution_count": 56,
     "metadata": {},
     "output_type": "execute_result"
    }
   ],
   "source": [
    "import numpy as np\n",
    "y = np.random.rand(10)\n",
    "y"
   ]
  },
  {
   "cell_type": "code",
   "execution_count": 59,
   "id": "772be900-77da-479a-99c9-34b56a039817",
   "metadata": {},
   "outputs": [
    {
     "data": {
      "text/plain": [
       "2"
      ]
     },
     "execution_count": 59,
     "metadata": {},
     "output_type": "execute_result"
    }
   ],
   "source": [
    "mask = (y > 0.5)\n",
    "y[mask]\n",
    "len(y[mask])"
   ]
  },
  {
   "cell_type": "code",
   "execution_count": 63,
   "id": "bcff9270-faaa-4882-8580-9964c46afeca",
   "metadata": {},
   "outputs": [
    {
     "data": {
      "text/plain": [
       "array([0.8929768 , 0.02731655, 0.46132407, 0.4863885 , 0.3522235 ,\n",
       "       0.82112903, 0.52322459, 0.74462272, 0.08883919, 0.96566126])"
      ]
     },
     "execution_count": 63,
     "metadata": {},
     "output_type": "execute_result"
    }
   ],
   "source": [
    "import numpy as np\n",
    "\n",
    "x = np.random.rand(10)\n",
    "\n",
    "x"
   ]
  },
  {
   "cell_type": "markdown",
   "id": "1eecc282-f0bc-49c7-b021-3764b75b1930",
   "metadata": {},
   "source": [
    "Assume values > 0.5 are heads"
   ]
  },
  {
   "cell_type": "code",
   "execution_count": 64,
   "id": "91a95975-6ff9-4c19-8e0f-204b52f62f15",
   "metadata": {},
   "outputs": [
    {
     "data": {
      "text/plain": [
       "5"
      ]
     },
     "execution_count": 64,
     "metadata": {},
     "output_type": "execute_result"
    }
   ],
   "source": [
    "mask2 = (x>0.5)\n",
    "x[mask2]\n",
    "len(x[mask2])"
   ]
  },
  {
   "cell_type": "code",
   "execution_count": 73,
   "id": "1cbcac73-5165-496f-a813-e43c3ab2e719",
   "metadata": {},
   "outputs": [
    {
     "name": "stdout",
     "output_type": "stream",
     "text": [
      "Experiment: 1  Number of Heads: 2\n",
      "Experiment: 2  Number of Heads: 7\n",
      "Experiment: 3  Number of Heads: 8\n",
      "Experiment: 4  Number of Heads: 6\n",
      "Experiment: 5  Number of Heads: 9\n",
      "Experiment: 6  Number of Heads: 4\n",
      "Experiment: 7  Number of Heads: 6\n",
      "Experiment: 8  Number of Heads: 6\n",
      "Experiment: 9  Number of Heads: 6\n",
      "Experiment: 10  Number of Heads: 4\n"
     ]
    }
   ],
   "source": [
    "for i in range(10):\n",
    "    x = np.random.rand(10)\n",
    "    mask2 = (x>0.5)\n",
    "    print(f'Experiment: {i+1}  Number of Heads: {len(x[mask2])}')"
   ]
  },
  {
   "cell_type": "markdown",
   "id": "d6e7779b-898d-4aef-b604-4cf43de91f4b",
   "metadata": {
    "jp-MarkdownHeadingCollapsed": true
   },
   "source": [
    "## Exercise 1 \n",
    "\n",
    "Qns: You are provided with the following list of temperatures in Celsius. Write a quick Python snippet that converts each temperature to Fahrenheit and prints both temperatures as a Celsius, Fahrenheit pair."
   ]
  },
  {
   "cell_type": "code",
   "execution_count": 71,
   "id": "4a580812-dc13-4afe-8d61-8a4c687ff472",
   "metadata": {},
   "outputs": [
    {
     "name": "stdout",
     "output_type": "stream",
     "text": [
      "0 celcius = 32.0 fahrenheit\n",
      "5 celcius = 41.0 fahrenheit\n",
      "10 celcius = 50.0 fahrenheit\n",
      "15 celcius = 59.0 fahrenheit\n",
      "20 celcius = 68.0 fahrenheit\n",
      "25 celcius = 77.0 fahrenheit\n",
      "30 celcius = 86.0 fahrenheit\n",
      "35 celcius = 95.0 fahrenheit\n",
      "40 celcius = 104.0 fahrenheit\n",
      "45 celcius = 113.0 fahrenheit\n",
      "50 celcius = 122.0 fahrenheit\n"
     ]
    }
   ],
   "source": [
    "temperatures_celsius = [\n",
    "    0, 5, 10, 15, 20, 25,\n",
    "    30, 35, 40, 45, 50\n",
    "]\n",
    "\n",
    "for temperature in temperatures_celsius: \n",
    "    temperature_F = temperature * 1.8 + 32 \n",
    "    print (f'{temperature} celcius = {temperature_F} fahrenheit')"
   ]
  },
  {
   "cell_type": "markdown",
   "id": "ac587572-6e7c-43d6-a866-1a805581491b",
   "metadata": {},
   "source": [
    "## Exercise 2"
   ]
  },
  {
   "cell_type": "code",
   "execution_count": 72,
   "id": "f429a13d-5397-44fc-a49e-b3c69416dc84",
   "metadata": {},
   "outputs": [
    {
     "name": "stdout",
     "output_type": "stream",
     "text": [
      "A1\tA2\tA3\t\n",
      "\n",
      "B1\tB2\tB3\t\n",
      "\n",
      "D1\tD2\tD3\t\n",
      "\n"
     ]
    }
   ],
   "source": [
    "for letter in ['A', 'B', \"D\"]:\n",
    "    for number in [1, 2, 3]:\n",
    "        print(f'{letter}{number}', end='\\t')\n",
    "    print('\\n')"
   ]
  },
  {
   "cell_type": "code",
   "execution_count": 73,
   "id": "f564b035-1d77-4892-ae5e-49c01420ff46",
   "metadata": {},
   "outputs": [
    {
     "name": "stdout",
     "output_type": "stream",
     "text": [
      "1: 1\t 2\t 3\t 4\t 5\t\n",
      "\n",
      "2: 2\t 4\t 6\t 8\t10\t\n",
      "\n",
      "3: 3\t 6\t 9\t12\t15\t\n",
      "\n",
      "4: 4\t 8\t12\t16\t20\t\n",
      "\n",
      "5: 5\t10\t15\t20\t25\t\n",
      "\n"
     ]
    }
   ],
   "source": [
    "for row in ['1', '2', '3', '4', '5']: \n",
    "    print(f\"{row}:\", end=\"\")\n",
    "    for number in [1, 2, 3, 4, 5]: \n",
    "        multiples = int(row) * number\n",
    "        print(f'{multiples:2}', end='\\t')\n",
    "    print('\\n')"
   ]
  },
  {
   "cell_type": "markdown",
   "id": "322eb5c7-13f7-42ef-b4c8-321aaa46fbfe",
   "metadata": {},
   "source": [
    "## Exercise 3"
   ]
  },
  {
   "cell_type": "code",
   "execution_count": 97,
   "id": "88474496-06ee-42b8-baaa-9362f67b8281",
   "metadata": {},
   "outputs": [
    {
     "name": "stdout",
     "output_type": "stream",
     "text": [
      "experiment 1 : No. of Heads = 3\n",
      "experiment 2 : No. of Heads = 5\n",
      "experiment 3 : No. of Heads = 5\n",
      "experiment 4 : No. of Heads = 7\n",
      "experiment 5 : No. of Heads = 4\n",
      "experiment 6 : No. of Heads = 5\n",
      "experiment 7 : No. of Heads = 3\n",
      "experiment 8 : No. of Heads = 2\n",
      "experiment 9 : No. of Heads = 5\n",
      "experiment 10 : No. of Heads = 4\n"
     ]
    }
   ],
   "source": [
    "import numpy as np \n",
    "\n",
    "for i in range (1,11): \n",
    "    experiment = np.random.rand(10)\n",
    "    head = 0\n",
    "    for number in experiment: \n",
    "        if number > 0.5:\n",
    "            head +=1 \n",
    "    print(f\"experiment {i} : No. of Heads = {head}\")"
   ]
  },
  {
   "cell_type": "code",
   "execution_count": null,
   "id": "2ea58c0b-0242-46f6-b170-8c21faf7959b",
   "metadata": {},
   "outputs": [],
   "source": []
  }
 ],
 "metadata": {
  "kernelspec": {
   "display_name": "Python 3 (ipykernel)",
   "language": "python",
   "name": "python3"
  },
  "language_info": {
   "codemirror_mode": {
    "name": "ipython",
    "version": 3
   },
   "file_extension": ".py",
   "mimetype": "text/x-python",
   "name": "python",
   "nbconvert_exporter": "python",
   "pygments_lexer": "ipython3",
   "version": "3.12.2"
  },
  "toc": {
   "base_numbering": 1,
   "nav_menu": {},
   "number_sections": true,
   "sideBar": true,
   "skip_h1_title": false,
   "title_cell": "Table of Contents",
   "title_sidebar": "Contents",
   "toc_cell": false,
   "toc_position": {},
   "toc_section_display": true,
   "toc_window_display": false
  },
  "vscode": {
   "interpreter": {
    "hash": "31f2aee4e71d21fbe5cf8b01ff0e069b9275f58929596ceb00d14d90e3e16cd6"
   }
  }
 },
 "nbformat": 4,
 "nbformat_minor": 5
}
