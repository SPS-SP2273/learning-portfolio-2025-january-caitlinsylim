{
 "cells": [
  {
   "attachments": {},
   "cell_type": "markdown",
   "id": "123456",
   "metadata": {},
   "source": [
    "<div style=\"text-align:left;font-size:2em\"><span style=\"font-weight:bolder;font-size:1.25em\">SP2273 | Learning Portfolio</span><br><br><span style=\"font-weight:bold;color:darkred\">Loops (Good) Exercises</span></div>"
   ]
  },
  {
   "cell_type": "markdown",
   "id": "03d6d5ac-14cd-4424-a053-555f0cf518b5",
   "metadata": {},
   "source": [
    "## Exercise 1 (Make me an odd list)"
   ]
  },
  {
   "cell_type": "markdown",
   "id": "11e32ea1-1970-40cc-9e91-2f7414482d97",
   "metadata": {},
   "source": [
    "With your knowledge of growing lists, use a for loop with range() and continue to generate a list of the squares of the odd integers from 0 to 9.\n",
    "\n",
    "Hint: You can check for ‘evenness’ using number % 2 == 0."
   ]
  },
  {
   "cell_type": "code",
   "execution_count": 22,
   "id": "ac9ad7ed-3e19-447b-9f28-d028e2898ebe",
   "metadata": {},
   "outputs": [
    {
     "name": "stdout",
     "output_type": "stream",
     "text": [
      "[1, 9, 25, 49, 81]\n"
     ]
    }
   ],
   "source": [
    "odd_squares = []\n",
    "\n",
    "for number in range (0,10): \n",
    "    if number % 2 > 0: \n",
    "        square = number ** 2\n",
    "        odd_squares.append(square)\n",
    "\n",
    "print(odd_squares)"
   ]
  },
  {
   "cell_type": "markdown",
   "id": "bf679b6c-75ba-4cdf-a332-8df96c00fbfd",
   "metadata": {},
   "source": [
    "## Exercise 2 (Make me another odd list)"
   ]
  },
  {
   "cell_type": "markdown",
   "id": "4c21720d-f7ae-4072-abae-2b005c605a3d",
   "metadata": {},
   "source": [
    "Redo the previous exercise using list comprehension."
   ]
  },
  {
   "cell_type": "code",
   "execution_count": 4,
   "id": "020c2421-3480-4e85-9812-3b62668a4d77",
   "metadata": {},
   "outputs": [
    {
     "data": {
      "text/plain": [
       "[1, 9, 25, 49, 81]"
      ]
     },
     "execution_count": 4,
     "metadata": {},
     "output_type": "execute_result"
    }
   ],
   "source": [
    "[number ** 2 for number in range (0,10) if number % 2 > 0]"
   ]
  },
  {
   "cell_type": "markdown",
   "id": "61a32adb-8ad1-4832-912c-125f8a9dcdce",
   "metadata": {},
   "source": [
    "## Exercise 3 (Time me)"
   ]
  },
  {
   "cell_type": "code",
   "execution_count": 5,
   "id": "c85c023d-353b-4c5d-b737-354f70f9d85c",
   "metadata": {},
   "outputs": [
    {
     "name": "stdout",
     "output_type": "stream",
     "text": [
      "441 ns ± 2.82 ns per loop (mean ± std. dev. of 7 runs, 1,000,000 loops each)\n"
     ]
    }
   ],
   "source": [
    "%%timeit\n",
    "odd_squares = []\n",
    "\n",
    "for number in range (0,10): \n",
    "    if number % 2 > 0: \n",
    "        square = number ** 2\n",
    "        odd_squares.append(square)"
   ]
  },
  {
   "cell_type": "code",
   "execution_count": 6,
   "id": "7f6cbf40-4a43-4eae-afab-a84d85d2a5c3",
   "metadata": {},
   "outputs": [
    {
     "name": "stdout",
     "output_type": "stream",
     "text": [
      "406 ns ± 3 ns per loop (mean ± std. dev. of 7 runs, 1,000,000 loops each)\n"
     ]
    }
   ],
   "source": [
    "%%timeit\n",
    "[number ** 2 for number in range (0,10) if number % 2 > 0]"
   ]
  },
  {
   "cell_type": "markdown",
   "id": "1a672ba6-be2c-4a98-9703-f64c5fb584b0",
   "metadata": {},
   "source": [
    "List comprehension is faster "
   ]
  },
  {
   "cell_type": "markdown",
   "id": "486ca63e-77bc-4e24-8e36-cff6816b8efe",
   "metadata": {},
   "source": [
    "## Exercise 4 (A problem of decay)"
   ]
  },
  {
   "cell_type": "markdown",
   "id": "0ab95b1b-53a7-4f64-90a8-b745b3a494de",
   "metadata": {},
   "source": [
    "The initial quantity of a sample of a radioactive substance is 100 units, and it decays by 5% each year. Use a while loop to determine how long the sample will take to reduce to half its original amount."
   ]
  },
  {
   "cell_type": "code",
   "execution_count": 29,
   "id": "d320ce4d-ed1d-4d28-b704-3c5257febd35",
   "metadata": {},
   "outputs": [
    {
     "name": "stdout",
     "output_type": "stream",
     "text": [
      "100\n",
      "95.0\n",
      "90.25\n",
      "85.7375\n",
      "81.45062499999999\n",
      "77.37809374999999\n",
      "73.50918906249998\n",
      "69.83372960937498\n",
      "66.34204312890623\n",
      "63.02494097246091\n",
      "59.87369392383786\n",
      "56.880009227645964\n",
      "54.03600876626366\n",
      "51.33420832795048\n",
      "13\n"
     ]
    }
   ],
   "source": [
    "qty = 100 \n",
    "year = 0\n",
    "\n",
    "while qty > 1:\n",
    "    print(qty)\n",
    "    qty *= 0.95\n",
    "    if qty < 50:\n",
    "        break\n",
    "    year += 1\n",
    "\n",
    "print(year)\n",
    "# how to use code to count instead of manually counting.."
   ]
  },
  {
   "cell_type": "markdown",
   "id": "cb4a40ca-aea7-426c-8a63-31bac9b01545",
   "metadata": {},
   "source": [
    " It will take 13 years "
   ]
  },
  {
   "cell_type": "markdown",
   "id": "0ae931b2-4dc9-4bbc-819c-a0c5aad62e16",
   "metadata": {},
   "source": [
    "## Exercise 5 (Changes in CO2)"
   ]
  },
  {
   "cell_type": "markdown",
   "id": "45f20e1d-7b3c-4f3e-8e93-ba68595800d4",
   "metadata": {},
   "source": [
    "The following is data about atmospheric CO2 levels for several years in a (year, CO2_level) format. The units are ppm."
   ]
  },
  {
   "cell_type": "code",
   "execution_count": 51,
   "id": "d12285aa-4d9d-4253-87bd-9dbe6bf7f4e6",
   "metadata": {},
   "outputs": [],
   "source": [
    "co2_data = [\n",
    "    (2000, 369.55), (2001, 371.14), (2002, 373.28), \n",
    "    (2003, 375.80), (2004, 377.52), (2005, 379.80), \n",
    "    (2006, 381.90), (2007, 383.79), (2008, 385.60), \n",
    "    (2009, 387.43), (2010, 389.90), (2011, 391.65), \n",
    "    (2012, 393.85), (2013, 396.52), (2014, 398.65),\n",
    "    (2015, 400.83), (2016, 404.24), (2017, 406.55), \n",
    "    (2018, 408.52), (2019, 411.44), (2020, 414.24)\n",
    "]"
   ]
  },
  {
   "cell_type": "markdown",
   "id": "61037aa6-183c-4308-955e-e7734aa0545c",
   "metadata": {},
   "source": [
    "Identify those years that showed an increase of CO2 of 3 ppm or more compared to the previous year.\n",
    "Please print out these years along with the corresponding change in concentration."
   ]
  },
  {
   "cell_type": "code",
   "execution_count": 55,
   "id": "22ab952d-ef04-476f-b191-4928f29665da",
   "metadata": {},
   "outputs": [
    {
     "name": "stdout",
     "output_type": "stream",
     "text": [
      "Year : 2016, conc change: 3.410000000000025\n"
     ]
    }
   ],
   "source": [
    "for i in range(1, len(co2_data)):\n",
    "    prev = co2_data[i-1][1]\n",
    "    cur = co2_data[i][1]\n",
    "    change = cur - prev\n",
    "    \n",
    "    if change >= 3: \n",
    "        print(f'Year : {co2_data[i][0]}, conc change: {change}')"
   ]
  },
  {
   "cell_type": "code",
   "execution_count": null,
   "id": "184282f8-fae4-444a-8b02-e9c331b1328b",
   "metadata": {},
   "outputs": [],
   "source": []
  }
 ],
 "metadata": {
  "kernelspec": {
   "display_name": "Python 3 (ipykernel)",
   "language": "python",
   "name": "python3"
  },
  "language_info": {
   "codemirror_mode": {
    "name": "ipython",
    "version": 3
   },
   "file_extension": ".py",
   "mimetype": "text/x-python",
   "name": "python",
   "nbconvert_exporter": "python",
   "pygments_lexer": "ipython3",
   "version": "3.12.2"
  },
  "toc": {
   "base_numbering": 1,
   "nav_menu": {},
   "number_sections": true,
   "sideBar": true,
   "skip_h1_title": false,
   "title_cell": "Table of Contents",
   "title_sidebar": "Contents",
   "toc_cell": false,
   "toc_position": {},
   "toc_section_display": true,
   "toc_window_display": false
  },
  "vscode": {
   "interpreter": {
    "hash": "31f2aee4e71d21fbe5cf8b01ff0e069b9275f58929596ceb00d14d90e3e16cd6"
   }
  }
 },
 "nbformat": 4,
 "nbformat_minor": 5
}
