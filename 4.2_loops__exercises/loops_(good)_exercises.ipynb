{
 "cells": [
  {
   "attachments": {},
   "cell_type": "markdown",
   "id": "123456",
   "metadata": {},
   "source": [
    "<div style=\"text-align:left;font-size:2em\"><span style=\"font-weight:bolder;font-size:1.25em\">SP2273 | Learning Portfolio</span><br><br><span style=\"font-weight:bold;color:darkred\">Loops (Good) Exercises</span></div>"
   ]
  },
  {
   "cell_type": "markdown",
   "id": "03d6d5ac-14cd-4424-a053-555f0cf518b5",
   "metadata": {},
   "source": [
    "## Exercise 1 (Make me an odd list)"
   ]
  },
  {
   "cell_type": "markdown",
   "id": "11e32ea1-1970-40cc-9e91-2f7414482d97",
   "metadata": {},
   "source": [
    "With your knowledge of growing lists, use a for loop with range() and continue to generate a list of the squares of the odd integers from 0 to 9.\n",
    "\n",
    "Hint: You can check for ‘evenness’ using number % 2 == 0."
   ]
  },
  {
   "cell_type": "code",
   "execution_count": 22,
   "id": "ac9ad7ed-3e19-447b-9f28-d028e2898ebe",
   "metadata": {},
   "outputs": [
    {
     "name": "stdout",
     "output_type": "stream",
     "text": [
      "[1, 9, 25, 49, 81]\n"
     ]
    }
   ],
   "source": [
    "odd_squares = []\n",
    "\n",
    "for number in range (0,10): \n",
    "    if number % 2 > 0: \n",
    "        square = number ** 2\n",
    "        odd_squares.append(square)\n",
    "\n",
    "print(odd_squares)"
   ]
  },
  {
   "cell_type": "markdown",
   "id": "bf679b6c-75ba-4cdf-a332-8df96c00fbfd",
   "metadata": {},
   "source": [
    "## Exercise 2"
   ]
  },
  {
   "cell_type": "code",
   "execution_count": null,
   "id": "94fcb542-524b-499d-b585-01dbef0777be",
   "metadata": {},
   "outputs": [],
   "source": [
    "Redo the previous exercise using list comprehension."
   ]
  },
  {
   "cell_type": "code",
   "execution_count": null,
   "id": "d4bd44e3-f762-4b03-a3ba-bb5ec06c19f0",
   "metadata": {},
   "outputs": [],
   "source": []
  },
  {
   "cell_type": "code",
   "execution_count": null,
   "id": "020c2421-3480-4e85-9812-3b62668a4d77",
   "metadata": {},
   "outputs": [],
   "source": []
  },
  {
   "cell_type": "code",
   "execution_count": null,
   "id": "c85c023d-353b-4c5d-b737-354f70f9d85c",
   "metadata": {},
   "outputs": [],
   "source": []
  },
  {
   "cell_type": "code",
   "execution_count": null,
   "id": "7f6cbf40-4a43-4eae-afab-a84d85d2a5c3",
   "metadata": {},
   "outputs": [],
   "source": []
  },
  {
   "cell_type": "code",
   "execution_count": null,
   "id": "313dbf40-430c-46a9-aa32-f3d8efe5fa00",
   "metadata": {},
   "outputs": [],
   "source": []
  },
  {
   "cell_type": "code",
   "execution_count": null,
   "id": "a13286b7-3890-4c13-a199-ff07dc6e6e83",
   "metadata": {},
   "outputs": [],
   "source": []
  },
  {
   "cell_type": "code",
   "execution_count": null,
   "id": "68a7e23e-2519-4832-8a27-8c3c0a703c67",
   "metadata": {},
   "outputs": [],
   "source": []
  },
  {
   "cell_type": "code",
   "execution_count": null,
   "id": "d320ce4d-ed1d-4d28-b704-3c5257febd35",
   "metadata": {},
   "outputs": [],
   "source": []
  },
  {
   "cell_type": "code",
   "execution_count": null,
   "id": "20f9f4ad-7526-4250-8ca2-586d4e9d9903",
   "metadata": {},
   "outputs": [],
   "source": []
  },
  {
   "cell_type": "code",
   "execution_count": null,
   "id": "51104b3f-fdf4-4e5b-b769-4b98fb9eaf49",
   "metadata": {},
   "outputs": [],
   "source": []
  },
  {
   "cell_type": "code",
   "execution_count": null,
   "id": "ba3a640c-2eef-4714-941a-f4ec37aa91ce",
   "metadata": {},
   "outputs": [],
   "source": []
  },
  {
   "cell_type": "code",
   "execution_count": null,
   "id": "d12285aa-4d9d-4253-87bd-9dbe6bf7f4e6",
   "metadata": {},
   "outputs": [],
   "source": []
  }
 ],
 "metadata": {
  "kernelspec": {
   "display_name": "Python 3 (ipykernel)",
   "language": "python",
   "name": "python3"
  },
  "language_info": {
   "codemirror_mode": {
    "name": "ipython",
    "version": 3
   },
   "file_extension": ".py",
   "mimetype": "text/x-python",
   "name": "python",
   "nbconvert_exporter": "python",
   "pygments_lexer": "ipython3",
   "version": "3.12.2"
  },
  "toc": {
   "base_numbering": 1,
   "nav_menu": {},
   "number_sections": true,
   "sideBar": true,
   "skip_h1_title": false,
   "title_cell": "Table of Contents",
   "title_sidebar": "Contents",
   "toc_cell": false,
   "toc_position": {},
   "toc_section_display": true,
   "toc_window_display": false
  },
  "vscode": {
   "interpreter": {
    "hash": "31f2aee4e71d21fbe5cf8b01ff0e069b9275f58929596ceb00d14d90e3e16cd6"
   }
  }
 },
 "nbformat": 4,
 "nbformat_minor": 5
}
