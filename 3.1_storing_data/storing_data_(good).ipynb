{
 "cells": [
  {
   "attachments": {},
   "cell_type": "markdown",
   "id": "123456",
   "metadata": {},
   "source": [
    "<div style=\"text-align:left;font-size:2em\"><span style=\"font-weight:bolder;font-size:1.25em\">SP2273 | Learning Portfolio</span><br><br><span style=\"font-weight:bold;color:darkred\">Storing Data (Good)</span></div>"
   ]
  },
  {
   "attachments": {},
   "cell_type": "markdown",
   "id": "07e38d45",
   "metadata": {},
   "source": [
    "# What to expect in this chapter"
   ]
  },
  {
   "attachments": {},
   "cell_type": "markdown",
   "id": "fb712cff",
   "metadata": {},
   "source": [
    "# 1 Subsetting: Indexing and Slicing"
   ]
  },
  {
   "attachments": {},
   "cell_type": "markdown",
   "id": "1d5ef20e",
   "metadata": {},
   "source": [
    "## 1.1 Lists & Arrays in 1D | Subsetting & Indexing"
   ]
  },
  {
   "cell_type": "code",
   "execution_count": 2,
   "id": "405d230f-bfed-4a27-ba16-3c760012ac42",
   "metadata": {},
   "outputs": [],
   "source": [
    "import numpy as np \n",
    "\n",
    "py_list=[\"a1\", \"b2\", \"c3\", \"d4\", \"e5\",\n",
    "         \"f6\", \"g7\", \"h8\", \"i9\", \"j10\"]\n",
    "np_array=np.array(py_list)\n",
    "\n",
    "# Pick one\n",
    "x = py_list  # OR\n",
    "x = np_array"
   ]
  },
  {
   "cell_type": "code",
   "execution_count": 3,
   "id": "d22fd149-c89a-4e73-93a2-e4b72b6e9db1",
   "metadata": {},
   "outputs": [
    {
     "data": {
      "text/plain": [
       "['d4', 'e5', 'f6']"
      ]
     },
     "execution_count": 3,
     "metadata": {},
     "output_type": "execute_result"
    }
   ],
   "source": [
    "py_list[3:6] #you don't get g7 becos you only finish 1 less than what you type, gives u 6-3 = 3 elements"
   ]
  },
  {
   "cell_type": "code",
   "execution_count": 4,
   "id": "b2147a67-ed68-4f89-ac45-f80ef856f542",
   "metadata": {},
   "outputs": [
    {
     "data": {
      "text/plain": [
       "['a1', 'c3', 'e5']"
      ]
     },
     "execution_count": 4,
     "metadata": {},
     "output_type": "execute_result"
    }
   ],
   "source": [
    "py_list[0:6:2]"
   ]
  },
  {
   "cell_type": "code",
   "execution_count": 3,
   "id": "d1919f85-5f83-47a1-a6a5-82294c681314",
   "metadata": {},
   "outputs": [
    {
     "data": {
      "text/plain": [
       "['a1', 'b2', 'c3', 'd4', 'e5', 'f6', 'g7']"
      ]
     },
     "execution_count": 3,
     "metadata": {},
     "output_type": "execute_result"
    }
   ],
   "source": [
    "py_list[:-3]"
   ]
  },
  {
   "cell_type": "code",
   "execution_count": 4,
   "id": "a7554f23-f517-4da3-ba53-1bfb3d79a8eb",
   "metadata": {},
   "outputs": [
    {
     "data": {
      "text/plain": [
       "['j10', 'i9', 'h8', 'g7', 'f6', 'e5', 'd4', 'c3', 'b2', 'a1']"
      ]
     },
     "execution_count": 4,
     "metadata": {},
     "output_type": "execute_result"
    }
   ],
   "source": [
    "py_list[-1::-1]"
   ]
  },
  {
   "attachments": {},
   "cell_type": "markdown",
   "id": "a2e8cc10",
   "metadata": {},
   "source": [
    "## 1.2 Arrays only | Subsetting by masking"
   ]
  },
  {
   "attachments": {},
   "cell_type": "markdown",
   "id": "2700e773",
   "metadata": {},
   "source": [
    "## 1.3 Lists & Arrays in 2D | Indexing & Slicing"
   ]
  },
  {
   "cell_type": "code",
   "execution_count": 5,
   "id": "f37bac1b-7746-44e4-b0f1-efbf87bd92b8",
   "metadata": {},
   "outputs": [],
   "source": [
    "py_list_2d = [[1, \"A\"], [2, \"B\"], [3, \"C\"], [4, \"D\"],\n",
    "              [5, \"E\"], [6, \"F\"], [7, \"G\"], [8, \"H\"],\n",
    "              [9, \"I\"], [10, \"J\"]]\n",
    "\n",
    "np_array_2d = np.array(py_list_2d)"
   ]
  },
  {
   "cell_type": "code",
   "execution_count": 7,
   "id": "aa8290c9-a9b5-4cde-bf31-a41509230def",
   "metadata": {},
   "outputs": [
    {
     "data": {
      "text/plain": [
       "[[2, 'B'], [3, 'C'], [4, 'D']]"
      ]
     },
     "execution_count": 7,
     "metadata": {},
     "output_type": "execute_result"
    }
   ],
   "source": [
    "py_list_2d [1:4]"
   ]
  },
  {
   "cell_type": "markdown",
   "id": "ce4d8fcc-a710-468d-9cf1-62c1a411f6f9",
   "metadata": {},
   "source": [
    "What if I want a specific element from inside?"
   ]
  },
  {
   "cell_type": "markdown",
   "id": "22af20bf-bd3b-411f-8e22-02e335236387",
   "metadata": {},
   "source": [
    "py_list_2d [1:4][1][1]"
   ]
  },
  {
   "cell_type": "code",
   "execution_count": 11,
   "id": "50077f65-a0f0-4d1b-9cbe-30e0c8571190",
   "metadata": {},
   "outputs": [
    {
     "data": {
      "text/plain": [
       "array(['B', 'C', 'D'], dtype='<U21')"
      ]
     },
     "execution_count": 11,
     "metadata": {},
     "output_type": "execute_result"
    }
   ],
   "source": [
    "np_array_2d[1:4, 1]"
   ]
  },
  {
   "cell_type": "code",
   "execution_count": 12,
   "id": "cb88664a-153c-444e-896a-34b6c0babc90",
   "metadata": {},
   "outputs": [
    {
     "data": {
      "text/plain": [
       "array(['1', '2', '3', '4', '5', '6', '7', '8', '9', '10'], dtype='<U21')"
      ]
     },
     "execution_count": 12,
     "metadata": {},
     "output_type": "execute_result"
    }
   ],
   "source": [
    "np_array_2d[:,0]"
   ]
  },
  {
   "cell_type": "markdown",
   "id": "53d28726-580e-40f2-a5f2-c3846c9638c6",
   "metadata": {},
   "source": [
    "Arrays gives me ALL the letters or numbers! list doesn't do that"
   ]
  },
  {
   "cell_type": "code",
   "execution_count": 13,
   "id": "bdc86f95-9cdd-435f-8854-981d8836551f",
   "metadata": {},
   "outputs": [
    {
     "ename": "TypeError",
     "evalue": "The 'out' kwarg is necessary. Use numpy.strings.multiply without it.",
     "output_type": "error",
     "traceback": [
      "\u001b[0;31m---------------------------------------------------------------------------\u001b[0m",
      "\u001b[0;31mTypeError\u001b[0m                                 Traceback (most recent call last)",
      "Cell \u001b[0;32mIn[13], line 1\u001b[0m\n\u001b[0;32m----> 1\u001b[0m \u001b[43mnp_array_2d\u001b[49m\u001b[43m[\u001b[49m\u001b[43m:\u001b[49m\u001b[43m,\u001b[49m\u001b[38;5;241;43m0\u001b[39;49m\u001b[43m]\u001b[49m\u001b[38;5;241;43m*\u001b[39;49m\u001b[38;5;241;43m2\u001b[39;49m\n",
      "\u001b[0;31mTypeError\u001b[0m: The 'out' kwarg is necessary. Use numpy.strings.multiply without it."
     ]
    }
   ],
   "source": [
    "np_array_2d[:,0]*2"
   ]
  },
  {
   "cell_type": "markdown",
   "id": "3116cafc-9a87-4af7-afdc-3f812be697eb",
   "metadata": {},
   "source": [
    "This is not possible because numpy makes ALL elements into the same type: eg downgrade all integers into string here. if we want to multiply it as though it's integer, we need to convert into integers"
   ]
  },
  {
   "cell_type": "code",
   "execution_count": 15,
   "id": "fcc8b5a6-4a72-4184-9b9b-adae27290ae4",
   "metadata": {},
   "outputs": [
    {
     "data": {
      "text/plain": [
       "array([  1,   4,   9,  16,  25,  36,  49,  64,  81, 100])"
      ]
     },
     "execution_count": 15,
     "metadata": {},
     "output_type": "execute_result"
    }
   ],
   "source": [
    "np_array_2d[:,0].astype(int)**2"
   ]
  },
  {
   "attachments": {},
   "cell_type": "markdown",
   "id": "7baee9bb",
   "metadata": {},
   "source": [
    "## 1.4 Growing lists"
   ]
  },
  {
   "cell_type": "code",
   "execution_count": 18,
   "id": "cdfcbf78-2921-4f0e-bfcd-ed6fae5a2bb4",
   "metadata": {},
   "outputs": [
    {
     "data": {
      "text/plain": [
       "[1, 2, 8, 9, 0, 'A', 'B']"
      ]
     },
     "execution_count": 18,
     "metadata": {},
     "output_type": "execute_result"
    }
   ],
   "source": [
    "[1,2] + [8,9,0] + ['A','B'] # works becos it's list, it doesn't matter "
   ]
  },
  {
   "cell_type": "code",
   "execution_count": 19,
   "id": "03c6f206-3d55-4ff3-8c2e-3e1dab931a3f",
   "metadata": {},
   "outputs": [
    {
     "ename": "ValueError",
     "evalue": "operands could not be broadcast together with shapes (2,) (3,) ",
     "output_type": "error",
     "traceback": [
      "\u001b[0;31m---------------------------------------------------------------------------\u001b[0m",
      "\u001b[0;31mValueError\u001b[0m                                Traceback (most recent call last)",
      "Cell \u001b[0;32mIn[19], line 1\u001b[0m\n\u001b[0;32m----> 1\u001b[0m \u001b[43mnp\u001b[49m\u001b[38;5;241;43m.\u001b[39;49m\u001b[43marray\u001b[49m\u001b[43m(\u001b[49m\u001b[43m[\u001b[49m\u001b[38;5;241;43m1\u001b[39;49m\u001b[43m,\u001b[49m\u001b[38;5;241;43m2\u001b[39;49m\u001b[43m]\u001b[49m\u001b[43m)\u001b[49m\u001b[43m \u001b[49m\u001b[38;5;241;43m+\u001b[39;49m\u001b[43m \u001b[49m\u001b[43mnp\u001b[49m\u001b[38;5;241;43m.\u001b[39;49m\u001b[43marray\u001b[49m\u001b[43m(\u001b[49m\u001b[43m[\u001b[49m\u001b[38;5;241;43m8\u001b[39;49m\u001b[43m,\u001b[49m\u001b[38;5;241;43m9\u001b[39;49m\u001b[43m,\u001b[49m\u001b[38;5;241;43m0\u001b[39;49m\u001b[43m]\u001b[49m\u001b[43m)\u001b[49m\n",
      "\u001b[0;31mValueError\u001b[0m: operands could not be broadcast together with shapes (2,) (3,) "
     ]
    }
   ],
   "source": [
    "np.array([1,2]) + np.array([8,9,0]) #error bcos the no. of elements don't correspond"
   ]
  },
  {
   "cell_type": "code",
   "execution_count": 22,
   "id": "71ac17e9-e449-42dc-b7a4-fd988e8b66d1",
   "metadata": {},
   "outputs": [
    {
     "data": {
      "text/plain": [
       "array([ 9, 11, 10])"
      ]
     },
     "execution_count": 22,
     "metadata": {},
     "output_type": "execute_result"
    }
   ],
   "source": [
    "np.array([1,2,10]) + np.array([8,9,0])"
   ]
  },
  {
   "cell_type": "code",
   "execution_count": 20,
   "id": "ed5f6981-bf50-4a3d-9c50-a32efa4dcafd",
   "metadata": {},
   "outputs": [
    {
     "ename": "UFuncTypeError",
     "evalue": "ufunc 'add' did not contain a loop with signature matching types (dtype('int64'), dtype('<U2')) -> None",
     "output_type": "error",
     "traceback": [
      "\u001b[0;31m---------------------------------------------------------------------------\u001b[0m",
      "\u001b[0;31mUFuncTypeError\u001b[0m                            Traceback (most recent call last)",
      "Cell \u001b[0;32mIn[20], line 1\u001b[0m\n\u001b[0;32m----> 1\u001b[0m \u001b[43mnp\u001b[49m\u001b[38;5;241;43m.\u001b[39;49m\u001b[43marray\u001b[49m\u001b[43m(\u001b[49m\u001b[43m[\u001b[49m\u001b[38;5;241;43m1\u001b[39;49m\u001b[43m,\u001b[49m\u001b[38;5;241;43m2\u001b[39;49m\u001b[43m]\u001b[49m\u001b[43m)\u001b[49m\u001b[43m \u001b[49m\u001b[38;5;241;43m+\u001b[39;49m\u001b[43m \u001b[49m\u001b[43mnp\u001b[49m\u001b[38;5;241;43m.\u001b[39;49m\u001b[43marray\u001b[49m\u001b[43m(\u001b[49m\u001b[43m[\u001b[49m\u001b[38;5;124;43m'\u001b[39;49m\u001b[38;5;124;43mHi\u001b[39;49m\u001b[38;5;124;43m'\u001b[39;49m\u001b[43m]\u001b[49m\u001b[43m)\u001b[49m\n",
      "\u001b[0;31mUFuncTypeError\u001b[0m: ufunc 'add' did not contain a loop with signature matching types (dtype('int64'), dtype('<U2')) -> None"
     ]
    }
   ],
   "source": [
    "np.array([1,2]) + np.array(['Hi']) #doesn't work becos the type of elements nd to be the same"
   ]
  },
  {
   "cell_type": "code",
   "execution_count": 23,
   "id": "afc5b6f4-652e-4662-917f-cdf58fd079f8",
   "metadata": {},
   "outputs": [
    {
     "data": {
      "text/plain": [
       "[1, 2, 3, 4]"
      ]
     },
     "execution_count": 23,
     "metadata": {},
     "output_type": "execute_result"
    }
   ],
   "source": [
    "x=[1]\n",
    "x= x + [2]\n",
    "x= x + [3]\n",
    "x= x + [4]\n",
    "x\n",
    "x=[1]\n",
    "x+= [2]\n",
    "x+= [3]\n",
    "x+= [4]\n",
    "x\n",
    "x=[1]\n",
    "x.append(2)\n",
    "x.append(3)\n",
    "x.append(4)\n",
    "x"
   ]
  },
  {
   "cell_type": "markdown",
   "id": "2111cf9d-980f-4cc3-8f05-518c2d455689",
   "metadata": {},
   "source": [
    "Append helps you grow lists faster "
   ]
  },
  {
   "attachments": {},
   "cell_type": "markdown",
   "id": "3449a725",
   "metadata": {},
   "source": [
    "# Some loose ends"
   ]
  },
  {
   "attachments": {},
   "cell_type": "markdown",
   "id": "ab8b40b0",
   "metadata": {},
   "source": [
    "## 1.5 Tuples"
   ]
  },
  {
   "cell_type": "code",
   "execution_count": 24,
   "id": "f06cc008-fcaa-4a7c-9f32-909a22ae647a",
   "metadata": {},
   "outputs": [],
   "source": [
    "x=[1,2,3]"
   ]
  },
  {
   "cell_type": "code",
   "execution_count": 27,
   "id": "9237b306-2950-4f95-baa7-aa8c9088ef6f",
   "metadata": {},
   "outputs": [],
   "source": [
    "x[0]=100000"
   ]
  },
  {
   "cell_type": "code",
   "execution_count": 28,
   "id": "23fc09f9-0485-41c1-8dcd-8ebfddb01d7a",
   "metadata": {},
   "outputs": [
    {
     "data": {
      "text/plain": [
       "[100000, 2, 3]"
      ]
     },
     "execution_count": 28,
     "metadata": {},
     "output_type": "execute_result"
    }
   ],
   "source": [
    "x"
   ]
  },
  {
   "cell_type": "markdown",
   "id": "6e3207d0-b6e7-44c7-b356-46b23c36e526",
   "metadata": {},
   "source": [
    "Notice that your number changes! Sometimes we want to fix the numbers. So we use tuples"
   ]
  },
  {
   "attachments": {},
   "cell_type": "markdown",
   "id": "a2b07304",
   "metadata": {},
   "source": [
    "## 1.6 Be VERY careful when copying"
   ]
  },
  {
   "cell_type": "code",
   "execution_count": 29,
   "id": "f14b1f21-4723-4a1e-98d5-47c940a5f8be",
   "metadata": {},
   "outputs": [],
   "source": [
    "x=[1, 2, 3]\n",
    "y=x           # DON'T do this!\n",
    "z=x           # DON'T do this!"
   ]
  },
  {
   "cell_type": "code",
   "execution_count": 30,
   "id": "10d71e3c-0d90-47e5-87d6-9631af4ff360",
   "metadata": {},
   "outputs": [
    {
     "name": "stdout",
     "output_type": "stream",
     "text": [
      "x=[1, 2, 3], y=[1, 2, 3], z=[1, 2, 3]\n"
     ]
    }
   ],
   "source": [
    "print(f'{x=}, {y=}, {z=}')"
   ]
  },
  {
   "cell_type": "markdown",
   "id": "9906d4b2-9c7d-49d4-bc89-49bcdd739ed3",
   "metadata": {},
   "source": [
    "But if I change my value:"
   ]
  },
  {
   "cell_type": "code",
   "execution_count": 33,
   "id": "f71ddcc5-e81a-4632-a207-dd254cb7c537",
   "metadata": {},
   "outputs": [
    {
     "name": "stdout",
     "output_type": "stream",
     "text": [
      "Before: x=[1, 2, 3], y=[1, 2, 3], z=[1, 2, 3]\n",
      "After: x=[1000, 2, 3], y=[1000, 2, 3], z=[1000, 2, 3]\n"
     ]
    }
   ],
   "source": [
    "x=[1, 2, 3]\n",
    "y=x           # DON'T do this!\n",
    "z=x           # DON'T do this!\n",
    "print(f'Before: {x=}, {y=}, {z=}')\n",
    "x[0]=1000\n",
    "print(f'After: {x=}, {y=}, {z=}')"
   ]
  },
  {
   "cell_type": "markdown",
   "id": "d29c0fd9-4a19-422a-a829-a7198176653e",
   "metadata": {},
   "source": [
    "When x = something, it looks at the same thing...\n",
    "So when you change what x is looking at, y and z also change"
   ]
  },
  {
   "cell_type": "code",
   "execution_count": 35,
   "id": "b0d032b4-416b-43ce-a6dc-348f74c56912",
   "metadata": {},
   "outputs": [
    {
     "name": "stdout",
     "output_type": "stream",
     "text": [
      "Before: x=[1, 2, 3], y=[1, 2, 3], z=[1, 2, 3]\n",
      "After: x=[1000, 2, 3], y=[1, 2, 3], z=[1, 2, 3]\n"
     ]
    }
   ],
   "source": [
    "x=[1, 2, 3]\n",
    "y=x.copy()\n",
    "z=x.copy()\n",
    "print(f'Before: {x=}, {y=}, {z=}')\n",
    "x[0]=1000\n",
    "print(f'After: {x=}, {y=}, {z=}')"
   ]
  },
  {
   "cell_type": "markdown",
   "id": "88c3d7e1-6a2b-45b2-aeee-cd990b2bdc70",
   "metadata": {},
   "source": [
    "Makes a copy instead of looking at the same thing"
   ]
  },
  {
   "attachments": {},
   "cell_type": "markdown",
   "id": "82df6b17",
   "metadata": {},
   "source": [
    "## Footnotes"
   ]
  }
 ],
 "metadata": {
  "kernelspec": {
   "display_name": "Python 3 (ipykernel)",
   "language": "python",
   "name": "python3"
  },
  "language_info": {
   "codemirror_mode": {
    "name": "ipython",
    "version": 3
   },
   "file_extension": ".py",
   "mimetype": "text/x-python",
   "name": "python",
   "nbconvert_exporter": "python",
   "pygments_lexer": "ipython3",
   "version": "3.12.2"
  },
  "toc": {
   "base_numbering": 1,
   "nav_menu": {},
   "number_sections": true,
   "sideBar": true,
   "skip_h1_title": false,
   "title_cell": "Table of Contents",
   "title_sidebar": "Contents",
   "toc_cell": false,
   "toc_position": {},
   "toc_section_display": true,
   "toc_window_display": false
  },
  "vscode": {
   "interpreter": {
    "hash": "31f2aee4e71d21fbe5cf8b01ff0e069b9275f58929596ceb00d14d90e3e16cd6"
   }
  }
 },
 "nbformat": 4,
 "nbformat_minor": 5
}
