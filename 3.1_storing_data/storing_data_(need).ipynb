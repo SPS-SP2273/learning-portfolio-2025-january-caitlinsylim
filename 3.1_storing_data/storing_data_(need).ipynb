{
 "cells": [
  {
   "attachments": {},
   "cell_type": "markdown",
   "id": "123456",
   "metadata": {},
   "source": [
    "<div style=\"text-align:left;font-size:2em\"><span style=\"font-weight:bolder;font-size:1.25em\">SP2273 | Learning Portfolio</span><br><br><span style=\"font-weight:bold;color:darkred\">Storing Data (Need)</span></div>"
   ]
  },
  {
   "attachments": {},
   "cell_type": "markdown",
   "id": "0fe9db6f",
   "metadata": {
    "jp-MarkdownHeadingCollapsed": true
   },
   "source": [
    "# What to expect in this chapter"
   ]
  },
  {
   "attachments": {},
   "cell_type": "markdown",
   "id": "7f305238",
   "metadata": {},
   "source": [
    "# 1 Lists, Arrays & Dictionaries"
   ]
  },
  {
   "attachments": {},
   "cell_type": "markdown",
   "id": "bb1bbff8",
   "metadata": {},
   "source": [
    "## 1.1 Let’s compare"
   ]
  },
  {
   "attachments": {},
   "cell_type": "markdown",
   "id": "757cb362",
   "metadata": {},
   "source": [
    "## 1.2 Accessing data from a list (or array)"
   ]
  },
  {
   "cell_type": "code",
   "execution_count": 49,
   "id": "03697e36-5592-4ea5-8d9f-237902002cf6",
   "metadata": {},
   "outputs": [],
   "source": [
    "import numpy as np\n",
    "ran_no=np.random.randint(0,100,100)"
   ]
  },
  {
   "cell_type": "code",
   "execution_count": 50,
   "id": "519be2f6-3e06-46fe-bdb1-1b15ca1e9036",
   "metadata": {},
   "outputs": [],
   "source": [
    "mask = (ran_no < 50) & (ran_no%2==1) #Masking"
   ]
  },
  {
   "cell_type": "code",
   "execution_count": 51,
   "id": "b9875892-81a8-4138-b3b5-f21127bb442d",
   "metadata": {},
   "outputs": [
    {
     "data": {
      "text/plain": [
       "array([ 3,  1,  1,  9, 41, 29,  7, 17, 25, 15,  5,  3, 25,  9, 39, 25, 37,\n",
       "       35, 39, 25, 15, 39, 31, 43, 49,  7, 15, 49])"
      ]
     },
     "execution_count": 51,
     "metadata": {},
     "output_type": "execute_result"
    }
   ],
   "source": [
    "ran_no[mask] #it retrieves all numbers that are < 50 and odd "
   ]
  },
  {
   "cell_type": "code",
   "execution_count": 55,
   "id": "13415043-1836-48e3-a562-e73c20ddf7db",
   "metadata": {},
   "outputs": [
    {
     "data": {
      "text/plain": [
       "np.int64(29)"
      ]
     },
     "execution_count": 55,
     "metadata": {},
     "output_type": "execute_result"
    }
   ],
   "source": [
    "ran_no[mask][5] #python has 0 indexing, you are indexing here to get subset of values \n",
    " #negative indexing applies for both array and list "
   ]
  },
  {
   "cell_type": "code",
   "execution_count": 56,
   "id": "04242ee8-7ae5-44d3-8f56-d044b58a3d4c",
   "metadata": {},
   "outputs": [
    {
     "data": {
      "text/plain": [
       "np.int64(15)"
      ]
     },
     "execution_count": 56,
     "metadata": {},
     "output_type": "execute_result"
    }
   ],
   "source": [
    "ran_no[mask][-2] #negative indexing applies for both array and list "
   ]
  },
  {
   "cell_type": "markdown",
   "id": "2d7a75ae-2e27-458e-8580-d708e7089c97",
   "metadata": {},
   "source": [
    "#### lists - u can have multiple types (can be int and string)\n",
    "#### array - only allow for 1 type (so both string, or both int)"
   ]
  },
  {
   "cell_type": "code",
   "execution_count": 5,
   "id": "eb7ab59f-b6d4-4cc7-a10b-55e0d2733349",
   "metadata": {},
   "outputs": [],
   "source": [
    "import numpy as np\n",
    "py_list_2d = [[1, \"A\"], [2, \"B\"], [3, \"C\"], [4, \"D\"],\n",
    "              [5, \"E\"], [6, \"F\"], [7, \"G\"], [8, \"H\"],\n",
    "              [9, \"I\"], [10, \"J\"]]\n",
    "\n",
    "np_array_2d = np.array(py_list_2d)      # Reusing the Python list \n",
    "                                        # to create a NEW\n",
    "                                        # NumPy array"
   ]
  },
  {
   "cell_type": "code",
   "execution_count": 6,
   "id": "5f4120d5-72f3-413e-a8cd-422aeffc0efc",
   "metadata": {},
   "outputs": [
    {
     "data": {
      "text/plain": [
       "[[1, 'A'],\n",
       " [2, 'B'],\n",
       " [3, 'C'],\n",
       " [4, 'D'],\n",
       " [5, 'E'],\n",
       " [6, 'F'],\n",
       " [7, 'G'],\n",
       " [8, 'H'],\n",
       " [9, 'I'],\n",
       " [10, 'J']]"
      ]
     },
     "execution_count": 6,
     "metadata": {},
     "output_type": "execute_result"
    }
   ],
   "source": [
    "py_list_2d"
   ]
  },
  {
   "cell_type": "code",
   "execution_count": 7,
   "id": "7d2ee5e6-7d44-48cb-8b74-7faea5b646e2",
   "metadata": {},
   "outputs": [
    {
     "data": {
      "text/plain": [
       "array([['1', 'A'],\n",
       "       ['2', 'B'],\n",
       "       ['3', 'C'],\n",
       "       ['4', 'D'],\n",
       "       ['5', 'E'],\n",
       "       ['6', 'F'],\n",
       "       ['7', 'G'],\n",
       "       ['8', 'H'],\n",
       "       ['9', 'I'],\n",
       "       ['10', 'J']], dtype='<U21')"
      ]
     },
     "execution_count": 7,
     "metadata": {},
     "output_type": "execute_result"
    }
   ],
   "source": [
    "np_array_2d"
   ]
  },
  {
   "cell_type": "markdown",
   "id": "ac011ab4-c682-4192-a1ef-0205ed4da229",
   "metadata": {},
   "source": [
    "### Indexing concept applies for both array & list - but sometimes we have list within list, how does it work?"
   ]
  },
  {
   "cell_type": "code",
   "execution_count": 10,
   "id": "6df1269b-0f9f-471d-8e50-8102326781fb",
   "metadata": {},
   "outputs": [
    {
     "data": {
      "text/plain": [
       "[1, 'A']"
      ]
     },
     "execution_count": 10,
     "metadata": {},
     "output_type": "execute_result"
    }
   ],
   "source": [
    "#many lists within a list, but you can do this with numpy array\n",
    "py_list_2d[0]"
   ]
  },
  {
   "cell_type": "code",
   "execution_count": 12,
   "id": "d90ccda3-d772-4208-93d2-48ddff7906d8",
   "metadata": {},
   "outputs": [
    {
     "data": {
      "text/plain": [
       "np.str_('A')"
      ]
     },
     "execution_count": 12,
     "metadata": {},
     "output_type": "execute_result"
    }
   ],
   "source": [
    "np_array_2d[0,1] # do 0 first (you get[1, 'A'], then take the first: you get 'A')"
   ]
  },
  {
   "attachments": {},
   "cell_type": "markdown",
   "id": "b6442c25",
   "metadata": {},
   "source": [
    "## 1.3 Accessing data from a dictionary"
   ]
  },
  {
   "cell_type": "code",
   "execution_count": 13,
   "id": "cb3783b6-1068-4c85-a4d8-a21175e7f637",
   "metadata": {},
   "outputs": [],
   "source": [
    "py_super_names = [\"Black Widow\", \"Iron Man\", \"Doctor Strange\"]\n",
    "py_real_names = [\"Natasha Romanoff\", \"Tony Stark\", \"Stephen Strange\"]\n",
    "\n",
    "np_super_names = np.array([\"Black Widow\", \"Iron Man\", \"Doctor Strange\"])\n",
    "np_real_names = np.array([\"Natasha Romanoff\", \"Tony Stark\", \"Stephen Strange\"])\n",
    "\n",
    "superhero_info = {\n",
    "    \"Natasha Romanoff\": [\"Black Widow\", \"Joannsson\"],\n",
    "    \"Tony Stark\": \"Iron Man\",\n",
    "    \"Stephen Strange\": \"Doctor Strange\"\n",
    "}                  \n",
    "\n",
    "#key: value. value can be anything from list, array or dictionary"
   ]
  },
  {
   "cell_type": "code",
   "execution_count": 14,
   "id": "a04cccda-5872-4a55-a8fd-deb174d3a060",
   "metadata": {},
   "outputs": [
    {
     "data": {
      "text/plain": [
       "['Black Widow', 'Joannsson']"
      ]
     },
     "execution_count": 14,
     "metadata": {},
     "output_type": "execute_result"
    }
   ],
   "source": [
    "superhero_info['Natasha Romanoff']"
   ]
  },
  {
   "cell_type": "code",
   "execution_count": 15,
   "id": "9514f2b3-6703-4c1b-a45e-fc902a8f0f80",
   "metadata": {},
   "outputs": [
    {
     "data": {
      "text/plain": [
       "'Joannsson'"
      ]
     },
     "execution_count": 15,
     "metadata": {},
     "output_type": "execute_result"
    }
   ],
   "source": [
    "superhero_info['Natasha Romanoff'][1]"
   ]
  },
  {
   "attachments": {},
   "cell_type": "markdown",
   "id": "9a87d4db",
   "metadata": {},
   "source": [
    "## 1.4 Higher dimensional lists"
   ]
  },
  {
   "attachments": {},
   "cell_type": "markdown",
   "id": "415e8021",
   "metadata": {},
   "source": [
    "# 2 Lists vs. Arrays"
   ]
  },
  {
   "cell_type": "code",
   "execution_count": 3,
   "id": "6ed78b6a-5bc3-437f-91a6-e132833fbc9b",
   "metadata": {},
   "outputs": [
    {
     "data": {
      "text/plain": [
       "[1, 2, 3, 4, 5]"
      ]
     },
     "execution_count": 3,
     "metadata": {},
     "output_type": "execute_result"
    }
   ],
   "source": [
    "py_list = [1,2,3,4,5]\n",
    "\n",
    "py_list"
   ]
  },
  {
   "cell_type": "code",
   "execution_count": 4,
   "id": "a44d4ca6-e713-45c5-b218-b12cec509841",
   "metadata": {},
   "outputs": [
    {
     "data": {
      "text/plain": [
       "array([1, 2, 3, 4, 5])"
      ]
     },
     "execution_count": 4,
     "metadata": {},
     "output_type": "execute_result"
    }
   ],
   "source": [
    "import numpy as np\n",
    "np_array = np.array([1,2,3,4,5])\n",
    "np_array"
   ]
  },
  {
   "cell_type": "markdown",
   "id": "2ca75870-0f88-402b-ac57-b86935045112",
   "metadata": {},
   "source": [
    "They both store the same information, but fundamentally have different capabilities \n",
    "\n",
    "Lists - to grow data and simulation\n",
    "\n",
    "Array - mathematics and science... \n",
    "\n",
    "You can first make it as a list (because you want to edit and grow it etc..) but when nd to do calc, convert into array. See below:"
   ]
  },
  {
   "cell_type": "code",
   "execution_count": 6,
   "id": "4989978f-5729-4aa0-975a-e370d841e4fd",
   "metadata": {},
   "outputs": [
    {
     "data": {
      "text/plain": [
       "[3, 6, 9, 12, 3, 6, 9, 12, 3, 6, 9, 12]"
      ]
     },
     "execution_count": 6,
     "metadata": {},
     "output_type": "execute_result"
    }
   ],
   "source": [
    "py_list1 = [3,6,9,12]*3\n",
    "py_list1"
   ]
  },
  {
   "cell_type": "code",
   "execution_count": 9,
   "id": "acd7ae90-de63-4544-9682-6bf93ccfe571",
   "metadata": {},
   "outputs": [
    {
     "data": {
      "text/plain": [
       "array([ 3,  6,  9, 12,  3,  6,  9, 12,  3,  6,  9, 12])"
      ]
     },
     "execution_count": 9,
     "metadata": {},
     "output_type": "execute_result"
    }
   ],
   "source": [
    "np_py_list1 = np.array(py_list1)\n",
    "\n",
    "np_py_list1 "
   ]
  },
  {
   "cell_type": "markdown",
   "id": "f1fb8d5e-e861-42bd-a83f-b8f794559ad0",
   "metadata": {},
   "source": [
    "### Things you can do or not"
   ]
  },
  {
   "cell_type": "code",
   "execution_count": null,
   "id": "83e5cf46-0519-497f-9bad-9c01ea239102",
   "metadata": {},
   "outputs": [],
   "source": [
    "py_list = [1,2,3,4,5]\n",
    "np_array = np.array([1,2,3,4,5])"
   ]
  },
  {
   "cell_type": "markdown",
   "id": "f10641fe-9008-4e49-ae0c-f4cfbbeb1a08",
   "metadata": {},
   "source": [
    "### Difference between list and array when doing the same operations"
   ]
  },
  {
   "cell_type": "markdown",
   "id": "d31d5828-d8a4-4524-ab2f-ef6e463d7ddc",
   "metadata": {},
   "source": [
    "#### Adding them tgt "
   ]
  },
  {
   "cell_type": "code",
   "execution_count": 10,
   "id": "b3de2183-d871-4e51-9b9c-6a8571cfa805",
   "metadata": {},
   "outputs": [
    {
     "ename": "TypeError",
     "evalue": "can only concatenate list (not \"int\") to list",
     "output_type": "error",
     "traceback": [
      "\u001b[0;31m---------------------------------------------------------------------------\u001b[0m",
      "\u001b[0;31mTypeError\u001b[0m                                 Traceback (most recent call last)",
      "Cell \u001b[0;32mIn[10], line 1\u001b[0m\n\u001b[0;32m----> 1\u001b[0m \u001b[43mpy_list\u001b[49m\u001b[43m \u001b[49m\u001b[38;5;241;43m+\u001b[39;49m\u001b[43m \u001b[49m\u001b[38;5;241;43m1\u001b[39;49m\n",
      "\u001b[0;31mTypeError\u001b[0m: can only concatenate list (not \"int\") to list"
     ]
    }
   ],
   "source": [
    "py_list + 1"
   ]
  },
  {
   "cell_type": "code",
   "execution_count": 12,
   "id": "7e1f9374-6fc5-40bc-8714-4fd1a2c8d920",
   "metadata": {},
   "outputs": [
    {
     "data": {
      "text/plain": [
       "[1, 2, 3, 4, 5, 1]"
      ]
     },
     "execution_count": 12,
     "metadata": {},
     "output_type": "execute_result"
    }
   ],
   "source": [
    "py_list + [1]"
   ]
  },
  {
   "cell_type": "code",
   "execution_count": 11,
   "id": "8f6688de-e4b5-4cc0-ac6b-28df1b951855",
   "metadata": {},
   "outputs": [
    {
     "data": {
      "text/plain": [
       "array([2, 3, 4, 5, 6])"
      ]
     },
     "execution_count": 11,
     "metadata": {},
     "output_type": "execute_result"
    }
   ],
   "source": [
    "np_array + 1"
   ]
  },
  {
   "cell_type": "markdown",
   "id": "81767f8c-1637-41c8-876f-56733c233cf9",
   "metadata": {},
   "source": [
    "#### Multiplying them tgt"
   ]
  },
  {
   "cell_type": "code",
   "execution_count": 13,
   "id": "276a85d5-4530-477a-a289-4b7f46ae7d06",
   "metadata": {},
   "outputs": [
    {
     "data": {
      "text/plain": [
       "[1, 2, 3, 4, 5, 1, 2, 3, 4, 5, 1, 2, 3, 4, 5]"
      ]
     },
     "execution_count": 13,
     "metadata": {},
     "output_type": "execute_result"
    }
   ],
   "source": [
    "py_list * 3       #growing your list"
   ]
  },
  {
   "cell_type": "code",
   "execution_count": 16,
   "id": "6d77bd16-a553-446f-8834-a77a217ade70",
   "metadata": {},
   "outputs": [
    {
     "data": {
      "text/plain": [
       "array([ 3,  6,  9, 12, 15])"
      ]
     },
     "execution_count": 16,
     "metadata": {},
     "output_type": "execute_result"
    }
   ],
   "source": [
    "np_array * 3     #multiply each element by 3     "
   ]
  },
  {
   "attachments": {},
   "cell_type": "markdown",
   "id": "707f2b14",
   "metadata": {},
   "source": [
    "## 2.1 Size"
   ]
  },
  {
   "cell_type": "code",
   "execution_count": 17,
   "id": "51919554-2374-4eff-803e-5bd735b244df",
   "metadata": {},
   "outputs": [
    {
     "data": {
      "text/plain": [
       "5"
      ]
     },
     "execution_count": 17,
     "metadata": {},
     "output_type": "execute_result"
    }
   ],
   "source": [
    "len(np_array)"
   ]
  },
  {
   "cell_type": "code",
   "execution_count": 18,
   "id": "bad1f82d-c21e-4acb-9397-e48f102c9068",
   "metadata": {},
   "outputs": [
    {
     "data": {
      "text/plain": [
       "5"
      ]
     },
     "execution_count": 18,
     "metadata": {},
     "output_type": "execute_result"
    }
   ],
   "source": [
    "np_array.size"
   ]
  },
  {
   "cell_type": "code",
   "execution_count": 20,
   "id": "2c8b85df-5e07-4076-a785-44ec94203ad1",
   "metadata": {},
   "outputs": [
    {
     "data": {
      "text/plain": [
       "(5,)"
      ]
     },
     "execution_count": 20,
     "metadata": {},
     "output_type": "execute_result"
    }
   ],
   "source": [
    "np_array.shape # if numpy array has multiple functions"
   ]
  },
  {
   "attachments": {},
   "cell_type": "markdown",
   "id": "7bb27bf2",
   "metadata": {},
   "source": [
    "## 2.2 Arrays are fussy about type"
   ]
  },
  {
   "attachments": {},
   "cell_type": "markdown",
   "id": "a880277c",
   "metadata": {},
   "source": [
    "## 2.7 Asking questions in Numpy & List"
   ]
  },
  {
   "cell_type": "code",
   "execution_count": 21,
   "id": "e5a0c443-12be-4246-8117-d4e5f10f5b76",
   "metadata": {},
   "outputs": [
    {
     "data": {
      "text/plain": [
       "True"
      ]
     },
     "execution_count": 21,
     "metadata": {},
     "output_type": "execute_result"
    }
   ],
   "source": [
    "'a' in ['a', 'b', 'c']"
   ]
  },
  {
   "cell_type": "code",
   "execution_count": 23,
   "id": "526ec569-2b1b-479d-a9d8-f4ed22ad26c4",
   "metadata": {},
   "outputs": [
    {
     "data": {
      "text/plain": [
       "array([63, 49, 30, 97, 17, 62, 64, 36, 23, 61])"
      ]
     },
     "execution_count": 23,
     "metadata": {},
     "output_type": "execute_result"
    }
   ],
   "source": [
    "my_random_number = np.random.randint(0,100,10)          # start from 0, end at 100, size=10 (make 10 numbers)\n",
    "my_random_number"
   ]
  },
  {
   "cell_type": "code",
   "execution_count": 24,
   "id": "c8d74e4f-85c8-4627-8029-8587f268b0ed",
   "metadata": {},
   "outputs": [
    {
     "data": {
      "text/plain": [
       "array([False,  True,  True, False,  True, False, False,  True,  True,\n",
       "       False])"
      ]
     },
     "execution_count": 24,
     "metadata": {},
     "output_type": "execute_result"
    }
   ],
   "source": [
    "my_random_number <50"
   ]
  },
  {
   "cell_type": "markdown",
   "id": "e4e5ab04-f5be-4506-85cb-887fca05ae49",
   "metadata": {},
   "source": [
    "What happened? \n",
    "\n",
    "It posed questions to all elements, asking if each element <50? if <50, true.. if >50, false"
   ]
  },
  {
   "cell_type": "markdown",
   "id": "d7ad190d-9cd6-4985-a0f1-b2577611e79f",
   "metadata": {},
   "source": [
    "### Masking "
   ]
  },
  {
   "cell_type": "code",
   "execution_count": 31,
   "id": "1b433d1e-ee34-410c-bd12-4ae1204eecf6",
   "metadata": {},
   "outputs": [],
   "source": [
    "mask = my_random_number <50"
   ]
  },
  {
   "cell_type": "code",
   "execution_count": 32,
   "id": "ddb496dc-15b4-4820-9e64-02a1ca92f857",
   "metadata": {},
   "outputs": [
    {
     "data": {
      "text/plain": [
       "array([49, 30, 17, 36, 23])"
      ]
     },
     "execution_count": 32,
     "metadata": {},
     "output_type": "execute_result"
    }
   ],
   "source": [
    "my_random_number[mask]"
   ]
  },
  {
   "cell_type": "markdown",
   "id": "6988d85d-43ad-4115-a831-3d3bcfda5de5",
   "metadata": {},
   "source": [
    "What does masking do? What happened above?\n",
    "\n",
    "It gives you ALL the elements < 50 directly, removing all True False "
   ]
  },
  {
   "cell_type": "code",
   "execution_count": 33,
   "id": "c101d8fe-ac2d-4a58-a39c-71e5a814ee99",
   "metadata": {},
   "outputs": [],
   "source": [
    "mask2 = (my_random_number <50) & (my_random_number % 2 >0)"
   ]
  },
  {
   "cell_type": "code",
   "execution_count": 35,
   "id": "dbd5fae2-e050-48d1-98df-aca05762c2a9",
   "metadata": {},
   "outputs": [
    {
     "data": {
      "text/plain": [
       "array([49, 17, 23])"
      ]
     },
     "execution_count": 35,
     "metadata": {},
     "output_type": "execute_result"
    }
   ],
   "source": [
    "my_random_number[mask2]"
   ]
  },
  {
   "cell_type": "markdown",
   "id": "3dd3b9c7-be0b-4e8f-9d76-ab2dc49947e5",
   "metadata": {},
   "source": [
    "What happened here? \n",
    "\n",
    "I generated both <50 AND odd no."
   ]
  },
  {
   "cell_type": "code",
   "execution_count": 37,
   "id": "f9b2b634-f1ec-4896-abdb-dcd934b9319c",
   "metadata": {},
   "outputs": [],
   "source": [
    "mask3 = (my_random_number <50) | (my_random_number % 2 >0)"
   ]
  },
  {
   "cell_type": "code",
   "execution_count": 38,
   "id": "14f15efb-04ea-4826-a172-f668e7969085",
   "metadata": {},
   "outputs": [
    {
     "data": {
      "text/plain": [
       "array([63, 49, 30, 97, 17, 36, 23, 61])"
      ]
     },
     "execution_count": 38,
     "metadata": {},
     "output_type": "execute_result"
    }
   ],
   "source": [
    "my_random_number[mask3] ## vertical line is 'or'"
   ]
  },
  {
   "attachments": {},
   "cell_type": "markdown",
   "id": "e7b6076a",
   "metadata": {},
   "source": [
    "## 2.8 Mathematics"
   ]
  },
  {
   "attachments": {},
   "cell_type": "markdown",
   "id": "f7bb6b5a",
   "metadata": {},
   "source": [
    "## Footnotes"
   ]
  }
 ],
 "metadata": {
  "kernelspec": {
   "display_name": "Python 3 (ipykernel)",
   "language": "python",
   "name": "python3"
  },
  "language_info": {
   "codemirror_mode": {
    "name": "ipython",
    "version": 3
   },
   "file_extension": ".py",
   "mimetype": "text/x-python",
   "name": "python",
   "nbconvert_exporter": "python",
   "pygments_lexer": "ipython3",
   "version": "3.12.2"
  },
  "toc": {
   "base_numbering": 1,
   "nav_menu": {},
   "number_sections": true,
   "sideBar": true,
   "skip_h1_title": false,
   "title_cell": "Table of Contents",
   "title_sidebar": "Contents",
   "toc_cell": false,
   "toc_position": {},
   "toc_section_display": true,
   "toc_window_display": false
  },
  "vscode": {
   "interpreter": {
    "hash": "31f2aee4e71d21fbe5cf8b01ff0e069b9275f58929596ceb00d14d90e3e16cd6"
   }
  }
 },
 "nbformat": 4,
 "nbformat_minor": 5
}
