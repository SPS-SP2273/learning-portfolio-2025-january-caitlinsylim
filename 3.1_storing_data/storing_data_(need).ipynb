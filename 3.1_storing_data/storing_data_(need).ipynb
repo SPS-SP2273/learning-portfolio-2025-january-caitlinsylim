{
 "cells": [
  {
   "attachments": {},
   "cell_type": "markdown",
   "id": "123456",
   "metadata": {},
   "source": [
    "<div style=\"text-align:left;font-size:2em\"><span style=\"font-weight:bolder;font-size:1.25em\">SP2273 | Learning Portfolio</span><br><br><span style=\"font-weight:bold;color:darkred\">Storing Data (Need)</span></div>"
   ]
  },
  {
   "attachments": {},
   "cell_type": "markdown",
   "id": "0fe9db6f",
   "metadata": {},
   "source": [
    "# What to expect in this chapter"
   ]
  },
  {
   "attachments": {},
   "cell_type": "markdown",
   "id": "7f305238",
   "metadata": {},
   "source": [
    "# 1 Lists, Arrays & Dictionaries"
   ]
  },
  {
   "attachments": {},
   "cell_type": "markdown",
   "id": "bb1bbff8",
   "metadata": {},
   "source": [
    "## 1.1 Let’s compare"
   ]
  },
  {
   "attachments": {},
   "cell_type": "markdown",
   "id": "757cb362",
   "metadata": {},
   "source": [
    "## 1.2 Accessing data from a list (or array)"
   ]
  },
  {
   "cell_type": "code",
   "execution_count": 3,
   "id": "03697e36-5592-4ea5-8d9f-237902002cf6",
   "metadata": {},
   "outputs": [],
   "source": [
    "import numpy as np\n",
    "ran_no=np.random.randint(0,100,100)"
   ]
  },
  {
   "cell_type": "code",
   "execution_count": 5,
   "id": "519be2f6-3e06-46fe-bdb1-1b15ca1e9036",
   "metadata": {},
   "outputs": [],
   "source": [
    "mask = (ran_no < 50) & (ran_no%2==1) #Masking"
   ]
  },
  {
   "cell_type": "code",
   "execution_count": 6,
   "id": "b9875892-81a8-4138-b3b5-f21127bb442d",
   "metadata": {},
   "outputs": [
    {
     "data": {
      "text/plain": [
       "array([45, 43, 37, 21, 45, 27, 33, 35, 27, 29, 33,  7, 29, 13, 49, 35, 33,\n",
       "       35, 49, 15,  9, 49, 11, 25,  9, 25, 21, 41, 25, 13, 43, 11, 23, 17,\n",
       "        1])"
      ]
     },
     "execution_count": 6,
     "metadata": {},
     "output_type": "execute_result"
    }
   ],
   "source": [
    "ran_no[mask] #it retrieves all numbers that are < 50 and odd "
   ]
  },
  {
   "cell_type": "code",
   "execution_count": 10,
   "id": "13415043-1836-48e3-a562-e73c20ddf7db",
   "metadata": {},
   "outputs": [
    {
     "data": {
      "text/plain": [
       "0"
      ]
     },
     "execution_count": 10,
     "metadata": {},
     "output_type": "execute_result"
    }
   ],
   "source": [
    "ran_no[0] #python has 0 indexing, you are indexing here to get subset of values \n",
    "ran_no[-1] #negative indexing applies for both array and list "
   ]
  },
  {
   "cell_type": "code",
   "execution_count": 11,
   "id": "6df1269b-0f9f-471d-8e50-8102326781fb",
   "metadata": {},
   "outputs": [
    {
     "data": {
      "text/plain": [
       "[1, 2, 3]"
      ]
     },
     "execution_count": 11,
     "metadata": {},
     "output_type": "execute_result"
    }
   ],
   "source": [
    "py_2d_list = [[1,2,3],[4,5,6],[7,8,9]] #many lists within a list, but you can do this with numpy array\n",
    "py_2d_list[0]"
   ]
  },
  {
   "cell_type": "markdown",
   "id": "2d7a75ae-2e27-458e-8580-d708e7089c97",
   "metadata": {},
   "source": [
    "lists - u can have multiple types (can be int and string)\n",
    "array - only allow for 1 type (so both string, or both int)"
   ]
  },
  {
   "cell_type": "code",
   "execution_count": null,
   "id": "0b483246-b25b-40e3-b71c-46cb5c317893",
   "metadata": {},
   "outputs": [],
   "source": [
    "array: np_array[0,1] \n",
    "list: np_list[0][1]\n",
    "#both are the same result, [1, 'A']'s 'A'"
   ]
  },
  {
   "attachments": {},
   "cell_type": "markdown",
   "id": "b6442c25",
   "metadata": {},
   "source": [
    "## 1.3 Accessing data from a dictionary"
   ]
  },
  {
   "cell_type": "code",
   "execution_count": 14,
   "id": "cb3783b6-1068-4c85-a4d8-a21175e7f637",
   "metadata": {},
   "outputs": [],
   "source": [
    "superhero_info = {\n",
    "    \"Natasha Romanoff\": [\"Black Widow\", \"Idk\"],\n",
    "    \"Tony Stark\": \"Iron Man\",\n",
    "    \"Stephen Strange\": \"Doctor Strange\"\n",
    "}                  \n",
    "\n",
    "#key: value. value can be anything from list to dictionary"
   ]
  },
  {
   "cell_type": "code",
   "execution_count": 15,
   "id": "a04cccda-5872-4a55-a8fd-deb174d3a060",
   "metadata": {},
   "outputs": [
    {
     "data": {
      "text/plain": [
       "['Black Widow', 'Idk']"
      ]
     },
     "execution_count": 15,
     "metadata": {},
     "output_type": "execute_result"
    }
   ],
   "source": [
    "superhero_info['Natasha Romanoff']"
   ]
  },
  {
   "attachments": {},
   "cell_type": "markdown",
   "id": "9a87d4db",
   "metadata": {},
   "source": [
    "## 1.4 Higher dimensional lists"
   ]
  },
  {
   "attachments": {},
   "cell_type": "markdown",
   "id": "415e8021",
   "metadata": {},
   "source": [
    "# 2 Lists vs. Arrays"
   ]
  },
  {
   "attachments": {},
   "cell_type": "markdown",
   "id": "707f2b14",
   "metadata": {},
   "source": [
    "## 2.1 Size"
   ]
  },
  {
   "attachments": {},
   "cell_type": "markdown",
   "id": "7bb27bf2",
   "metadata": {},
   "source": [
    "## 2.2 Arrays are fussy about type"
   ]
  },
  {
   "attachments": {},
   "cell_type": "markdown",
   "id": "991f5920",
   "metadata": {},
   "source": [
    "## 2.3 Adding a number"
   ]
  },
  {
   "attachments": {},
   "cell_type": "markdown",
   "id": "82630056",
   "metadata": {},
   "source": [
    "## 2.4 Adding another list"
   ]
  },
  {
   "attachments": {},
   "cell_type": "markdown",
   "id": "5ae89f3c",
   "metadata": {},
   "source": [
    "## 2.5 Multiplying by a Number"
   ]
  },
  {
   "attachments": {},
   "cell_type": "markdown",
   "id": "38550bfc",
   "metadata": {},
   "source": [
    "## 2.6 Squaring"
   ]
  },
  {
   "attachments": {},
   "cell_type": "markdown",
   "id": "a880277c",
   "metadata": {},
   "source": [
    "## 2.7 Asking questions"
   ]
  },
  {
   "attachments": {},
   "cell_type": "markdown",
   "id": "e7b6076a",
   "metadata": {},
   "source": [
    "## 2.8 Mathematics"
   ]
  },
  {
   "attachments": {},
   "cell_type": "markdown",
   "id": "f7bb6b5a",
   "metadata": {},
   "source": [
    "## Footnotes"
   ]
  }
 ],
 "metadata": {
  "kernelspec": {
   "display_name": "Python 3 (ipykernel)",
   "language": "python",
   "name": "python3"
  },
  "language_info": {
   "codemirror_mode": {
    "name": "ipython",
    "version": 3
   },
   "file_extension": ".py",
   "mimetype": "text/x-python",
   "name": "python",
   "nbconvert_exporter": "python",
   "pygments_lexer": "ipython3",
   "version": "3.12.2"
  },
  "toc": {
   "base_numbering": 1,
   "nav_menu": {},
   "number_sections": true,
   "sideBar": true,
   "skip_h1_title": false,
   "title_cell": "Table of Contents",
   "title_sidebar": "Contents",
   "toc_cell": false,
   "toc_position": {},
   "toc_section_display": true,
   "toc_window_display": false
  },
  "vscode": {
   "interpreter": {
    "hash": "31f2aee4e71d21fbe5cf8b01ff0e069b9275f58929596ceb00d14d90e3e16cd6"
   }
  }
 },
 "nbformat": 4,
 "nbformat_minor": 5
}
