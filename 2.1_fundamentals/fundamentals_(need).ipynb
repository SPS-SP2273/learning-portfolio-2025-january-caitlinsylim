{
 "cells": [
  {
   "attachments": {},
   "cell_type": "markdown",
   "id": "123456",
   "metadata": {},
   "source": [
    "<div style=\"text-align:left;font-size:2em\"><span style=\"font-weight:bolder;font-size:1.25em\">SP2273 | Learning Portfolio</span><br><br><span style=\"font-weight:bold;color:darkred\">Fundamentals (Need)</span></div>"
   ]
  },
  {
   "cell_type": "code",
   "execution_count": 5,
   "id": "8e8d509d-edb6-4802-acec-cb67bf514127",
   "metadata": {},
   "outputs": [
    {
     "name": "stdout",
     "output_type": "stream",
     "text": [
      "Hello world\n",
      "Hello world\n",
      "Hello world\n",
      "\n"
     ]
    }
   ],
   "source": [
    "print('Hello world\\n'*3)"
   ]
  },
  {
   "cell_type": "code",
   "execution_count": 6,
   "id": "a5442f75-c7d0-4eb5-ac77-ccb6b9d18840",
   "metadata": {},
   "outputs": [
    {
     "name": "stdout",
     "output_type": "stream",
     "text": [
      "Hello worldHello worldHello world\n"
     ]
    }
   ],
   "source": [
    "print('Hello world'*3)"
   ]
  },
  {
   "cell_type": "code",
   "execution_count": 7,
   "id": "b406ecd2-9757-41ee-aacf-8262970bca14",
   "metadata": {},
   "outputs": [
    {
     "name": "stdout",
     "output_type": "stream",
     "text": [
      "Hello worldhahaha\n"
     ]
    }
   ],
   "source": [
    "print('Hello world'+'hahaha') "
   ]
  },
  {
   "cell_type": "code",
   "execution_count": null,
   "id": "7b6a532b-5485-47d6-a096-25d8380d7aa9",
   "metadata": {},
   "outputs": [],
   "source": [
    "print()"
   ]
  },
  {
   "cell_type": "code",
   "execution_count": 8,
   "id": "42a20afe-5d54-41b4-be56-331d18ec4760",
   "metadata": {},
   "outputs": [
    {
     "name": "stdout",
     "output_type": "stream",
     "text": [
      "Help on built-in function print in module builtins:\n",
      "\n",
      "print(*args, sep=' ', end='\\n', file=None, flush=False)\n",
      "    Prints the values to a stream, or to sys.stdout by default.\n",
      "\n",
      "    sep\n",
      "      string inserted between values, default a space.\n",
      "    end\n",
      "      string appended after the last value, default a newline.\n",
      "    file\n",
      "      a file-like object (stream); defaults to the current sys.stdout.\n",
      "    flush\n",
      "      whether to forcibly flush the stream.\n",
      "\n"
     ]
    }
   ],
   "source": [
    "help(print)"
   ]
  },
  {
   "cell_type": "markdown",
   "id": "ec06da44-3cd2-483f-99b4-9a80523644d2",
   "metadata": {},
   "source": [
    "sep = ' ' -> separate "
   ]
  },
  {
   "cell_type": "code",
   "execution_count": 11,
   "id": "ea491c3d-b50c-4819-b5d7-8d9649a07c68",
   "metadata": {},
   "outputs": [
    {
     "name": "stdout",
     "output_type": "stream",
     "text": [
      "Hello worldxxxhahahaxxxhohoho----NewNewNewNewNewNewNewNewNewNew\n"
     ]
    }
   ],
   "source": [
    "print('Hello world','hahaha', 'hohoho', sep = 'xxx', end='----') \n",
    "print('New'*10)"
   ]
  },
  {
   "cell_type": "code",
   "execution_count": 13,
   "id": "12aed5f8-01c0-4f05-9d46-eca2b57e136b",
   "metadata": {},
   "outputs": [
    {
     "data": {
      "text/plain": [
       "[]"
      ]
     },
     "execution_count": 13,
     "metadata": {},
     "output_type": "execute_result"
    }
   ],
   "source": [
    "list() #creates empty list"
   ]
  },
  {
   "attachments": {},
   "cell_type": "markdown",
   "id": "5da5ea36",
   "metadata": {},
   "source": [
    "# What to expect in this chapter"
   ]
  },
  {
   "attachments": {},
   "cell_type": "markdown",
   "id": "d3239808",
   "metadata": {},
   "source": [
    "# 1 Functions"
   ]
  },
  {
   "cell_type": "code",
   "execution_count": 16,
   "id": "3a6fc413-42e3-4ee8-ad83-591d2dd07074",
   "metadata": {},
   "outputs": [],
   "source": [
    "def noooo():\n",
    "    print('Not useful')"
   ]
  },
  {
   "cell_type": "code",
   "execution_count": 19,
   "id": "9d6517cb-05c5-465e-ba43-776ad42dfd6b",
   "metadata": {},
   "outputs": [
    {
     "name": "stdout",
     "output_type": "stream",
     "text": [
      "Not useful\n"
     ]
    }
   ],
   "source": [
    "noooo()"
   ]
  },
  {
   "attachments": {},
   "cell_type": "markdown",
   "id": "ff9192dd",
   "metadata": {},
   "source": [
    "# 2 Python is interpreted"
   ]
  },
  {
   "attachments": {},
   "cell_type": "markdown",
   "id": "f75cc7b4",
   "metadata": {},
   "source": [
    "# 3 Python is sensitive."
   ]
  },
  {
   "cell_type": "code",
   "execution_count": 20,
   "id": "94c83e8b-e42b-498a-9e22-ceca729d643f",
   "metadata": {},
   "outputs": [
    {
     "name": "stdout",
     "output_type": "stream",
     "text": [
      "A\n",
      "B\n"
     ]
    },
    {
     "ename": "NameError",
     "evalue": "name 'Print' is not defined",
     "output_type": "error",
     "traceback": [
      "\u001b[0;31m---------------------------------------------------------------------------\u001b[0m",
      "\u001b[0;31mNameError\u001b[0m                                 Traceback (most recent call last)",
      "Cell \u001b[0;32mIn[20], line 3\u001b[0m\n\u001b[1;32m      1\u001b[0m \u001b[38;5;28mprint\u001b[39m(\u001b[38;5;124m'\u001b[39m\u001b[38;5;124mA\u001b[39m\u001b[38;5;124m'\u001b[39m)\n\u001b[1;32m      2\u001b[0m \u001b[38;5;28mprint\u001b[39m(\u001b[38;5;124m'\u001b[39m\u001b[38;5;124mB\u001b[39m\u001b[38;5;124m'\u001b[39m)\n\u001b[0;32m----> 3\u001b[0m \u001b[43mPrint\u001b[49m(\u001b[38;5;124m'\u001b[39m\u001b[38;5;124mC\u001b[39m\u001b[38;5;124m'\u001b[39m)\n\u001b[1;32m      4\u001b[0m \u001b[38;5;28mprint\u001b[39m(\u001b[38;5;124m'\u001b[39m\u001b[38;5;124mD\u001b[39m\u001b[38;5;124m'\u001b[39m)\n",
      "\u001b[0;31mNameError\u001b[0m: name 'Print' is not defined"
     ]
    }
   ],
   "source": [
    "print('A')\n",
    "print('B')\n",
    "Print('C')\n",
    "print('D')"
   ]
  },
  {
   "cell_type": "markdown",
   "id": "227025b2-b23b-4f8e-b67f-54153053db55",
   "metadata": {},
   "source": [
    "python goes line by line -> case sensitive"
   ]
  },
  {
   "attachments": {},
   "cell_type": "markdown",
   "id": "79b2912d",
   "metadata": {},
   "source": [
    "# 4 Comments"
   ]
  },
  {
   "attachments": {},
   "cell_type": "markdown",
   "id": "ce55160a",
   "metadata": {},
   "source": [
    "# 5 = is not the same as =="
   ]
  },
  {
   "cell_type": "code",
   "execution_count": 29,
   "id": "408738f1-ace9-4595-96f2-3a191b2b5552",
   "metadata": {},
   "outputs": [],
   "source": [
    "x=100 #make x =10"
   ]
  },
  {
   "cell_type": "code",
   "execution_count": 30,
   "id": "7c22a39d-30b0-49d0-a01d-f6dbb867a91d",
   "metadata": {},
   "outputs": [
    {
     "data": {
      "text/plain": [
       "False"
      ]
     },
     "execution_count": 30,
     "metadata": {},
     "output_type": "execute_result"
    }
   ],
   "source": [
    "x==10 #is X = to 10?"
   ]
  },
  {
   "attachments": {},
   "cell_type": "markdown",
   "id": "55986ff6",
   "metadata": {},
   "source": [
    "# 6 Use if to make decisions"
   ]
  },
  {
   "cell_type": "code",
   "execution_count": 36,
   "id": "0d58a2be-8fc3-43ac-9e05-f0acb4e28201",
   "metadata": {},
   "outputs": [],
   "source": [
    "x = 100\n",
    "if x == 10: \n",
    "    print('equal 10')"
   ]
  },
  {
   "cell_type": "code",
   "execution_count": 37,
   "id": "356ba3ed-55c8-4973-a946-fa4ce49525e6",
   "metadata": {},
   "outputs": [
    {
     "name": "stdout",
     "output_type": "stream",
     "text": [
      "equal 10\n"
     ]
    }
   ],
   "source": [
    "x = 10\n",
    "if x == 10: \n",
    "    print('equal 10')"
   ]
  },
  {
   "attachments": {},
   "cell_type": "markdown",
   "id": "3208469a",
   "metadata": {},
   "source": [
    "# 7 Indentations (spaces) are sooo IMPORTANT!"
   ]
  },
  {
   "cell_type": "code",
   "execution_count": 38,
   "id": "88ee1baa-e046-412d-80d4-9a5daf82f864",
   "metadata": {},
   "outputs": [
    {
     "name": "stdout",
     "output_type": "stream",
     "text": [
      "equal to madness\n"
     ]
    }
   ],
   "source": [
    "x = 100\n",
    "if x == 10: \n",
    "    print('equal 10')\n",
    "    \n",
    "print('equal to madness') #not controlled by if. done via indentation"
   ]
  },
  {
   "cell_type": "code",
   "execution_count": 39,
   "id": "4b779aee",
   "metadata": {},
   "outputs": [
    {
     "name": "stdout",
     "output_type": "stream",
     "text": [
      "equal 10\n",
      "equal to madness\n"
     ]
    }
   ],
   "source": [
    "x = 10\n",
    "if x == 10: \n",
    "    print('equal 10')\n",
    "    \n",
    "print('equal to madness') #not controlled by if. done via indentation"
   ]
  },
  {
   "attachments": {},
   "cell_type": "markdown",
   "id": "9c3e53e8",
   "metadata": {},
   "source": [
    "# 8 ‘age’ is English, age is a variable."
   ]
  },
  {
   "cell_type": "code",
   "execution_count": 41,
   "id": "7e6b31b7-57b5-4289-90be-7b24ee727d1c",
   "metadata": {},
   "outputs": [
    {
     "name": "stdout",
     "output_type": "stream",
     "text": [
      "10\n"
     ]
    }
   ],
   "source": [
    "age=10\n",
    "print(age)"
   ]
  },
  {
   "cell_type": "code",
   "execution_count": 42,
   "id": "9107770b-2fb0-4149-bc96-2d7ab8cfa609",
   "metadata": {},
   "outputs": [
    {
     "name": "stdout",
     "output_type": "stream",
     "text": [
      "age\n"
     ]
    }
   ],
   "source": [
    "age=10\n",
    "print('age')"
   ]
  },
  {
   "attachments": {},
   "cell_type": "markdown",
   "id": "cccacf35",
   "metadata": {},
   "source": [
    "# 9 Brackets"
   ]
  },
  {
   "cell_type": "code",
   "execution_count": null,
   "id": "ba22f8c7-75f1-4201-811a-26e100e97cfa",
   "metadata": {},
   "outputs": [],
   "source": [
    "print()"
   ]
  },
  {
   "cell_type": "code",
   "execution_count": 43,
   "id": "9fa1fe20-8fc8-4e63-aea0-1191103b4612",
   "metadata": {},
   "outputs": [
    {
     "data": {
      "text/plain": [
       "9"
      ]
     },
     "execution_count": 43,
     "metadata": {},
     "output_type": "execute_result"
    }
   ],
   "source": [
    "(1+2)*3"
   ]
  },
  {
   "cell_type": "code",
   "execution_count": 45,
   "id": "5a1be5df-d00e-4312-aac9-ace979159c90",
   "metadata": {},
   "outputs": [
    {
     "data": {
      "text/plain": [
       "[1, 2, 3, 4, 5]"
      ]
     },
     "execution_count": 45,
     "metadata": {},
     "output_type": "execute_result"
    }
   ],
   "source": [
    " [1,2,3,4,5] #list"
   ]
  },
  {
   "attachments": {},
   "cell_type": "markdown",
   "id": "e9a7fa2e",
   "metadata": {},
   "source": [
    "# 10 Giving Python superpowers with Packages"
   ]
  },
  {
   "attachments": {},
   "cell_type": "markdown",
   "id": "5a415b70",
   "metadata": {},
   "source": [
    "## 10.1 Some Context"
   ]
  },
  {
   "cell_type": "code",
   "execution_count": 46,
   "id": "2e282e3c-2aa4-426e-8367-aa197ad45531",
   "metadata": {},
   "outputs": [
    {
     "ename": "NameError",
     "evalue": "name 'sqrt' is not defined",
     "output_type": "error",
     "traceback": [
      "\u001b[0;31m---------------------------------------------------------------------------\u001b[0m",
      "\u001b[0;31mNameError\u001b[0m                                 Traceback (most recent call last)",
      "Cell \u001b[0;32mIn[46], line 1\u001b[0m\n\u001b[0;32m----> 1\u001b[0m \u001b[43msqrt\u001b[49m(\u001b[38;5;241m4\u001b[39m)\n",
      "\u001b[0;31mNameError\u001b[0m: name 'sqrt' is not defined"
     ]
    }
   ],
   "source": [
    "sqrt(4) #error because sqrt not defined"
   ]
  },
  {
   "attachments": {},
   "cell_type": "markdown",
   "id": "53b346f6",
   "metadata": {},
   "source": [
    "## 10.2 Importing the math package"
   ]
  },
  {
   "cell_type": "code",
   "execution_count": 47,
   "id": "c94a6aca-80c3-4334-a377-4b499846acef",
   "metadata": {},
   "outputs": [
    {
     "data": {
      "text/plain": [
       "2.0"
      ]
     },
     "execution_count": 47,
     "metadata": {},
     "output_type": "execute_result"
    }
   ],
   "source": [
    "import math\n",
    "math.sqrt(4) #dot says sqrt belongs to math"
   ]
  },
  {
   "attachments": {},
   "cell_type": "markdown",
   "id": "cdd26bc5",
   "metadata": {},
   "source": [
    "## 10.3 Importing the numpy package"
   ]
  },
  {
   "cell_type": "code",
   "execution_count": 50,
   "id": "883e2b7f-662f-4585-a4a2-ae7239460cac",
   "metadata": {},
   "outputs": [
    {
     "data": {
      "text/plain": [
       "np.float64(2.0)"
      ]
     },
     "execution_count": 50,
     "metadata": {},
     "output_type": "execute_result"
    }
   ],
   "source": [
    "import math\n",
    "import numpy\n",
    "numpy.sqrt(4)"
   ]
  },
  {
   "attachments": {},
   "cell_type": "raw",
   "id": "5f1feff5-e90b-43e3-9b5d-ede8cf8a3c0b",
   "metadata": {},
   "source": [
    "## 10.4 Why so many packages?"
   ]
  },
  {
   "cell_type": "markdown",
   "id": "2f1d8e60-4331-4da3-bf71-6972053408e5",
   "metadata": {},
   "source": [
    "numpy can be used for the whole list, but math is only for 1 no."
   ]
  },
  {
   "cell_type": "code",
   "execution_count": 51,
   "id": "6128aa9e-bbe2-4217-baf7-1781c1ec96cf",
   "metadata": {},
   "outputs": [
    {
     "ename": "TypeError",
     "evalue": "must be real number, not list",
     "output_type": "error",
     "traceback": [
      "\u001b[0;31m---------------------------------------------------------------------------\u001b[0m",
      "\u001b[0;31mTypeError\u001b[0m                                 Traceback (most recent call last)",
      "Cell \u001b[0;32mIn[51], line 2\u001b[0m\n\u001b[1;32m      1\u001b[0m \u001b[38;5;28;01mimport\u001b[39;00m\u001b[38;5;250m \u001b[39m\u001b[38;5;21;01mmath\u001b[39;00m\n\u001b[0;32m----> 2\u001b[0m \u001b[43mmath\u001b[49m\u001b[38;5;241;43m.\u001b[39;49m\u001b[43msqrt\u001b[49m\u001b[43m(\u001b[49m\u001b[43m[\u001b[49m\u001b[38;5;241;43m4\u001b[39;49m\u001b[43m,\u001b[49m\u001b[38;5;241;43m9\u001b[39;49m\u001b[43m,\u001b[49m\u001b[38;5;241;43m16\u001b[39;49m\u001b[43m]\u001b[49m\u001b[43m)\u001b[49m\n",
      "\u001b[0;31mTypeError\u001b[0m: must be real number, not list"
     ]
    }
   ],
   "source": [
    "import math\n",
    "math.sqrt([4,9,16])"
   ]
  },
  {
   "cell_type": "code",
   "execution_count": 52,
   "id": "caed42b5-98e3-4d4b-b650-9eebba766743",
   "metadata": {},
   "outputs": [
    {
     "data": {
      "text/plain": [
       "array([2., 3., 4.])"
      ]
     },
     "execution_count": 52,
     "metadata": {},
     "output_type": "execute_result"
    }
   ],
   "source": [
    "import numpy\n",
    "numpy.sqrt([4,9,16])"
   ]
  },
  {
   "cell_type": "markdown",
   "id": "a82b8bef-b7de-4fa4-b7e9-f160f48fa973",
   "metadata": {},
   "source": [
    "why do we have math when numpy seems more robust?\n",
    "becos numpy takes a lot longer than math!"
   ]
  },
  {
   "cell_type": "code",
   "execution_count": 55,
   "id": "e479fb4d-3283-47ec-9556-5b4499e1249e",
   "metadata": {},
   "outputs": [
    {
     "name": "stdout",
     "output_type": "stream",
     "text": [
      "99.7 ns ± 0.794 ns per loop (mean ± std. dev. of 7 runs, 10,000,000 loops each)\n"
     ]
    }
   ],
   "source": [
    "%%timeit \n",
    "import math\n",
    "math.sqrt(4)"
   ]
  },
  {
   "cell_type": "code",
   "execution_count": 56,
   "id": "9dd8963b-96e7-477d-8b51-18c158561f23",
   "metadata": {},
   "outputs": [
    {
     "name": "stdout",
     "output_type": "stream",
     "text": [
      "698 ns ± 34.1 ns per loop (mean ± std. dev. of 7 runs, 1,000,000 loops each)\n"
     ]
    }
   ],
   "source": [
    "%%timeit\n",
    "import numpy \n",
    "numpy.sqrt(4)"
   ]
  },
  {
   "attachments": {},
   "cell_type": "markdown",
   "id": "37062d0c",
   "metadata": {},
   "source": [
    "# 11 The dot (.)"
   ]
  },
  {
   "cell_type": "markdown",
   "id": "c947895b-875e-4f64-881e-a2284febf6ca",
   "metadata": {},
   "source": [
    "dot is for ownership"
   ]
  },
  {
   "cell_type": "code",
   "execution_count": 57,
   "id": "9d45d2c8-0509-40ef-82b0-3f0d744a378b",
   "metadata": {},
   "outputs": [
    {
     "data": {
      "text/plain": [
       "'HAHAHA'"
      ]
     },
     "execution_count": 57,
     "metadata": {},
     "output_type": "execute_result"
    }
   ],
   "source": [
    "'hahaha'.upper()"
   ]
  },
  {
   "cell_type": "code",
   "execution_count": 58,
   "id": "6a1d00e4-ff43-4cae-b380-ab19fc8995f6",
   "metadata": {},
   "outputs": [
    {
     "data": {
      "text/plain": [
       "'hehehe'"
      ]
     },
     "execution_count": 58,
     "metadata": {},
     "output_type": "execute_result"
    }
   ],
   "source": [
    "'hahaha'.replace('a','e')"
   ]
  },
  {
   "attachments": {},
   "cell_type": "markdown",
   "id": "39717fd8",
   "metadata": {},
   "source": [
    "## Footnotes"
   ]
  }
 ],
 "metadata": {
  "kernelspec": {
   "display_name": "Python 3 (ipykernel)",
   "language": "python",
   "name": "python3"
  },
  "language_info": {
   "codemirror_mode": {
    "name": "ipython",
    "version": 3
   },
   "file_extension": ".py",
   "mimetype": "text/x-python",
   "name": "python",
   "nbconvert_exporter": "python",
   "pygments_lexer": "ipython3",
   "version": "3.12.2"
  },
  "toc": {
   "base_numbering": 1,
   "nav_menu": {},
   "number_sections": true,
   "sideBar": true,
   "skip_h1_title": false,
   "title_cell": "Table of Contents",
   "title_sidebar": "Contents",
   "toc_cell": false,
   "toc_position": {},
   "toc_section_display": true,
   "toc_window_display": false
  },
  "vscode": {
   "interpreter": {
    "hash": "31f2aee4e71d21fbe5cf8b01ff0e069b9275f58929596ceb00d14d90e3e16cd6"
   }
  }
 },
 "nbformat": 4,
 "nbformat_minor": 5
}
