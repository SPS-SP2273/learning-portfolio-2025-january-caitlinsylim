{
 "cells": [
  {
   "attachments": {},
   "cell_type": "markdown",
   "id": "123456",
   "metadata": {},
   "source": [
    "<div style=\"text-align:left;font-size:2em\"><span style=\"font-weight:bolder;font-size:1.25em\">SP2273 | Learning Portfolio</span><br><br><span style=\"font-weight:bold;color:darkred\">Fundamentals (Good)</span></div>"
   ]
  },
  {
   "attachments": {},
   "cell_type": "markdown",
   "id": "9d1e38a4",
   "metadata": {},
   "source": [
    "# What to expect in this chapter"
   ]
  },
  {
   "cell_type": "code",
   "execution_count": 3,
   "id": "9f3e576b-4363-4627-a742-c3ccf2774c16",
   "metadata": {},
   "outputs": [],
   "source": [
    "import numpy as np"
   ]
  },
  {
   "cell_type": "code",
   "execution_count": 17,
   "id": "250fd91a-ae91-44f9-b459-d7b1e2bde2d2",
   "metadata": {},
   "outputs": [],
   "source": [
    "x32=np.sqrt(1000, dtype=np.float32)\n",
    "x64=np.sqrt(1000, dtype=np.float64)"
   ]
  },
  {
   "cell_type": "code",
   "execution_count": 18,
   "id": "33ea32e6-fd3f-4cd1-b6b3-544f8e317973",
   "metadata": {},
   "outputs": [
    {
     "data": {
      "text/plain": [
       "numpy.float32"
      ]
     },
     "execution_count": 18,
     "metadata": {},
     "output_type": "execute_result"
    }
   ],
   "source": [
    "type(x32)"
   ]
  },
  {
   "cell_type": "code",
   "execution_count": 19,
   "id": "d3682cff-fee5-4ee9-abaf-a7d798522d6f",
   "metadata": {},
   "outputs": [
    {
     "data": {
      "text/plain": [
       "np.float32(31.622776)"
      ]
     },
     "execution_count": 19,
     "metadata": {},
     "output_type": "execute_result"
    }
   ],
   "source": [
    "x32"
   ]
  },
  {
   "cell_type": "code",
   "execution_count": 20,
   "id": "81a02f69-b88e-4bce-a3a7-bc8b8fce16c1",
   "metadata": {},
   "outputs": [
    {
     "data": {
      "text/plain": [
       "np.float64(31.622776601683793)"
      ]
     },
     "execution_count": 20,
     "metadata": {},
     "output_type": "execute_result"
    }
   ],
   "source": [
    "x64"
   ]
  },
  {
   "cell_type": "markdown",
   "id": "746e9ce5-13e1-4730-ad14-877d8a137be4",
   "metadata": {},
   "source": [
    "64 and 32 refers to the number of decimal places u can store"
   ]
  },
  {
   "cell_type": "code",
   "execution_count": 21,
   "id": "24e2a9f0-d4a8-41a6-8c64-ff8be7b92a3c",
   "metadata": {},
   "outputs": [
    {
     "data": {
      "text/plain": [
       "str"
      ]
     },
     "execution_count": 21,
     "metadata": {},
     "output_type": "execute_result"
    }
   ],
   "source": [
    "type('age')"
   ]
  },
  {
   "cell_type": "code",
   "execution_count": 22,
   "id": "1a2ec9be-d5d2-463b-b50b-384eabf734e4",
   "metadata": {},
   "outputs": [
    {
     "data": {
      "text/plain": [
       "int"
      ]
     },
     "execution_count": 22,
     "metadata": {},
     "output_type": "execute_result"
    }
   ],
   "source": [
    "type(1)"
   ]
  },
  {
   "cell_type": "code",
   "execution_count": 23,
   "id": "e5835836-b125-43a9-aa5a-bb4c2d39521e",
   "metadata": {},
   "outputs": [
    {
     "data": {
      "text/plain": [
       "float"
      ]
     },
     "execution_count": 23,
     "metadata": {},
     "output_type": "execute_result"
    }
   ],
   "source": [
    "type(1.4)"
   ]
  },
  {
   "attachments": {},
   "cell_type": "markdown",
   "id": "f01519f9",
   "metadata": {},
   "source": [
    "# 1 There is more to if"
   ]
  },
  {
   "cell_type": "code",
   "execution_count": 26,
   "id": "84034f8d-5acb-4635-9f52-49488462ff22",
   "metadata": {},
   "outputs": [
    {
     "name": "stdout",
     "output_type": "stream",
     "text": [
      "Not 10\n",
      "madness\n"
     ]
    }
   ],
   "source": [
    "x=9\n",
    "if x==10: \n",
    "    # true block\n",
    "    print('10'*3)\n",
    "else: \n",
    "    # false block\n",
    "    print('Not 10')\n",
    "print('madness') #always prints bcos it doesn't belong to T/F"
   ]
  },
  {
   "cell_type": "code",
   "execution_count": 83,
   "id": "02165169-17f7-43dc-b1f7-075ad7942a87",
   "metadata": {},
   "outputs": [
    {
     "name": "stdout",
     "output_type": "stream",
     "text": [
      "101010\n",
      "madness\n"
     ]
    }
   ],
   "source": [
    "x=10\n",
    "if x==10: \n",
    "    # true block\n",
    "    print('10'*3)\n",
    "    print('madness')\n",
    "else: \n",
    "    # false block\n",
    "    print('Not 10')\n",
    " "
   ]
  },
  {
   "attachments": {},
   "cell_type": "markdown",
   "id": "c725ed46",
   "metadata": {},
   "source": [
    "# 2 Asking questions"
   ]
  },
  {
   "attachments": {},
   "cell_type": "markdown",
   "id": "feac91c2",
   "metadata": {},
   "source": [
    "## 2.1 Asking Math questions"
   ]
  },
  {
   "cell_type": "code",
   "execution_count": 84,
   "id": "9ec859c7-4828-4bb1-a82a-ebe9fdd8af23",
   "metadata": {},
   "outputs": [
    {
     "data": {
      "text/plain": [
       "True"
      ]
     },
     "execution_count": 84,
     "metadata": {},
     "output_type": "execute_result"
    }
   ],
   "source": [
    "4 <= 5"
   ]
  },
  {
   "cell_type": "code",
   "execution_count": 85,
   "id": "664af3a5-32fc-45d1-9ad6-f0ab887c1cd2",
   "metadata": {},
   "outputs": [
    {
     "data": {
      "text/plain": [
       "False"
      ]
     },
     "execution_count": 85,
     "metadata": {},
     "output_type": "execute_result"
    }
   ],
   "source": [
    "4 == 5"
   ]
  },
  {
   "cell_type": "code",
   "execution_count": 86,
   "id": "1af3b527-b150-4e78-83b9-743268754e19",
   "metadata": {},
   "outputs": [],
   "source": [
    "x=20"
   ]
  },
  {
   "cell_type": "code",
   "execution_count": 87,
   "id": "f79ec1f6-6e1c-4704-8084-2a6152fdb7e7",
   "metadata": {},
   "outputs": [
    {
     "data": {
      "text/plain": [
       "True"
      ]
     },
     "execution_count": 87,
     "metadata": {},
     "output_type": "execute_result"
    }
   ],
   "source": [
    "(x < 5) or (x > 8)"
   ]
  },
  {
   "cell_type": "code",
   "execution_count": 88,
   "id": "b024aae1-0afa-435f-b073-d753c6856476",
   "metadata": {},
   "outputs": [
    {
     "data": {
      "text/plain": [
       "False"
      ]
     },
     "execution_count": 88,
     "metadata": {},
     "output_type": "execute_result"
    }
   ],
   "source": [
    "(x < 5) and (x > 8)"
   ]
  },
  {
   "cell_type": "markdown",
   "id": "f819a4a9-c5f7-49e6-b39d-60b7884df9dd",
   "metadata": {},
   "source": [
    "## 2.2 Asking Other questions"
   ]
  },
  {
   "cell_type": "code",
   "execution_count": 89,
   "id": "bdd54322-3db8-438a-820b-2639a34744a5",
   "metadata": {},
   "outputs": [
    {
     "data": {
      "text/plain": [
       "False"
      ]
     },
     "execution_count": 89,
     "metadata": {},
     "output_type": "execute_result"
    }
   ],
   "source": [
    "'A' in 'apple'"
   ]
  },
  {
   "cell_type": "code",
   "execution_count": 90,
   "id": "0c0f08bd-1fef-431e-845f-8c312e8c9355",
   "metadata": {},
   "outputs": [
    {
     "data": {
      "text/plain": [
       "False"
      ]
     },
     "execution_count": 90,
     "metadata": {},
     "output_type": "execute_result"
    }
   ],
   "source": [
    "'A' in ['apple', 'pear', 'chocolate']"
   ]
  },
  {
   "cell_type": "code",
   "execution_count": 91,
   "id": "b0fa1ec5-8022-466a-98e2-09e003725262",
   "metadata": {},
   "outputs": [
    {
     "data": {
      "text/plain": [
       "True"
      ]
     },
     "execution_count": 91,
     "metadata": {},
     "output_type": "execute_result"
    }
   ],
   "source": [
    "'apple' < 'orange' #compares numerical value of a and o "
   ]
  },
  {
   "cell_type": "code",
   "execution_count": 92,
   "id": "2c5fe219-abad-437e-94f8-9d3fd7f81278",
   "metadata": {},
   "outputs": [
    {
     "data": {
      "text/plain": [
       "'O'"
      ]
     },
     "execution_count": 92,
     "metadata": {},
     "output_type": "execute_result"
    }
   ],
   "source": [
    "chr(79)"
   ]
  },
  {
   "cell_type": "code",
   "execution_count": 93,
   "id": "d721acb8-1e14-4cf7-8368-e086a6124817",
   "metadata": {},
   "outputs": [
    {
     "name": "stdout",
     "output_type": "stream",
     "text": [
      "nope\n"
     ]
    }
   ],
   "source": [
    "fruits = ['Apple', 'pear', 'chocolate']\n",
    "if 'apple' in fruits:\n",
    "    print('inside!')\n",
    "else: \n",
    "    print('nope')"
   ]
  },
  {
   "attachments": {},
   "cell_type": "markdown",
   "id": "30f58a84",
   "metadata": {},
   "source": [
    "# 3 Python stores information in different formats or types"
   ]
  },
  {
   "attachments": {},
   "cell_type": "markdown",
   "id": "c41d10e5",
   "metadata": {},
   "source": [
    "# 4 Never compare floats directly"
   ]
  },
  {
   "cell_type": "code",
   "execution_count": 94,
   "id": "dbed00b0-fe2e-4695-9fe4-aaa6644b7c01",
   "metadata": {},
   "outputs": [],
   "source": [
    "a = 10.\n",
    "b = 100."
   ]
  },
  {
   "cell_type": "code",
   "execution_count": 95,
   "id": "04fc7574-45b9-45af-8f8c-86bb010f0bc2",
   "metadata": {},
   "outputs": [
    {
     "data": {
      "text/plain": [
       "False"
      ]
     },
     "execution_count": 95,
     "metadata": {},
     "output_type": "execute_result"
    }
   ],
   "source": [
    "a==b"
   ]
  },
  {
   "cell_type": "code",
   "execution_count": 96,
   "id": "58cf0c43-5ba3-4551-8e74-e42fc3f70acc",
   "metadata": {},
   "outputs": [],
   "source": [
    "a=.1\n",
    "a3=.3"
   ]
  },
  {
   "cell_type": "code",
   "execution_count": 97,
   "id": "ebe155e6-8028-4e59-9c6a-247d0a1f948e",
   "metadata": {},
   "outputs": [
    {
     "data": {
      "text/plain": [
       "False"
      ]
     },
     "execution_count": 97,
     "metadata": {},
     "output_type": "execute_result"
    }
   ],
   "source": [
    "a3==3*a     # answer should be true, not supposed to be false\n",
    "            # because of the 32 and 64 float issue "
   ]
  },
  {
   "cell_type": "code",
   "execution_count": 120,
   "id": "b98b1c00-2885-478e-a542-cd47a5ac7445",
   "metadata": {},
   "outputs": [
    {
     "name": "stdout",
     "output_type": "stream",
     "text": [
      "        0.29999999999999998890\n"
     ]
    }
   ],
   "source": [
    "print(f'{a3:30.20f}') # laptop stores 0.299999 "
   ]
  },
  {
   "cell_type": "code",
   "execution_count": 99,
   "id": "81b07180-ed8c-4af3-b626-254623302aea",
   "metadata": {},
   "outputs": [
    {
     "data": {
      "text/plain": [
       "-5.551115123125783e-17"
      ]
     },
     "execution_count": 99,
     "metadata": {},
     "output_type": "execute_result"
    }
   ],
   "source": [
    "a3-3*a # small number, as gd as 0"
   ]
  },
  {
   "cell_type": "code",
   "execution_count": 100,
   "id": "259a9a0b-76ad-4876-9a03-a012fad1bbba",
   "metadata": {},
   "outputs": [
    {
     "data": {
      "text/plain": [
       "True"
      ]
     },
     "execution_count": 100,
     "metadata": {},
     "output_type": "execute_result"
    }
   ],
   "source": [
    "abs(a3-3*a) < 1e-15 "
   ]
  },
  {
   "cell_type": "markdown",
   "id": "09e17daf-cafd-4741-a586-17718e17a833",
   "metadata": {},
   "source": [
    "Cannot directly compare floats, so we take the difference to see if it is v small (less than 1e-15)"
   ]
  },
  {
   "attachments": {},
   "cell_type": "markdown",
   "id": "65308db0",
   "metadata": {},
   "source": [
    "## 4.1 The Problem"
   ]
  },
  {
   "attachments": {},
   "cell_type": "markdown",
   "id": "c7ed470f",
   "metadata": {},
   "source": [
    "## 4.2 A solution"
   ]
  },
  {
   "attachments": {},
   "cell_type": "markdown",
   "id": "6e404207",
   "metadata": {},
   "source": [
    "# 5 Combining English and variables"
   ]
  },
  {
   "attachments": {},
   "cell_type": "markdown",
   "id": "8bc27272",
   "metadata": {},
   "source": [
    "## 5.1 Structure of f-strings"
   ]
  },
  {
   "cell_type": "code",
   "execution_count": 103,
   "id": "0fca3837-ee2e-4ed1-8164-913f1d4ac373",
   "metadata": {},
   "outputs": [
    {
     "data": {
      "text/plain": [
       "'This is x=20'"
      ]
     },
     "execution_count": 103,
     "metadata": {},
     "output_type": "execute_result"
    }
   ],
   "source": [
    "f'This is {x=}' #f string is a way to combine english and no.s"
   ]
  },
  {
   "cell_type": "code",
   "execution_count": 104,
   "id": "f36b4d3d-a919-462e-9321-c6f0c6ff0871",
   "metadata": {},
   "outputs": [],
   "source": [
    "abcdefghs=10"
   ]
  },
  {
   "cell_type": "code",
   "execution_count": 105,
   "id": "3de54edc-c562-44da-a598-92c75320a482",
   "metadata": {},
   "outputs": [
    {
     "name": "stdout",
     "output_type": "stream",
     "text": [
      "My age is 000000000000000010\n"
     ]
    }
   ],
   "source": [
    "print(f'My age is {abcdefghs:018d}') # you want 18 digits, so the last 2 will be 10 as u specified -> the other 16 is 0"
   ]
  },
  {
   "cell_type": "code",
   "execution_count": 106,
   "id": "9741ec0d-6783-45d7-a070-0abd37d72503",
   "metadata": {},
   "outputs": [
    {
     "name": "stdout",
     "output_type": "stream",
     "text": [
      "My age is                 10\n"
     ]
    }
   ],
   "source": [
    "# If you want spacing only\n",
    "\n",
    "print(f'My age is {abcdefghs:18d}') # remove the 0, 18 empty spaces before you last 2 digits"
   ]
  },
  {
   "cell_type": "code",
   "execution_count": 107,
   "id": "543cf8f5-7a92-4eb6-b339-f2d7306122d8",
   "metadata": {},
   "outputs": [
    {
     "data": {
      "text/plain": [
       "'This is an English sentence   100'"
      ]
     },
     "execution_count": 107,
     "metadata": {},
     "output_type": "execute_result"
    }
   ],
   "source": [
    "x=100\n",
    "\n",
    "f'This is an English sentence {x:5d}' #if you put 5d, it becomes spacing"
   ]
  },
  {
   "cell_type": "code",
   "execution_count": 108,
   "id": "5738ecb3-225c-42fe-823d-adcd96578b73",
   "metadata": {},
   "outputs": [
    {
     "name": "stdout",
     "output_type": "stream",
     "text": [
      "my age is 5.000000\n"
     ]
    }
   ],
   "source": [
    "x = 5\n",
    "print(f'my age is {x:3f}')"
   ]
  },
  {
   "cell_type": "code",
   "execution_count": 109,
   "id": "25c071bb-38f2-424e-a96b-1caafbe9017b",
   "metadata": {},
   "outputs": [
    {
     "name": "stdout",
     "output_type": "stream",
     "text": [
      "my age is             5.000000\n"
     ]
    }
   ],
   "source": [
    "print(f'my age is {x:20f}')"
   ]
  },
  {
   "cell_type": "code",
   "execution_count": 110,
   "id": "4e47266e-76e1-4e86-8996-4b3fa4a91652",
   "metadata": {},
   "outputs": [
    {
     "data": {
      "text/plain": [
       "'Hahah               Batman'"
      ]
     },
     "execution_count": 110,
     "metadata": {},
     "output_type": "execute_result"
    }
   ],
   "source": [
    "f'Hahah {'Batman':>20}' #right justified"
   ]
  },
  {
   "cell_type": "code",
   "execution_count": 111,
   "id": "12bef17d-84a9-4a38-8a61-4ca5c4ed0de0",
   "metadata": {},
   "outputs": [
    {
     "data": {
      "text/plain": [
       "'Hahah        Batman       '"
      ]
     },
     "execution_count": 111,
     "metadata": {},
     "output_type": "execute_result"
    }
   ],
   "source": [
    "f'Hahah {'Batman':^20}' #middle justified"
   ]
  },
  {
   "cell_type": "markdown",
   "id": "5044c40d-cd26-4e4f-b0da-a8d6aec83d19",
   "metadata": {},
   "source": [
    "The f in .6f is used to tell the f-string to output the number in decimal notation."
   ]
  },
  {
   "cell_type": "code",
   "execution_count": 114,
   "id": "86fb5d6e-0136-48cf-b7ed-b8af860dec8b",
   "metadata": {},
   "outputs": [
    {
     "name": "stdout",
     "output_type": "stream",
     "text": [
      "The cube of pi to 6 decimal places is 31.006277\n"
     ]
    }
   ],
   "source": [
    "import numpy as np\n",
    "print(f'The cube of pi to 6 decimal places is {np.pi**3:.6f}')"
   ]
  },
  {
   "cell_type": "markdown",
   "id": "c8beaa04-bf68-474f-a909-edd3e0314853",
   "metadata": {},
   "source": [
    "What if I want to include 10 spacings and also 10 dp?"
   ]
  },
  {
   "cell_type": "code",
   "execution_count": 119,
   "id": "a1fb4c0f-879f-40e4-9b72-820160454826",
   "metadata": {},
   "outputs": [
    {
     "ename": "SyntaxError",
     "evalue": "f-string: expecting '}', or format specs (1321389229.py, line 2)",
     "output_type": "error",
     "traceback": [
      "\u001b[0;36m  Cell \u001b[0;32mIn[119], line 2\u001b[0;36m\u001b[0m\n\u001b[0;31m    print(f'The cube of pi to 6 decimal places is {np.pi**3:10d'})\u001b[0m\n\u001b[0m                                                               ^\u001b[0m\n\u001b[0;31mSyntaxError\u001b[0m\u001b[0;31m:\u001b[0m f-string: expecting '}', or format specs\n"
     ]
    }
   ],
   "source": [
    "import numpy as np\n",
    "print(f'The cube of pi to 6 decimal places is {np.pi**3:10d'})"
   ]
  },
  {
   "attachments": {},
   "cell_type": "markdown",
   "id": "b0b58ff1",
   "metadata": {},
   "source": [
    "# 6 Escape sequences"
   ]
  },
  {
   "attachments": {},
   "cell_type": "markdown",
   "id": "a5bfedb2",
   "metadata": {},
   "source": [
    "## 6.1 Self-documenting f-strings"
   ]
  },
  {
   "attachments": {},
   "cell_type": "markdown",
   "id": "81d30e70",
   "metadata": {},
   "source": [
    "# 7 Computers read = from Right to Left!"
   ]
  },
  {
   "cell_type": "code",
   "execution_count": 77,
   "id": "0d7494fd-edae-47e7-9ac9-b32245753c28",
   "metadata": {},
   "outputs": [
    {
     "name": "stdout",
     "output_type": "stream",
     "text": [
      "42\n"
     ]
    }
   ],
   "source": [
    "x=40\n",
    "x=x+2         #computers read from right to left\n",
    "\n",
    "print(x)"
   ]
  },
  {
   "cell_type": "code",
   "execution_count": 78,
   "id": "7a08708e-a35b-4817-8a04-f3d0786786ad",
   "metadata": {},
   "outputs": [
    {
     "data": {
      "text/plain": [
       "42"
      ]
     },
     "execution_count": 78,
     "metadata": {},
     "output_type": "execute_result"
    }
   ],
   "source": [
    "#same as \n",
    "\n",
    "x=40\n",
    "x+=2\n",
    "x"
   ]
  },
  {
   "cell_type": "code",
   "execution_count": 79,
   "id": "46a8e276-9b64-45aa-a885-2397d7374ea4",
   "metadata": {},
   "outputs": [
    {
     "data": {
      "text/plain": [
       "20.0"
      ]
     },
     "execution_count": 79,
     "metadata": {},
     "output_type": "execute_result"
    }
   ],
   "source": [
    "x=40\n",
    "x/=2\n",
    "x"
   ]
  },
  {
   "attachments": {},
   "cell_type": "markdown",
   "id": "3ff89579",
   "metadata": {},
   "source": [
    "# 8 Shorter and Cleaner Code"
   ]
  },
  {
   "attachments": {},
   "cell_type": "markdown",
   "id": "f963ca38",
   "metadata": {},
   "source": [
    "# 9 Python can be a prima-donna."
   ]
  },
  {
   "cell_type": "code",
   "execution_count": 112,
   "id": "2810be32-e716-4a5a-98ea-1794c8d88ebd",
   "metadata": {},
   "outputs": [
    {
     "ename": "TypeError",
     "evalue": "can only concatenate list (not \"int\") to list",
     "output_type": "error",
     "traceback": [
      "\u001b[0;31m---------------------------------------------------------------------------\u001b[0m",
      "\u001b[0;31mTypeError\u001b[0m                                 Traceback (most recent call last)",
      "Cell \u001b[0;32mIn[112], line 1\u001b[0m\n\u001b[0;32m----> 1\u001b[0m \u001b[43m[\u001b[49m\u001b[38;5;241;43m1\u001b[39;49m\u001b[43m,\u001b[49m\u001b[38;5;241;43m2\u001b[39;49m\u001b[43m,\u001b[49m\u001b[38;5;241;43m3\u001b[39;49m\u001b[43m,\u001b[49m\u001b[38;5;241;43m4\u001b[39;49m\u001b[43m]\u001b[49m\u001b[43m \u001b[49m\u001b[38;5;241;43m+\u001b[39;49m\u001b[43m \u001b[49m\u001b[38;5;241;43m2\u001b[39;49m\n",
      "\u001b[0;31mTypeError\u001b[0m: can only concatenate list (not \"int\") to list"
     ]
    }
   ],
   "source": [
    "[1,2,3,4] + 2"
   ]
  },
  {
   "attachments": {},
   "cell_type": "markdown",
   "id": "4f2169a6",
   "metadata": {},
   "source": [
    "# 10 Best Practices for Scientific Computing"
   ]
  },
  {
   "attachments": {},
   "cell_type": "markdown",
   "id": "fe2d7815",
   "metadata": {},
   "source": [
    "# 11 Looking for help"
   ]
  },
  {
   "attachments": {},
   "cell_type": "markdown",
   "id": "c3791905",
   "metadata": {},
   "source": [
    "## References"
   ]
  },
  {
   "attachments": {},
   "cell_type": "markdown",
   "id": "2fc900b4",
   "metadata": {},
   "source": [
    "## Footnotes"
   ]
  }
 ],
 "metadata": {
  "kernelspec": {
   "display_name": "Python 3 (ipykernel)",
   "language": "python",
   "name": "python3"
  },
  "language_info": {
   "codemirror_mode": {
    "name": "ipython",
    "version": 3
   },
   "file_extension": ".py",
   "mimetype": "text/x-python",
   "name": "python",
   "nbconvert_exporter": "python",
   "pygments_lexer": "ipython3",
   "version": "3.12.2"
  },
  "toc": {
   "base_numbering": 1,
   "nav_menu": {},
   "number_sections": true,
   "sideBar": true,
   "skip_h1_title": false,
   "title_cell": "Table of Contents",
   "title_sidebar": "Contents",
   "toc_cell": false,
   "toc_position": {},
   "toc_section_display": true,
   "toc_window_display": false
  },
  "vscode": {
   "interpreter": {
    "hash": "31f2aee4e71d21fbe5cf8b01ff0e069b9275f58929596ceb00d14d90e3e16cd6"
   }
  }
 },
 "nbformat": 4,
 "nbformat_minor": 5
}
