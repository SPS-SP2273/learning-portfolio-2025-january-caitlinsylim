{
 "cells": [
  {
   "attachments": {},
   "cell_type": "markdown",
   "id": "123456",
   "metadata": {},
   "source": [
    "<div style=\"text-align:left;font-size:2em\"><span style=\"font-weight:bolder;font-size:1.25em\">SP2273 | Learning Portfolio</span><br><br><span style=\"font-weight:bold;color:darkred\">Functions (Need)</span></div>"
   ]
  },
  {
   "attachments": {},
   "cell_type": "markdown",
   "id": "671930eb",
   "metadata": {},
   "source": [
    "# What to expect in this chapter"
   ]
  },
  {
   "attachments": {},
   "cell_type": "markdown",
   "id": "d6ed4060",
   "metadata": {},
   "source": [
    "# 1 User-defined functions"
   ]
  },
  {
   "cell_type": "code",
   "execution_count": 1,
   "id": "31684b96-fde0-4201-8120-72077c115f4d",
   "metadata": {},
   "outputs": [],
   "source": [
    "def area_triangle(base, height): \n",
    "    return(0.5 * base * height)"
   ]
  },
  {
   "cell_type": "code",
   "execution_count": 3,
   "id": "e3e6c17b-2586-4da8-8ecd-638fab2a7b3c",
   "metadata": {},
   "outputs": [
    {
     "data": {
      "text/plain": [
       "37.5"
      ]
     },
     "execution_count": 3,
     "metadata": {},
     "output_type": "execute_result"
    }
   ],
   "source": [
    "area_triangle(5,15)"
   ]
  },
  {
   "cell_type": "markdown",
   "id": "c9bab3a7-c527-49ed-9028-e2dc286b99e7",
   "metadata": {},
   "source": [
    "There are many ways to pass things into the function \n",
    "- Rmb: base and height existing in the function -> you cannot call it outside "
   ]
  },
  {
   "cell_type": "code",
   "execution_count": 4,
   "id": "7fc32d27-ff38-44ce-9b0a-2c01d24854fc",
   "metadata": {},
   "outputs": [
    {
     "ename": "NameError",
     "evalue": "name 'base' is not defined",
     "output_type": "error",
     "traceback": [
      "\u001b[0;31m---------------------------------------------------------------------------\u001b[0m",
      "\u001b[0;31mNameError\u001b[0m                                 Traceback (most recent call last)",
      "Cell \u001b[0;32mIn[4], line 1\u001b[0m\n\u001b[0;32m----> 1\u001b[0m \u001b[43mbase\u001b[49m\n",
      "\u001b[0;31mNameError\u001b[0m: name 'base' is not defined"
     ]
    }
   ],
   "source": [
    "base"
   ]
  },
  {
   "cell_type": "markdown",
   "id": "b6b630a3-bfc8-41c8-987c-0b0e02a1daaf",
   "metadata": {},
   "source": [
    "Oh dear - there is error! Because functions work this way:\n",
    "- The base inside the function is not accessible outside it \n",
    "- Function acts as a box -> cannot take things out of function \n",
    "- Base is a local variable "
   ]
  },
  {
   "cell_type": "markdown",
   "id": "acc9633a-5c98-4316-993d-db602f5e8f24",
   "metadata": {},
   "source": [
    "### Different ways to pass value into the function:"
   ]
  },
  {
   "cell_type": "code",
   "execution_count": 5,
   "id": "845f20e6-c31c-4093-a592-53fbd2bb698e",
   "metadata": {},
   "outputs": [],
   "source": [
    "def volume_cuboid(length, width, height=5):\n",
    "    return(length * height * width)"
   ]
  },
  {
   "cell_type": "markdown",
   "id": "3704264b-8135-4c5c-a535-c717401edcfb",
   "metadata": {},
   "source": [
    "#### Putting it directly and correspondingly"
   ]
  },
  {
   "cell_type": "code",
   "execution_count": 6,
   "id": "130c3d83-ed8a-46a5-948c-b7f98f3129a6",
   "metadata": {},
   "outputs": [
    {
     "data": {
      "text/plain": [
       "210"
      ]
     },
     "execution_count": 6,
     "metadata": {},
     "output_type": "execute_result"
    }
   ],
   "source": [
    "volume_cuboid(5, 6, 7) "
   ]
  },
  {
   "cell_type": "markdown",
   "id": "752ce33b-4ea7-4539-b977-2686260fe6a6",
   "metadata": {},
   "source": [
    "#### Putting it in different orders"
   ]
  },
  {
   "cell_type": "code",
   "execution_count": 7,
   "id": "359f243e-5c64-4802-b2a3-51a182eb35f7",
   "metadata": {},
   "outputs": [
    {
     "data": {
      "text/plain": [
       "210"
      ]
     },
     "execution_count": 7,
     "metadata": {},
     "output_type": "execute_result"
    }
   ],
   "source": [
    "volume_cuboid(width=6, height=7, length=5) "
   ]
  },
  {
   "cell_type": "markdown",
   "id": "232e3bc6-5c7d-4ecf-bc5d-ed65f87824eb",
   "metadata": {},
   "source": [
    "#### Putting in only 2 inputs"
   ]
  },
  {
   "cell_type": "code",
   "execution_count": 12,
   "id": "d725b597-1732-4d6d-b592-e98a13877878",
   "metadata": {},
   "outputs": [],
   "source": [
    "def volume_cuboid(length, width, height=5):\n",
    "    return(length * height * width)"
   ]
  },
  {
   "cell_type": "code",
   "execution_count": 9,
   "id": "353c2c9a-d8b6-4ebd-930a-a6bd406b971f",
   "metadata": {},
   "outputs": [
    {
     "data": {
      "text/plain": [
       "150"
      ]
     },
     "execution_count": 9,
     "metadata": {},
     "output_type": "execute_result"
    }
   ],
   "source": [
    "volume_cuboid(5,6) # Function recognises that there are only 2 inputs, so height must be 5 as how we defined it\n",
    "                    # Length is 5 and width is 6"
   ]
  },
  {
   "cell_type": "code",
   "execution_count": 13,
   "id": "73de637d-f1be-4309-826a-fd68a3632f0d",
   "metadata": {},
   "outputs": [
    {
     "ename": "SyntaxError",
     "evalue": "positional argument follows keyword argument (17869312.py, line 1)",
     "output_type": "error",
     "traceback": [
      "\u001b[0;36m  Cell \u001b[0;32mIn[13], line 1\u001b[0;36m\u001b[0m\n\u001b[0;31m    volume_cuboid(width=5,6)\u001b[0m\n\u001b[0m                           ^\u001b[0m\n\u001b[0;31mSyntaxError\u001b[0m\u001b[0;31m:\u001b[0m positional argument follows keyword argument\n"
     ]
    }
   ],
   "source": [
    "volume_cuboid(width=5,6)"
   ]
  },
  {
   "cell_type": "markdown",
   "id": "6b6d95ee-6ac0-44a9-b12c-aaa9ad8c96bb",
   "metadata": {},
   "source": [
    "Why is there an error? for the above but not for the one below?\n",
    "- because of the ordering (below)\n",
    "- if width=5 first, it could mean that 6 overrides default value of height=5, or length=5 -> python is confused"
   ]
  },
  {
   "cell_type": "code",
   "execution_count": 11,
   "id": "e5afb692-d610-450d-9722-25ebaf4d19e0",
   "metadata": {},
   "outputs": [
    {
     "data": {
      "text/plain": [
       "150"
      ]
     },
     "execution_count": 11,
     "metadata": {},
     "output_type": "execute_result"
    }
   ],
   "source": [
    "volume_cuboid(6, width=5)"
   ]
  },
  {
   "cell_type": "markdown",
   "id": "f4293cfa-eedb-483a-9422-3a13d2ec3535",
   "metadata": {},
   "source": [
    "### Be careful of orders in your functions!"
   ]
  },
  {
   "cell_type": "code",
   "execution_count": null,
   "id": "0ee18b2d-35a7-4d57-ba9f-b70573c1247f",
   "metadata": {},
   "outputs": [],
   "source": []
  },
  {
   "attachments": {},
   "cell_type": "markdown",
   "id": "74a5f2dd",
   "metadata": {},
   "source": [
    "## 1.1 Named Functions"
   ]
  },
  {
   "attachments": {},
   "cell_type": "markdown",
   "id": "1e07528c",
   "metadata": {},
   "source": [
    "### Named functions that return"
   ]
  },
  {
   "cell_type": "code",
   "execution_count": null,
   "id": "40d0f267",
   "metadata": {},
   "outputs": [],
   "source": [
    "\n",
    "# Your code here\n"
   ]
  },
  {
   "attachments": {},
   "cell_type": "markdown",
   "id": "4473373c",
   "metadata": {},
   "source": [
    "### Named functions that don’t return"
   ]
  },
  {
   "cell_type": "code",
   "execution_count": null,
   "id": "99c40b68",
   "metadata": {},
   "outputs": [],
   "source": [
    "\n",
    "# Your code here\n"
   ]
  },
  {
   "attachments": {},
   "cell_type": "markdown",
   "id": "c593b691",
   "metadata": {},
   "source": [
    "## 1.2 Anonymous functions"
   ]
  },
  {
   "attachments": {},
   "cell_type": "markdown",
   "id": "ab82585b",
   "metadata": {},
   "source": [
    "## 1.3 Optional arguments"
   ]
  },
  {
   "attachments": {},
   "cell_type": "markdown",
   "id": "4836b5e7",
   "metadata": {},
   "source": [
    "## 1.4 The importance of functions?"
   ]
  },
  {
   "attachments": {},
   "cell_type": "markdown",
   "id": "a8bc0331",
   "metadata": {},
   "source": [
    "### An argument for functions"
   ]
  },
  {
   "cell_type": "code",
   "execution_count": null,
   "id": "696d8474",
   "metadata": {},
   "outputs": [],
   "source": [
    "\n",
    "# Your code here\n"
   ]
  },
  {
   "attachments": {},
   "cell_type": "markdown",
   "id": "6ed0deb6",
   "metadata": {},
   "source": [
    "### A word of caution"
   ]
  },
  {
   "cell_type": "code",
   "execution_count": null,
   "id": "ee739c97",
   "metadata": {},
   "outputs": [],
   "source": [
    "\n",
    "# Your code here\n"
   ]
  }
 ],
 "metadata": {
  "kernelspec": {
   "display_name": "Python 3 (ipykernel)",
   "language": "python",
   "name": "python3"
  },
  "language_info": {
   "codemirror_mode": {
    "name": "ipython",
    "version": 3
   },
   "file_extension": ".py",
   "mimetype": "text/x-python",
   "name": "python",
   "nbconvert_exporter": "python",
   "pygments_lexer": "ipython3",
   "version": "3.12.2"
  },
  "toc": {
   "base_numbering": 1,
   "nav_menu": {},
   "number_sections": true,
   "sideBar": true,
   "skip_h1_title": false,
   "title_cell": "Table of Contents",
   "title_sidebar": "Contents",
   "toc_cell": false,
   "toc_position": {},
   "toc_section_display": true,
   "toc_window_display": false
  },
  "vscode": {
   "interpreter": {
    "hash": "31f2aee4e71d21fbe5cf8b01ff0e069b9275f58929596ceb00d14d90e3e16cd6"
   }
  }
 },
 "nbformat": 4,
 "nbformat_minor": 5
}
