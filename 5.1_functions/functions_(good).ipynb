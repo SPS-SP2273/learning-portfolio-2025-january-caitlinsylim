{
 "cells": [
  {
   "attachments": {},
   "cell_type": "markdown",
   "id": "123456",
   "metadata": {},
   "source": [
    "<div style=\"text-align:left;font-size:2em\"><span style=\"font-weight:bolder;font-size:1.25em\">SP2273 | Learning Portfolio</span><br><br><span style=\"font-weight:bold;color:darkred\">Functions (Good)</span></div>"
   ]
  },
  {
   "attachments": {},
   "cell_type": "markdown",
   "id": "817bb6c9",
   "metadata": {},
   "source": [
    "# What to expect in this chapter"
   ]
  },
  {
   "attachments": {},
   "cell_type": "markdown",
   "id": "bf686a6a",
   "metadata": {},
   "source": [
    "# 1 Checks, balances, and contingencies"
   ]
  },
  {
   "attachments": {},
   "cell_type": "markdown",
   "id": "c84707d2",
   "metadata": {},
   "source": [
    "## 1.1 assert"
   ]
  },
  {
   "cell_type": "code",
   "execution_count": 1,
   "id": "2e4c4310-b966-4aeb-a822-014c2b9c156b",
   "metadata": {},
   "outputs": [],
   "source": [
    "x = -1"
   ]
  },
  {
   "cell_type": "code",
   "execution_count": 2,
   "id": "ff1d73f1-093b-466d-8c6f-7b3d8c38c7a3",
   "metadata": {},
   "outputs": [
    {
     "ename": "AssertionError",
     "evalue": "x must be positive",
     "output_type": "error",
     "traceback": [
      "\u001b[0;31m---------------------------------------------------------------------------\u001b[0m",
      "\u001b[0;31mAssertionError\u001b[0m                            Traceback (most recent call last)",
      "Cell \u001b[0;32mIn[2], line 1\u001b[0m\n\u001b[0;32m----> 1\u001b[0m \u001b[38;5;28;01massert\u001b[39;00m x \u001b[38;5;241m>\u001b[39m\u001b[38;5;241m=\u001b[39m \u001b[38;5;241m0\u001b[39m, \u001b[38;5;124m\"\u001b[39m\u001b[38;5;124mx must be positive\u001b[39m\u001b[38;5;124m\"\u001b[39m\n",
      "\u001b[0;31mAssertionError\u001b[0m: x must be positive"
     ]
    }
   ],
   "source": [
    "assert x >= 0, \"x must be positive\""
   ]
  },
  {
   "cell_type": "code",
   "execution_count": 3,
   "id": "1cd983e5-11f5-421c-afb1-dfc08a709d9f",
   "metadata": {},
   "outputs": [
    {
     "name": "stdout",
     "output_type": "stream",
     "text": [
      "0\n",
      "1\n",
      "2\n",
      "3\n",
      "4\n",
      "5\n"
     ]
    },
    {
     "ename": "AssertionError",
     "evalue": "i is too big",
     "output_type": "error",
     "traceback": [
      "\u001b[0;31m---------------------------------------------------------------------------\u001b[0m",
      "\u001b[0;31mAssertionError\u001b[0m                            Traceback (most recent call last)",
      "Cell \u001b[0;32mIn[3], line 2\u001b[0m\n\u001b[1;32m      1\u001b[0m \u001b[38;5;28;01mfor\u001b[39;00m i \u001b[38;5;129;01min\u001b[39;00m \u001b[38;5;28mrange\u001b[39m(\u001b[38;5;241m10\u001b[39m):\n\u001b[0;32m----> 2\u001b[0m     \u001b[38;5;28;01massert\u001b[39;00m i \u001b[38;5;241m<\u001b[39m\u001b[38;5;241m=\u001b[39m \u001b[38;5;241m5\u001b[39m, \u001b[38;5;124m\"\u001b[39m\u001b[38;5;124mi is too big\u001b[39m\u001b[38;5;124m\"\u001b[39m\n\u001b[1;32m      3\u001b[0m     \u001b[38;5;28mprint\u001b[39m(i)\n",
      "\u001b[0;31mAssertionError\u001b[0m: i is too big"
     ]
    }
   ],
   "source": [
    "for i in range(10):\n",
    "    assert i <= 5, \"i is too big\"\n",
    "    print(i)"
   ]
  },
  {
   "cell_type": "code",
   "execution_count": 4,
   "id": "73a175ac-73ae-4255-beab-f49541f7af3f",
   "metadata": {},
   "outputs": [
    {
     "name": "stdout",
     "output_type": "stream",
     "text": [
      "0\n",
      "1\n",
      "2\n",
      "3\n",
      "4\n",
      "5\n",
      "6\n"
     ]
    },
    {
     "ename": "AssertionError",
     "evalue": "i is too big",
     "output_type": "error",
     "traceback": [
      "\u001b[0;31m---------------------------------------------------------------------------\u001b[0m",
      "\u001b[0;31mAssertionError\u001b[0m                            Traceback (most recent call last)",
      "Cell \u001b[0;32mIn[4], line 3\u001b[0m\n\u001b[1;32m      1\u001b[0m \u001b[38;5;28;01mfor\u001b[39;00m i \u001b[38;5;129;01min\u001b[39;00m \u001b[38;5;28mrange\u001b[39m(\u001b[38;5;241m10\u001b[39m):\n\u001b[1;32m      2\u001b[0m     \u001b[38;5;28mprint\u001b[39m(i)\n\u001b[0;32m----> 3\u001b[0m     \u001b[38;5;28;01massert\u001b[39;00m i \u001b[38;5;241m<\u001b[39m\u001b[38;5;241m=\u001b[39m \u001b[38;5;241m5\u001b[39m, \u001b[38;5;124m\"\u001b[39m\u001b[38;5;124mi is too big\u001b[39m\u001b[38;5;124m\"\u001b[39m\n",
      "\u001b[0;31mAssertionError\u001b[0m: i is too big"
     ]
    }
   ],
   "source": [
    "for i in range(10):\n",
    "    print(i)\n",
    "    assert i <= 5, \"i is too big\""
   ]
  },
  {
   "cell_type": "markdown",
   "id": "9f8088c3-ddce-4bf2-8fd3-5bbcf01d5674",
   "metadata": {},
   "source": [
    "Why is 6 printed out? \n",
    "- Order matters in 'for' loops -> you will first print(i) then you assert it"
   ]
  },
  {
   "attachments": {},
   "cell_type": "markdown",
   "id": "26f9dae8",
   "metadata": {},
   "source": [
    "## 1.2 try-except"
   ]
  },
  {
   "cell_type": "code",
   "execution_count": 6,
   "id": "e52eda78-5a5c-4a9c-805b-1e56f6758370",
   "metadata": {},
   "outputs": [
    {
     "ename": "ZeroDivisionError",
     "evalue": "division by zero",
     "output_type": "error",
     "traceback": [
      "\u001b[0;31m---------------------------------------------------------------------------\u001b[0m",
      "\u001b[0;31mZeroDivisionError\u001b[0m                         Traceback (most recent call last)",
      "Cell \u001b[0;32mIn[6], line 2\u001b[0m\n\u001b[1;32m      1\u001b[0m \u001b[38;5;28;01mfor\u001b[39;00m i \u001b[38;5;129;01min\u001b[39;00m \u001b[38;5;28mrange\u001b[39m(\u001b[38;5;241m10\u001b[39m): \n\u001b[0;32m----> 2\u001b[0m     \u001b[38;5;28mprint\u001b[39m(\u001b[38;5;241;43m1\u001b[39;49m\u001b[38;5;241;43m/\u001b[39;49m\u001b[43mi\u001b[49m)\n",
      "\u001b[0;31mZeroDivisionError\u001b[0m: division by zero"
     ]
    }
   ],
   "source": [
    "for i in range(10):\n",
    "    try:\n",
    "        print(1/i)\n",
    "    except\n",
    "    print(1/i)"
   ]
  },
  {
   "cell_type": "markdown",
   "id": "3d308da1-e499-4d70-93ef-d276f0e13a8c",
   "metadata": {},
   "source": [
    "You can use error terms in the red box in your code (below uses Zerodivisionerror)\n",
    "- Means that if there is error, just skip that and continue"
   ]
  },
  {
   "cell_type": "code",
   "execution_count": 10,
   "id": "01628538-ca07-4d2c-a6c4-7a66215bf0a1",
   "metadata": {},
   "outputs": [
    {
     "name": "stdout",
     "output_type": "stream",
     "text": [
      "1.0\n",
      "0.5\n",
      "0.3333333333333333\n",
      "0.25\n",
      "0.2\n",
      "0.16666666666666666\n",
      "0.14285714285714285\n",
      "0.125\n",
      "0.1111111111111111\n"
     ]
    }
   ],
   "source": [
    "for i in range(10):\n",
    "    try:\n",
    "        print(1/i)\n",
    "    except ZeroDivisionError:\n",
    "        continue"
   ]
  },
  {
   "cell_type": "code",
   "execution_count": 12,
   "id": "130ed44e-2d78-4712-af39-62410c3ac4f2",
   "metadata": {},
   "outputs": [
    {
     "name": "stdout",
     "output_type": "stream",
     "text": [
      "you divide by 0\n",
      "1.0\n",
      "0.5\n",
      "0.3333333333333333\n",
      "0.25\n",
      "0.2\n",
      "0.16666666666666666\n",
      "0.14285714285714285\n",
      "0.125\n",
      "0.1111111111111111\n"
     ]
    }
   ],
   "source": [
    "for i in range(10):\n",
    "    try:\n",
    "        print(1/i)\n",
    "    except ZeroDivisionError:\n",
    "        print('you divide by 0')         # keep track of number of 0 you printed"
   ]
  },
  {
   "cell_type": "code",
   "execution_count": 17,
   "id": "60a80777-6bb5-41bc-9a4d-03cf18b8bea5",
   "metadata": {},
   "outputs": [
    {
     "name": "stdin",
     "output_type": "stream",
     "text": [
      "Tell me your age 15\n"
     ]
    }
   ],
   "source": [
    "found = False                # We haven't found anything yet \n",
    "while found == False:        # Is found false? Answer will be yes or no \n",
    "    try:                     # Get input X \n",
    "        x = input(\"Tell me your age\")\n",
    "        x = int(x)           # I want input to be integer. But if I type string, it gets ValueError. If there is error in try section, it goes into except\n",
    "        found = True\n",
    "    except ValueError: \n",
    "        print(\"Input a number\")     # Since it is still in while loop, it goes to top and checks while found == false.. we stop at x=int(x) bcos it is not integer, and found is never true"
   ]
  },
  {
   "cell_type": "markdown",
   "id": "4320b9fb-7169-411f-9bf1-c9c172b2860c",
   "metadata": {},
   "source": [
    "Don't do what's below:\n",
    "- In case you forget to put break below, this thing runs forever"
   ]
  },
  {
   "cell_type": "code",
   "execution_count": null,
   "id": "bd1262d8-18c8-4e1f-9238-e2ab3229eabc",
   "metadata": {},
   "outputs": [],
   "source": [
    "while True:\n",
    "    try: \n",
    "        x = input(\"Tell me your age\")\n",
    "        x = int(x)\n",
    "        break\n",
    "    except ValueError: \n",
    "        print(\"Input a number\")"
   ]
  },
  {
   "cell_type": "code",
   "execution_count": 7,
   "id": "80445fc9-1c23-4c6e-a634-5d948070d351",
   "metadata": {},
   "outputs": [],
   "source": [
    "def side_by_side(a, b, c=42):\n",
    "    return f'{a: 2d}|{b: 2d}|{c: 2d}'"
   ]
  },
  {
   "attachments": {},
   "cell_type": "markdown",
   "id": "2933eb97",
   "metadata": {},
   "source": [
    "# 2 Some loose ends"
   ]
  },
  {
   "attachments": {},
   "cell_type": "markdown",
   "id": "7d84f175",
   "metadata": {},
   "source": [
    "## 2.1 Positional, keyword and default arguments"
   ]
  },
  {
   "attachments": {},
   "cell_type": "markdown",
   "id": "aeb10240",
   "metadata": {},
   "source": [
    "## 2.2 Docstrings"
   ]
  },
  {
   "cell_type": "code",
   "execution_count": 18,
   "id": "365eb22b-a292-4eb7-bd4a-75687bf7b93e",
   "metadata": {},
   "outputs": [],
   "source": [
    "def calculator(value, func): \n",
    "    '''This is something we created in SP2273 to calculate stuff'''       # Docstring\n",
    "    return func(value)"
   ]
  },
  {
   "cell_type": "code",
   "execution_count": 21,
   "id": "fe1638d8-15f4-4c48-b712-e61274e81021",
   "metadata": {},
   "outputs": [
    {
     "data": {
      "text/plain": [
       "np.float64(1.2246467991473532e-16)"
      ]
     },
     "execution_count": 21,
     "metadata": {},
     "output_type": "execute_result"
    }
   ],
   "source": [
    "import numpy as np\n",
    "calculator(np.pi, np.sin)"
   ]
  },
  {
   "cell_type": "code",
   "execution_count": 19,
   "id": "234d9a6b-824b-42db-b743-f3e3148bf4d9",
   "metadata": {},
   "outputs": [
    {
     "name": "stdout",
     "output_type": "stream",
     "text": [
      "Help on function calculator in module __main__:\n",
      "\n",
      "calculator(value, func)\n",
      "    This is something we created in SP2273 to calculate stuff\n",
      "\n"
     ]
    }
   ],
   "source": [
    "help(calculator)"
   ]
  },
  {
   "cell_type": "code",
   "execution_count": 22,
   "id": "3c82fab9-23b1-4194-bec3-f1071114d2d2",
   "metadata": {},
   "outputs": [],
   "source": [
    "x = np.array([0, 0.1, 0.2])"
   ]
  },
  {
   "cell_type": "code",
   "execution_count": 24,
   "id": "7eb310ff-ed75-4fa4-9180-20d97d85274e",
   "metadata": {},
   "outputs": [
    {
     "data": {
      "text/plain": [
       "array([ True,  True,  True])"
      ]
     },
     "execution_count": 24,
     "metadata": {},
     "output_type": "execute_result"
    }
   ],
   "source": [
    "calculator(x, np.sin) == np.sin(x)"
   ]
  },
  {
   "cell_type": "markdown",
   "id": "e2f37c9c-2f58-4e30-8881-9bed1bfae7b3",
   "metadata": {},
   "source": [
    "### Storing data and using star"
   ]
  },
  {
   "cell_type": "code",
   "execution_count": 25,
   "id": "b893c26f-7d2a-48a7-b183-62e1b62d9962",
   "metadata": {},
   "outputs": [],
   "source": [
    "def vol_cuboid_mod(length, width, height=5):\n",
    "    return([length * height * width, length, height, width])"
   ]
  },
  {
   "cell_type": "code",
   "execution_count": 27,
   "id": "cbf6c6ed-4469-40e5-97df-8962c10f091b",
   "metadata": {},
   "outputs": [
    {
     "data": {
      "text/plain": [
       "[100, 5, 5, 4]"
      ]
     },
     "execution_count": 27,
     "metadata": {},
     "output_type": "execute_result"
    }
   ],
   "source": [
    "vol_cuboid_mod(5,4)"
   ]
  },
  {
   "cell_type": "markdown",
   "id": "45f39f11-430c-4e10-9aa7-657c5494be28",
   "metadata": {},
   "source": [
    "How can I store this? Using the star (*)\n",
    "- (*) Tells python take as much as you want -> dimension gets all values"
   ]
  },
  {
   "cell_type": "code",
   "execution_count": 33,
   "id": "7dc530d9-0c2c-40f7-847c-db7eb8b5f2bb",
   "metadata": {},
   "outputs": [],
   "source": [
    "vol, *dimensions = vol_cuboid_mod(5,4)        # 100, 5, 5, 4 so vol = 100, dimensions = 5, 5, 4"
   ]
  },
  {
   "cell_type": "code",
   "execution_count": 29,
   "id": "c8c3cf0c-ad3a-48ce-b54a-eaaa49cf5314",
   "metadata": {},
   "outputs": [
    {
     "data": {
      "text/plain": [
       "100"
      ]
     },
     "execution_count": 29,
     "metadata": {},
     "output_type": "execute_result"
    }
   ],
   "source": [
    "vol"
   ]
  },
  {
   "cell_type": "code",
   "execution_count": 30,
   "id": "b678aa68-be16-48cf-9609-3891abc80295",
   "metadata": {},
   "outputs": [
    {
     "data": {
      "text/plain": [
       "[5, 5, 4]"
      ]
     },
     "execution_count": 30,
     "metadata": {},
     "output_type": "execute_result"
    }
   ],
   "source": [
    "dimensions"
   ]
  },
  {
   "cell_type": "markdown",
   "id": "b81e0e3c-2b1c-4c50-affb-a8bf3ed9bfba",
   "metadata": {},
   "source": [
    "But this will differ if I put width: \n",
    "- The one with star gets everything leftover after I assign values "
   ]
  },
  {
   "cell_type": "code",
   "execution_count": 35,
   "id": "2e4bb24a-3fd7-4afa-8ece-5804370fb66f",
   "metadata": {},
   "outputs": [],
   "source": [
    "vol, *dimensions, width = vol_cuboid_mod(5,4)        # 100, 5, 5, 4 so vol is 100, width = 4 so dimensions = 5, 5"
   ]
  },
  {
   "cell_type": "code",
   "execution_count": 36,
   "id": "83d66d7e-b3ae-4dee-92c6-661963555402",
   "metadata": {},
   "outputs": [
    {
     "data": {
      "text/plain": [
       "4"
      ]
     },
     "execution_count": 36,
     "metadata": {},
     "output_type": "execute_result"
    }
   ],
   "source": [
    "width"
   ]
  },
  {
   "cell_type": "code",
   "execution_count": 37,
   "id": "d458f71a-0d8a-45d5-8a4e-b2bbd3f39502",
   "metadata": {},
   "outputs": [
    {
     "data": {
      "text/plain": [
       "[5, 5]"
      ]
     },
     "execution_count": 37,
     "metadata": {},
     "output_type": "execute_result"
    }
   ],
   "source": [
    "dimensions"
   ]
  },
  {
   "cell_type": "code",
   "execution_count": null,
   "id": "3df93177-dfe4-4f2c-a09e-d566ab3100c9",
   "metadata": {},
   "outputs": [],
   "source": []
  },
  {
   "cell_type": "code",
   "execution_count": null,
   "id": "b6b7743c-8ead-430e-a862-21000027a608",
   "metadata": {},
   "outputs": [],
   "source": []
  },
  {
   "attachments": {},
   "cell_type": "markdown",
   "id": "63755cd9",
   "metadata": {},
   "source": [
    "## 2.3 Function are first-class citizens"
   ]
  },
  {
   "attachments": {},
   "cell_type": "markdown",
   "id": "1d02ef8d",
   "metadata": {},
   "source": [
    "## 2.4 More about unpacking"
   ]
  }
 ],
 "metadata": {
  "kernelspec": {
   "display_name": "Python 3 (ipykernel)",
   "language": "python",
   "name": "python3"
  },
  "language_info": {
   "codemirror_mode": {
    "name": "ipython",
    "version": 3
   },
   "file_extension": ".py",
   "mimetype": "text/x-python",
   "name": "python",
   "nbconvert_exporter": "python",
   "pygments_lexer": "ipython3",
   "version": "3.12.2"
  },
  "toc": {
   "base_numbering": 1,
   "nav_menu": {},
   "number_sections": true,
   "sideBar": true,
   "skip_h1_title": false,
   "title_cell": "Table of Contents",
   "title_sidebar": "Contents",
   "toc_cell": false,
   "toc_position": {},
   "toc_section_display": true,
   "toc_window_display": false
  },
  "vscode": {
   "interpreter": {
    "hash": "31f2aee4e71d21fbe5cf8b01ff0e069b9275f58929596ceb00d14d90e3e16cd6"
   }
  }
 },
 "nbformat": 4,
 "nbformat_minor": 5
}
