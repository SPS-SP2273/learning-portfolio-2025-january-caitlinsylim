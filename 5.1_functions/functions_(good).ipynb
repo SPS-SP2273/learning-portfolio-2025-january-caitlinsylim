{
 "cells": [
  {
   "attachments": {},
   "cell_type": "markdown",
   "id": "123456",
   "metadata": {},
   "source": [
    "<div style=\"text-align:left;font-size:2em\"><span style=\"font-weight:bolder;font-size:1.25em\">SP2273 | Learning Portfolio</span><br><br><span style=\"font-weight:bold;color:darkred\">Functions (Good)</span></div>"
   ]
  },
  {
   "cell_type": "code",
   "execution_count": 1,
   "id": "f0e4802f-aea3-4b99-94a4-54fe6bedac56",
   "metadata": {},
   "outputs": [
    {
     "name": "stdout",
     "output_type": "stream",
     "text": [
      "The history saving thread hit an unexpected error (OperationalError('attempt to write a readonly database')).History will not be written to the database.\n"
     ]
    }
   ],
   "source": [
    "def giveno_v1(n):\n",
    "    return n\n",
    "\n",
    "def giveno_v2(n):\n",
    "    print(n)"
   ]
  },
  {
   "attachments": {},
   "cell_type": "markdown",
   "id": "817bb6c9",
   "metadata": {},
   "source": [
    "# What to expect in this chapter"
   ]
  },
  {
   "attachments": {},
   "cell_type": "markdown",
   "id": "bf686a6a",
   "metadata": {},
   "source": [
    "# 1 Checks, balances, and contingencies"
   ]
  },
  {
   "attachments": {},
   "cell_type": "markdown",
   "id": "c84707d2",
   "metadata": {},
   "source": [
    "## 1.1 assert"
   ]
  },
  {
   "attachments": {},
   "cell_type": "markdown",
   "id": "26f9dae8",
   "metadata": {},
   "source": [
    "## 1.2 try-except"
   ]
  },
  {
   "cell_type": "code",
   "execution_count": null,
   "id": "71c75c04-93a7-426c-878e-3067e65c6d25",
   "metadata": {},
   "outputs": [],
   "source": [
    "try: \n",
    "    x = input(\"tell me your age\")\n",
    "    x= int(x)\n",
    "    found = True \n",
    "except"
   ]
  },
  {
   "cell_type": "code",
   "execution_count": null,
   "id": "ded51b65-680b-4d14-b52e-5421e0882124",
   "metadata": {},
   "outputs": [],
   "source": [
    "def vol_cuboid(length, width, height = 5):\n",
    "    return (length * height * width)\n",
    "\n",
    "vol_cuboid(5,6)"
   ]
  },
  {
   "cell_type": "code",
   "execution_count": 6,
   "id": "bf10278d-83e2-45f2-b727-96824bd43c3f",
   "metadata": {},
   "outputs": [],
   "source": [
    "def calculator(value, func): \n",
    "     '''This is sth we created in SP2273 to calculate stuff.''' # Docstring\n",
    "    return func(value)"
   ]
  },
  {
   "cell_type": "code",
   "execution_count": null,
   "id": "8c5d8224-ed37-4ea8-bc00-56e123854d7b",
   "metadata": {},
   "outputs": [],
   "source": []
  },
  {
   "cell_type": "code",
   "execution_count": 7,
   "id": "80445fc9-1c23-4c6e-a634-5d948070d351",
   "metadata": {},
   "outputs": [],
   "source": [
    "def side_by_side(a, b, c=42):\n",
    "    return f'{a: 2d}|{b: 2d}|{c: 2d}'"
   ]
  },
  {
   "attachments": {},
   "cell_type": "markdown",
   "id": "d1264a99",
   "metadata": {},
   "source": [
    "## 1.3 A simple suggestion"
   ]
  },
  {
   "attachments": {},
   "cell_type": "markdown",
   "id": "2933eb97",
   "metadata": {},
   "source": [
    "# 2 Some loose ends"
   ]
  },
  {
   "attachments": {},
   "cell_type": "markdown",
   "id": "7d84f175",
   "metadata": {},
   "source": [
    "## 2.1 Positional, keyword and default arguments"
   ]
  },
  {
   "attachments": {},
   "cell_type": "markdown",
   "id": "aeb10240",
   "metadata": {},
   "source": [
    "## 2.2 Docstrings"
   ]
  },
  {
   "attachments": {},
   "cell_type": "markdown",
   "id": "63755cd9",
   "metadata": {},
   "source": [
    "## 2.3 Function are first-class citizens"
   ]
  },
  {
   "attachments": {},
   "cell_type": "markdown",
   "id": "1d02ef8d",
   "metadata": {},
   "source": [
    "## 2.4 More about unpacking"
   ]
  }
 ],
 "metadata": {
  "kernelspec": {
   "display_name": "Python 3 (ipykernel)",
   "language": "python",
   "name": "python3"
  },
  "language_info": {
   "codemirror_mode": {
    "name": "ipython",
    "version": 3
   },
   "file_extension": ".py",
   "mimetype": "text/x-python",
   "name": "python",
   "nbconvert_exporter": "python",
   "pygments_lexer": "ipython3",
   "version": "3.12.2"
  },
  "toc": {
   "base_numbering": 1,
   "nav_menu": {},
   "number_sections": true,
   "sideBar": true,
   "skip_h1_title": false,
   "title_cell": "Table of Contents",
   "title_sidebar": "Contents",
   "toc_cell": false,
   "toc_position": {},
   "toc_section_display": true,
   "toc_window_display": false
  },
  "vscode": {
   "interpreter": {
    "hash": "31f2aee4e71d21fbe5cf8b01ff0e069b9275f58929596ceb00d14d90e3e16cd6"
   }
  }
 },
 "nbformat": 4,
 "nbformat_minor": 5
}
